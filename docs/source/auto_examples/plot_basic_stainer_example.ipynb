{
  "cells": [
    {
      "cell_type": "code",
      "execution_count": null,
      "metadata": {
        "collapsed": false
      },
      "outputs": [],
      "source": [
        "%matplotlib inline"
      ]
    },
    {
      "cell_type": "markdown",
      "metadata": {},
      "source": [
        "\n# Basic Usage of Stainers (no DirtyDF)\n\nThis page shows some basic examples of using stainers to directly transform panda dataframes.\n"
      ]
    },
    {
      "cell_type": "code",
      "execution_count": null,
      "metadata": {
        "collapsed": false
      },
      "outputs": [],
      "source": [
        "import pandas as pd\nimport numpy as np\nfrom ddf.stainer import ShuffleStainer, InflectionStainer, DatetimeFormatStainer, DatetimeSplitStainer"
      ]
    },
    {
      "cell_type": "markdown",
      "metadata": {},
      "source": [
        "For the first example, let us use a basic dataset containing only 6 rows and 2 columns, an integer ID and an animal class.\n\n"
      ]
    },
    {
      "cell_type": "code",
      "execution_count": null,
      "metadata": {
        "collapsed": false
      },
      "outputs": [],
      "source": [
        "df = pd.DataFrame([(0, 'Cat'), (1, 'Dog'), (2, 'Rabbit'), (3, 'Cat'), (4, 'Cat'), (5, 'Dog')], columns=('id', 'class'))\ndf"
      ]
    },
    {
      "cell_type": "markdown",
      "metadata": {},
      "source": [
        "We now apply a ShuffleStainer to shuffle the rows in this dataset. Note that we require to pass in a numpy random generator for\nrandom generation.\n\n"
      ]
    },
    {
      "cell_type": "markdown",
      "metadata": {},
      "source": [
        "The stainer's transform method will output 3 objects: the transformed dataframe, a row map which maps the rows in the old dataframe\nto the new one, and a column map which maps the columns in the old dataframe to the new one.\n\n"
      ]
    },
    {
      "cell_type": "code",
      "execution_count": null,
      "metadata": {
        "collapsed": false
      },
      "outputs": [],
      "source": [
        "shuffle_stainer = ShuffleStainer()\nrng = np.random.default_rng(42)\n\nnew_df, row_map, col_map = shuffle_stainer.transform(df, rng)\nnew_df"
      ]
    },
    {
      "cell_type": "markdown",
      "metadata": {},
      "source": [
        "Also, we can check the row map to determine which rows in the old dataframe were mapped to the new ones. (Note that ShuffleStainer\ndoes not affect or alter columns, so the column map is simply an empty dictionary)\n\n"
      ]
    },
    {
      "cell_type": "code",
      "execution_count": null,
      "metadata": {
        "collapsed": false
      },
      "outputs": [],
      "source": [
        "row_map"
      ]
    },
    {
      "cell_type": "markdown",
      "metadata": {},
      "source": [
        "The output shows that the 3rd row index (0-based indexing) from the original dataframe is mapped to the 0-th row in the new\ndataframe, as well as others. You may check with the original dataframe above to verify that this is true.\n\n"
      ]
    },
    {
      "cell_type": "markdown",
      "metadata": {},
      "source": [
        "Furthermore, you may use the stainer's `get_history()` method to get the name of the stainer, a description of how the stainer \nhad transformed the dataframe, and the time taken for said transformation.\n\n"
      ]
    },
    {
      "cell_type": "code",
      "execution_count": null,
      "metadata": {
        "collapsed": false
      },
      "outputs": [],
      "source": [
        "shuffle_stainer.get_history()"
      ]
    }
  ],
  "metadata": {
    "kernelspec": {
      "display_name": "Python 3",
      "language": "python",
      "name": "python3"
    },
    "language_info": {
      "codemirror_mode": {
        "name": "ipython",
        "version": 3
      },
      "file_extension": ".py",
      "mimetype": "text/x-python",
      "name": "python",
      "nbconvert_exporter": "python",
      "pygments_lexer": "ipython3",
      "version": "3.9.1"
    }
  },
  "nbformat": 4,
  "nbformat_minor": 0
}