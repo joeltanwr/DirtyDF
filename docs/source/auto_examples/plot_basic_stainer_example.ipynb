{
  "cells": [
    {
      "cell_type": "code",
      "execution_count": null,
      "metadata": {
        "collapsed": false
      },
      "outputs": [],
      "source": [
        "%matplotlib inline"
      ]
    },
    {
      "cell_type": "markdown",
      "metadata": {},
      "source": [
        "\n# Basic Usage of Stainers (no DirtyDF)\n\nThis page shows some basic examples of using stainers to directly transform panda dataframes.\n"
      ]
    },
    {
      "cell_type": "code",
      "execution_count": null,
      "metadata": {
        "collapsed": false
      },
      "outputs": [],
      "source": [
        "import pandas as pd\nimport numpy as np\nfrom ddf.stainer import ShuffleStainer, InflectionStainer"
      ]
    },
    {
      "cell_type": "markdown",
      "metadata": {},
      "source": [
        "## ShuffleStainer Example\n\n"
      ]
    },
    {
      "cell_type": "markdown",
      "metadata": {},
      "source": [
        "For the first example, let us use a basic dataset containing only 6 rows and 2 columns, an integer ID and an animal class.\n\n"
      ]
    },
    {
      "cell_type": "code",
      "execution_count": null,
      "metadata": {
        "collapsed": false
      },
      "outputs": [],
      "source": [
        "df = pd.DataFrame([(0, 'Cat'), (1, 'Dog'), (2, 'Rabbit'), (3, 'Cat'), (4, 'Cat'), (5, 'Dog')], columns=('id', 'class'))\ndf"
      ]
    },
    {
      "cell_type": "markdown",
      "metadata": {},
      "source": [
        "We now apply a ShuffleStainer to shuffle the rows in this dataset. Note that we require to pass in a numpy random generator for\nrandom generation.\n\n"
      ]
    },
    {
      "cell_type": "markdown",
      "metadata": {},
      "source": [
        "The stainer's transform method will output 3 objects: the transformed dataframe, a row map which maps the rows in the old dataframe\nto the new one, and a column map which maps the columns in the old dataframe to the new one.\n\n"
      ]
    },
    {
      "cell_type": "code",
      "execution_count": null,
      "metadata": {
        "collapsed": false
      },
      "outputs": [],
      "source": [
        "shuffle_stainer = ShuffleStainer()\nrng = np.random.default_rng(42)\n\nnew_df, row_map, col_map = shuffle_stainer.transform(df, rng)\nnew_df"
      ]
    },
    {
      "cell_type": "markdown",
      "metadata": {},
      "source": [
        "Also, we can check the row map to determine which rows in the old dataframe were mapped to the new ones. (Note that ShuffleStainer\ndoes not affect or alter columns, so the column map is simply an empty dictionary)\n\n"
      ]
    },
    {
      "cell_type": "code",
      "execution_count": null,
      "metadata": {
        "collapsed": false
      },
      "outputs": [],
      "source": [
        "row_map"
      ]
    },
    {
      "cell_type": "markdown",
      "metadata": {},
      "source": [
        "The output shows that the 3rd row index (0-based indexing) from the original dataframe is mapped to the 0-th row in the new\ndataframe, as well as others. You may check with the ID column, or with the original dataframe above to verify that this is true.\n\n"
      ]
    },
    {
      "cell_type": "markdown",
      "metadata": {},
      "source": [
        "Furthermore, you may use the stainer's `get_history()` method to get the name of the stainer, a description of how the stainer \nhad transformed the dataframe, and the time taken for said transformation.\n\n"
      ]
    },
    {
      "cell_type": "code",
      "execution_count": null,
      "metadata": {
        "collapsed": false
      },
      "outputs": [],
      "source": [
        "shuffle_stainer.get_history()"
      ]
    },
    {
      "cell_type": "markdown",
      "metadata": {},
      "source": [
        "## InflectionStainer Example\n\n"
      ]
    },
    {
      "cell_type": "markdown",
      "metadata": {},
      "source": [
        "For this next example, we will be using a randomly generated dataset of 100 rows and 3 columns, an integer ID, and 2 animal class\ncolumns (this dataset has no 'meaning', it is simply for demo). In particular, we will demonstrate using the InflectionStainer to\ngenerate string inflections of the animal categories.\n\n"
      ]
    },
    {
      "cell_type": "code",
      "execution_count": null,
      "metadata": {
        "collapsed": false
      },
      "outputs": [],
      "source": [
        "rng = np.random.default_rng(42) # reinitialize random generator\ndf2 = pd.DataFrame(zip(range(100), rng.choice(['Cat','Dog','Rabbit'], 100), rng.choice(['Cow', 'Sheep', 'Goat', 'Horse'], 100)),\n                  columns=('id', 'class', 'class2'))\n\ndf2.head()"
      ]
    },
    {
      "cell_type": "markdown",
      "metadata": {},
      "source": [
        "Here are the distributions of the animal classes.\n\n"
      ]
    },
    {
      "cell_type": "code",
      "execution_count": null,
      "metadata": {
        "collapsed": false
      },
      "outputs": [],
      "source": [
        "df2['class'].value_counts()"
      ]
    },
    {
      "cell_type": "code",
      "execution_count": null,
      "metadata": {
        "collapsed": false
      },
      "outputs": [],
      "source": [
        "df2['class2'].value_counts()"
      ]
    },
    {
      "cell_type": "markdown",
      "metadata": {},
      "source": [
        "We inflect on the 2 animal columns (index 1 and 2), use only 3 inflection formats (original, lowercase, and pluralize), \nand ignore inflections on the 'Dog' category in the first class and 'Cow' & 'Sheep' categories in the second class.\n\n"
      ]
    },
    {
      "cell_type": "code",
      "execution_count": null,
      "metadata": {
        "collapsed": false
      },
      "outputs": [],
      "source": [
        "inflect_stainer = InflectionStainer(col_idx=[1, 2], num_format = 3, formats=['original', 'lowercase', 'pluralize'], \n                    ignore_cats={1: ['Dog'], 2: ['Cow', 'Sheep']})\n\nnew_df2, row_map2, col_map2 = inflect_stainer.transform(df2, rng)\nnew_df2.head()"
      ]
    },
    {
      "cell_type": "markdown",
      "metadata": {},
      "source": [
        "We can see the new distributions.\n\n"
      ]
    },
    {
      "cell_type": "code",
      "execution_count": null,
      "metadata": {
        "collapsed": false
      },
      "outputs": [],
      "source": [
        "new_df2['class'].value_counts()"
      ]
    },
    {
      "cell_type": "code",
      "execution_count": null,
      "metadata": {
        "collapsed": false
      },
      "outputs": [],
      "source": [
        "new_df2['class2'].value_counts()"
      ]
    },
    {
      "cell_type": "markdown",
      "metadata": {},
      "source": [
        "We can also check the description of the stainer's transform from its history (the 2nd element in the history tuple).\n\n"
      ]
    },
    {
      "cell_type": "code",
      "execution_count": null,
      "metadata": {
        "collapsed": false
      },
      "outputs": [],
      "source": [
        "print(inflect_stainer.get_history()[1])"
      ]
    },
    {
      "cell_type": "markdown",
      "metadata": {},
      "source": [
        "For more info on each of the stainer's use-cases and input parameters, do check their respective documentations.\n"
      ]
    }
  ],
  "metadata": {
    "kernelspec": {
      "display_name": "Python 3",
      "language": "python",
      "name": "python3"
    },
    "language_info": {
      "codemirror_mode": {
        "name": "ipython",
        "version": 3
      },
      "file_extension": ".py",
      "mimetype": "text/x-python",
      "name": "python",
      "nbconvert_exporter": "python",
      "pygments_lexer": "ipython3",
      "version": "3.9.1"
    }
  },
  "nbformat": 4,
  "nbformat_minor": 0
}