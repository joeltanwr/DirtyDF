{
  "cells": [
    {
      "cell_type": "code",
      "execution_count": null,
      "metadata": {
        "collapsed": false
      },
      "outputs": [],
      "source": [
        "%matplotlib inline"
      ]
    },
    {
      "cell_type": "markdown",
      "metadata": {},
      "source": [
        "\n# Retail Dataset Example\n\nThis page shows some typical use-cases of 'chainstaining' multiple stainers together to produce several distinct transformed\nDirtyDFs, based on a retail dataset. We expect these types of procedures to be the most common use-case of this library.\n"
      ]
    },
    {
      "cell_type": "code",
      "execution_count": null,
      "metadata": {
        "collapsed": false
      },
      "outputs": [],
      "source": [
        "import pandas as pd\nimport numpy as np\nfrom ddf.stainer import ShuffleStainer, InflectionStainer, NullifyStainer, DatetimeFormatStainer, DatetimeSplitStainer\nfrom ddf.DirtyDF import DirtyDF"
      ]
    },
    {
      "cell_type": "markdown",
      "metadata": {},
      "source": [
        "We load the dataset and view some basic dataset properties.\n\n"
      ]
    },
    {
      "cell_type": "code",
      "execution_count": null,
      "metadata": {
        "collapsed": false
      },
      "outputs": [],
      "source": [
        "retail = pd.read_csv(\"../data/online_retail_small.csv\", parse_dates = [\"InvoiceDate\"])\nretail.info()"
      ]
    },
    {
      "cell_type": "code",
      "execution_count": null,
      "metadata": {
        "collapsed": false
      },
      "outputs": [],
      "source": [
        "retail.head()"
      ]
    },
    {
      "cell_type": "markdown",
      "metadata": {},
      "source": [
        "Convert 'Country' column to 'category' type.\n\n"
      ]
    },
    {
      "cell_type": "code",
      "execution_count": null,
      "metadata": {
        "collapsed": false
      },
      "outputs": [],
      "source": [
        "retail[\"Country\"] = retail.Country.astype(\"category\")"
      ]
    },
    {
      "cell_type": "markdown",
      "metadata": {},
      "source": [
        "We can stain the dataset in various ways; in particular, since there is a datetime component in this dataset,\nwe can use the DatetimeFormatStainer and DatetimeSplitStainer.\nWe can also add simple ShuffleStainer, NullifyStainer, and apply InflectionStainer on the countries as well.\n\n"
      ]
    },
    {
      "cell_type": "markdown",
      "metadata": {},
      "source": [
        "We first view the distribution of the Country column to see if inflection staining is applicable here.\n\n"
      ]
    },
    {
      "cell_type": "code",
      "execution_count": null,
      "metadata": {
        "collapsed": false
      },
      "outputs": [],
      "source": [
        "retail.Country.value_counts()"
      ]
    },
    {
      "cell_type": "markdown",
      "metadata": {},
      "source": [
        "We can see that lowercase and uppercase inflections are applicable here, aside from the 'EIRE' category, which we can ignore.\n\n"
      ]
    },
    {
      "cell_type": "markdown",
      "metadata": {},
      "source": [
        "We now check the numeric distribution of the datetime column to see if datetime staining is applicable here.\n\n"
      ]
    },
    {
      "cell_type": "code",
      "execution_count": null,
      "metadata": {
        "collapsed": false
      },
      "outputs": [],
      "source": [
        "retail.InvoiceDate.describe(datetime_is_numeric=True)"
      ]
    },
    {
      "cell_type": "markdown",
      "metadata": {},
      "source": [
        "We can see that the entire dataset consists of invoices within a month, and times are included.\n\n"
      ]
    },
    {
      "cell_type": "markdown",
      "metadata": {},
      "source": [
        "We now initiate our stainers. It is possible to change the name of the Stainer to reflect the output seen when\nprinting the history\n\n"
      ]
    },
    {
      "cell_type": "code",
      "execution_count": null,
      "metadata": {
        "collapsed": false
      },
      "outputs": [],
      "source": [
        "retail_ddf = DirtyDF(retail, seed = 42) # Create DDF\ndt_split_stainer = DatetimeSplitStainer(name = \"Date Split\", keep_time = False) # Only split the date"
      ]
    },
    {
      "cell_type": "markdown",
      "metadata": {},
      "source": [
        "Since the col_type of the DatetimeSplitStainer is set to \"datetime\", it will automatically identify datetime columns\nand only execute the stainer on those columns. Note that this only applies when using a DDF. If using the stainer directly,\nthe column number needs to be specified\n\n"
      ]
    },
    {
      "cell_type": "code",
      "execution_count": null,
      "metadata": {
        "collapsed": false
      },
      "outputs": [],
      "source": [
        "retail_transformed = retail_ddf.add_stainers(dt_split_stainer).run_stainer()\nretail_transformed.get_df().head()\n\nnew_retail_df, row_map, col_map = dt_split_stainer.transform(retail, np.random.default_rng(42), col_idx = [4])"
      ]
    },
    {
      "cell_type": "markdown",
      "metadata": {},
      "source": [
        "Since the DatetimeSpitStainer adds columns, we can check the column mapping to see how the columns were changed\n\n"
      ]
    },
    {
      "cell_type": "code",
      "execution_count": null,
      "metadata": {
        "collapsed": false
      },
      "outputs": [],
      "source": [
        "retail_transformed.get_mapping(axis = 1) # or col_map if using the Stainer directly"
      ]
    }
  ],
  "metadata": {
    "kernelspec": {
      "display_name": "Python 3",
      "language": "python",
      "name": "python3"
    },
    "language_info": {
      "codemirror_mode": {
        "name": "ipython",
        "version": 3
      },
      "file_extension": ".py",
      "mimetype": "text/x-python",
      "name": "python",
      "nbconvert_exporter": "python",
      "pygments_lexer": "ipython3",
      "version": "3.9.1"
    }
  },
  "nbformat": 4,
  "nbformat_minor": 0
}