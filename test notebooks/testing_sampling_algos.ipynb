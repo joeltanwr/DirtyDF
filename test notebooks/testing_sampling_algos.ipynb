{
 "cells": [
  {
   "cell_type": "markdown",
   "metadata": {},
   "source": [
    "## Generate random data first"
   ]
  },
  {
   "cell_type": "code",
   "execution_count": 1,
   "metadata": {},
   "outputs": [],
   "source": [
    "import numpy as np\n",
    "import matplotlib.pyplot as plt\n",
    "%matplotlib inline"
   ]
  },
  {
   "cell_type": "code",
   "execution_count": 2,
   "metadata": {},
   "outputs": [],
   "source": [
    "X = np.random.normal(size=200)"
   ]
  },
  {
   "cell_type": "code",
   "execution_count": 3,
   "metadata": {},
   "outputs": [
    {
     "data": {
      "image/png": "[encoded data removed]",
      "text/plain": [
       "<Figure size 432x288 with 1 Axes>"
      ]
     },
     "metadata": {
      "needs_background": "light"
     },
     "output_type": "display_data"
    }
   ],
   "source": [
    "plt.hist(X)\n",
    "plt.title('Histogram of X');"
   ]
  },
  {
   "cell_type": "markdown",
   "metadata": {},
   "source": [
    "## Algorithm 1: Generate from kernel density"
   ]
  },
  {
   "cell_type": "code",
   "execution_count": 4,
   "metadata": {},
   "outputs": [],
   "source": [
    "from statsmodels.nonparametric import kde,bandwidths"
   ]
  },
  {
   "cell_type": "code",
   "execution_count": 5,
   "metadata": {},
   "outputs": [
    {
     "data": {
      "text/plain": [
       "array([ 0.92644913,  0.28087013,  1.23850774, -1.51442837,  0.48286731,\n",
       "       -0.70493453, -0.45206154,  0.85572249,  1.23850774,  0.7645989 ])"
      ]
     },
     "execution_count": 5,
     "metadata": {},
     "output_type": "execute_result"
    }
   ],
   "source": [
    "np.random.choice(X, size=10)"
   ]
  },
  {
   "cell_type": "code",
   "execution_count": 53,
   "metadata": {},
   "outputs": [],
   "source": [
    "k1 = kde.KDEUnivariate(X)"
   ]
  },
  {
   "cell_type": "code",
   "execution_count": 65,
   "metadata": {},
   "outputs": [
    {
     "data": {
      "text/plain": [
       "<statsmodels.nonparametric.kde.KDEUnivariate at 0x7fa65f049c70>"
      ]
     },
     "execution_count": 65,
     "metadata": {},
     "output_type": "execute_result"
    }
   ],
   "source": [
    "k1.fit(kernel=\"epa\", fft=False, bw=\"scott\")"
   ]
  },
  {
   "cell_type": "code",
   "execution_count": 66,
   "metadata": {},
   "outputs": [],
   "source": [
    "bw_used = bandwidths.bw_scott(X)"
   ]
  },
  {
   "cell_type": "code",
   "execution_count": 6,
   "metadata": {},
   "outputs": [],
   "source": [
    "def rand_bartlett(size=(1,10)):\n",
    "    rvs_needed = np.array(size).prod()\n",
    "    rvs_generated = 0\n",
    "    out = np.empty(0)\n",
    "    \n",
    "    while rvs_generated < rvs_needed:\n",
    "        X = np.random.uniform(-1.0, 1.0, size=round(rvs_needed*1.5, None))\n",
    "        U = np.random.uniform(0.0, 1.0, size = X.shape)\n",
    "        out = np.hstack((out, X[U <= 1 - X**2]))\n",
    "        \n",
    "        rvs_generated = out.size\n",
    "        \n",
    "    return out[:rvs_needed].reshape(size)   "
   ]
  },
  {
   "cell_type": "code",
   "execution_count": 7,
   "metadata": {},
   "outputs": [],
   "source": [
    "def rand_from_density(X, size=(1,10), lower=-np.inf, upper=np.inf, batch_size=100):\n",
    "    rvs_needed = np.array(size).prod()\n",
    "    bw0 = bandwidths.bw_scott(X)\n",
    "    \n",
    "    if (lower is not -np.inf) or (upper is not np.inf):\n",
    "        rvs_generated = 0\n",
    "        out = np.empty(0)\n",
    "        \n",
    "        while rvs_generated < rvs_needed:\n",
    "            Y0 = np.random.choice(X, size=batch_size) + rand_bartlett(batch_size)*bw0\n",
    "            out = np.hstack((out, Y0[np.column_stack((Y0 >= lower,  Y0 <= upper)).all(axis=1)])) \n",
    "            rvs_generated = out.size\n",
    "        \n",
    "        out = out[:rvs_needed].reshape(size)\n",
    "    else:\n",
    "        out = np.random.choice(X, size=rvs_needed) + rand_bartlett(rvs_needed)*bw0\n",
    "\n",
    "    \n",
    "    return out"
   ]
  },
  {
   "cell_type": "code",
   "execution_count": 10,
   "metadata": {},
   "outputs": [
    {
     "data": {
      "image/png": "[encoded data removed]",
      "text/plain": [
       "<Figure size 432x288 with 1 Axes>"
      ]
     },
     "metadata": {
      "needs_background": "light"
     },
     "output_type": "display_data"
    }
   ],
   "source": [
    "Y = rand_from_density(X, size=250)\n",
    "plt.hist(Y)\n",
    "plt.title('Histogram of Y');"
   ]
  },
  {
   "cell_type": "markdown",
   "metadata": {},
   "source": [
    "## Algorithm 2: From histogram"
   ]
  },
  {
   "cell_type": "code",
   "execution_count": 81,
   "metadata": {},
   "outputs": [],
   "source": [
    "def rand_from_hist(X, size=(1,10)):\n",
    "    rvs_needed = np.array(size).prod()\n",
    "    hist_details = np.histogram(X, bins='fd')\n",
    "    nbins = len(hist_details[0])\n",
    "    \n",
    "    bin_choices = np.random.choice(nbins, size=rvs_needed, p=hist_details[0]/len(X))\n",
    "    out = np.random.uniform(hist_details[1][bin_choices], hist_details[1][bin_choices+1])\n",
    "    \n",
    "    return out"
   ]
  },
  {
   "cell_type": "code",
   "execution_count": 92,
   "metadata": {},
   "outputs": [],
   "source": [
    "out = rand_from_hist(X, 250)"
   ]
  },
  {
   "cell_type": "code",
   "execution_count": 94,
   "metadata": {
    "tags": []
   },
   "outputs": [
    {
     "data": {
      "image/png": "[encoded data removed]",
      "text/plain": [
       "<Figure size 432x288 with 1 Axes>"
      ]
     },
     "metadata": {
      "needs_background": "light"
     },
     "output_type": "display_data"
    }
   ],
   "source": [
    "plt.hist(out);"
   ]
  },
  {
   "cell_type": "markdown",
   "metadata": {},
   "source": [
    "## Algorithm 3: From interpolated cdf"
   ]
  },
  {
   "cell_type": "code",
   "execution_count": 111,
   "metadata": {},
   "outputs": [],
   "source": [
    "from scipy.interpolate import Akima1DInterpolator\n",
    "from statsmodels.distributions.empirical_distribution import *"
   ]
  },
  {
   "cell_type": "code",
   "execution_count": 142,
   "metadata": {},
   "outputs": [],
   "source": [
    "def rand_from_Finv(X, size=(1,10)):\n",
    "    rvs_needed = np.array(size).prod()\n",
    "    ecdf1 = ECDF(X)\n",
    "    U = np.hstack((0.0, ecdf1.y[1:-1], 1.0))\n",
    "    Finv = np.hstack((X.min(), ecdf1.x[1:-1], X.max()))\n",
    "    ak2 = Akima1DInterpolator(U, Finv)\n",
    "\n",
    "    U_rand = np.random.uniform(size=rvs_needed)\n",
    "    out = ak2(U_rand).reshape(size)\n",
    "    return out\n",
    "    "
   ]
  },
  {
   "cell_type": "code",
   "execution_count": 135,
   "metadata": {},
   "outputs": [],
   "source": [
    "rand_from_Finv(X)"
   ]
  },
  {
   "cell_type": "code",
   "execution_count": 133,
   "metadata": {},
   "outputs": [
    {
     "data": {
      "text/plain": [
       "0.005"
      ]
     },
     "execution_count": 133,
     "metadata": {},
     "output_type": "execute_result"
    }
   ],
   "source": [
    "U.min()"
   ]
  },
  {
   "cell_type": "code",
   "execution_count": 127,
   "metadata": {},
   "outputs": [
    {
     "data": {
      "image/png": "[encoded data removed]",
      "text/plain": [
       "<Figure size 432x288 with 1 Axes>"
      ]
     },
     "metadata": {
      "needs_background": "light"
     },
     "output_type": "display_data"
    }
   ],
   "source": [
    "plt.plot(ecdf1.x, ecdf1.y, 'b-');"
   ]
  },
  {
   "cell_type": "code",
   "execution_count": 130,
   "metadata": {},
   "outputs": [
    {
     "data": {
      "image/png": "[encoded data removed]",
      "text/plain": [
       "<Figure size 432x288 with 1 Axes>"
      ]
     },
     "metadata": {
      "needs_background": "light"
     },
     "output_type": "display_data"
    }
   ],
   "source": [
    "plt.plot(ecdf1.x[1:-1], ak_out(ecdf1.x[1:-1]), 'r-');"
   ]
  },
  {
   "cell_type": "markdown",
   "metadata": {},
   "source": [
    "## Comparing outputs"
   ]
  },
  {
   "cell_type": "code",
   "execution_count": 154,
   "metadata": {},
   "outputs": [],
   "source": [
    "X_from_dens = rand_from_density(X, size=200)\n",
    "X_from_hist = rand_from_hist(X, 200)\n",
    "X_from_F = rand_from_Finv(X, 200)"
   ]
  },
  {
   "cell_type": "code",
   "execution_count": 155,
   "metadata": {},
   "outputs": [
    {
     "data": {
      "image/png": "[encoded data removed]",
      "text/plain": [
       "<Figure size 1152x288 with 4 Axes>"
      ]
     },
     "metadata": {
      "needs_background": "light"
     },
     "output_type": "display_data"
    }
   ],
   "source": [
    "plt.subplots(1,4, figsize=(16,4))\n",
    "plt.subplot(141)\n",
    "plt.hist(X);\n",
    "plt.title(\"Original\");\n",
    "\n",
    "plt.subplot(142)\n",
    "plt.hist(X_from_dens);\n",
    "plt.title(\"From Density\");\n",
    "\n",
    "plt.subplot(143)\n",
    "plt.hist(X_from_hist);\n",
    "plt.title(\"From Histogram\");\n",
    "\n",
    "plt.subplot(144)\n",
    "plt.hist(X_from_F)\n",
    "plt.title(\"From F\");"
   ]
  },
  {
   "cell_type": "code",
   "execution_count": 55,
   "metadata": {},
   "outputs": [
    {
     "data": {
      "text/plain": [
       "10"
      ]
     },
     "execution_count": 55,
     "metadata": {},
     "output_type": "execute_result"
    }
   ],
   "source": [
    "len(hist_details[0])"
   ]
  },
  {
   "cell_type": "code",
   "execution_count": 80,
   "metadata": {},
   "outputs": [
    {
     "data": {
      "text/plain": [
       "array([ 2.36006269e+00, -5.90277921e-01, -2.09799004e-04,  1.76999457e+00,\n",
       "        2.36006269e+00])"
      ]
     },
     "execution_count": 80,
     "metadata": {},
     "output_type": "execute_result"
    }
   ],
   "source": [
    "hist_details[1][out+1]"
   ]
  },
  {
   "cell_type": "code",
   "execution_count": 40,
   "metadata": {},
   "outputs": [
    {
     "data": {
      "text/plain": [
       "array([0.45110781, 2.23559476])"
      ]
     },
     "execution_count": 40,
     "metadata": {},
     "output_type": "execute_result"
    }
   ],
   "source": [
    "np.random.uniform(np.array([0.1, 0.2]), np.array([9, 10.]))"
   ]
  },
  {
   "cell_type": "code",
   "execution_count": 44,
   "metadata": {},
   "outputs": [
    {
     "data": {
      "text/plain": [
       "array([7, 5, 1, 0, 3, 0, 2, 9, 3, 7])"
      ]
     },
     "execution_count": 44,
     "metadata": {},
     "output_type": "execute_result"
    }
   ],
   "source": [
    "np.random.choice(10, size=10)"
   ]
  },
  {
   "cell_type": "code",
   "execution_count": 37,
   "metadata": {},
   "outputs": [
    {
     "data": {
      "text/plain": [
       "array([ 4,  5, 14, 40, 37, 38, 40, 15,  5,  2])"
      ]
     },
     "execution_count": 37,
     "metadata": {},
     "output_type": "execute_result"
    }
   ],
   "source": [
    "hist_details[0]"
   ]
  },
  {
   "cell_type": "code",
   "execution_count": 10,
   "metadata": {},
   "outputs": [],
   "source": [
    "BB = rand_bartlett(size=1000)"
   ]
  },
  {
   "cell_type": "code",
   "execution_count": 13,
   "metadata": {},
   "outputs": [
    {
     "data": {
      "text/plain": [
       "1000"
      ]
     },
     "execution_count": 13,
     "metadata": {},
     "output_type": "execute_result"
    }
   ],
   "source": [
    "BB.shape[0]"
   ]
  },
  {
   "cell_type": "code",
   "execution_count": 75,
   "metadata": {},
   "outputs": [
    {
     "data": {
      "image/png": "[encoded data removed]",
      "text/plain": [
       "<Figure size 432x288 with 1 Axes>"
      ]
     },
     "metadata": {
      "needs_background": "light"
     },
     "output_type": "display_data"
    }
   ],
   "source": [
    "plt.hist(BB, density=True, histtype='step' );"
   ]
  },
  {
   "cell_type": "code",
   "execution_count": 66,
   "metadata": {},
   "outputs": [
    {
     "data": {
      "text/plain": [
       "array([[-0.55343223,  0.59036993,  0.95141438,  0.07449957, -0.6755122 ],\n",
       "       [ 0.0816377 , -0.57970599,  0.20499574, -0.05025981,  0.3173002 ]])"
      ]
     },
     "execution_count": 66,
     "metadata": {},
     "output_type": "execute_result"
    }
   ],
   "source": [
    "tmp.reshape((2,5))"
   ]
  },
  {
   "cell_type": "code",
   "execution_count": 55,
   "metadata": {},
   "outputs": [
    {
     "data": {
      "text/plain": [
       "0"
      ]
     },
     "execution_count": 55,
     "metadata": {},
     "output_type": "execute_result"
    }
   ],
   "source": [
    "np.empty(0).size"
   ]
  },
  {
   "cell_type": "code",
   "execution_count": 25,
   "metadata": {},
   "outputs": [
    {
     "data": {
      "text/plain": [
       "10"
      ]
     },
     "execution_count": 25,
     "metadata": {},
     "output_type": "execute_result"
    }
   ],
   "source": [
    "tmp = (1,10)\n",
    "np.array(tmp).prod()"
   ]
  },
  {
   "cell_type": "code",
   "execution_count": 5,
   "metadata": {},
   "outputs": [],
   "source": [
    "d = np.random.rand(6,5,4)"
   ]
  },
  {
   "cell_type": "code",
   "execution_count": 8,
   "metadata": {},
   "outputs": [
    {
     "data": {
      "text/plain": [
       "120"
      ]
     },
     "execution_count": 8,
     "metadata": {},
     "output_type": "execute_result"
    }
   ],
   "source": [
    "d.size"
   ]
  },
  {
   "cell_type": "code",
   "execution_count": 13,
   "metadata": {},
   "outputs": [
    {
     "data": {
      "text/plain": [
       "\u001b[0;31mDocstring:\u001b[0m\n",
       "chisquare(df, size=None)\n",
       "\n",
       "Draw samples from a chi-square distribution.\n",
       "\n",
       "When `df` independent random variables, each with standard normal\n",
       "distributions (mean 0, variance 1), are squared and summed, the\n",
       "resulting distribution is chi-square (see Notes).  This distribution\n",
       "is often used in hypothesis testing.\n",
       "\n",
       ".. note::\n",
       "    New code should use the ``chisquare`` method of a ``default_rng()``\n",
       "    instance instead; please see the :ref:`random-quick-start`.\n",
       "\n",
       "Parameters\n",
       "----------\n",
       "df : float or array_like of floats\n",
       "     Number of degrees of freedom, must be > 0.\n",
       "size : int or tuple of ints, optional\n",
       "    Output shape.  If the given shape is, e.g., ``(m, n, k)``, then\n",
       "    ``m * n * k`` samples are drawn.  If size is ``None`` (default),\n",
       "    a single value is returned if ``df`` is a scalar.  Otherwise,\n",
       "    ``np.array(df).size`` samples are drawn.\n",
       "\n",
       "Returns\n",
       "-------\n",
       "out : ndarray or scalar\n",
       "    Drawn samples from the parameterized chi-square distribution.\n",
       "\n",
       "Raises\n",
       "------\n",
       "ValueError\n",
       "    When `df` <= 0 or when an inappropriate `size` (e.g. ``size=-1``)\n",
       "    is given.\n",
       "\n",
       "See Also\n",
       "--------\n",
       "Generator.chisquare: which should be used for new code.\n",
       "\n",
       "Notes\n",
       "-----\n",
       "The variable obtained by summing the squares of `df` independent,\n",
       "standard normally distributed random variables:\n",
       "\n",
       ".. math:: Q = \\sum_{i=0}^{\\mathtt{df}} X^2_i\n",
       "\n",
       "is chi-square distributed, denoted\n",
       "\n",
       ".. math:: Q \\sim \\chi^2_k.\n",
       "\n",
       "The probability density function of the chi-squared distribution is\n",
       "\n",
       ".. math:: p(x) = \\frac{(1/2)^{k/2}}{\\Gamma(k/2)}\n",
       "                 x^{k/2 - 1} e^{-x/2},\n",
       "\n",
       "where :math:`\\Gamma` is the gamma function,\n",
       "\n",
       ".. math:: \\Gamma(x) = \\int_0^{-\\infty} t^{x - 1} e^{-t} dt.\n",
       "\n",
       "References\n",
       "----------\n",
       ".. [1] NIST \"Engineering Statistics Handbook\"\n",
       "       https://www.itl.nist.gov/div898/handbook/eda/section3/eda3666.htm\n",
       "\n",
       "Examples\n",
       "--------\n",
       ">>> np.random.chisquare(2,4)\n",
       "array([ 1.89920014,  9.00867716,  3.13710533,  5.62318272]) # random\n",
       "\u001b[0;31mType:\u001b[0m      builtin_function_or_method\n"
      ]
     },
     "metadata": {},
     "output_type": "display_data"
    }
   ],
   "source": [
    "np.random.chisquare?"
   ]
  }
 ],
 "metadata": {
  "kernelspec": {
   "display_name": "Python 3",
   "language": "python",
   "name": "python3"
  },
  "language_info": {
   "codemirror_mode": {
    "name": "ipython",
    "version": 3
   },
   "file_extension": ".py",
   "mimetype": "text/x-python",
   "name": "python",
   "nbconvert_exporter": "python",
   "pygments_lexer": "ipython3",
   "version": "3.8.5"
  }
 },
 "nbformat": 4,
 "nbformat_minor": 4
}
