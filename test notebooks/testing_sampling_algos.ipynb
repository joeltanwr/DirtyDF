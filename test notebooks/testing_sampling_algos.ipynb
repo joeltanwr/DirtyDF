{
 "cells": [
  {
   "cell_type": "markdown",
   "metadata": {},
   "source": [
    "## Generate random data first"
   ]
  },
  {
   "cell_type": "code",
   "execution_count": 3,
   "metadata": {},
   "outputs": [],
   "source": [
    "import numpy as np\n",
    "import matplotlib.pyplot as plt\n",
    "%matplotlib inline"
   ]
  },
  {
   "cell_type": "code",
   "execution_count": 8,
   "metadata": {},
   "outputs": [],
   "source": [
    "X = np.random.normal(size=200)"
   ]
  },
  {
   "cell_type": "code",
   "execution_count": 9,
   "metadata": {},
   "outputs": [
    {
     "data": {
      "image/png": "[encoded data removed]",
      "text/plain": [
       "<Figure size 432x288 with 1 Axes>"
      ]
     },
     "metadata": {
      "needs_background": "light"
     },
     "output_type": "display_data"
    }
   ],
   "source": [
    "plt.hist(X)\n",
    "plt.title('Histogram of X');"
   ]
  },
  {
   "cell_type": "markdown",
   "metadata": {},
   "source": [
    "## Algorithm 1: Generate from kernel density"
   ]
  },
  {
   "cell_type": "code",
   "execution_count": 4,
   "metadata": {},
   "outputs": [],
   "source": [
    "from statsmodels.nonparametric import kde,bandwidths"
   ]
  },
  {
   "cell_type": "code",
   "execution_count": 6,
   "metadata": {},
   "outputs": [
    {
     "data": {
      "text/plain": [
       "array([6.50663638, 3.41188798, 1.19504759, 1.16502046, 5.99896794,\n",
       "       3.67359891, 5.83985411, 6.50663638, 1.52708617, 0.8935382 ])"
      ]
     },
     "execution_count": 6,
     "metadata": {},
     "output_type": "execute_result"
    }
   ],
   "source": [
    "np.random.choice(X, size=10)"
   ]
  },
  {
   "cell_type": "code",
   "execution_count": 53,
   "metadata": {},
   "outputs": [],
   "source": [
    "k1 = kde.KDEUnivariate(X)"
   ]
  },
  {
   "cell_type": "code",
   "execution_count": 65,
   "metadata": {},
   "outputs": [
    {
     "data": {
      "text/plain": [
       "<statsmodels.nonparametric.kde.KDEUnivariate at 0x7fa65f049c70>"
      ]
     },
     "execution_count": 65,
     "metadata": {},
     "output_type": "execute_result"
    }
   ],
   "source": [
    "k1.fit(kernel=\"epa\", fft=False, bw=\"scott\")"
   ]
  },
  {
   "cell_type": "code",
   "execution_count": 66,
   "metadata": {},
   "outputs": [],
   "source": [
    "bw_used = bandwidths.bw_scott(X)"
   ]
  },
  {
   "cell_type": "code",
   "execution_count": 5,
   "metadata": {},
   "outputs": [],
   "source": [
    "def rand_bartlett(size=(1,10)):\n",
    "    rvs_needed = np.array(size).prod()\n",
    "    rvs_generated = 0\n",
    "    out = np.empty(0)\n",
    "    \n",
    "    while rvs_generated < rvs_needed:\n",
    "        X = np.random.uniform(-1.0, 1.0, size=round(rvs_needed*1.5, None))\n",
    "        U = np.random.uniform(0.0, 1.0, size = X.shape)\n",
    "        out = np.hstack((out, X[U <= 1 - X**2]))\n",
    "        \n",
    "        rvs_generated = out.size\n",
    "        \n",
    "    return out[:rvs_needed].reshape(size)   "
   ]
  },
  {
   "cell_type": "code",
   "execution_count": 6,
   "metadata": {},
   "outputs": [],
   "source": [
    "def rand_from_density(X, size=(1,10), lower=-np.inf, upper=np.inf, batch_size=100):\n",
    "    rvs_needed = np.array(size).prod()\n",
    "    bw0 = bandwidths.bw_scott(X)\n",
    "    \n",
    "    if (lower is not -np.inf) or (upper is not np.inf):\n",
    "        rvs_generated = 0\n",
    "        out = np.empty(0)\n",
    "        \n",
    "        while rvs_generated < rvs_needed:\n",
    "            Y0 = np.random.choice(X, size=batch_size) + rand_bartlett(batch_size)*bw0\n",
    "            out = np.hstack((out, Y0[np.column_stack((Y0 >= lower,  Y0 <= upper)).all(axis=1)])) \n",
    "            rvs_generated = out.size\n",
    "        \n",
    "        out = out[:rvs_needed].reshape(size)\n",
    "    else:\n",
    "        out = np.random.choice(X, size=rvs_needed) + rand_bartlett(rvs_needed)*bw0\n",
    "\n",
    "    \n",
    "    return out"
   ]
  },
  {
   "cell_type": "code",
   "execution_count": 16,
   "metadata": {},
   "outputs": [
    {
     "data": {
      "image/png": "[encoded data removed]",
      "text/plain": [
       "<Figure size 432x288 with 1 Axes>"
      ]
     },
     "metadata": {
      "needs_background": "light"
     },
     "output_type": "display_data"
    }
   ],
   "source": [
    "Y = rand_from_density(X, size=250,lower =0)\n",
    "plt.hist(Y)\n",
    "plt.title('Histogram of Y');"
   ]
  },
  {
   "cell_type": "markdown",
   "metadata": {},
   "source": [
    "## Algorithm 2: From histogram"
   ]
  },
  {
   "cell_type": "code",
   "execution_count": 25,
   "metadata": {},
   "outputs": [
    {
     "data": {
      "text/plain": [
       "array([-2.04720269, -1.57272724, -1.09825179, -0.62377633, -0.14930088,\n",
       "        0.32517457,  0.79965002,  1.27412548,  1.74860093,  2.22307638,\n",
       "        2.69755183,  3.17202729,  3.64650274])"
      ]
     },
     "execution_count": 25,
     "metadata": {},
     "output_type": "execute_result"
    }
   ],
   "source": [
    "np.histogram_bin_edges(X, bins='fd')"
   ]
  },
  {
   "cell_type": "code",
   "execution_count": 21,
   "metadata": {},
   "outputs": [
    {
     "data": {
      "text/plain": [
       "(array([11, 26, 39, 42, 35, 26, 16,  4,  0,  1]),\n",
       " array([-2.04720269, -1.47783215, -0.90846161, -0.33909106,  0.23027948,\n",
       "         0.79965002,  1.36902057,  1.93839111,  2.50776165,  3.0771322 ,\n",
       "         3.64650274]))"
      ]
     },
     "execution_count": 21,
     "metadata": {},
     "output_type": "execute_result"
    }
   ],
   "source": [
    "np.histogram(X)"
   ]
  },
  {
   "cell_type": "code",
   "execution_count": 10,
   "metadata": {},
   "outputs": [],
   "source": [
    "BB = rand_bartlett(size=1000)"
   ]
  },
  {
   "cell_type": "code",
   "execution_count": 13,
   "metadata": {},
   "outputs": [
    {
     "data": {
      "text/plain": [
       "1000"
      ]
     },
     "execution_count": 13,
     "metadata": {},
     "output_type": "execute_result"
    }
   ],
   "source": [
    "BB.shape[0]"
   ]
  },
  {
   "cell_type": "code",
   "execution_count": 75,
   "metadata": {},
   "outputs": [
    {
     "data": {
      "image/png": "[encoded data removed]",
      "text/plain": [
       "<Figure size 432x288 with 1 Axes>"
      ]
     },
     "metadata": {
      "needs_background": "light"
     },
     "output_type": "display_data"
    }
   ],
   "source": [
    "plt.hist(BB, density=True, histtype='step' );"
   ]
  },
  {
   "cell_type": "code",
   "execution_count": 66,
   "metadata": {},
   "outputs": [
    {
     "data": {
      "text/plain": [
       "array([[-0.55343223,  0.59036993,  0.95141438,  0.07449957, -0.6755122 ],\n",
       "       [ 0.0816377 , -0.57970599,  0.20499574, -0.05025981,  0.3173002 ]])"
      ]
     },
     "execution_count": 66,
     "metadata": {},
     "output_type": "execute_result"
    }
   ],
   "source": [
    "tmp.reshape((2,5))"
   ]
  },
  {
   "cell_type": "code",
   "execution_count": 55,
   "metadata": {},
   "outputs": [
    {
     "data": {
      "text/plain": [
       "0"
      ]
     },
     "execution_count": 55,
     "metadata": {},
     "output_type": "execute_result"
    }
   ],
   "source": [
    "np.empty(0).size"
   ]
  },
  {
   "cell_type": "code",
   "execution_count": 25,
   "metadata": {},
   "outputs": [
    {
     "data": {
      "text/plain": [
       "10"
      ]
     },
     "execution_count": 25,
     "metadata": {},
     "output_type": "execute_result"
    }
   ],
   "source": [
    "tmp = (1,10)\n",
    "np.array(tmp).prod()"
   ]
  },
  {
   "cell_type": "code",
   "execution_count": 5,
   "metadata": {},
   "outputs": [],
   "source": [
    "d = np.random.rand(6,5,4)"
   ]
  },
  {
   "cell_type": "code",
   "execution_count": 8,
   "metadata": {},
   "outputs": [
    {
     "data": {
      "text/plain": [
       "120"
      ]
     },
     "execution_count": 8,
     "metadata": {},
     "output_type": "execute_result"
    }
   ],
   "source": [
    "d.size"
   ]
  },
  {
   "cell_type": "code",
   "execution_count": 13,
   "metadata": {},
   "outputs": [
    {
     "data": {
      "text/plain": [
       "\u001b[0;31mDocstring:\u001b[0m\n",
       "chisquare(df, size=None)\n",
       "\n",
       "Draw samples from a chi-square distribution.\n",
       "\n",
       "When `df` independent random variables, each with standard normal\n",
       "distributions (mean 0, variance 1), are squared and summed, the\n",
       "resulting distribution is chi-square (see Notes).  This distribution\n",
       "is often used in hypothesis testing.\n",
       "\n",
       ".. note::\n",
       "    New code should use the ``chisquare`` method of a ``default_rng()``\n",
       "    instance instead; please see the :ref:`random-quick-start`.\n",
       "\n",
       "Parameters\n",
       "----------\n",
       "df : float or array_like of floats\n",
       "     Number of degrees of freedom, must be > 0.\n",
       "size : int or tuple of ints, optional\n",
       "    Output shape.  If the given shape is, e.g., ``(m, n, k)``, then\n",
       "    ``m * n * k`` samples are drawn.  If size is ``None`` (default),\n",
       "    a single value is returned if ``df`` is a scalar.  Otherwise,\n",
       "    ``np.array(df).size`` samples are drawn.\n",
       "\n",
       "Returns\n",
       "-------\n",
       "out : ndarray or scalar\n",
       "    Drawn samples from the parameterized chi-square distribution.\n",
       "\n",
       "Raises\n",
       "------\n",
       "ValueError\n",
       "    When `df` <= 0 or when an inappropriate `size` (e.g. ``size=-1``)\n",
       "    is given.\n",
       "\n",
       "See Also\n",
       "--------\n",
       "Generator.chisquare: which should be used for new code.\n",
       "\n",
       "Notes\n",
       "-----\n",
       "The variable obtained by summing the squares of `df` independent,\n",
       "standard normally distributed random variables:\n",
       "\n",
       ".. math:: Q = \\sum_{i=0}^{\\mathtt{df}} X^2_i\n",
       "\n",
       "is chi-square distributed, denoted\n",
       "\n",
       ".. math:: Q \\sim \\chi^2_k.\n",
       "\n",
       "The probability density function of the chi-squared distribution is\n",
       "\n",
       ".. math:: p(x) = \\frac{(1/2)^{k/2}}{\\Gamma(k/2)}\n",
       "                 x^{k/2 - 1} e^{-x/2},\n",
       "\n",
       "where :math:`\\Gamma` is the gamma function,\n",
       "\n",
       ".. math:: \\Gamma(x) = \\int_0^{-\\infty} t^{x - 1} e^{-t} dt.\n",
       "\n",
       "References\n",
       "----------\n",
       ".. [1] NIST \"Engineering Statistics Handbook\"\n",
       "       https://www.itl.nist.gov/div898/handbook/eda/section3/eda3666.htm\n",
       "\n",
       "Examples\n",
       "--------\n",
       ">>> np.random.chisquare(2,4)\n",
       "array([ 1.89920014,  9.00867716,  3.13710533,  5.62318272]) # random\n",
       "\u001b[0;31mType:\u001b[0m      builtin_function_or_method\n"
      ]
     },
     "metadata": {},
     "output_type": "display_data"
    }
   ],
   "source": [
    "np.random.chisquare?"
   ]
  }
 ],
 "metadata": {
  "kernelspec": {
   "display_name": "Python 3.8 (XPython)",
   "language": "python",
   "name": "xpython"
  },
  "language_info": {
   "file_extension": ".py",
   "mimetype": "text/x-python",
   "name": "python",
   "version": "3.8.10"
  }
 },
 "nbformat": 4,
 "nbformat_minor": 4
}
