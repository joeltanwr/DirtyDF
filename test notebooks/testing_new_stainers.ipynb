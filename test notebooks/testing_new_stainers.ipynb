{
 "cells": [
  {
   "cell_type": "markdown",
   "metadata": {},
   "source": [
    "## Read in data"
   ]
  },
  {
   "cell_type": "code",
   "execution_count": 1,
   "metadata": {},
   "outputs": [],
   "source": [
    "import pandas as pd\n",
    "import numpy as np"
   ]
  },
  {
   "cell_type": "code",
   "execution_count": 2,
   "metadata": {},
   "outputs": [],
   "source": [
    "oo = pd.read_csv('../data/online_retail_small.csv')"
   ]
  },
  {
   "cell_type": "code",
   "execution_count": 3,
   "metadata": {},
   "outputs": [],
   "source": [
    "d1 = oo.sample(n=4)"
   ]
  },
  {
   "cell_type": "code",
   "execution_count": 4,
   "metadata": {},
   "outputs": [],
   "source": [
    "d2 = oo.sample(n=4)"
   ]
  },
  {
   "cell_type": "markdown",
   "metadata": {},
   "source": [
    "## Testing column splitter"
   ]
  },
  {
   "cell_type": "code",
   "execution_count": 34,
   "metadata": {},
   "outputs": [],
   "source": [
    "d2 = oo.sample(n=4)"
   ]
  },
  {
   "cell_type": "code",
   "execution_count": 39,
   "metadata": {},
   "outputs": [
    {
     "data": {
      "text/html": [
       "<div>\n",
       "<style scoped>\n",
       "    .dataframe tbody tr th:only-of-type {\n",
       "        vertical-align: middle;\n",
       "    }\n",
       "\n",
       "    .dataframe tbody tr th {\n",
       "        vertical-align: top;\n",
       "    }\n",
       "\n",
       "    .dataframe thead th {\n",
       "        text-align: right;\n",
       "    }\n",
       "</style>\n",
       "<table border=\"1\" class=\"dataframe\">\n",
       "  <thead>\n",
       "    <tr style=\"text-align: right;\">\n",
       "      <th></th>\n",
       "      <th>InvoiceNo</th>\n",
       "      <th>StockCode</th>\n",
       "      <th>Description</th>\n",
       "      <th>Quantity</th>\n",
       "      <th>InvoiceDate</th>\n",
       "      <th>UnitPrice</th>\n",
       "      <th>CustomerID</th>\n",
       "      <th>Country</th>\n",
       "    </tr>\n",
       "  </thead>\n",
       "  <tbody>\n",
       "    <tr>\n",
       "      <th>4382</th>\n",
       "      <td>536771</td>\n",
       "      <td>22966</td>\n",
       "      <td>GINGERBREAD MAN COOKIE CUTTER</td>\n",
       "      <td>12</td>\n",
       "      <td>2/12/2010 14:49</td>\n",
       "      <td>1.25</td>\n",
       "      <td>17581.0</td>\n",
       "      <td>United Kingdom</td>\n",
       "    </tr>\n",
       "    <tr>\n",
       "      <th>2613</th>\n",
       "      <td>536592</td>\n",
       "      <td>21899</td>\n",
       "      <td>KEY FOB , GARAGE DESIGN</td>\n",
       "      <td>1</td>\n",
       "      <td>1/12/2010 17:06</td>\n",
       "      <td>1.66</td>\n",
       "      <td>NaN</td>\n",
       "      <td>United Kingdom</td>\n",
       "    </tr>\n",
       "    <tr>\n",
       "      <th>1210</th>\n",
       "      <td>536530</td>\n",
       "      <td>21664</td>\n",
       "      <td>RIDGED GLASS STORAGE JAR CREAM LID</td>\n",
       "      <td>2</td>\n",
       "      <td>1/12/2010 13:21</td>\n",
       "      <td>3.75</td>\n",
       "      <td>17905.0</td>\n",
       "      <td>United Kingdom</td>\n",
       "    </tr>\n",
       "    <tr>\n",
       "      <th>2427</th>\n",
       "      <td>536591</td>\n",
       "      <td>22386</td>\n",
       "      <td>JUMBO BAG PINK POLKADOT</td>\n",
       "      <td>1</td>\n",
       "      <td>1/12/2010 16:57</td>\n",
       "      <td>1.95</td>\n",
       "      <td>14606.0</td>\n",
       "      <td>United Kingdom</td>\n",
       "    </tr>\n",
       "  </tbody>\n",
       "</table>\n",
       "</div>"
      ],
      "text/plain": [
       "     InvoiceNo StockCode                         Description  Quantity  \\\n",
       "4382    536771     22966       GINGERBREAD MAN COOKIE CUTTER        12   \n",
       "2613    536592     21899             KEY FOB , GARAGE DESIGN         1   \n",
       "1210    536530     21664  RIDGED GLASS STORAGE JAR CREAM LID         2   \n",
       "2427    536591     22386             JUMBO BAG PINK POLKADOT         1   \n",
       "\n",
       "          InvoiceDate  UnitPrice  CustomerID         Country  \n",
       "4382  2/12/2010 14:49       1.25     17581.0  United Kingdom  \n",
       "2613  1/12/2010 17:06       1.66         NaN  United Kingdom  \n",
       "1210  1/12/2010 13:21       3.75     17905.0  United Kingdom  \n",
       "2427  1/12/2010 16:57       1.95     14606.0  United Kingdom  "
      ]
     },
     "execution_count": 39,
     "metadata": {},
     "output_type": "execute_result"
    }
   ],
   "source": [
    "d2"
   ]
  },
  {
   "cell_type": "code",
   "execution_count": 15,
   "metadata": {},
   "outputs": [
    {
     "data": {
      "text/plain": [
       "Index(['InvoiceNo', 'StockCode', 'Description', 'Quantity', 'InvoiceDate',\n",
       "       'UnitPrice', 'CustomerID', 'Country'],\n",
       "      dtype='object')"
      ]
     },
     "execution_count": 15,
     "metadata": {},
     "output_type": "execute_result"
    }
   ],
   "source": [
    "d2.columns"
   ]
  },
  {
   "cell_type": "code",
   "execution_count": 68,
   "metadata": {},
   "outputs": [],
   "source": [
    "def column_splitter(df, col_name):\n",
    "    org_col_index = df.columns\n",
    "    split_id = np.argwhere(org_col_index == col_name).reshape(1)[0]\n",
    "    \n",
    "    # split the original df into three sections: \n",
    "    # to_keep, col_to_split and cols_to_join_back\n",
    "    to_keep = df.iloc[:, :split_id].copy(deep=True)\n",
    "    to_split = df[[col_name]].copy(deep=True)\n",
    "    to_join = df.iloc[:, (split_id+1):].copy(deep=True)\n",
    "    cols_to_add = np.hstack((org_col_index[(split_id+1):], ''))\n",
    "    \n",
    "    #split the column:\n",
    "    to_split = to_split[col_name].str.split(\"(?=,)\",n=1, expand=True)\n",
    "    to_split.columns = [col_name, cols_to_add[0]]\n",
    "    \n",
    "    # join the split column back first\n",
    "    #to_keep = pd.concat([to_keep, to_split], axis=1)\n",
    "    to_keep = to_keep.join(to_split)\n",
    "    \n",
    "    return to_keep"
   ]
  },
  {
   "cell_type": "code",
   "execution_count": 69,
   "metadata": {},
   "outputs": [
    {
     "data": {
      "text/html": [
       "<div>\n",
       "<style scoped>\n",
       "    .dataframe tbody tr th:only-of-type {\n",
       "        vertical-align: middle;\n",
       "    }\n",
       "\n",
       "    .dataframe tbody tr th {\n",
       "        vertical-align: top;\n",
       "    }\n",
       "\n",
       "    .dataframe thead th {\n",
       "        text-align: right;\n",
       "    }\n",
       "</style>\n",
       "<table border=\"1\" class=\"dataframe\">\n",
       "  <thead>\n",
       "    <tr style=\"text-align: right;\">\n",
       "      <th></th>\n",
       "      <th>InvoiceNo</th>\n",
       "      <th>StockCode</th>\n",
       "      <th>Description</th>\n",
       "      <th>Quantity</th>\n",
       "    </tr>\n",
       "  </thead>\n",
       "  <tbody>\n",
       "    <tr>\n",
       "      <th>4382</th>\n",
       "      <td>536771</td>\n",
       "      <td>22966</td>\n",
       "      <td>GINGERBREAD MAN COOKIE CUTTER</td>\n",
       "      <td>None</td>\n",
       "    </tr>\n",
       "    <tr>\n",
       "      <th>2613</th>\n",
       "      <td>536592</td>\n",
       "      <td>21899</td>\n",
       "      <td>KEY FOB</td>\n",
       "      <td>, GARAGE DESIGN</td>\n",
       "    </tr>\n",
       "    <tr>\n",
       "      <th>1210</th>\n",
       "      <td>536530</td>\n",
       "      <td>21664</td>\n",
       "      <td>RIDGED GLASS STORAGE JAR CREAM LID</td>\n",
       "      <td>None</td>\n",
       "    </tr>\n",
       "    <tr>\n",
       "      <th>2427</th>\n",
       "      <td>536591</td>\n",
       "      <td>22386</td>\n",
       "      <td>JUMBO BAG PINK POLKADOT</td>\n",
       "      <td>None</td>\n",
       "    </tr>\n",
       "  </tbody>\n",
       "</table>\n",
       "</div>"
      ],
      "text/plain": [
       "     InvoiceNo StockCode                         Description         Quantity\n",
       "4382    536771     22966       GINGERBREAD MAN COOKIE CUTTER             None\n",
       "2613    536592     21899                            KEY FOB   , GARAGE DESIGN\n",
       "1210    536530     21664  RIDGED GLASS STORAGE JAR CREAM LID             None\n",
       "2427    536591     22386             JUMBO BAG PINK POLKADOT             None"
      ]
     },
     "execution_count": 69,
     "metadata": {},
     "output_type": "execute_result"
    }
   ],
   "source": [
    "column_splitter(d2, 'Description')"
   ]
  },
  {
   "cell_type": "code",
   "execution_count": 65,
   "metadata": {},
   "outputs": [
    {
     "data": {
      "text/plain": [
       "\u001b[0;31mSignature:\u001b[0m\n",
       "\u001b[0mpd\u001b[0m\u001b[0;34m.\u001b[0m\u001b[0mDataFrame\u001b[0m\u001b[0;34m.\u001b[0m\u001b[0mjoin\u001b[0m\u001b[0;34m(\u001b[0m\u001b[0;34m\u001b[0m\n",
       "\u001b[0;34m\u001b[0m    \u001b[0mself\u001b[0m\u001b[0;34m,\u001b[0m\u001b[0;34m\u001b[0m\n",
       "\u001b[0;34m\u001b[0m    \u001b[0mother\u001b[0m\u001b[0;34m,\u001b[0m\u001b[0;34m\u001b[0m\n",
       "\u001b[0;34m\u001b[0m    \u001b[0mon\u001b[0m\u001b[0;34m=\u001b[0m\u001b[0;32mNone\u001b[0m\u001b[0;34m,\u001b[0m\u001b[0;34m\u001b[0m\n",
       "\u001b[0;34m\u001b[0m    \u001b[0mhow\u001b[0m\u001b[0;34m=\u001b[0m\u001b[0;34m'left'\u001b[0m\u001b[0;34m,\u001b[0m\u001b[0;34m\u001b[0m\n",
       "\u001b[0;34m\u001b[0m    \u001b[0mlsuffix\u001b[0m\u001b[0;34m=\u001b[0m\u001b[0;34m''\u001b[0m\u001b[0;34m,\u001b[0m\u001b[0;34m\u001b[0m\n",
       "\u001b[0;34m\u001b[0m    \u001b[0mrsuffix\u001b[0m\u001b[0;34m=\u001b[0m\u001b[0;34m''\u001b[0m\u001b[0;34m,\u001b[0m\u001b[0;34m\u001b[0m\n",
       "\u001b[0;34m\u001b[0m    \u001b[0msort\u001b[0m\u001b[0;34m=\u001b[0m\u001b[0;32mFalse\u001b[0m\u001b[0;34m,\u001b[0m\u001b[0;34m\u001b[0m\n",
       "\u001b[0;34m\u001b[0m\u001b[0;34m)\u001b[0m \u001b[0;34m->\u001b[0m \u001b[0;34m'DataFrame'\u001b[0m\u001b[0;34m\u001b[0m\u001b[0;34m\u001b[0m\u001b[0m\n",
       "\u001b[0;31mDocstring:\u001b[0m\n",
       "Join columns of another DataFrame.\n",
       "\n",
       "Join columns with `other` DataFrame either on index or on a key\n",
       "column. Efficiently join multiple DataFrame objects by index at once by\n",
       "passing a list.\n",
       "\n",
       "Parameters\n",
       "----------\n",
       "other : DataFrame, Series, or list of DataFrame\n",
       "    Index should be similar to one of the columns in this one. If a\n",
       "    Series is passed, its name attribute must be set, and that will be\n",
       "    used as the column name in the resulting joined DataFrame.\n",
       "on : str, list of str, or array-like, optional\n",
       "    Column or index level name(s) in the caller to join on the index\n",
       "    in `other`, otherwise joins index-on-index. If multiple\n",
       "    values given, the `other` DataFrame must have a MultiIndex. Can\n",
       "    pass an array as the join key if it is not already contained in\n",
       "    the calling DataFrame. Like an Excel VLOOKUP operation.\n",
       "how : {'left', 'right', 'outer', 'inner'}, default 'left'\n",
       "    How to handle the operation of the two objects.\n",
       "\n",
       "    * left: use calling frame's index (or column if on is specified)\n",
       "    * right: use `other`'s index.\n",
       "    * outer: form union of calling frame's index (or column if on is\n",
       "      specified) with `other`'s index, and sort it.\n",
       "      lexicographically.\n",
       "    * inner: form intersection of calling frame's index (or column if\n",
       "      on is specified) with `other`'s index, preserving the order\n",
       "      of the calling's one.\n",
       "lsuffix : str, default ''\n",
       "    Suffix to use from left frame's overlapping columns.\n",
       "rsuffix : str, default ''\n",
       "    Suffix to use from right frame's overlapping columns.\n",
       "sort : bool, default False\n",
       "    Order result DataFrame lexicographically by the join key. If False,\n",
       "    the order of the join key depends on the join type (how keyword).\n",
       "\n",
       "Returns\n",
       "-------\n",
       "DataFrame\n",
       "    A dataframe containing columns from both the caller and `other`.\n",
       "\n",
       "See Also\n",
       "--------\n",
       "DataFrame.merge : For column(s)-on-column(s) operations.\n",
       "\n",
       "Notes\n",
       "-----\n",
       "Parameters `on`, `lsuffix`, and `rsuffix` are not supported when\n",
       "passing a list of `DataFrame` objects.\n",
       "\n",
       "Support for specifying index levels as the `on` parameter was added\n",
       "in version 0.23.0.\n",
       "\n",
       "Examples\n",
       "--------\n",
       ">>> df = pd.DataFrame({'key': ['K0', 'K1', 'K2', 'K3', 'K4', 'K5'],\n",
       "...                    'A': ['A0', 'A1', 'A2', 'A3', 'A4', 'A5']})\n",
       "\n",
       ">>> df\n",
       "  key   A\n",
       "0  K0  A0\n",
       "1  K1  A1\n",
       "2  K2  A2\n",
       "3  K3  A3\n",
       "4  K4  A4\n",
       "5  K5  A5\n",
       "\n",
       ">>> other = pd.DataFrame({'key': ['K0', 'K1', 'K2'],\n",
       "...                       'B': ['B0', 'B1', 'B2']})\n",
       "\n",
       ">>> other\n",
       "  key   B\n",
       "0  K0  B0\n",
       "1  K1  B1\n",
       "2  K2  B2\n",
       "\n",
       "Join DataFrames using their indexes.\n",
       "\n",
       ">>> df.join(other, lsuffix='_caller', rsuffix='_other')\n",
       "  key_caller   A key_other    B\n",
       "0         K0  A0        K0   B0\n",
       "1         K1  A1        K1   B1\n",
       "2         K2  A2        K2   B2\n",
       "3         K3  A3       NaN  NaN\n",
       "4         K4  A4       NaN  NaN\n",
       "5         K5  A5       NaN  NaN\n",
       "\n",
       "If we want to join using the key columns, we need to set key to be\n",
       "the index in both `df` and `other`. The joined DataFrame will have\n",
       "key as its index.\n",
       "\n",
       ">>> df.set_index('key').join(other.set_index('key'))\n",
       "      A    B\n",
       "key\n",
       "K0   A0   B0\n",
       "K1   A1   B1\n",
       "K2   A2   B2\n",
       "K3   A3  NaN\n",
       "K4   A4  NaN\n",
       "K5   A5  NaN\n",
       "\n",
       "Another option to join using the key columns is to use the `on`\n",
       "parameter. DataFrame.join always uses `other`'s index but we can use\n",
       "any column in `df`. This method preserves the original DataFrame's\n",
       "index in the result.\n",
       "\n",
       ">>> df.join(other.set_index('key'), on='key')\n",
       "  key   A    B\n",
       "0  K0  A0   B0\n",
       "1  K1  A1   B1\n",
       "2  K2  A2   B2\n",
       "3  K3  A3  NaN\n",
       "4  K4  A4  NaN\n",
       "5  K5  A5  NaN\n",
       "\u001b[0;31mFile:\u001b[0m      ~/NUS/coursesTaught/ind5003/lib/python3.8/site-packages/pandas/core/frame.py\n",
       "\u001b[0;31mType:\u001b[0m      function\n"
      ]
     },
     "metadata": {},
     "output_type": "display_data"
    }
   ],
   "source": [
    "pd.DataFrame.join?"
   ]
  },
  {
   "cell_type": "code",
   "execution_count": 30,
   "metadata": {},
   "outputs": [],
   "source": [
    "id = pd.Series([True, False, False, True])"
   ]
  },
  {
   "cell_type": "code",
   "execution_count": 31,
   "metadata": {},
   "outputs": [],
   "source": [
    "id.index = qty_series.index"
   ]
  },
  {
   "cell_type": "code",
   "execution_count": 32,
   "metadata": {},
   "outputs": [],
   "source": [
    "qty_series[id] = d2.Description[id]"
   ]
  },
  {
   "cell_type": "code",
   "execution_count": 33,
   "metadata": {},
   "outputs": [
    {
     "data": {
      "text/plain": [
       "3159    FULL ENGLISH BREAKFAST PLATE\n",
       "3348                            12.0\n",
       "4596                             2.0\n",
       "4405     ZINC METAL HEART DECORATION\n",
       "Name: Quantity, dtype: object"
      ]
     },
     "execution_count": 33,
     "metadata": {},
     "output_type": "execute_result"
    }
   ],
   "source": [
    "qty_series"
   ]
  },
  {
   "cell_type": "code",
   "execution_count": 24,
   "metadata": {},
   "outputs": [],
   "source": [
    "d2a = d2.Description.str.split('-',n=1, expand=True)"
   ]
  },
  {
   "cell_type": "code",
   "execution_count": 25,
   "metadata": {},
   "outputs": [
    {
     "data": {
      "text/html": [
       "<div>\n",
       "<style scoped>\n",
       "    .dataframe tbody tr th:only-of-type {\n",
       "        vertical-align: middle;\n",
       "    }\n",
       "\n",
       "    .dataframe tbody tr th {\n",
       "        vertical-align: top;\n",
       "    }\n",
       "\n",
       "    .dataframe thead th {\n",
       "        text-align: right;\n",
       "    }\n",
       "</style>\n",
       "<table border=\"1\" class=\"dataframe\">\n",
       "  <thead>\n",
       "    <tr style=\"text-align: right;\">\n",
       "      <th></th>\n",
       "      <th>1</th>\n",
       "    </tr>\n",
       "  </thead>\n",
       "  <tbody>\n",
       "    <tr>\n",
       "      <th>4608</th>\n",
       "      <td>None</td>\n",
       "    </tr>\n",
       "    <tr>\n",
       "      <th>1675</th>\n",
       "      <td>None</td>\n",
       "    </tr>\n",
       "    <tr>\n",
       "      <th>4451</th>\n",
       "      <td>None</td>\n",
       "    </tr>\n",
       "    <tr>\n",
       "      <th>1762</th>\n",
       "      <td>LIGHT HLDR</td>\n",
       "    </tr>\n",
       "  </tbody>\n",
       "</table>\n",
       "</div>"
      ],
      "text/plain": [
       "               1\n",
       "4608        None\n",
       "1675        None\n",
       "4451        None\n",
       "1762  LIGHT HLDR"
      ]
     },
     "execution_count": 25,
     "metadata": {},
     "output_type": "execute_result"
    }
   ],
   "source": [
    "d2a[[1]]"
   ]
  },
  {
   "cell_type": "code",
   "execution_count": 26,
   "metadata": {},
   "outputs": [
    {
     "data": {
      "text/html": [
       "<div>\n",
       "<style scoped>\n",
       "    .dataframe tbody tr th:only-of-type {\n",
       "        vertical-align: middle;\n",
       "    }\n",
       "\n",
       "    .dataframe tbody tr th {\n",
       "        vertical-align: top;\n",
       "    }\n",
       "\n",
       "    .dataframe thead th {\n",
       "        text-align: right;\n",
       "    }\n",
       "</style>\n",
       "<table border=\"1\" class=\"dataframe\">\n",
       "  <thead>\n",
       "    <tr style=\"text-align: right;\">\n",
       "      <th></th>\n",
       "      <th>Quantity</th>\n",
       "    </tr>\n",
       "  </thead>\n",
       "  <tbody>\n",
       "    <tr>\n",
       "      <th>4608</th>\n",
       "      <td>1</td>\n",
       "    </tr>\n",
       "    <tr>\n",
       "      <th>1675</th>\n",
       "      <td>1</td>\n",
       "    </tr>\n",
       "    <tr>\n",
       "      <th>4451</th>\n",
       "      <td>108</td>\n",
       "    </tr>\n",
       "    <tr>\n",
       "      <th>1762</th>\n",
       "      <td>4</td>\n",
       "    </tr>\n",
       "  </tbody>\n",
       "</table>\n",
       "</div>"
      ],
      "text/plain": [
       "      Quantity\n",
       "4608         1\n",
       "1675         1\n",
       "4451       108\n",
       "1762         4"
      ]
     },
     "execution_count": 26,
     "metadata": {},
     "output_type": "execute_result"
    }
   ],
   "source": [
    "d2[[\"Quantity\"]]"
   ]
  },
  {
   "cell_type": "code",
   "execution_count": 28,
   "metadata": {},
   "outputs": [
    {
     "data": {
      "text/plain": [
       "\u001b[0;31mSignature:\u001b[0m \u001b[0md2\u001b[0m\u001b[0;34m.\u001b[0m\u001b[0mcombine_first\u001b[0m\u001b[0;34m(\u001b[0m\u001b[0mother\u001b[0m\u001b[0;34m:\u001b[0m \u001b[0;34m'DataFrame'\u001b[0m\u001b[0;34m)\u001b[0m \u001b[0;34m->\u001b[0m \u001b[0;34m'DataFrame'\u001b[0m\u001b[0;34m\u001b[0m\u001b[0;34m\u001b[0m\u001b[0m\n",
       "\u001b[0;31mDocstring:\u001b[0m\n",
       "Update null elements with value in the same location in `other`.\n",
       "\n",
       "Combine two DataFrame objects by filling null values in one DataFrame\n",
       "with non-null values from other DataFrame. The row and column indexes\n",
       "of the resulting DataFrame will be the union of the two.\n",
       "\n",
       "Parameters\n",
       "----------\n",
       "other : DataFrame\n",
       "    Provided DataFrame to use to fill null values.\n",
       "\n",
       "Returns\n",
       "-------\n",
       "DataFrame\n",
       "\n",
       "See Also\n",
       "--------\n",
       "DataFrame.combine : Perform series-wise operation on two DataFrames\n",
       "    using a given function.\n",
       "\n",
       "Examples\n",
       "--------\n",
       ">>> df1 = pd.DataFrame({'A': [None, 0], 'B': [None, 4]})\n",
       ">>> df2 = pd.DataFrame({'A': [1, 1], 'B': [3, 3]})\n",
       ">>> df1.combine_first(df2)\n",
       "     A    B\n",
       "0  1.0  3.0\n",
       "1  0.0  4.0\n",
       "\n",
       "Null values still persist if the location of that null value\n",
       "does not exist in `other`\n",
       "\n",
       ">>> df1 = pd.DataFrame({'A': [None, 0], 'B': [4, None]})\n",
       ">>> df2 = pd.DataFrame({'B': [3, 3], 'C': [1, 1]}, index=[1, 2])\n",
       ">>> df1.combine_first(df2)\n",
       "     A    B    C\n",
       "0  NaN  4.0  NaN\n",
       "1  0.0  3.0  1.0\n",
       "2  NaN  3.0  1.0\n",
       "\u001b[0;31mFile:\u001b[0m      ~/NUS/coursesTaught/ind5003/lib/python3.8/site-packages/pandas/core/frame.py\n",
       "\u001b[0;31mType:\u001b[0m      method\n"
      ]
     },
     "metadata": {},
     "output_type": "display_data"
    }
   ],
   "source": [
    "d2.combine_first?"
   ]
  },
  {
   "cell_type": "code",
   "execution_count": 27,
   "metadata": {},
   "outputs": [
    {
     "data": {
      "text/html": [
       "<div>\n",
       "<style scoped>\n",
       "    .dataframe tbody tr th:only-of-type {\n",
       "        vertical-align: middle;\n",
       "    }\n",
       "\n",
       "    .dataframe tbody tr th {\n",
       "        vertical-align: top;\n",
       "    }\n",
       "\n",
       "    .dataframe thead th {\n",
       "        text-align: right;\n",
       "    }\n",
       "</style>\n",
       "<table border=\"1\" class=\"dataframe\">\n",
       "  <thead>\n",
       "    <tr style=\"text-align: right;\">\n",
       "      <th></th>\n",
       "      <th>1</th>\n",
       "      <th>Quantity</th>\n",
       "    </tr>\n",
       "  </thead>\n",
       "  <tbody>\n",
       "    <tr>\n",
       "      <th>4608</th>\n",
       "      <td>None</td>\n",
       "      <td>1</td>\n",
       "    </tr>\n",
       "    <tr>\n",
       "      <th>1675</th>\n",
       "      <td>None</td>\n",
       "      <td>1</td>\n",
       "    </tr>\n",
       "    <tr>\n",
       "      <th>4451</th>\n",
       "      <td>None</td>\n",
       "      <td>108</td>\n",
       "    </tr>\n",
       "    <tr>\n",
       "      <th>1762</th>\n",
       "      <td>LIGHT HLDR</td>\n",
       "      <td>4</td>\n",
       "    </tr>\n",
       "  </tbody>\n",
       "</table>\n",
       "</div>"
      ],
      "text/plain": [
       "               1  Quantity\n",
       "4608        None         1\n",
       "1675        None         1\n",
       "4451        None       108\n",
       "1762  LIGHT HLDR         4"
      ]
     },
     "execution_count": 27,
     "metadata": {},
     "output_type": "execute_result"
    }
   ],
   "source": [
    "pd.concat([d2a[[1]],d2[[\"Quantity\"]]], axis=1)"
   ]
  },
  {
   "cell_type": "code",
   "execution_count": 65,
   "metadata": {},
   "outputs": [
    {
     "data": {
      "text/plain": [
       "12"
      ]
     },
     "execution_count": 65,
     "metadata": {},
     "output_type": "execute_result"
    }
   ],
   "source": [
    "oo.Description.str.contains(\"[^\\w\\s]\", regex=True).isna().sum()"
   ]
  },
  {
   "cell_type": "code",
   "execution_count": 68,
   "metadata": {},
   "outputs": [],
   "source": [
    "oo2 = oo[~oo.Description.isna()]"
   ]
  },
  {
   "cell_type": "code",
   "execution_count": 73,
   "metadata": {},
   "outputs": [],
   "source": [
    "tmp = oo2[oo2.Description.str.contains(\"[^\\w\\s]\", regex=True)].Description"
   ]
  },
  {
   "cell_type": "code",
   "execution_count": 77,
   "metadata": {},
   "outputs": [
    {
     "data": {
      "text/html": [
       "<div>\n",
       "<style scoped>\n",
       "    .dataframe tbody tr th:only-of-type {\n",
       "        vertical-align: middle;\n",
       "    }\n",
       "\n",
       "    .dataframe tbody tr th {\n",
       "        vertical-align: top;\n",
       "    }\n",
       "\n",
       "    .dataframe thead th {\n",
       "        text-align: right;\n",
       "    }\n",
       "</style>\n",
       "<table border=\"1\" class=\"dataframe\">\n",
       "  <thead>\n",
       "    <tr style=\"text-align: right;\">\n",
       "      <th></th>\n",
       "      <th>0</th>\n",
       "      <th>1</th>\n",
       "    </tr>\n",
       "  </thead>\n",
       "  <tbody>\n",
       "    <tr>\n",
       "      <th>0</th>\n",
       "      <td>WHITE HANGING HEART T</td>\n",
       "      <td>-LIGHT HOLDER</td>\n",
       "    </tr>\n",
       "    <tr>\n",
       "      <th>4</th>\n",
       "      <td>RED WOOLLY HOTTIE WHITE HEART.</td>\n",
       "      <td>None</td>\n",
       "    </tr>\n",
       "    <tr>\n",
       "      <th>6</th>\n",
       "      <td>GLASS STAR FROSTED T</td>\n",
       "      <td>-LIGHT HOLDER</td>\n",
       "    </tr>\n",
       "    <tr>\n",
       "      <th>10</th>\n",
       "      <td>POPPY'S PLAYHOUSE BEDROOM</td>\n",
       "      <td>None</td>\n",
       "    </tr>\n",
       "    <tr>\n",
       "      <th>11</th>\n",
       "      <td>POPPY'S PLAYHOUSE KITCHEN</td>\n",
       "      <td>None</td>\n",
       "    </tr>\n",
       "    <tr>\n",
       "      <th>...</th>\n",
       "      <td>...</td>\n",
       "      <td>...</td>\n",
       "    </tr>\n",
       "    <tr>\n",
       "      <th>4969</th>\n",
       "      <td>SET OF 6 T</td>\n",
       "      <td>-LIGHTS SNOWMEN</td>\n",
       "    </tr>\n",
       "    <tr>\n",
       "      <th>4982</th>\n",
       "      <td>DINOSAUR PARTY BAG + STICKER SET</td>\n",
       "      <td>None</td>\n",
       "    </tr>\n",
       "    <tr>\n",
       "      <th>4986</th>\n",
       "      <td>EUCALYPTUS &amp; PINECONE  WREATH</td>\n",
       "      <td>None</td>\n",
       "    </tr>\n",
       "    <tr>\n",
       "      <th>4988</th>\n",
       "      <td>SWISS ROLL TOWEL, CHOCOLATE  SPOTS</td>\n",
       "      <td>None</td>\n",
       "    </tr>\n",
       "    <tr>\n",
       "      <th>4993</th>\n",
       "      <td>CERAMIC CAKE STAND + HANGING CAKES</td>\n",
       "      <td>None</td>\n",
       "    </tr>\n",
       "  </tbody>\n",
       "</table>\n",
       "<p>667 rows × 2 columns</p>\n",
       "</div>"
      ],
      "text/plain": [
       "                                       0                1\n",
       "0                  WHITE HANGING HEART T    -LIGHT HOLDER\n",
       "4         RED WOOLLY HOTTIE WHITE HEART.             None\n",
       "6                   GLASS STAR FROSTED T    -LIGHT HOLDER\n",
       "10            POPPY'S PLAYHOUSE BEDROOM              None\n",
       "11             POPPY'S PLAYHOUSE KITCHEN             None\n",
       "...                                  ...              ...\n",
       "4969                          SET OF 6 T  -LIGHTS SNOWMEN\n",
       "4982    DINOSAUR PARTY BAG + STICKER SET             None\n",
       "4986       EUCALYPTUS & PINECONE  WREATH             None\n",
       "4988  SWISS ROLL TOWEL, CHOCOLATE  SPOTS             None\n",
       "4993  CERAMIC CAKE STAND + HANGING CAKES             None\n",
       "\n",
       "[667 rows x 2 columns]"
      ]
     },
     "execution_count": 77,
     "metadata": {},
     "output_type": "execute_result"
    }
   ],
   "source": [
    "tmp.str.split(\"(?=-)\",n=1, expand=True)"
   ]
  },
  {
   "cell_type": "code",
   "execution_count": null,
   "metadata": {},
   "outputs": [],
   "source": []
  }
 ],
 "metadata": {
  "kernelspec": {
   "display_name": "Python 3",
   "language": "python",
   "name": "python3"
  },
  "language_info": {
   "codemirror_mode": {
    "name": "ipython",
    "version": 3
   },
   "file_extension": ".py",
   "mimetype": "text/x-python",
   "name": "python",
   "nbconvert_exporter": "python",
   "pygments_lexer": "ipython3",
   "version": "3.8.6"
  }
 },
 "nbformat": 4,
 "nbformat_minor": 4
}
