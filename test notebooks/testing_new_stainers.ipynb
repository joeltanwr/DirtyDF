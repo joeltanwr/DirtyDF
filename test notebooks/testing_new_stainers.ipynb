{
 "cells": [
  {
   "cell_type": "markdown",
   "metadata": {},
   "source": [
    "## Read in data"
   ]
  },
  {
   "cell_type": "code",
   "execution_count": 1,
   "metadata": {},
   "outputs": [],
   "source": [
    "import pandas as pd\n",
    "import numpy as np"
   ]
  },
  {
   "cell_type": "code",
   "execution_count": 2,
   "metadata": {},
   "outputs": [],
   "source": [
    "oo = pd.read_csv('../data/online_retail_small.csv')"
   ]
  },
  {
   "cell_type": "code",
   "execution_count": 3,
   "metadata": {},
   "outputs": [],
   "source": [
    "d1 = oo.sample(n=4)"
   ]
  },
  {
   "cell_type": "code",
   "execution_count": 4,
   "metadata": {},
   "outputs": [],
   "source": [
    "d2 = oo.sample(n=4)"
   ]
  },
  {
   "cell_type": "markdown",
   "metadata": {},
   "source": [
    "## Testing column splitter"
   ]
  },
  {
   "cell_type": "code",
   "execution_count": 8,
   "metadata": {},
   "outputs": [],
   "source": [
    "d2 = oo.sample(n=4)"
   ]
  },
  {
   "cell_type": "code",
   "execution_count": 9,
   "metadata": {},
   "outputs": [
    {
     "data": {
      "text/html": [
       "<div>\n",
       "<style scoped>\n",
       "    .dataframe tbody tr th:only-of-type {\n",
       "        vertical-align: middle;\n",
       "    }\n",
       "\n",
       "    .dataframe tbody tr th {\n",
       "        vertical-align: top;\n",
       "    }\n",
       "\n",
       "    .dataframe thead th {\n",
       "        text-align: right;\n",
       "    }\n",
       "</style>\n",
       "<table border=\"1\" class=\"dataframe\">\n",
       "  <thead>\n",
       "    <tr style=\"text-align: right;\">\n",
       "      <th></th>\n",
       "      <th>InvoiceNo</th>\n",
       "      <th>StockCode</th>\n",
       "      <th>Description</th>\n",
       "      <th>Quantity</th>\n",
       "      <th>InvoiceDate</th>\n",
       "      <th>UnitPrice</th>\n",
       "      <th>CustomerID</th>\n",
       "      <th>Country</th>\n",
       "    </tr>\n",
       "  </thead>\n",
       "  <tbody>\n",
       "    <tr>\n",
       "      <th>3207</th>\n",
       "      <td>536609</td>\n",
       "      <td>21730</td>\n",
       "      <td>GLASS STAR FROSTED T-LIGHT HOLDER</td>\n",
       "      <td>6</td>\n",
       "      <td>2/12/2010 9:41</td>\n",
       "      <td>4.25</td>\n",
       "      <td>17850.0</td>\n",
       "      <td>United Kingdom</td>\n",
       "    </tr>\n",
       "    <tr>\n",
       "      <th>1648</th>\n",
       "      <td>536544</td>\n",
       "      <td>22728</td>\n",
       "      <td>ALARM CLOCK BAKELIKE PINK</td>\n",
       "      <td>1</td>\n",
       "      <td>1/12/2010 14:32</td>\n",
       "      <td>7.62</td>\n",
       "      <td>NaN</td>\n",
       "      <td>United Kingdom</td>\n",
       "    </tr>\n",
       "    <tr>\n",
       "      <th>4164</th>\n",
       "      <td>536750</td>\n",
       "      <td>15056BL</td>\n",
       "      <td>EDWARDIAN PARASOL BLACK</td>\n",
       "      <td>6</td>\n",
       "      <td>2/12/2010 14:04</td>\n",
       "      <td>4.95</td>\n",
       "      <td>17850.0</td>\n",
       "      <td>United Kingdom</td>\n",
       "    </tr>\n",
       "    <tr>\n",
       "      <th>4482</th>\n",
       "      <td>536784</td>\n",
       "      <td>22752</td>\n",
       "      <td>SET 7 BABUSHKA NESTING BOXES</td>\n",
       "      <td>72</td>\n",
       "      <td>2/12/2010 15:20</td>\n",
       "      <td>7.65</td>\n",
       "      <td>15061.0</td>\n",
       "      <td>United Kingdom</td>\n",
       "    </tr>\n",
       "  </tbody>\n",
       "</table>\n",
       "</div>"
      ],
      "text/plain": [
       "     InvoiceNo StockCode                        Description  Quantity  \\\n",
       "3207    536609     21730  GLASS STAR FROSTED T-LIGHT HOLDER         6   \n",
       "1648    536544     22728          ALARM CLOCK BAKELIKE PINK         1   \n",
       "4164    536750   15056BL            EDWARDIAN PARASOL BLACK         6   \n",
       "4482    536784     22752       SET 7 BABUSHKA NESTING BOXES        72   \n",
       "\n",
       "          InvoiceDate  UnitPrice  CustomerID         Country  \n",
       "3207   2/12/2010 9:41       4.25     17850.0  United Kingdom  \n",
       "1648  1/12/2010 14:32       7.62         NaN  United Kingdom  \n",
       "4164  2/12/2010 14:04       4.95     17850.0  United Kingdom  \n",
       "4482  2/12/2010 15:20       7.65     15061.0  United Kingdom  "
      ]
     },
     "execution_count": 9,
     "metadata": {},
     "output_type": "execute_result"
    }
   ],
   "source": [
    "d2"
   ]
  },
  {
   "cell_type": "code",
   "execution_count": 10,
   "metadata": {},
   "outputs": [
    {
     "data": {
      "text/plain": [
       "Index(['InvoiceNo', 'StockCode', 'Description', 'Quantity', 'InvoiceDate',\n",
       "       'UnitPrice', 'CustomerID', 'Country'],\n",
       "      dtype='object')"
      ]
     },
     "execution_count": 10,
     "metadata": {},
     "output_type": "execute_result"
    }
   ],
   "source": [
    "d2.columns"
   ]
  },
  {
   "cell_type": "code",
   "execution_count": 64,
   "metadata": {},
   "outputs": [],
   "source": [
    "def column_splitter(df, col_name, regex_string=\"(?=-)\"):\n",
    "    org_col_index = df.columns\n",
    "    split_id = np.argwhere(org_col_index == col_name).reshape(1)[0]\n",
    "    \n",
    "    # split the original df into three sections: \n",
    "    # to_keep, col_to_split and cols_to_join_back\n",
    "    to_keep = df.iloc[:, :split_id].copy(deep=True)\n",
    "    to_split = df[[col_name]].copy(deep=True)\n",
    "    to_join = df.iloc[:, (split_id+1):].copy(deep=True)\n",
    "    cols_to_add = np.hstack((org_col_index[(split_id+1):], ''))\n",
    "    to_join[''] = pd.Series([np.NaN]*to_join.shape[0])\n",
    "    \n",
    "    #split the column:\n",
    "    to_split = to_split[col_name].str.split(regex_string, n=1, expand=True)\n",
    "    to_split.columns = [col_name, cols_to_add[0]]\n",
    "    \n",
    "    # join the split column back first\n",
    "    #to_keep = pd.concat([to_keep, to_split], axis=1)\n",
    "    to_keep = to_keep.join(to_split)\n",
    "    na_boolean = to_keep[cols_to_add[0]].isna()\n",
    "    to_keep = to_keep.combine_first(to_join[[cols_to_add[0]]])\n",
    "    #breakpoint()\n",
    "    \n",
    "    for i in np.arange(1,len(cols_to_add)):\n",
    "        #print(i)\n",
    "        new_col = to_join.iloc[:, i].copy(deep=True)\n",
    "        new_col[~na_boolean] = to_join.iloc[:, i-1][~na_boolean]\n",
    "        to_keep = pd.concat([to_keep, new_col], axis=1)\n",
    "        #print(cols_to_add[i])\n",
    "    #print(cols_to_add)\n",
    "    \n",
    "    return to_keep[np.hstack((org_col_index, ''))]"
   ]
  },
  {
   "cell_type": "code",
   "execution_count": 65,
   "metadata": {},
   "outputs": [
    {
     "data": {
      "text/html": [
       "<div>\n",
       "<style scoped>\n",
       "    .dataframe tbody tr th:only-of-type {\n",
       "        vertical-align: middle;\n",
       "    }\n",
       "\n",
       "    .dataframe tbody tr th {\n",
       "        vertical-align: top;\n",
       "    }\n",
       "\n",
       "    .dataframe thead th {\n",
       "        text-align: right;\n",
       "    }\n",
       "</style>\n",
       "<table border=\"1\" class=\"dataframe\">\n",
       "  <thead>\n",
       "    <tr style=\"text-align: right;\">\n",
       "      <th></th>\n",
       "      <th>InvoiceNo</th>\n",
       "      <th>StockCode</th>\n",
       "      <th>Description</th>\n",
       "      <th>Quantity</th>\n",
       "      <th>InvoiceDate</th>\n",
       "      <th>UnitPrice</th>\n",
       "      <th>CustomerID</th>\n",
       "      <th>Country</th>\n",
       "      <th></th>\n",
       "    </tr>\n",
       "  </thead>\n",
       "  <tbody>\n",
       "    <tr>\n",
       "      <th>3207</th>\n",
       "      <td>536609</td>\n",
       "      <td>21730</td>\n",
       "      <td>GLASS STAR FROSTED T</td>\n",
       "      <td>-LIGHT HOLDER</td>\n",
       "      <td>6.0</td>\n",
       "      <td>2/12/2010 9:41</td>\n",
       "      <td>4.25</td>\n",
       "      <td>17850.0</td>\n",
       "      <td>United Kingdom</td>\n",
       "    </tr>\n",
       "    <tr>\n",
       "      <th>1648</th>\n",
       "      <td>536544</td>\n",
       "      <td>22728</td>\n",
       "      <td>ALARM CLOCK BAKELIKE PINK</td>\n",
       "      <td>1</td>\n",
       "      <td>1/12/2010 14:32</td>\n",
       "      <td>7.62</td>\n",
       "      <td>NaN</td>\n",
       "      <td>United Kingdom</td>\n",
       "      <td>NaN</td>\n",
       "    </tr>\n",
       "    <tr>\n",
       "      <th>4164</th>\n",
       "      <td>536750</td>\n",
       "      <td>15056BL</td>\n",
       "      <td>EDWARDIAN PARASOL BLACK</td>\n",
       "      <td>6</td>\n",
       "      <td>2/12/2010 14:04</td>\n",
       "      <td>4.95</td>\n",
       "      <td>17850.00</td>\n",
       "      <td>United Kingdom</td>\n",
       "      <td>NaN</td>\n",
       "    </tr>\n",
       "    <tr>\n",
       "      <th>4482</th>\n",
       "      <td>536784</td>\n",
       "      <td>22752</td>\n",
       "      <td>SET 7 BABUSHKA NESTING BOXES</td>\n",
       "      <td>72</td>\n",
       "      <td>2/12/2010 15:20</td>\n",
       "      <td>7.65</td>\n",
       "      <td>15061.00</td>\n",
       "      <td>United Kingdom</td>\n",
       "      <td>NaN</td>\n",
       "    </tr>\n",
       "  </tbody>\n",
       "</table>\n",
       "</div>"
      ],
      "text/plain": [
       "     InvoiceNo StockCode                   Description       Quantity  \\\n",
       "3207    536609     21730          GLASS STAR FROSTED T  -LIGHT HOLDER   \n",
       "1648    536544     22728     ALARM CLOCK BAKELIKE PINK              1   \n",
       "4164    536750   15056BL       EDWARDIAN PARASOL BLACK              6   \n",
       "4482    536784     22752  SET 7 BABUSHKA NESTING BOXES             72   \n",
       "\n",
       "          InvoiceDate       UnitPrice  CustomerID         Country  \\\n",
       "3207              6.0  2/12/2010 9:41        4.25         17850.0   \n",
       "1648  1/12/2010 14:32            7.62         NaN  United Kingdom   \n",
       "4164  2/12/2010 14:04            4.95    17850.00  United Kingdom   \n",
       "4482  2/12/2010 15:20            7.65    15061.00  United Kingdom   \n",
       "\n",
       "                      \n",
       "3207  United Kingdom  \n",
       "1648             NaN  \n",
       "4164             NaN  \n",
       "4482             NaN  "
      ]
     },
     "execution_count": 65,
     "metadata": {},
     "output_type": "execute_result"
    }
   ],
   "source": [
    "column_splitter(d2, 'Description')"
   ]
  },
  {
   "cell_type": "code",
   "execution_count": 63,
   "metadata": {},
   "outputs": [
    {
     "data": {
      "text/html": [
       "<div>\n",
       "<style scoped>\n",
       "    .dataframe tbody tr th:only-of-type {\n",
       "        vertical-align: middle;\n",
       "    }\n",
       "\n",
       "    .dataframe tbody tr th {\n",
       "        vertical-align: top;\n",
       "    }\n",
       "\n",
       "    .dataframe thead th {\n",
       "        text-align: right;\n",
       "    }\n",
       "</style>\n",
       "<table border=\"1\" class=\"dataframe\">\n",
       "  <thead>\n",
       "    <tr style=\"text-align: right;\">\n",
       "      <th></th>\n",
       "      <th>InvoiceNo</th>\n",
       "      <th>StockCode</th>\n",
       "      <th>Description</th>\n",
       "      <th>Quantity</th>\n",
       "      <th>InvoiceDate</th>\n",
       "      <th>UnitPrice</th>\n",
       "      <th>CustomerID</th>\n",
       "      <th>Country</th>\n",
       "      <th></th>\n",
       "    </tr>\n",
       "  </thead>\n",
       "  <tbody>\n",
       "    <tr>\n",
       "      <th>3207</th>\n",
       "      <td>536609</td>\n",
       "      <td>21730</td>\n",
       "      <td>GLASS STAR FROSTED T</td>\n",
       "      <td>-LIGHT HOLDER</td>\n",
       "      <td>6.0</td>\n",
       "      <td>2/12/2010 9:41</td>\n",
       "      <td>4.25</td>\n",
       "      <td>17850.0</td>\n",
       "      <td>United Kingdom</td>\n",
       "    </tr>\n",
       "    <tr>\n",
       "      <th>1648</th>\n",
       "      <td>536544</td>\n",
       "      <td>22728</td>\n",
       "      <td>ALARM CLOCK BAKELIKE PINK</td>\n",
       "      <td>1</td>\n",
       "      <td>1/12/2010 14:32</td>\n",
       "      <td>7.62</td>\n",
       "      <td>NaN</td>\n",
       "      <td>United Kingdom</td>\n",
       "      <td>NaN</td>\n",
       "    </tr>\n",
       "    <tr>\n",
       "      <th>4164</th>\n",
       "      <td>536750</td>\n",
       "      <td>15056BL</td>\n",
       "      <td>EDWARDIAN PARASOL BLACK</td>\n",
       "      <td>6</td>\n",
       "      <td>2/12/2010 14:04</td>\n",
       "      <td>4.95</td>\n",
       "      <td>17850.00</td>\n",
       "      <td>United Kingdom</td>\n",
       "      <td>NaN</td>\n",
       "    </tr>\n",
       "    <tr>\n",
       "      <th>4482</th>\n",
       "      <td>536784</td>\n",
       "      <td>22752</td>\n",
       "      <td>SET 7 BABUSHKA NESTING BOXES</td>\n",
       "      <td>72</td>\n",
       "      <td>2/12/2010 15:20</td>\n",
       "      <td>7.65</td>\n",
       "      <td>15061.00</td>\n",
       "      <td>United Kingdom</td>\n",
       "      <td>NaN</td>\n",
       "    </tr>\n",
       "  </tbody>\n",
       "</table>\n",
       "</div>"
      ],
      "text/plain": [
       "     InvoiceNo StockCode                   Description       Quantity  \\\n",
       "3207    536609     21730          GLASS STAR FROSTED T  -LIGHT HOLDER   \n",
       "1648    536544     22728     ALARM CLOCK BAKELIKE PINK              1   \n",
       "4164    536750   15056BL       EDWARDIAN PARASOL BLACK              6   \n",
       "4482    536784     22752  SET 7 BABUSHKA NESTING BOXES             72   \n",
       "\n",
       "          InvoiceDate       UnitPrice  CustomerID         Country  \\\n",
       "3207              6.0  2/12/2010 9:41        4.25         17850.0   \n",
       "1648  1/12/2010 14:32            7.62         NaN  United Kingdom   \n",
       "4164  2/12/2010 14:04            4.95    17850.00  United Kingdom   \n",
       "4482  2/12/2010 15:20            7.65    15061.00  United Kingdom   \n",
       "\n",
       "                      \n",
       "3207  United Kingdom  \n",
       "1648             NaN  \n",
       "4164             NaN  \n",
       "4482             NaN  "
      ]
     },
     "execution_count": 63,
     "metadata": {},
     "output_type": "execute_result"
    }
   ],
   "source": [
    "tmp"
   ]
  },
  {
   "cell_type": "code",
   "execution_count": 46,
   "metadata": {},
   "outputs": [
    {
     "data": {
      "text/html": [
       "<div>\n",
       "<style scoped>\n",
       "    .dataframe tbody tr th:only-of-type {\n",
       "        vertical-align: middle;\n",
       "    }\n",
       "\n",
       "    .dataframe tbody tr th {\n",
       "        vertical-align: top;\n",
       "    }\n",
       "\n",
       "    .dataframe thead th {\n",
       "        text-align: right;\n",
       "    }\n",
       "</style>\n",
       "<table border=\"1\" class=\"dataframe\">\n",
       "  <thead>\n",
       "    <tr style=\"text-align: right;\">\n",
       "      <th></th>\n",
       "      <th>Description</th>\n",
       "      <th>InvoiceNo</th>\n",
       "    </tr>\n",
       "  </thead>\n",
       "  <tbody>\n",
       "    <tr>\n",
       "      <th>3207</th>\n",
       "      <td>GLASS STAR FROSTED T</td>\n",
       "      <td>536609</td>\n",
       "    </tr>\n",
       "    <tr>\n",
       "      <th>1648</th>\n",
       "      <td>ALARM CLOCK BAKELIKE PINK</td>\n",
       "      <td>536544</td>\n",
       "    </tr>\n",
       "    <tr>\n",
       "      <th>4164</th>\n",
       "      <td>EDWARDIAN PARASOL BLACK</td>\n",
       "      <td>536750</td>\n",
       "    </tr>\n",
       "    <tr>\n",
       "      <th>4482</th>\n",
       "      <td>SET 7 BABUSHKA NESTING BOXES</td>\n",
       "      <td>536784</td>\n",
       "    </tr>\n",
       "  </tbody>\n",
       "</table>\n",
       "</div>"
      ],
      "text/plain": [
       "                       Description InvoiceNo\n",
       "3207          GLASS STAR FROSTED T    536609\n",
       "1648     ALARM CLOCK BAKELIKE PINK    536544\n",
       "4164       EDWARDIAN PARASOL BLACK    536750\n",
       "4482  SET 7 BABUSHKA NESTING BOXES    536784"
      ]
     },
     "execution_count": 46,
     "metadata": {},
     "output_type": "execute_result"
    }
   ],
   "source": [
    "tmp[['Description', 'InvoiceNo']]"
   ]
  },
  {
   "cell_type": "code",
   "execution_count": 16,
   "metadata": {},
   "outputs": [
    {
     "data": {
      "text/html": [
       "<div>\n",
       "<style scoped>\n",
       "    .dataframe tbody tr th:only-of-type {\n",
       "        vertical-align: middle;\n",
       "    }\n",
       "\n",
       "    .dataframe tbody tr th {\n",
       "        vertical-align: top;\n",
       "    }\n",
       "\n",
       "    .dataframe thead th {\n",
       "        text-align: right;\n",
       "    }\n",
       "</style>\n",
       "<table border=\"1\" class=\"dataframe\">\n",
       "  <thead>\n",
       "    <tr style=\"text-align: right;\">\n",
       "      <th></th>\n",
       "      <th>InvoiceNo</th>\n",
       "      <th>StockCode</th>\n",
       "      <th>Description</th>\n",
       "      <th>Quantity</th>\n",
       "      <th>InvoiceDate</th>\n",
       "      <th>UnitPrice</th>\n",
       "      <th>CustomerID</th>\n",
       "      <th>Country</th>\n",
       "      <th></th>\n",
       "    </tr>\n",
       "  </thead>\n",
       "  <tbody>\n",
       "    <tr>\n",
       "      <th>4719</th>\n",
       "      <td>536798</td>\n",
       "      <td>21899</td>\n",
       "      <td>KEY FOB</td>\n",
       "      <td>, GARAGE DESIGN</td>\n",
       "      <td>2/12/2010 15:55</td>\n",
       "      <td>0.65</td>\n",
       "      <td>17838.00</td>\n",
       "      <td>United Kingdom</td>\n",
       "      <td>NaN</td>\n",
       "    </tr>\n",
       "    <tr>\n",
       "      <th>747</th>\n",
       "      <td>536446</td>\n",
       "      <td>20777</td>\n",
       "      <td>CHRYSANTHEMUM NOTEBOOK</td>\n",
       "      <td>None</td>\n",
       "      <td>2.0</td>\n",
       "      <td>1/12/2010 12:15</td>\n",
       "      <td>1.65</td>\n",
       "      <td>15983.0</td>\n",
       "      <td>United Kingdom</td>\n",
       "    </tr>\n",
       "    <tr>\n",
       "      <th>2132</th>\n",
       "      <td>536561</td>\n",
       "      <td>22274</td>\n",
       "      <td>FELTCRAFT DOLL EMILY</td>\n",
       "      <td>None</td>\n",
       "      <td>6.0</td>\n",
       "      <td>1/12/2010 15:06</td>\n",
       "      <td>2.95</td>\n",
       "      <td>12921.0</td>\n",
       "      <td>United Kingdom</td>\n",
       "    </tr>\n",
       "    <tr>\n",
       "      <th>3027</th>\n",
       "      <td>536592</td>\n",
       "      <td>90166</td>\n",
       "      <td>PINK &amp; WHITE ROSEBUD RING</td>\n",
       "      <td>None</td>\n",
       "      <td>1.0</td>\n",
       "      <td>1/12/2010 17:06</td>\n",
       "      <td>4.24</td>\n",
       "      <td>NaN</td>\n",
       "      <td>United Kingdom</td>\n",
       "    </tr>\n",
       "  </tbody>\n",
       "</table>\n",
       "</div>"
      ],
      "text/plain": [
       "     InvoiceNo StockCode                Description         Quantity  \\\n",
       "4719    536798     21899                   KEY FOB   , GARAGE DESIGN   \n",
       "747     536446     20777     CHRYSANTHEMUM NOTEBOOK             None   \n",
       "2132    536561     22274       FELTCRAFT DOLL EMILY             None   \n",
       "3027    536592     90166  PINK & WHITE ROSEBUD RING             None   \n",
       "\n",
       "          InvoiceDate        UnitPrice  CustomerID         Country  \\\n",
       "4719  2/12/2010 15:55             0.65    17838.00  United Kingdom   \n",
       "747               2.0  1/12/2010 12:15        1.65         15983.0   \n",
       "2132              6.0  1/12/2010 15:06        2.95         12921.0   \n",
       "3027              1.0  1/12/2010 17:06        4.24             NaN   \n",
       "\n",
       "                      \n",
       "4719             NaN  \n",
       "747   United Kingdom  \n",
       "2132  United Kingdom  \n",
       "3027  United Kingdom  "
      ]
     },
     "execution_count": 16,
     "metadata": {},
     "output_type": "execute_result"
    }
   ],
   "source": [
    "tmp"
   ]
  },
  {
   "cell_type": "code",
   "execution_count": null,
   "metadata": {},
   "outputs": [],
   "source": [
    "pdb.runcall(column_splitter, d2, 'Description')"
   ]
  },
  {
   "cell_type": "code",
   "execution_count": 77,
   "metadata": {},
   "outputs": [
    {
     "data": {
      "text/plain": [
       "1097    NaN\n",
       "4718    NaN\n",
       "3193    NaN\n",
       "4921    NaN\n",
       "Name: , dtype: object"
      ]
     },
     "execution_count": 77,
     "metadata": {},
     "output_type": "execute_result"
    }
   ],
   "source": [
    "tmp.iloc[:, 5]"
   ]
  },
  {
   "cell_type": "code",
   "execution_count": 10,
   "metadata": {},
   "outputs": [
    {
     "data": {
      "text/plain": [
       "\u001b[0;31mSignature:\u001b[0m \u001b[0mpd\u001b[0m\u001b[0;34m.\u001b[0m\u001b[0mDataFrame\u001b[0m\u001b[0;34m.\u001b[0m\u001b[0mcombine_first\u001b[0m\u001b[0;34m(\u001b[0m\u001b[0mself\u001b[0m\u001b[0;34m,\u001b[0m \u001b[0mother\u001b[0m\u001b[0;34m:\u001b[0m \u001b[0;34m'DataFrame'\u001b[0m\u001b[0;34m)\u001b[0m \u001b[0;34m->\u001b[0m \u001b[0;34m'DataFrame'\u001b[0m\u001b[0;34m\u001b[0m\u001b[0;34m\u001b[0m\u001b[0m\n",
       "\u001b[0;31mDocstring:\u001b[0m\n",
       "Update null elements with value in the same location in `other`.\n",
       "\n",
       "Combine two DataFrame objects by filling null values in one DataFrame\n",
       "with non-null values from other DataFrame. The row and column indexes\n",
       "of the resulting DataFrame will be the union of the two.\n",
       "\n",
       "Parameters\n",
       "----------\n",
       "other : DataFrame\n",
       "    Provided DataFrame to use to fill null values.\n",
       "\n",
       "Returns\n",
       "-------\n",
       "DataFrame\n",
       "\n",
       "See Also\n",
       "--------\n",
       "DataFrame.combine : Perform series-wise operation on two DataFrames\n",
       "    using a given function.\n",
       "\n",
       "Examples\n",
       "--------\n",
       ">>> df1 = pd.DataFrame({'A': [None, 0], 'B': [None, 4]})\n",
       ">>> df2 = pd.DataFrame({'A': [1, 1], 'B': [3, 3]})\n",
       ">>> df1.combine_first(df2)\n",
       "     A    B\n",
       "0  1.0  3.0\n",
       "1  0.0  4.0\n",
       "\n",
       "Null values still persist if the location of that null value\n",
       "does not exist in `other`\n",
       "\n",
       ">>> df1 = pd.DataFrame({'A': [None, 0], 'B': [4, None]})\n",
       ">>> df2 = pd.DataFrame({'B': [3, 3], 'C': [1, 1]}, index=[1, 2])\n",
       ">>> df1.combine_first(df2)\n",
       "     A    B    C\n",
       "0  NaN  4.0  NaN\n",
       "1  0.0  3.0  1.0\n",
       "2  NaN  3.0  1.0\n",
       "\u001b[0;31mFile:\u001b[0m      ~/NUS/coursesTaught/ind5003/lib/python3.8/site-packages/pandas/core/frame.py\n",
       "\u001b[0;31mType:\u001b[0m      function\n"
      ]
     },
     "metadata": {},
     "output_type": "display_data"
    }
   ],
   "source": [
    "pd.DataFrame.combine_first?"
   ]
  },
  {
   "cell_type": "code",
   "execution_count": 30,
   "metadata": {},
   "outputs": [],
   "source": [
    "id = pd.Series([True, False, False, True])"
   ]
  },
  {
   "cell_type": "code",
   "execution_count": 31,
   "metadata": {},
   "outputs": [],
   "source": [
    "id.index = qty_series.index"
   ]
  },
  {
   "cell_type": "code",
   "execution_count": 32,
   "metadata": {},
   "outputs": [],
   "source": [
    "qty_series[id] = d2.Description[id]"
   ]
  },
  {
   "cell_type": "code",
   "execution_count": 33,
   "metadata": {},
   "outputs": [
    {
     "data": {
      "text/plain": [
       "3159    FULL ENGLISH BREAKFAST PLATE\n",
       "3348                            12.0\n",
       "4596                             2.0\n",
       "4405     ZINC METAL HEART DECORATION\n",
       "Name: Quantity, dtype: object"
      ]
     },
     "execution_count": 33,
     "metadata": {},
     "output_type": "execute_result"
    }
   ],
   "source": [
    "qty_series"
   ]
  },
  {
   "cell_type": "code",
   "execution_count": 24,
   "metadata": {},
   "outputs": [],
   "source": [
    "d2a = d2.Description.str.split('-',n=1, expand=True)"
   ]
  },
  {
   "cell_type": "code",
   "execution_count": 25,
   "metadata": {},
   "outputs": [
    {
     "data": {
      "text/html": [
       "<div>\n",
       "<style scoped>\n",
       "    .dataframe tbody tr th:only-of-type {\n",
       "        vertical-align: middle;\n",
       "    }\n",
       "\n",
       "    .dataframe tbody tr th {\n",
       "        vertical-align: top;\n",
       "    }\n",
       "\n",
       "    .dataframe thead th {\n",
       "        text-align: right;\n",
       "    }\n",
       "</style>\n",
       "<table border=\"1\" class=\"dataframe\">\n",
       "  <thead>\n",
       "    <tr style=\"text-align: right;\">\n",
       "      <th></th>\n",
       "      <th>1</th>\n",
       "    </tr>\n",
       "  </thead>\n",
       "  <tbody>\n",
       "    <tr>\n",
       "      <th>4608</th>\n",
       "      <td>None</td>\n",
       "    </tr>\n",
       "    <tr>\n",
       "      <th>1675</th>\n",
       "      <td>None</td>\n",
       "    </tr>\n",
       "    <tr>\n",
       "      <th>4451</th>\n",
       "      <td>None</td>\n",
       "    </tr>\n",
       "    <tr>\n",
       "      <th>1762</th>\n",
       "      <td>LIGHT HLDR</td>\n",
       "    </tr>\n",
       "  </tbody>\n",
       "</table>\n",
       "</div>"
      ],
      "text/plain": [
       "               1\n",
       "4608        None\n",
       "1675        None\n",
       "4451        None\n",
       "1762  LIGHT HLDR"
      ]
     },
     "execution_count": 25,
     "metadata": {},
     "output_type": "execute_result"
    }
   ],
   "source": [
    "d2a[[1]]"
   ]
  },
  {
   "cell_type": "code",
   "execution_count": 26,
   "metadata": {},
   "outputs": [
    {
     "data": {
      "text/html": [
       "<div>\n",
       "<style scoped>\n",
       "    .dataframe tbody tr th:only-of-type {\n",
       "        vertical-align: middle;\n",
       "    }\n",
       "\n",
       "    .dataframe tbody tr th {\n",
       "        vertical-align: top;\n",
       "    }\n",
       "\n",
       "    .dataframe thead th {\n",
       "        text-align: right;\n",
       "    }\n",
       "</style>\n",
       "<table border=\"1\" class=\"dataframe\">\n",
       "  <thead>\n",
       "    <tr style=\"text-align: right;\">\n",
       "      <th></th>\n",
       "      <th>Quantity</th>\n",
       "    </tr>\n",
       "  </thead>\n",
       "  <tbody>\n",
       "    <tr>\n",
       "      <th>4608</th>\n",
       "      <td>1</td>\n",
       "    </tr>\n",
       "    <tr>\n",
       "      <th>1675</th>\n",
       "      <td>1</td>\n",
       "    </tr>\n",
       "    <tr>\n",
       "      <th>4451</th>\n",
       "      <td>108</td>\n",
       "    </tr>\n",
       "    <tr>\n",
       "      <th>1762</th>\n",
       "      <td>4</td>\n",
       "    </tr>\n",
       "  </tbody>\n",
       "</table>\n",
       "</div>"
      ],
      "text/plain": [
       "      Quantity\n",
       "4608         1\n",
       "1675         1\n",
       "4451       108\n",
       "1762         4"
      ]
     },
     "execution_count": 26,
     "metadata": {},
     "output_type": "execute_result"
    }
   ],
   "source": [
    "d2[[\"Quantity\"]]"
   ]
  },
  {
   "cell_type": "code",
   "execution_count": 28,
   "metadata": {},
   "outputs": [
    {
     "data": {
      "text/plain": [
       "\u001b[0;31mSignature:\u001b[0m \u001b[0md2\u001b[0m\u001b[0;34m.\u001b[0m\u001b[0mcombine_first\u001b[0m\u001b[0;34m(\u001b[0m\u001b[0mother\u001b[0m\u001b[0;34m:\u001b[0m \u001b[0;34m'DataFrame'\u001b[0m\u001b[0;34m)\u001b[0m \u001b[0;34m->\u001b[0m \u001b[0;34m'DataFrame'\u001b[0m\u001b[0;34m\u001b[0m\u001b[0;34m\u001b[0m\u001b[0m\n",
       "\u001b[0;31mDocstring:\u001b[0m\n",
       "Update null elements with value in the same location in `other`.\n",
       "\n",
       "Combine two DataFrame objects by filling null values in one DataFrame\n",
       "with non-null values from other DataFrame. The row and column indexes\n",
       "of the resulting DataFrame will be the union of the two.\n",
       "\n",
       "Parameters\n",
       "----------\n",
       "other : DataFrame\n",
       "    Provided DataFrame to use to fill null values.\n",
       "\n",
       "Returns\n",
       "-------\n",
       "DataFrame\n",
       "\n",
       "See Also\n",
       "--------\n",
       "DataFrame.combine : Perform series-wise operation on two DataFrames\n",
       "    using a given function.\n",
       "\n",
       "Examples\n",
       "--------\n",
       ">>> df1 = pd.DataFrame({'A': [None, 0], 'B': [None, 4]})\n",
       ">>> df2 = pd.DataFrame({'A': [1, 1], 'B': [3, 3]})\n",
       ">>> df1.combine_first(df2)\n",
       "     A    B\n",
       "0  1.0  3.0\n",
       "1  0.0  4.0\n",
       "\n",
       "Null values still persist if the location of that null value\n",
       "does not exist in `other`\n",
       "\n",
       ">>> df1 = pd.DataFrame({'A': [None, 0], 'B': [4, None]})\n",
       ">>> df2 = pd.DataFrame({'B': [3, 3], 'C': [1, 1]}, index=[1, 2])\n",
       ">>> df1.combine_first(df2)\n",
       "     A    B    C\n",
       "0  NaN  4.0  NaN\n",
       "1  0.0  3.0  1.0\n",
       "2  NaN  3.0  1.0\n",
       "\u001b[0;31mFile:\u001b[0m      ~/NUS/coursesTaught/ind5003/lib/python3.8/site-packages/pandas/core/frame.py\n",
       "\u001b[0;31mType:\u001b[0m      method\n"
      ]
     },
     "metadata": {},
     "output_type": "display_data"
    }
   ],
   "source": [
    "d2.combine_first?"
   ]
  },
  {
   "cell_type": "code",
   "execution_count": 27,
   "metadata": {},
   "outputs": [
    {
     "data": {
      "text/html": [
       "<div>\n",
       "<style scoped>\n",
       "    .dataframe tbody tr th:only-of-type {\n",
       "        vertical-align: middle;\n",
       "    }\n",
       "\n",
       "    .dataframe tbody tr th {\n",
       "        vertical-align: top;\n",
       "    }\n",
       "\n",
       "    .dataframe thead th {\n",
       "        text-align: right;\n",
       "    }\n",
       "</style>\n",
       "<table border=\"1\" class=\"dataframe\">\n",
       "  <thead>\n",
       "    <tr style=\"text-align: right;\">\n",
       "      <th></th>\n",
       "      <th>1</th>\n",
       "      <th>Quantity</th>\n",
       "    </tr>\n",
       "  </thead>\n",
       "  <tbody>\n",
       "    <tr>\n",
       "      <th>4608</th>\n",
       "      <td>None</td>\n",
       "      <td>1</td>\n",
       "    </tr>\n",
       "    <tr>\n",
       "      <th>1675</th>\n",
       "      <td>None</td>\n",
       "      <td>1</td>\n",
       "    </tr>\n",
       "    <tr>\n",
       "      <th>4451</th>\n",
       "      <td>None</td>\n",
       "      <td>108</td>\n",
       "    </tr>\n",
       "    <tr>\n",
       "      <th>1762</th>\n",
       "      <td>LIGHT HLDR</td>\n",
       "      <td>4</td>\n",
       "    </tr>\n",
       "  </tbody>\n",
       "</table>\n",
       "</div>"
      ],
      "text/plain": [
       "               1  Quantity\n",
       "4608        None         1\n",
       "1675        None         1\n",
       "4451        None       108\n",
       "1762  LIGHT HLDR         4"
      ]
     },
     "execution_count": 27,
     "metadata": {},
     "output_type": "execute_result"
    }
   ],
   "source": [
    "pd.concat([d2a[[1]],d2[[\"Quantity\"]]], axis=1)"
   ]
  },
  {
   "cell_type": "code",
   "execution_count": 65,
   "metadata": {},
   "outputs": [
    {
     "data": {
      "text/plain": [
       "12"
      ]
     },
     "execution_count": 65,
     "metadata": {},
     "output_type": "execute_result"
    }
   ],
   "source": [
    "oo.Description.str.contains(\"[^\\w\\s]\", regex=True).isna().sum()"
   ]
  },
  {
   "cell_type": "code",
   "execution_count": 68,
   "metadata": {},
   "outputs": [],
   "source": [
    "oo2 = oo[~oo.Description.isna()]"
   ]
  },
  {
   "cell_type": "code",
   "execution_count": 73,
   "metadata": {},
   "outputs": [],
   "source": [
    "tmp = oo2[oo2.Description.str.contains(\"[^\\w\\s]\", regex=True)].Description"
   ]
  },
  {
   "cell_type": "code",
   "execution_count": 77,
   "metadata": {},
   "outputs": [
    {
     "data": {
      "text/html": [
       "<div>\n",
       "<style scoped>\n",
       "    .dataframe tbody tr th:only-of-type {\n",
       "        vertical-align: middle;\n",
       "    }\n",
       "\n",
       "    .dataframe tbody tr th {\n",
       "        vertical-align: top;\n",
       "    }\n",
       "\n",
       "    .dataframe thead th {\n",
       "        text-align: right;\n",
       "    }\n",
       "</style>\n",
       "<table border=\"1\" class=\"dataframe\">\n",
       "  <thead>\n",
       "    <tr style=\"text-align: right;\">\n",
       "      <th></th>\n",
       "      <th>0</th>\n",
       "      <th>1</th>\n",
       "    </tr>\n",
       "  </thead>\n",
       "  <tbody>\n",
       "    <tr>\n",
       "      <th>0</th>\n",
       "      <td>WHITE HANGING HEART T</td>\n",
       "      <td>-LIGHT HOLDER</td>\n",
       "    </tr>\n",
       "    <tr>\n",
       "      <th>4</th>\n",
       "      <td>RED WOOLLY HOTTIE WHITE HEART.</td>\n",
       "      <td>None</td>\n",
       "    </tr>\n",
       "    <tr>\n",
       "      <th>6</th>\n",
       "      <td>GLASS STAR FROSTED T</td>\n",
       "      <td>-LIGHT HOLDER</td>\n",
       "    </tr>\n",
       "    <tr>\n",
       "      <th>10</th>\n",
       "      <td>POPPY'S PLAYHOUSE BEDROOM</td>\n",
       "      <td>None</td>\n",
       "    </tr>\n",
       "    <tr>\n",
       "      <th>11</th>\n",
       "      <td>POPPY'S PLAYHOUSE KITCHEN</td>\n",
       "      <td>None</td>\n",
       "    </tr>\n",
       "    <tr>\n",
       "      <th>...</th>\n",
       "      <td>...</td>\n",
       "      <td>...</td>\n",
       "    </tr>\n",
       "    <tr>\n",
       "      <th>4969</th>\n",
       "      <td>SET OF 6 T</td>\n",
       "      <td>-LIGHTS SNOWMEN</td>\n",
       "    </tr>\n",
       "    <tr>\n",
       "      <th>4982</th>\n",
       "      <td>DINOSAUR PARTY BAG + STICKER SET</td>\n",
       "      <td>None</td>\n",
       "    </tr>\n",
       "    <tr>\n",
       "      <th>4986</th>\n",
       "      <td>EUCALYPTUS &amp; PINECONE  WREATH</td>\n",
       "      <td>None</td>\n",
       "    </tr>\n",
       "    <tr>\n",
       "      <th>4988</th>\n",
       "      <td>SWISS ROLL TOWEL, CHOCOLATE  SPOTS</td>\n",
       "      <td>None</td>\n",
       "    </tr>\n",
       "    <tr>\n",
       "      <th>4993</th>\n",
       "      <td>CERAMIC CAKE STAND + HANGING CAKES</td>\n",
       "      <td>None</td>\n",
       "    </tr>\n",
       "  </tbody>\n",
       "</table>\n",
       "<p>667 rows × 2 columns</p>\n",
       "</div>"
      ],
      "text/plain": [
       "                                       0                1\n",
       "0                  WHITE HANGING HEART T    -LIGHT HOLDER\n",
       "4         RED WOOLLY HOTTIE WHITE HEART.             None\n",
       "6                   GLASS STAR FROSTED T    -LIGHT HOLDER\n",
       "10            POPPY'S PLAYHOUSE BEDROOM              None\n",
       "11             POPPY'S PLAYHOUSE KITCHEN             None\n",
       "...                                  ...              ...\n",
       "4969                          SET OF 6 T  -LIGHTS SNOWMEN\n",
       "4982    DINOSAUR PARTY BAG + STICKER SET             None\n",
       "4986       EUCALYPTUS & PINECONE  WREATH             None\n",
       "4988  SWISS ROLL TOWEL, CHOCOLATE  SPOTS             None\n",
       "4993  CERAMIC CAKE STAND + HANGING CAKES             None\n",
       "\n",
       "[667 rows x 2 columns]"
      ]
     },
     "execution_count": 77,
     "metadata": {},
     "output_type": "execute_result"
    }
   ],
   "source": [
    "tmp.str.split(\"(?=-)\",n=1, expand=True)"
   ]
  },
  {
   "cell_type": "code",
   "execution_count": null,
   "metadata": {},
   "outputs": [],
   "source": []
  }
 ],
 "metadata": {
  "kernelspec": {
   "display_name": "Python 3",
   "language": "python",
   "name": "python3"
  },
  "language_info": {
   "codemirror_mode": {
    "name": "ipython",
    "version": 3
   },
   "file_extension": ".py",
   "mimetype": "text/x-python",
   "name": "python",
   "nbconvert_exporter": "python",
   "pygments_lexer": "ipython3",
   "version": "3.8.10"
  }
 },
 "nbformat": 4,
 "nbformat_minor": 4
}
