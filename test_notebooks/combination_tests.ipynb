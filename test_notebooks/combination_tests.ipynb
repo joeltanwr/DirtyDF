{
 "cells": [
  {
   "cell_type": "code",
   "execution_count": 1,
   "id": "499af91b",
   "metadata": {},
   "outputs": [
    {
     "name": "stdout",
     "output_type": "stream",
     "text": [
      "/home/viknesh/NUS/artificalData/artificial-dataset-generation/ddf\n"
     ]
    }
   ],
   "source": [
    "cd ../ddf"
   ]
  },
  {
   "cell_type": "code",
   "execution_count": 2,
   "id": "awful-offering",
   "metadata": {},
   "outputs": [],
   "source": [
    "%load_ext autoreload\n",
    "%autoreload 2\n",
    "\n",
    "import pandas as pd\n",
    "import matplotlib.pyplot as plt\n",
    "from ddf.DirtyDF import *\n",
    "from ddf.stainer import *"
   ]
  },
  {
   "cell_type": "markdown",
   "id": "chubby-point",
   "metadata": {},
   "source": [
    "# Example Data "
   ]
  },
  {
   "cell_type": "code",
   "execution_count": 3,
   "id": "cooked-special",
   "metadata": {},
   "outputs": [
    {
     "ename": "FileNotFoundError",
     "evalue": "[Errno 2] No such file or directory: 'data/sim_anneal/angled_blob.csv'",
     "output_type": "error",
     "traceback": [
      "\u001b[0;31m---------------------------------------------------------------------------\u001b[0m",
      "\u001b[0;31mFileNotFoundError\u001b[0m                         Traceback (most recent call last)",
      "\u001b[0;32m<ipython-input-3-3630e92aa6be>\u001b[0m in \u001b[0;36m<module>\u001b[0;34m\u001b[0m\n\u001b[0;32m----> 1\u001b[0;31m \u001b[0mangled_blob\u001b[0m \u001b[0;34m=\u001b[0m \u001b[0mpd\u001b[0m\u001b[0;34m.\u001b[0m\u001b[0mread_csv\u001b[0m\u001b[0;34m(\u001b[0m\u001b[0;34m\"data/sim_anneal/angled_blob.csv\"\u001b[0m\u001b[0;34m,\u001b[0m \u001b[0mindex_col\u001b[0m \u001b[0;34m=\u001b[0m \u001b[0;36m0\u001b[0m\u001b[0;34m)\u001b[0m\u001b[0;34m\u001b[0m\u001b[0;34m\u001b[0m\u001b[0m\n\u001b[0m\u001b[1;32m      2\u001b[0m \u001b[0mless_angled_blob\u001b[0m \u001b[0;34m=\u001b[0m \u001b[0mpd\u001b[0m\u001b[0;34m.\u001b[0m\u001b[0mread_csv\u001b[0m\u001b[0;34m(\u001b[0m\u001b[0;34m\"data/sim_anneal/less_angled_blob.csv\"\u001b[0m\u001b[0;34m,\u001b[0m \u001b[0mindex_col\u001b[0m \u001b[0;34m=\u001b[0m \u001b[0;36m0\u001b[0m\u001b[0;34m)\u001b[0m\u001b[0;34m\u001b[0m\u001b[0;34m\u001b[0m\u001b[0m\n\u001b[1;32m      3\u001b[0m \u001b[0mrandom_cloud\u001b[0m \u001b[0;34m=\u001b[0m \u001b[0mpd\u001b[0m\u001b[0;34m.\u001b[0m\u001b[0mread_csv\u001b[0m\u001b[0;34m(\u001b[0m\u001b[0;34m\"data/sim_anneal/random_cloud.csv\"\u001b[0m\u001b[0;34m,\u001b[0m \u001b[0mindex_col\u001b[0m \u001b[0;34m=\u001b[0m \u001b[0;36m0\u001b[0m\u001b[0;34m)\u001b[0m\u001b[0;34m\u001b[0m\u001b[0;34m\u001b[0m\u001b[0m\n\u001b[1;32m      4\u001b[0m \u001b[0mslanted_less\u001b[0m \u001b[0;34m=\u001b[0m \u001b[0mpd\u001b[0m\u001b[0;34m.\u001b[0m\u001b[0mread_csv\u001b[0m\u001b[0;34m(\u001b[0m\u001b[0;34m\"data/sim_anneal/slanted_less.csv\"\u001b[0m\u001b[0;34m,\u001b[0m \u001b[0mindex_col\u001b[0m \u001b[0;34m=\u001b[0m \u001b[0;36m0\u001b[0m\u001b[0;34m)\u001b[0m\u001b[0;34m\u001b[0m\u001b[0;34m\u001b[0m\u001b[0m\n\u001b[1;32m      5\u001b[0m \u001b[0mdino\u001b[0m \u001b[0;34m=\u001b[0m \u001b[0mpd\u001b[0m\u001b[0;34m.\u001b[0m\u001b[0mread_csv\u001b[0m\u001b[0;34m(\u001b[0m\u001b[0;34m\"data/sim_anneal/Datasaurus_data.csv\"\u001b[0m\u001b[0;34m,\u001b[0m \u001b[0mheader\u001b[0m \u001b[0;34m=\u001b[0m \u001b[0;32mNone\u001b[0m\u001b[0;34m,\u001b[0m \u001b[0mnames\u001b[0m \u001b[0;34m=\u001b[0m \u001b[0;34m[\u001b[0m\u001b[0;34m\"x\"\u001b[0m\u001b[0;34m,\u001b[0m \u001b[0;34m\"y\"\u001b[0m\u001b[0;34m]\u001b[0m\u001b[0;34m)\u001b[0m\u001b[0;34m\u001b[0m\u001b[0;34m\u001b[0m\u001b[0m\n",
      "\u001b[0;32m~/NUS/coursesTaught/penvs/p39/lib/python3.9/site-packages/pandas/io/parsers.py\u001b[0m in \u001b[0;36mread_csv\u001b[0;34m(filepath_or_buffer, sep, delimiter, header, names, index_col, usecols, squeeze, prefix, mangle_dupe_cols, dtype, engine, converters, true_values, false_values, skipinitialspace, skiprows, skipfooter, nrows, na_values, keep_default_na, na_filter, verbose, skip_blank_lines, parse_dates, infer_datetime_format, keep_date_col, date_parser, dayfirst, cache_dates, iterator, chunksize, compression, thousands, decimal, lineterminator, quotechar, quoting, doublequote, escapechar, comment, encoding, dialect, error_bad_lines, warn_bad_lines, delim_whitespace, low_memory, memory_map, float_precision, storage_options)\u001b[0m\n\u001b[1;32m    608\u001b[0m     \u001b[0mkwds\u001b[0m\u001b[0;34m.\u001b[0m\u001b[0mupdate\u001b[0m\u001b[0;34m(\u001b[0m\u001b[0mkwds_defaults\u001b[0m\u001b[0;34m)\u001b[0m\u001b[0;34m\u001b[0m\u001b[0;34m\u001b[0m\u001b[0m\n\u001b[1;32m    609\u001b[0m \u001b[0;34m\u001b[0m\u001b[0m\n\u001b[0;32m--> 610\u001b[0;31m     \u001b[0;32mreturn\u001b[0m \u001b[0m_read\u001b[0m\u001b[0;34m(\u001b[0m\u001b[0mfilepath_or_buffer\u001b[0m\u001b[0;34m,\u001b[0m \u001b[0mkwds\u001b[0m\u001b[0;34m)\u001b[0m\u001b[0;34m\u001b[0m\u001b[0;34m\u001b[0m\u001b[0m\n\u001b[0m\u001b[1;32m    611\u001b[0m \u001b[0;34m\u001b[0m\u001b[0m\n\u001b[1;32m    612\u001b[0m \u001b[0;34m\u001b[0m\u001b[0m\n",
      "\u001b[0;32m~/NUS/coursesTaught/penvs/p39/lib/python3.9/site-packages/pandas/io/parsers.py\u001b[0m in \u001b[0;36m_read\u001b[0;34m(filepath_or_buffer, kwds)\u001b[0m\n\u001b[1;32m    460\u001b[0m \u001b[0;34m\u001b[0m\u001b[0m\n\u001b[1;32m    461\u001b[0m     \u001b[0;31m# Create the parser.\u001b[0m\u001b[0;34m\u001b[0m\u001b[0;34m\u001b[0m\u001b[0;34m\u001b[0m\u001b[0m\n\u001b[0;32m--> 462\u001b[0;31m     \u001b[0mparser\u001b[0m \u001b[0;34m=\u001b[0m \u001b[0mTextFileReader\u001b[0m\u001b[0;34m(\u001b[0m\u001b[0mfilepath_or_buffer\u001b[0m\u001b[0;34m,\u001b[0m \u001b[0;34m**\u001b[0m\u001b[0mkwds\u001b[0m\u001b[0;34m)\u001b[0m\u001b[0;34m\u001b[0m\u001b[0;34m\u001b[0m\u001b[0m\n\u001b[0m\u001b[1;32m    463\u001b[0m \u001b[0;34m\u001b[0m\u001b[0m\n\u001b[1;32m    464\u001b[0m     \u001b[0;32mif\u001b[0m \u001b[0mchunksize\u001b[0m \u001b[0;32mor\u001b[0m \u001b[0miterator\u001b[0m\u001b[0;34m:\u001b[0m\u001b[0;34m\u001b[0m\u001b[0;34m\u001b[0m\u001b[0m\n",
      "\u001b[0;32m~/NUS/coursesTaught/penvs/p39/lib/python3.9/site-packages/pandas/io/parsers.py\u001b[0m in \u001b[0;36m__init__\u001b[0;34m(self, f, engine, **kwds)\u001b[0m\n\u001b[1;32m    817\u001b[0m             \u001b[0mself\u001b[0m\u001b[0;34m.\u001b[0m\u001b[0moptions\u001b[0m\u001b[0;34m[\u001b[0m\u001b[0;34m\"has_index_names\"\u001b[0m\u001b[0;34m]\u001b[0m \u001b[0;34m=\u001b[0m \u001b[0mkwds\u001b[0m\u001b[0;34m[\u001b[0m\u001b[0;34m\"has_index_names\"\u001b[0m\u001b[0;34m]\u001b[0m\u001b[0;34m\u001b[0m\u001b[0;34m\u001b[0m\u001b[0m\n\u001b[1;32m    818\u001b[0m \u001b[0;34m\u001b[0m\u001b[0m\n\u001b[0;32m--> 819\u001b[0;31m         \u001b[0mself\u001b[0m\u001b[0;34m.\u001b[0m\u001b[0m_engine\u001b[0m \u001b[0;34m=\u001b[0m \u001b[0mself\u001b[0m\u001b[0;34m.\u001b[0m\u001b[0m_make_engine\u001b[0m\u001b[0;34m(\u001b[0m\u001b[0mself\u001b[0m\u001b[0;34m.\u001b[0m\u001b[0mengine\u001b[0m\u001b[0;34m)\u001b[0m\u001b[0;34m\u001b[0m\u001b[0;34m\u001b[0m\u001b[0m\n\u001b[0m\u001b[1;32m    820\u001b[0m \u001b[0;34m\u001b[0m\u001b[0m\n\u001b[1;32m    821\u001b[0m     \u001b[0;32mdef\u001b[0m \u001b[0mclose\u001b[0m\u001b[0;34m(\u001b[0m\u001b[0mself\u001b[0m\u001b[0;34m)\u001b[0m\u001b[0;34m:\u001b[0m\u001b[0;34m\u001b[0m\u001b[0;34m\u001b[0m\u001b[0m\n",
      "\u001b[0;32m~/NUS/coursesTaught/penvs/p39/lib/python3.9/site-packages/pandas/io/parsers.py\u001b[0m in \u001b[0;36m_make_engine\u001b[0;34m(self, engine)\u001b[0m\n\u001b[1;32m   1048\u001b[0m             )\n\u001b[1;32m   1049\u001b[0m         \u001b[0;31m# error: Too many arguments for \"ParserBase\"\u001b[0m\u001b[0;34m\u001b[0m\u001b[0;34m\u001b[0m\u001b[0;34m\u001b[0m\u001b[0m\n\u001b[0;32m-> 1050\u001b[0;31m         \u001b[0;32mreturn\u001b[0m \u001b[0mmapping\u001b[0m\u001b[0;34m[\u001b[0m\u001b[0mengine\u001b[0m\u001b[0;34m]\u001b[0m\u001b[0;34m(\u001b[0m\u001b[0mself\u001b[0m\u001b[0;34m.\u001b[0m\u001b[0mf\u001b[0m\u001b[0;34m,\u001b[0m \u001b[0;34m**\u001b[0m\u001b[0mself\u001b[0m\u001b[0;34m.\u001b[0m\u001b[0moptions\u001b[0m\u001b[0;34m)\u001b[0m  \u001b[0;31m# type: ignore[call-arg]\u001b[0m\u001b[0;34m\u001b[0m\u001b[0;34m\u001b[0m\u001b[0m\n\u001b[0m\u001b[1;32m   1051\u001b[0m \u001b[0;34m\u001b[0m\u001b[0m\n\u001b[1;32m   1052\u001b[0m     \u001b[0;32mdef\u001b[0m \u001b[0m_failover_to_python\u001b[0m\u001b[0;34m(\u001b[0m\u001b[0mself\u001b[0m\u001b[0;34m)\u001b[0m\u001b[0;34m:\u001b[0m\u001b[0;34m\u001b[0m\u001b[0;34m\u001b[0m\u001b[0m\n",
      "\u001b[0;32m~/NUS/coursesTaught/penvs/p39/lib/python3.9/site-packages/pandas/io/parsers.py\u001b[0m in \u001b[0;36m__init__\u001b[0;34m(self, src, **kwds)\u001b[0m\n\u001b[1;32m   1865\u001b[0m \u001b[0;34m\u001b[0m\u001b[0m\n\u001b[1;32m   1866\u001b[0m         \u001b[0;31m# open handles\u001b[0m\u001b[0;34m\u001b[0m\u001b[0;34m\u001b[0m\u001b[0;34m\u001b[0m\u001b[0m\n\u001b[0;32m-> 1867\u001b[0;31m         \u001b[0mself\u001b[0m\u001b[0;34m.\u001b[0m\u001b[0m_open_handles\u001b[0m\u001b[0;34m(\u001b[0m\u001b[0msrc\u001b[0m\u001b[0;34m,\u001b[0m \u001b[0mkwds\u001b[0m\u001b[0;34m)\u001b[0m\u001b[0;34m\u001b[0m\u001b[0;34m\u001b[0m\u001b[0m\n\u001b[0m\u001b[1;32m   1868\u001b[0m         \u001b[0;32massert\u001b[0m \u001b[0mself\u001b[0m\u001b[0;34m.\u001b[0m\u001b[0mhandles\u001b[0m \u001b[0;32mis\u001b[0m \u001b[0;32mnot\u001b[0m \u001b[0;32mNone\u001b[0m\u001b[0;34m\u001b[0m\u001b[0;34m\u001b[0m\u001b[0m\n\u001b[1;32m   1869\u001b[0m         \u001b[0;32mfor\u001b[0m \u001b[0mkey\u001b[0m \u001b[0;32min\u001b[0m \u001b[0;34m(\u001b[0m\u001b[0;34m\"storage_options\"\u001b[0m\u001b[0;34m,\u001b[0m \u001b[0;34m\"encoding\"\u001b[0m\u001b[0;34m,\u001b[0m \u001b[0;34m\"memory_map\"\u001b[0m\u001b[0;34m,\u001b[0m \u001b[0;34m\"compression\"\u001b[0m\u001b[0;34m)\u001b[0m\u001b[0;34m:\u001b[0m\u001b[0;34m\u001b[0m\u001b[0;34m\u001b[0m\u001b[0m\n",
      "\u001b[0;32m~/NUS/coursesTaught/penvs/p39/lib/python3.9/site-packages/pandas/io/parsers.py\u001b[0m in \u001b[0;36m_open_handles\u001b[0;34m(self, src, kwds)\u001b[0m\n\u001b[1;32m   1360\u001b[0m         \u001b[0mLet\u001b[0m \u001b[0mthe\u001b[0m \u001b[0mreaders\u001b[0m \u001b[0mopen\u001b[0m \u001b[0mIOHanldes\u001b[0m \u001b[0mafter\u001b[0m \u001b[0mthey\u001b[0m \u001b[0mare\u001b[0m \u001b[0mdone\u001b[0m \u001b[0;32mwith\u001b[0m \u001b[0mtheir\u001b[0m \u001b[0mpotential\u001b[0m \u001b[0mraises\u001b[0m\u001b[0;34m.\u001b[0m\u001b[0;34m\u001b[0m\u001b[0;34m\u001b[0m\u001b[0m\n\u001b[1;32m   1361\u001b[0m         \"\"\"\n\u001b[0;32m-> 1362\u001b[0;31m         self.handles = get_handle(\n\u001b[0m\u001b[1;32m   1363\u001b[0m             \u001b[0msrc\u001b[0m\u001b[0;34m,\u001b[0m\u001b[0;34m\u001b[0m\u001b[0;34m\u001b[0m\u001b[0m\n\u001b[1;32m   1364\u001b[0m             \u001b[0;34m\"r\"\u001b[0m\u001b[0;34m,\u001b[0m\u001b[0;34m\u001b[0m\u001b[0;34m\u001b[0m\u001b[0m\n",
      "\u001b[0;32m~/NUS/coursesTaught/penvs/p39/lib/python3.9/site-packages/pandas/io/common.py\u001b[0m in \u001b[0;36mget_handle\u001b[0;34m(path_or_buf, mode, encoding, compression, memory_map, is_text, errors, storage_options)\u001b[0m\n\u001b[1;32m    645\u001b[0m                 \u001b[0merrors\u001b[0m \u001b[0;34m=\u001b[0m \u001b[0;34m\"replace\"\u001b[0m\u001b[0;34m\u001b[0m\u001b[0;34m\u001b[0m\u001b[0m\n\u001b[1;32m    646\u001b[0m             \u001b[0;31m# Encoding\u001b[0m\u001b[0;34m\u001b[0m\u001b[0;34m\u001b[0m\u001b[0;34m\u001b[0m\u001b[0m\n\u001b[0;32m--> 647\u001b[0;31m             handle = open(\n\u001b[0m\u001b[1;32m    648\u001b[0m                 \u001b[0mhandle\u001b[0m\u001b[0;34m,\u001b[0m\u001b[0;34m\u001b[0m\u001b[0;34m\u001b[0m\u001b[0m\n\u001b[1;32m    649\u001b[0m                 \u001b[0mioargs\u001b[0m\u001b[0;34m.\u001b[0m\u001b[0mmode\u001b[0m\u001b[0;34m,\u001b[0m\u001b[0;34m\u001b[0m\u001b[0;34m\u001b[0m\u001b[0m\n",
      "\u001b[0;31mFileNotFoundError\u001b[0m: [Errno 2] No such file or directory: 'data/sim_anneal/angled_blob.csv'"
     ]
    }
   ],
   "source": [
    "angled_blob = pd.read_csv(\"data/sim_anneal/angled_blob.csv\", index_col = 0)\n",
    "less_angled_blob = pd.read_csv(\"data/sim_anneal/less_angled_blob.csv\", index_col = 0)\n",
    "random_cloud = pd.read_csv(\"data/sim_anneal/random_cloud.csv\", index_col = 0)\n",
    "slanted_less = pd.read_csv(\"data/sim_anneal/slanted_less.csv\", index_col = 0)\n",
    "dino = pd.read_csv(\"data/sim_anneal/Datasaurus_data.csv\", header = None, names = [\"x\", \"y\"])"
   ]
  },
  {
   "cell_type": "code",
   "execution_count": 4,
   "id": "every-truth",
   "metadata": {},
   "outputs": [],
   "source": [
    "retail = pd.read_csv(\"../data/online_retail_small.csv\", parse_dates = [\"InvoiceDate\"])\n",
    "retail[\"Country\"] = retail.Country.astype(\"category\")"
   ]
  },
  {
   "cell_type": "code",
   "execution_count": 34,
   "id": "sunset-niger",
   "metadata": {},
   "outputs": [],
   "source": [
    "animal = pd.DataFrame([(0, 'Cat'), (1, 'Dog'), (2, 'Rabbit'), (3, 'Cat'), (4, 'Cat'), (5, 'Dog')],\n",
    "                  columns=('id', 'class'))\n",
    "animal[\"class\"] = animal[\"class\"].astype(\"category\")"
   ]
  },
  {
   "cell_type": "markdown",
   "id": "rotary-damage",
   "metadata": {},
   "source": [
    "# Basic Dataset (Cat/Dog)\n",
    "Shuffle / RowDuplicate / Inflection / Nullify"
   ]
  },
  {
   "cell_type": "code",
   "execution_count": 35,
   "id": "6e1f5bc1",
   "metadata": {},
   "outputs": [
    {
     "data": {
      "text/plain": [
       "(6, 2)"
      ]
     },
     "execution_count": 35,
     "metadata": {},
     "output_type": "execute_result"
    }
   ],
   "source": [
    "animal.shape"
   ]
  },
  {
   "cell_type": "code",
   "execution_count": 53,
   "id": "creative-depth",
   "metadata": {
    "tags": []
   },
   "outputs": [],
   "source": [
    "shuffle_stainer = ShuffleStainer()\n",
    "dup_stainer = RowDuplicateStainer(deg = 0.8, row_idx=[1,2,5], max_rep = 2)\n",
    "inflection_stainer = InflectionStainer()\n",
    "null_stainer = NullifyStainer(deg = 0.1) # ,new_val , new_type = True)"
   ]
  },
  {
   "cell_type": "code",
   "execution_count": 7,
   "id": "changing-direction",
   "metadata": {
    "jupyter": {
     "source_hidden": true
    },
    "tags": []
   },
   "outputs": [],
   "source": [
    "test1 = DirtyDF(animal, seed = 123).add_stainers([shuffle_stainer, dup_stainer, inflection_stainer, null_stainer])"
   ]
  },
  {
   "cell_type": "code",
   "execution_count": 54,
   "id": "28766802",
   "metadata": {
    "jupyter": {
     "source_hidden": true
    },
    "tags": []
   },
   "outputs": [],
   "source": [
    "test2 = DirtyDF(animal, seed = 123).add_stainers([shuffle_stainer, dup_stainer], use_orig_row=True)"
   ]
  },
  {
   "cell_type": "code",
   "execution_count": 55,
   "id": "artificial-multimedia",
   "metadata": {
    "jupyter": {
     "outputs_hidden": true,
     "source_hidden": true
    },
    "tags": []
   },
   "outputs": [
    {
     "name": "stdout",
     "output_type": "stream",
     "text": [
      "1. Shuffle\n",
      "2. Add Duplicates\n"
     ]
    }
   ],
   "source": [
    "test2.summarise_stainers()"
   ]
  },
  {
   "cell_type": "code",
   "execution_count": 56,
   "id": "9ed06a40",
   "metadata": {},
   "outputs": [],
   "source": [
    "r3 = test2.run_stainer()"
   ]
  },
  {
   "cell_type": "code",
   "execution_count": 57,
   "id": "b666d007",
   "metadata": {},
   "outputs": [
    {
     "data": {
      "text/html": [
       "<div>\n",
       "<style scoped>\n",
       "    .dataframe tbody tr th:only-of-type {\n",
       "        vertical-align: middle;\n",
       "    }\n",
       "\n",
       "    .dataframe tbody tr th {\n",
       "        vertical-align: top;\n",
       "    }\n",
       "\n",
       "    .dataframe thead th {\n",
       "        text-align: right;\n",
       "    }\n",
       "</style>\n",
       "<table border=\"1\" class=\"dataframe\">\n",
       "  <thead>\n",
       "    <tr style=\"text-align: right;\">\n",
       "      <th></th>\n",
       "      <th>id</th>\n",
       "      <th>class</th>\n",
       "    </tr>\n",
       "  </thead>\n",
       "  <tbody>\n",
       "    <tr>\n",
       "      <th>0</th>\n",
       "      <td>4</td>\n",
       "      <td>Cat</td>\n",
       "    </tr>\n",
       "    <tr>\n",
       "      <th>1</th>\n",
       "      <td>0</td>\n",
       "      <td>Cat</td>\n",
       "    </tr>\n",
       "    <tr>\n",
       "      <th>2</th>\n",
       "      <td>2</td>\n",
       "      <td>Rabbit</td>\n",
       "    </tr>\n",
       "    <tr>\n",
       "      <th>3</th>\n",
       "      <td>3</td>\n",
       "      <td>Cat</td>\n",
       "    </tr>\n",
       "    <tr>\n",
       "      <th>4</th>\n",
       "      <td>1</td>\n",
       "      <td>Dog</td>\n",
       "    </tr>\n",
       "    <tr>\n",
       "      <th>5</th>\n",
       "      <td>5</td>\n",
       "      <td>Dog</td>\n",
       "    </tr>\n",
       "  </tbody>\n",
       "</table>\n",
       "</div>"
      ],
      "text/plain": [
       "   id   class\n",
       "0   4     Cat\n",
       "1   0     Cat\n",
       "2   2  Rabbit\n",
       "3   3     Cat\n",
       "4   1     Dog\n",
       "5   5     Dog"
      ]
     },
     "execution_count": 57,
     "metadata": {},
     "output_type": "execute_result"
    }
   ],
   "source": [
    "r3.get_df()"
   ]
  },
  {
   "cell_type": "code",
   "execution_count": 36,
   "id": "fb6c27e7",
   "metadata": {},
   "outputs": [
    {
     "data": {
      "text/html": [
       "<div>\n",
       "<style scoped>\n",
       "    .dataframe tbody tr th:only-of-type {\n",
       "        vertical-align: middle;\n",
       "    }\n",
       "\n",
       "    .dataframe tbody tr th {\n",
       "        vertical-align: top;\n",
       "    }\n",
       "\n",
       "    .dataframe thead th {\n",
       "        text-align: right;\n",
       "    }\n",
       "</style>\n",
       "<table border=\"1\" class=\"dataframe\">\n",
       "  <thead>\n",
       "    <tr style=\"text-align: right;\">\n",
       "      <th></th>\n",
       "      <th>id</th>\n",
       "      <th>class</th>\n",
       "    </tr>\n",
       "  </thead>\n",
       "  <tbody>\n",
       "    <tr>\n",
       "      <th>0</th>\n",
       "      <td>0</td>\n",
       "      <td>Cat</td>\n",
       "    </tr>\n",
       "    <tr>\n",
       "      <th>1</th>\n",
       "      <td>1</td>\n",
       "      <td>Dog</td>\n",
       "    </tr>\n",
       "    <tr>\n",
       "      <th>2</th>\n",
       "      <td>2</td>\n",
       "      <td>Rabbit</td>\n",
       "    </tr>\n",
       "    <tr>\n",
       "      <th>3</th>\n",
       "      <td>3</td>\n",
       "      <td>Cat</td>\n",
       "    </tr>\n",
       "    <tr>\n",
       "      <th>4</th>\n",
       "      <td>4</td>\n",
       "      <td>Cat</td>\n",
       "    </tr>\n",
       "    <tr>\n",
       "      <th>5</th>\n",
       "      <td>5</td>\n",
       "      <td>Dog</td>\n",
       "    </tr>\n",
       "  </tbody>\n",
       "</table>\n",
       "</div>"
      ],
      "text/plain": [
       "   id   class\n",
       "0   0     Cat\n",
       "1   1     Dog\n",
       "2   2  Rabbit\n",
       "3   3     Cat\n",
       "4   4     Cat\n",
       "5   5     Dog"
      ]
     },
     "execution_count": 36,
     "metadata": {},
     "output_type": "execute_result"
    }
   ],
   "source": [
    "animal"
   ]
  },
  {
   "cell_type": "code",
   "execution_count": 9,
   "id": "italic-intermediate",
   "metadata": {
    "jupyter": {
     "source_hidden": true
    },
    "tags": []
   },
   "outputs": [],
   "source": [
    "r1 = test1.run_stainer()\n",
    "r2 = r1.run_stainer()"
   ]
  },
  {
   "cell_type": "code",
   "execution_count": 11,
   "id": "frank-patrol",
   "metadata": {
    "jupyter": {
     "source_hidden": true
    },
    "tags": []
   },
   "outputs": [],
   "source": [
    "r_final = test1.run_stainer().run_stainer().run_stainer().run_stainer()"
   ]
  },
  {
   "cell_type": "code",
   "execution_count": 12,
   "id": "breeding-preparation",
   "metadata": {
    "jupyter": {
     "outputs_hidden": true,
     "source_hidden": true
    },
    "tags": []
   },
   "outputs": [
    {
     "data": {
      "text/html": [
       "<div>\n",
       "<style scoped>\n",
       "    .dataframe tbody tr th:only-of-type {\n",
       "        vertical-align: middle;\n",
       "    }\n",
       "\n",
       "    .dataframe tbody tr th {\n",
       "        vertical-align: top;\n",
       "    }\n",
       "\n",
       "    .dataframe thead th {\n",
       "        text-align: right;\n",
       "    }\n",
       "</style>\n",
       "<table border=\"1\" class=\"dataframe\">\n",
       "  <thead>\n",
       "    <tr style=\"text-align: right;\">\n",
       "      <th></th>\n",
       "      <th>id</th>\n",
       "      <th>class</th>\n",
       "    </tr>\n",
       "  </thead>\n",
       "  <tbody>\n",
       "    <tr>\n",
       "      <th>0</th>\n",
       "      <td>4</td>\n",
       "      <td>Cat</td>\n",
       "    </tr>\n",
       "    <tr>\n",
       "      <th>1</th>\n",
       "      <td>0</td>\n",
       "      <td>Cat</td>\n",
       "    </tr>\n",
       "    <tr>\n",
       "      <th>2</th>\n",
       "      <td>0</td>\n",
       "      <td>Cat</td>\n",
       "    </tr>\n",
       "    <tr>\n",
       "      <th>3</th>\n",
       "      <td>0</td>\n",
       "      <td>Cat</td>\n",
       "    </tr>\n",
       "    <tr>\n",
       "      <th>4</th>\n",
       "      <td>2</td>\n",
       "      <td>Rabbit</td>\n",
       "    </tr>\n",
       "    <tr>\n",
       "      <th>5</th>\n",
       "      <td>2</td>\n",
       "      <td>Rabbit</td>\n",
       "    </tr>\n",
       "    <tr>\n",
       "      <th>6</th>\n",
       "      <td>3</td>\n",
       "      <td>Cat</td>\n",
       "    </tr>\n",
       "    <tr>\n",
       "      <th>7</th>\n",
       "      <td>1</td>\n",
       "      <td>Dog</td>\n",
       "    </tr>\n",
       "    <tr>\n",
       "      <th>8</th>\n",
       "      <td>1</td>\n",
       "      <td>Dog</td>\n",
       "    </tr>\n",
       "    <tr>\n",
       "      <th>9</th>\n",
       "      <td>1</td>\n",
       "      <td>Dog</td>\n",
       "    </tr>\n",
       "    <tr>\n",
       "      <th>10</th>\n",
       "      <td>5</td>\n",
       "      <td>Dog</td>\n",
       "    </tr>\n",
       "  </tbody>\n",
       "</table>\n",
       "</div>"
      ],
      "text/plain": [
       "    id   class\n",
       "0    4     Cat\n",
       "1    0     Cat\n",
       "2    0     Cat\n",
       "3    0     Cat\n",
       "4    2  Rabbit\n",
       "5    2  Rabbit\n",
       "6    3     Cat\n",
       "7    1     Dog\n",
       "8    1     Dog\n",
       "9    1     Dog\n",
       "10   5     Dog"
      ]
     },
     "execution_count": 12,
     "metadata": {},
     "output_type": "execute_result"
    }
   ],
   "source": [
    "r2.get_df()"
   ]
  },
  {
   "cell_type": "code",
   "execution_count": 135,
   "id": "vietnamese-simpson",
   "metadata": {
    "collapsed": true,
    "jupyter": {
     "outputs_hidden": true,
     "source_hidden": true
    },
    "tags": []
   },
   "outputs": [
    {
     "data": {
      "text/plain": [
       "{0: [1, 2, 3], 1: [7, 8, 9], 2: [4, 5], 3: [6], 4: [0], 5: [10]}"
      ]
     },
     "execution_count": 135,
     "metadata": {},
     "output_type": "execute_result"
    }
   ],
   "source": [
    "r2.get_mapping()"
   ]
  },
  {
   "cell_type": "code",
   "execution_count": 136,
   "id": "reflected-opening",
   "metadata": {
    "collapsed": true,
    "jupyter": {
     "outputs_hidden": true,
     "source_hidden": true
    },
    "tags": []
   },
   "outputs": [
    {
     "data": {
      "text/plain": [
       "{4: [0], 0: [1], 2: [2], 3: [3], 1: [4], 5: [5]}"
      ]
     },
     "execution_count": 136,
     "metadata": {},
     "output_type": "execute_result"
    }
   ],
   "source": [
    "r2.get_map_from_history(0)"
   ]
  },
  {
   "cell_type": "code",
   "execution_count": 137,
   "id": "physical-fisher",
   "metadata": {
    "collapsed": true,
    "jupyter": {
     "outputs_hidden": true,
     "source_hidden": true
    },
    "tags": []
   },
   "outputs": [
    {
     "data": {
      "text/plain": [
       "{0: [0], 1: [1, 2, 3], 2: [4, 5], 3: [6], 4: [7, 8, 9], 5: [10]}"
      ]
     },
     "execution_count": 137,
     "metadata": {},
     "output_type": "execute_result"
    }
   ],
   "source": [
    "r2.get_previous_map()"
   ]
  },
  {
   "cell_type": "code",
   "execution_count": 157,
   "id": "determined-formula",
   "metadata": {
    "collapsed": true,
    "jupyter": {
     "outputs_hidden": true,
     "source_hidden": true
    },
    "tags": []
   },
   "outputs": [
    {
     "name": "stdout",
     "output_type": "stream",
     "text": [
      "1. Nullify\n",
      "2. Add Duplicates\n",
      "3. Inflection\n",
      "4. Shuffle\n"
     ]
    }
   ],
   "source": [
    "r3 = test1.shuffle_stainers()\n",
    "r3.summarise_stainers()"
   ]
  },
  {
   "cell_type": "code",
   "execution_count": 175,
   "id": "white-version",
   "metadata": {
    "collapsed": true,
    "jupyter": {
     "outputs_hidden": true,
     "source_hidden": true
    },
    "tags": []
   },
   "outputs": [
    {
     "data": {
      "text/html": [
       "<div>\n",
       "<style scoped>\n",
       "    .dataframe tbody tr th:only-of-type {\n",
       "        vertical-align: middle;\n",
       "    }\n",
       "\n",
       "    .dataframe tbody tr th {\n",
       "        vertical-align: top;\n",
       "    }\n",
       "\n",
       "    .dataframe thead th {\n",
       "        text-align: right;\n",
       "    }\n",
       "</style>\n",
       "<table border=\"1\" class=\"dataframe\">\n",
       "  <thead>\n",
       "    <tr style=\"text-align: right;\">\n",
       "      <th></th>\n",
       "      <th>id</th>\n",
       "      <th>class</th>\n",
       "    </tr>\n",
       "  </thead>\n",
       "  <tbody>\n",
       "    <tr>\n",
       "      <th>0</th>\n",
       "      <td>0</td>\n",
       "      <td>Cat</td>\n",
       "    </tr>\n",
       "    <tr>\n",
       "      <th>1</th>\n",
       "      <td>1</td>\n",
       "      <td>NaN</td>\n",
       "    </tr>\n",
       "    <tr>\n",
       "      <th>2</th>\n",
       "      <td>1</td>\n",
       "      <td>NaN</td>\n",
       "    </tr>\n",
       "    <tr>\n",
       "      <th>3</th>\n",
       "      <td>1</td>\n",
       "      <td>NaN</td>\n",
       "    </tr>\n",
       "    <tr>\n",
       "      <th>4</th>\n",
       "      <td>2</td>\n",
       "      <td>Rabbit</td>\n",
       "    </tr>\n",
       "    <tr>\n",
       "      <th>5</th>\n",
       "      <td>3</td>\n",
       "      <td>Cat</td>\n",
       "    </tr>\n",
       "    <tr>\n",
       "      <th>6</th>\n",
       "      <td>3</td>\n",
       "      <td>Cat</td>\n",
       "    </tr>\n",
       "    <tr>\n",
       "      <th>7</th>\n",
       "      <td>4</td>\n",
       "      <td>Cat</td>\n",
       "    </tr>\n",
       "    <tr>\n",
       "      <th>8</th>\n",
       "      <td>4</td>\n",
       "      <td>Cat</td>\n",
       "    </tr>\n",
       "    <tr>\n",
       "      <th>9</th>\n",
       "      <td>5</td>\n",
       "      <td>Dog</td>\n",
       "    </tr>\n",
       "  </tbody>\n",
       "</table>\n",
       "</div>"
      ],
      "text/plain": [
       "   id   class\n",
       "0   0     Cat\n",
       "1   1     NaN\n",
       "2   1     NaN\n",
       "3   1     NaN\n",
       "4   2  Rabbit\n",
       "5   3     Cat\n",
       "6   3     Cat\n",
       "7   4     Cat\n",
       "8   4     Cat\n",
       "9   5     Dog"
      ]
     },
     "execution_count": 175,
     "metadata": {},
     "output_type": "execute_result"
    }
   ],
   "source": [
    "r3b = r3.run_stainer().run_stainer()\n",
    "r3b.get_df()"
   ]
  },
  {
   "cell_type": "code",
   "execution_count": 189,
   "id": "speaking-florida",
   "metadata": {
    "collapsed": true,
    "jupyter": {
     "outputs_hidden": true,
     "source_hidden": true
    },
    "tags": []
   },
   "outputs": [
    {
     "name": "stdout",
     "output_type": "stream",
     "text": [
      "1. Nullify \n",
      " Replaced 1 values to become empty in specificed rows/cols. \n",
      " Time taken: 0.0010068416595458984 \n",
      "\n",
      "2. Add Duplicates \n",
      " Added Duplicate Rows for 3 rows. \n",
      "  Each duplicated row should appear a maximum of 3 times. \n",
      "  Rows added: 4 \n",
      " Time taken: 0.001989603042602539 \n",
      "\n",
      "3. Inflection \n",
      " Categorical inflections on:\n",
      "{1: {'Cat': ['CAT', 'cat', 'Cat', 'Cats'], 'Rabbit': ['rabbit', 'Rabbit', 'RABBIT', 'Rabbits'], 'Dog': ['dog', 'Dogs', 'Dog', 'DOG']}} \n",
      " Time taken: 0.003989219665527344 \n",
      "\n",
      "4. Shuffle \n",
      " Order of rows randomized \n",
      " Time taken: 0.22520709037780762 \n",
      "\n"
     ]
    }
   ],
   "source": [
    "r3b.run_stainer().run_stainer().print_history()"
   ]
  },
  {
   "cell_type": "code",
   "execution_count": 183,
   "id": "static-silly",
   "metadata": {
    "jupyter": {
     "source_hidden": true
    },
    "tags": []
   },
   "outputs": [],
   "source": [
    "for _ in range(300):\n",
    "    test1.shuffle_stainers().run_stainer().run_stainer().run_stainer().run_stainer().summarise_stainers()"
   ]
  },
  {
   "cell_type": "markdown",
   "id": "persistent-paste",
   "metadata": {},
   "source": [
    "# Retail"
   ]
  },
  {
   "cell_type": "code",
   "execution_count": 191,
   "id": "fiscal-issue",
   "metadata": {
    "collapsed": true,
    "jupyter": {
     "outputs_hidden": true,
     "source_hidden": true
    },
    "tags": []
   },
   "outputs": [
    {
     "data": {
      "text/html": [
       "<div>\n",
       "<style scoped>\n",
       "    .dataframe tbody tr th:only-of-type {\n",
       "        vertical-align: middle;\n",
       "    }\n",
       "\n",
       "    .dataframe tbody tr th {\n",
       "        vertical-align: top;\n",
       "    }\n",
       "\n",
       "    .dataframe thead th {\n",
       "        text-align: right;\n",
       "    }\n",
       "</style>\n",
       "<table border=\"1\" class=\"dataframe\">\n",
       "  <thead>\n",
       "    <tr style=\"text-align: right;\">\n",
       "      <th></th>\n",
       "      <th>InvoiceNo</th>\n",
       "      <th>StockCode</th>\n",
       "      <th>Description</th>\n",
       "      <th>Quantity</th>\n",
       "      <th>InvoiceDate</th>\n",
       "      <th>UnitPrice</th>\n",
       "      <th>CustomerID</th>\n",
       "      <th>Country</th>\n",
       "    </tr>\n",
       "  </thead>\n",
       "  <tbody>\n",
       "    <tr>\n",
       "      <th>0</th>\n",
       "      <td>536365</td>\n",
       "      <td>85123A</td>\n",
       "      <td>WHITE HANGING HEART T-LIGHT HOLDER</td>\n",
       "      <td>6</td>\n",
       "      <td>2010-01-12 08:26:00</td>\n",
       "      <td>2.55</td>\n",
       "      <td>17850.0</td>\n",
       "      <td>United Kingdom</td>\n",
       "    </tr>\n",
       "    <tr>\n",
       "      <th>1</th>\n",
       "      <td>536365</td>\n",
       "      <td>71053</td>\n",
       "      <td>WHITE METAL LANTERN</td>\n",
       "      <td>6</td>\n",
       "      <td>2010-01-12 08:26:00</td>\n",
       "      <td>3.39</td>\n",
       "      <td>17850.0</td>\n",
       "      <td>United Kingdom</td>\n",
       "    </tr>\n",
       "    <tr>\n",
       "      <th>2</th>\n",
       "      <td>536365</td>\n",
       "      <td>84406B</td>\n",
       "      <td>CREAM CUPID HEARTS COAT HANGER</td>\n",
       "      <td>8</td>\n",
       "      <td>2010-01-12 08:26:00</td>\n",
       "      <td>2.75</td>\n",
       "      <td>17850.0</td>\n",
       "      <td>United Kingdom</td>\n",
       "    </tr>\n",
       "    <tr>\n",
       "      <th>3</th>\n",
       "      <td>536365</td>\n",
       "      <td>84029G</td>\n",
       "      <td>KNITTED UNION FLAG HOT WATER BOTTLE</td>\n",
       "      <td>6</td>\n",
       "      <td>2010-01-12 08:26:00</td>\n",
       "      <td>3.39</td>\n",
       "      <td>17850.0</td>\n",
       "      <td>United Kingdom</td>\n",
       "    </tr>\n",
       "    <tr>\n",
       "      <th>4</th>\n",
       "      <td>536365</td>\n",
       "      <td>84029E</td>\n",
       "      <td>RED WOOLLY HOTTIE WHITE HEART.</td>\n",
       "      <td>6</td>\n",
       "      <td>2010-01-12 08:26:00</td>\n",
       "      <td>3.39</td>\n",
       "      <td>17850.0</td>\n",
       "      <td>United Kingdom</td>\n",
       "    </tr>\n",
       "  </tbody>\n",
       "</table>\n",
       "</div>"
      ],
      "text/plain": [
       "  InvoiceNo StockCode                          Description  Quantity  \\\n",
       "0    536365    85123A   WHITE HANGING HEART T-LIGHT HOLDER         6   \n",
       "1    536365     71053                  WHITE METAL LANTERN         6   \n",
       "2    536365    84406B       CREAM CUPID HEARTS COAT HANGER         8   \n",
       "3    536365    84029G  KNITTED UNION FLAG HOT WATER BOTTLE         6   \n",
       "4    536365    84029E       RED WOOLLY HOTTIE WHITE HEART.         6   \n",
       "\n",
       "          InvoiceDate  UnitPrice  CustomerID         Country  \n",
       "0 2010-01-12 08:26:00       2.55     17850.0  United Kingdom  \n",
       "1 2010-01-12 08:26:00       3.39     17850.0  United Kingdom  \n",
       "2 2010-01-12 08:26:00       2.75     17850.0  United Kingdom  \n",
       "3 2010-01-12 08:26:00       3.39     17850.0  United Kingdom  \n",
       "4 2010-01-12 08:26:00       3.39     17850.0  United Kingdom  "
      ]
     },
     "execution_count": 191,
     "metadata": {},
     "output_type": "execute_result"
    }
   ],
   "source": [
    "retail.head()"
   ]
  },
  {
   "cell_type": "code",
   "execution_count": 190,
   "id": "talented-correspondence",
   "metadata": {
    "jupyter": {
     "source_hidden": true
    },
    "tags": []
   },
   "outputs": [
    {
     "name": "stdout",
     "output_type": "stream",
     "text": [
      "<class 'pandas.core.frame.DataFrame'>\n",
      "RangeIndex: 5000 entries, 0 to 4999\n",
      "Data columns (total 8 columns):\n",
      " #   Column       Non-Null Count  Dtype         \n",
      "---  ------       --------------  -----         \n",
      " 0   InvoiceNo    5000 non-null   object        \n",
      " 1   StockCode    5000 non-null   object        \n",
      " 2   Description  4988 non-null   object        \n",
      " 3   Quantity     5000 non-null   int64         \n",
      " 4   InvoiceDate  5000 non-null   datetime64[ns]\n",
      " 5   UnitPrice    5000 non-null   float64       \n",
      " 6   CustomerID   3795 non-null   float64       \n",
      " 7   Country      5000 non-null   category      \n",
      "dtypes: category(1), datetime64[ns](1), float64(2), int64(1), object(3)\n",
      "memory usage: 278.8+ KB\n"
     ]
    }
   ],
   "source": [
    "retail.info()"
   ]
  },
  {
   "cell_type": "code",
   "execution_count": 216,
   "id": "binding-sunday",
   "metadata": {},
   "outputs": [],
   "source": [
    "dt_format_stainer = DatetimeFormatStainer()\n",
    "date_format_stainer = DateFormatStainer()\n",
    "dt_split_stainer = DatetimeSplitStainer()\n",
    "func_stainer = FTransformStainer(deg = 1, col_idx = [5])"
   ]
  },
  {
   "cell_type": "code",
   "execution_count": 199,
   "id": "professional-bibliography",
   "metadata": {},
   "outputs": [],
   "source": [
    "test2 = DirtyDF(retail, seed = 123)"
   ]
  },
  {
   "cell_type": "code",
   "execution_count": 186,
   "id": "figured-smart",
   "metadata": {
    "collapsed": true,
    "jupyter": {
     "outputs_hidden": true,
     "source_hidden": true
    },
    "tags": []
   },
   "outputs": [
    {
     "name": "stdout",
     "output_type": "stream",
     "text": [
      "<class 'pandas.core.frame.DataFrame'>\n",
      "RangeIndex: 5000 entries, 0 to 4999\n",
      "Data columns (total 8 columns):\n",
      " #   Column       Non-Null Count  Dtype         \n",
      "---  ------       --------------  -----         \n",
      " 0   InvoiceNo    5000 non-null   object        \n",
      " 1   StockCode    5000 non-null   object        \n",
      " 2   Description  4988 non-null   object        \n",
      " 3   Quantity     5000 non-null   int64         \n",
      " 4   InvoiceDate  5000 non-null   datetime64[ns]\n",
      " 5   UnitPrice    5000 non-null   float64       \n",
      " 6   CustomerID   3795 non-null   float64       \n",
      " 7   Country      5000 non-null   category      \n",
      "dtypes: category(1), datetime64[ns](1), float64(2), int64(1), object(3)\n",
      "memory usage: 278.8+ KB\n"
     ]
    }
   ],
   "source": [
    "test2.get_df().info()"
   ]
  },
  {
   "cell_type": "code",
   "execution_count": 212,
   "id": "detected-meaning",
   "metadata": {},
   "outputs": [],
   "source": [
    "r4 = test2.add_stainers([null_stainer, shuffle_stainer, dt_format_stainer, func_stainer]).run_all_stainers()"
   ]
  },
  {
   "cell_type": "code",
   "execution_count": 213,
   "id": "behind-tenant",
   "metadata": {
    "collapsed": true,
    "jupyter": {
     "outputs_hidden": true,
     "source_hidden": true
    },
    "tags": []
   },
   "outputs": [
    {
     "data": {
      "text/html": [
       "<div>\n",
       "<style scoped>\n",
       "    .dataframe tbody tr th:only-of-type {\n",
       "        vertical-align: middle;\n",
       "    }\n",
       "\n",
       "    .dataframe tbody tr th {\n",
       "        vertical-align: top;\n",
       "    }\n",
       "\n",
       "    .dataframe thead th {\n",
       "        text-align: right;\n",
       "    }\n",
       "</style>\n",
       "<table border=\"1\" class=\"dataframe\">\n",
       "  <thead>\n",
       "    <tr style=\"text-align: right;\">\n",
       "      <th></th>\n",
       "      <th>InvoiceNo</th>\n",
       "      <th>StockCode</th>\n",
       "      <th>Description</th>\n",
       "      <th>Quantity</th>\n",
       "      <th>InvoiceDate</th>\n",
       "      <th>UnitPrice</th>\n",
       "      <th>CustomerID</th>\n",
       "      <th>Country</th>\n",
       "    </tr>\n",
       "  </thead>\n",
       "  <tbody>\n",
       "    <tr>\n",
       "      <th>0</th>\n",
       "      <td>536375</td>\n",
       "      <td>82486</td>\n",
       "      <td>WOOD S/3 CABINET ANT WHITE FINISH</td>\n",
       "      <td>NaN</td>\n",
       "      <td>12-January-2010 09:32:00</td>\n",
       "      <td>NaN</td>\n",
       "      <td>NaN</td>\n",
       "      <td>United Kingdom</td>\n",
       "    </tr>\n",
       "    <tr>\n",
       "      <th>1</th>\n",
       "      <td>536544</td>\n",
       "      <td>22375</td>\n",
       "      <td>AIRLINE BAG VINTAGE JET SET BROWN</td>\n",
       "      <td>2.0</td>\n",
       "      <td>12/Jan/2010 14:32:00</td>\n",
       "      <td>4769.52</td>\n",
       "      <td>NaN</td>\n",
       "      <td>United Kingdom</td>\n",
       "    </tr>\n",
       "    <tr>\n",
       "      <th>2</th>\n",
       "      <td>536749</td>\n",
       "      <td>85106</td>\n",
       "      <td>CUT GLASS HEXAGON T-LIGHT HOLDER</td>\n",
       "      <td>2.0</td>\n",
       "      <td>12-February-2010 13:49:00</td>\n",
       "      <td>12.81</td>\n",
       "      <td>17976.0</td>\n",
       "      <td>United Kingdom</td>\n",
       "    </tr>\n",
       "    <tr>\n",
       "      <th>3</th>\n",
       "      <td>536527</td>\n",
       "      <td>22244</td>\n",
       "      <td>3 HOOK HANGER MAGIC GARDEN</td>\n",
       "      <td>12.0</td>\n",
       "      <td>12/Jan/2010 13:04:00</td>\n",
       "      <td>7.03</td>\n",
       "      <td>12662.0</td>\n",
       "      <td>Germany</td>\n",
       "    </tr>\n",
       "    <tr>\n",
       "      <th>4</th>\n",
       "      <td>536412</td>\n",
       "      <td>22328</td>\n",
       "      <td>ROUND SNACK BOXES SET OF 4 FRUITS</td>\n",
       "      <td>1.0</td>\n",
       "      <td>12-January-2010 11:49:00</td>\n",
       "      <td>19.11</td>\n",
       "      <td>17920.0</td>\n",
       "      <td>United Kingdom</td>\n",
       "    </tr>\n",
       "    <tr>\n",
       "      <th>...</th>\n",
       "      <td>...</td>\n",
       "      <td>...</td>\n",
       "      <td>...</td>\n",
       "      <td>...</td>\n",
       "      <td>...</td>\n",
       "      <td>...</td>\n",
       "      <td>...</td>\n",
       "      <td>...</td>\n",
       "    </tr>\n",
       "    <tr>\n",
       "      <th>4995</th>\n",
       "      <td>536544</td>\n",
       "      <td>85123A</td>\n",
       "      <td>WHITE HANGING HEART T-LIGHT HOLDER</td>\n",
       "      <td>4.0</td>\n",
       "      <td>12-January-2010 14:32:00</td>\n",
       "      <td>368.71</td>\n",
       "      <td>NaN</td>\n",
       "      <td>United Kingdom</td>\n",
       "    </tr>\n",
       "    <tr>\n",
       "      <th>4996</th>\n",
       "      <td>536570</td>\n",
       "      <td>22113</td>\n",
       "      <td>GREY HEART HOT WATER BOTTLE</td>\n",
       "      <td>NaN</td>\n",
       "      <td>12/Jan/2010 15:35:00</td>\n",
       "      <td>29.67</td>\n",
       "      <td>14496.0</td>\n",
       "      <td>United Kingdom</td>\n",
       "    </tr>\n",
       "    <tr>\n",
       "      <th>4997</th>\n",
       "      <td>536409</td>\n",
       "      <td>85099B</td>\n",
       "      <td>JUMBO BAG RED RETROSPOT</td>\n",
       "      <td>2.0</td>\n",
       "      <td>12/Jan/2010 11:45:00</td>\n",
       "      <td>7.03</td>\n",
       "      <td>17908.0</td>\n",
       "      <td>United Kingdom</td>\n",
       "    </tr>\n",
       "    <tr>\n",
       "      <th>4998</th>\n",
       "      <td>536798</td>\n",
       "      <td>82567</td>\n",
       "      <td>AIRLINE LOUNGE,METAL SIGN</td>\n",
       "      <td>12.0</td>\n",
       "      <td>NaT</td>\n",
       "      <td>8.17</td>\n",
       "      <td>17838.0</td>\n",
       "      <td>United Kingdom</td>\n",
       "    </tr>\n",
       "    <tr>\n",
       "      <th>4999</th>\n",
       "      <td>536588</td>\n",
       "      <td>22962</td>\n",
       "      <td>JAM JAR WITH PINK LID</td>\n",
       "      <td>12.0</td>\n",
       "      <td>NaT</td>\n",
       "      <td>2.34</td>\n",
       "      <td>17069.0</td>\n",
       "      <td>United Kingdom</td>\n",
       "    </tr>\n",
       "  </tbody>\n",
       "</table>\n",
       "<p>5000 rows × 8 columns</p>\n",
       "</div>"
      ],
      "text/plain": [
       "     InvoiceNo StockCode                         Description  Quantity  \\\n",
       "0       536375     82486   WOOD S/3 CABINET ANT WHITE FINISH       NaN   \n",
       "1       536544     22375   AIRLINE BAG VINTAGE JET SET BROWN       2.0   \n",
       "2       536749     85106    CUT GLASS HEXAGON T-LIGHT HOLDER       2.0   \n",
       "3       536527     22244          3 HOOK HANGER MAGIC GARDEN      12.0   \n",
       "4       536412     22328  ROUND SNACK BOXES SET OF 4 FRUITS        1.0   \n",
       "...        ...       ...                                 ...       ...   \n",
       "4995    536544    85123A  WHITE HANGING HEART T-LIGHT HOLDER       4.0   \n",
       "4996    536570     22113         GREY HEART HOT WATER BOTTLE       NaN   \n",
       "4997    536409    85099B             JUMBO BAG RED RETROSPOT       2.0   \n",
       "4998    536798     82567           AIRLINE LOUNGE,METAL SIGN      12.0   \n",
       "4999    536588     22962               JAM JAR WITH PINK LID      12.0   \n",
       "\n",
       "                    InvoiceDate  UnitPrice  CustomerID         Country  \n",
       "0      12-January-2010 09:32:00        NaN         NaN  United Kingdom  \n",
       "1          12/Jan/2010 14:32:00    4769.52         NaN  United Kingdom  \n",
       "2     12-February-2010 13:49:00      12.81     17976.0  United Kingdom  \n",
       "3          12/Jan/2010 13:04:00       7.03     12662.0         Germany  \n",
       "4      12-January-2010 11:49:00      19.11     17920.0  United Kingdom  \n",
       "...                         ...        ...         ...             ...  \n",
       "4995   12-January-2010 14:32:00     368.71         NaN  United Kingdom  \n",
       "4996       12/Jan/2010 15:35:00      29.67     14496.0  United Kingdom  \n",
       "4997       12/Jan/2010 11:45:00       7.03     17908.0  United Kingdom  \n",
       "4998                        NaT       8.17     17838.0  United Kingdom  \n",
       "4999                        NaT       2.34     17069.0  United Kingdom  \n",
       "\n",
       "[5000 rows x 8 columns]"
      ]
     },
     "execution_count": 213,
     "metadata": {},
     "output_type": "execute_result"
    }
   ],
   "source": [
    "r4.get_df()"
   ]
  },
  {
   "cell_type": "code",
   "execution_count": 214,
   "id": "immediate-diversity",
   "metadata": {
    "collapsed": true,
    "jupyter": {
     "outputs_hidden": true,
     "source_hidden": true
    },
    "tags": []
   },
   "outputs": [
    {
     "name": "stdout",
     "output_type": "stream",
     "text": [
      "<class 'pandas.core.frame.DataFrame'>\n",
      "RangeIndex: 5000 entries, 0 to 4999\n",
      "Data columns (total 8 columns):\n",
      " #   Column       Non-Null Count  Dtype   \n",
      "---  ------       --------------  -----   \n",
      " 0   InvoiceNo    4522 non-null   object  \n",
      " 1   StockCode    4512 non-null   object  \n",
      " 2   Description  4492 non-null   object  \n",
      " 3   Quantity     4502 non-null   float64 \n",
      " 4   InvoiceDate  4508 non-null   object  \n",
      " 5   UnitPrice    4493 non-null   float64 \n",
      " 6   CustomerID   3395 non-null   float64 \n",
      " 7   Country      4469 non-null   category\n",
      "dtypes: category(1), float64(3), object(4)\n",
      "memory usage: 278.8+ KB\n"
     ]
    }
   ],
   "source": [
    "r4.get_df().info()"
   ]
  },
  {
   "cell_type": "code",
   "execution_count": 215,
   "id": "destroyed-billy",
   "metadata": {
    "collapsed": true,
    "jupyter": {
     "outputs_hidden": true,
     "source_hidden": true
    },
    "tags": []
   },
   "outputs": [
    {
     "name": "stdout",
     "output_type": "stream",
     "text": [
      "1. Nullify \n",
      " Replaced 4000 values to become empty in specificed rows/cols. \n",
      " Time taken: 1.1559135913848877 \n",
      "\n",
      "2. Shuffle \n",
      " Order of rows randomized \n",
      " Time taken: 0.003989219665527344 \n",
      "\n",
      "3. Datetime Formats \n",
      " Date Formats used:\n",
      "{4: ['%d/%b/%Y %H:%M:%S', '%d-%B-%Y %H:%M:%S']} \n",
      " Time taken: 0.14062070846557617 \n",
      "\n",
      "4. Function Transform \n",
      " Converted column 5 with transformation exp. \n",
      "  \n",
      " Time taken: 0.028922080993652344 \n",
      "\n"
     ]
    }
   ],
   "source": [
    "r4.print_history()"
   ]
  },
  {
   "cell_type": "code",
   "execution_count": 289,
   "id": "accepting-morris",
   "metadata": {},
   "outputs": [],
   "source": [
    "r5 = test2.add_stainers([shuffle_stainer, dt_split_stainer, func_stainer, null_stainer]).run_stainer().run_stainer().run_stainer().run_stainer()"
   ]
  },
  {
   "cell_type": "code",
   "execution_count": 293,
   "id": "frank-singer",
   "metadata": {
    "collapsed": true,
    "jupyter": {
     "outputs_hidden": true,
     "source_hidden": true
    },
    "tags": []
   },
   "outputs": [
    {
     "data": {
      "text/plain": [
       "{0: [0],\n",
       " 1: [1],\n",
       " 2: [2],\n",
       " 3: [3],\n",
       " 4: [4, 5, 6, 7, 8, 9],\n",
       " 5: [10],\n",
       " 6: [11],\n",
       " 7: [12]}"
      ]
     },
     "execution_count": 293,
     "metadata": {},
     "output_type": "execute_result"
    }
   ],
   "source": [
    "r5.get_mapping(axis = 1)"
   ]
  },
  {
   "cell_type": "code",
   "execution_count": 294,
   "id": "impaired-magnet",
   "metadata": {
    "collapsed": true,
    "jupyter": {
     "outputs_hidden": true,
     "source_hidden": true
    },
    "tags": []
   },
   "outputs": [
    {
     "data": {
      "text/html": [
       "<div>\n",
       "<style scoped>\n",
       "    .dataframe tbody tr th:only-of-type {\n",
       "        vertical-align: middle;\n",
       "    }\n",
       "\n",
       "    .dataframe tbody tr th {\n",
       "        vertical-align: top;\n",
       "    }\n",
       "\n",
       "    .dataframe thead th {\n",
       "        text-align: right;\n",
       "    }\n",
       "</style>\n",
       "<table border=\"1\" class=\"dataframe\">\n",
       "  <thead>\n",
       "    <tr style=\"text-align: right;\">\n",
       "      <th></th>\n",
       "      <th>InvoiceNo</th>\n",
       "      <th>StockCode</th>\n",
       "      <th>Description</th>\n",
       "      <th>Quantity</th>\n",
       "      <th>InvoiceDate_day</th>\n",
       "      <th>InvoiceDate_month</th>\n",
       "      <th>InvoiceDate_year</th>\n",
       "      <th>InvoiceDate_hour</th>\n",
       "      <th>InvoiceDate_minute</th>\n",
       "      <th>InvoiceDate_second</th>\n",
       "      <th>UnitPrice</th>\n",
       "      <th>CustomerID</th>\n",
       "      <th>Country</th>\n",
       "    </tr>\n",
       "  </thead>\n",
       "  <tbody>\n",
       "    <tr>\n",
       "      <th>0</th>\n",
       "      <td>536637</td>\n",
       "      <td>20878</td>\n",
       "      <td>SET/9 CHRISTMAS T-LIGHTS SCENTED</td>\n",
       "      <td>1.0</td>\n",
       "      <td>12</td>\n",
       "      <td>02</td>\n",
       "      <td>None</td>\n",
       "      <td>11</td>\n",
       "      <td>35</td>\n",
       "      <td>None</td>\n",
       "      <td>0.80</td>\n",
       "      <td>18041.0</td>\n",
       "      <td>United Kingdom</td>\n",
       "    </tr>\n",
       "    <tr>\n",
       "      <th>1</th>\n",
       "      <td>536530</td>\n",
       "      <td>22423</td>\n",
       "      <td>REGENCY CAKESTAND 3 TIER</td>\n",
       "      <td>1.0</td>\n",
       "      <td>12</td>\n",
       "      <td>01</td>\n",
       "      <td>2010</td>\n",
       "      <td>13</td>\n",
       "      <td>21</td>\n",
       "      <td>None</td>\n",
       "      <td>0.08</td>\n",
       "      <td>17905.0</td>\n",
       "      <td>United Kingdom</td>\n",
       "    </tr>\n",
       "    <tr>\n",
       "      <th>2</th>\n",
       "      <td>536401</td>\n",
       "      <td>22473</td>\n",
       "      <td>TV DINNER TRAY VINTAGE PAISLEY</td>\n",
       "      <td>1.0</td>\n",
       "      <td>12</td>\n",
       "      <td>01</td>\n",
       "      <td>2010</td>\n",
       "      <td>11</td>\n",
       "      <td>21</td>\n",
       "      <td>00</td>\n",
       "      <td>0.20</td>\n",
       "      <td>15862.0</td>\n",
       "      <td>United Kingdom</td>\n",
       "    </tr>\n",
       "    <tr>\n",
       "      <th>3</th>\n",
       "      <td>536749</td>\n",
       "      <td>22174</td>\n",
       "      <td>None</td>\n",
       "      <td>NaN</td>\n",
       "      <td>12</td>\n",
       "      <td>02</td>\n",
       "      <td>2010</td>\n",
       "      <td>13</td>\n",
       "      <td>49</td>\n",
       "      <td>00</td>\n",
       "      <td>NaN</td>\n",
       "      <td>NaN</td>\n",
       "      <td>United Kingdom</td>\n",
       "    </tr>\n",
       "    <tr>\n",
       "      <th>4</th>\n",
       "      <td>536412</td>\n",
       "      <td>22327</td>\n",
       "      <td>ROUND SNACK BOXES SET OF 4 SKULLS</td>\n",
       "      <td>NaN</td>\n",
       "      <td>12</td>\n",
       "      <td>01</td>\n",
       "      <td>2010</td>\n",
       "      <td>11</td>\n",
       "      <td>49</td>\n",
       "      <td>None</td>\n",
       "      <td>0.34</td>\n",
       "      <td>17920.0</td>\n",
       "      <td>United Kingdom</td>\n",
       "    </tr>\n",
       "    <tr>\n",
       "      <th>...</th>\n",
       "      <td>...</td>\n",
       "      <td>...</td>\n",
       "      <td>...</td>\n",
       "      <td>...</td>\n",
       "      <td>...</td>\n",
       "      <td>...</td>\n",
       "      <td>...</td>\n",
       "      <td>...</td>\n",
       "      <td>...</td>\n",
       "      <td>...</td>\n",
       "      <td>...</td>\n",
       "      <td>...</td>\n",
       "      <td>...</td>\n",
       "    </tr>\n",
       "    <tr>\n",
       "      <th>4995</th>\n",
       "      <td>536544</td>\n",
       "      <td>22558</td>\n",
       "      <td>CLOTHES PEGS RETROSPOT PACK 24</td>\n",
       "      <td>4.0</td>\n",
       "      <td>None</td>\n",
       "      <td>01</td>\n",
       "      <td>2010</td>\n",
       "      <td>14</td>\n",
       "      <td>32</td>\n",
       "      <td>00</td>\n",
       "      <td>0.40</td>\n",
       "      <td>NaN</td>\n",
       "      <td>United Kingdom</td>\n",
       "    </tr>\n",
       "    <tr>\n",
       "      <th>4996</th>\n",
       "      <td>536635</td>\n",
       "      <td>21428</td>\n",
       "      <td>None</td>\n",
       "      <td>8.0</td>\n",
       "      <td>12</td>\n",
       "      <td>02</td>\n",
       "      <td>None</td>\n",
       "      <td>11</td>\n",
       "      <td>22</td>\n",
       "      <td>00</td>\n",
       "      <td>0.24</td>\n",
       "      <td>15955.0</td>\n",
       "      <td>United Kingdom</td>\n",
       "    </tr>\n",
       "    <tr>\n",
       "      <th>4997</th>\n",
       "      <td>536544</td>\n",
       "      <td>85039A</td>\n",
       "      <td>None</td>\n",
       "      <td>3.0</td>\n",
       "      <td>12</td>\n",
       "      <td>01</td>\n",
       "      <td>2010</td>\n",
       "      <td>14</td>\n",
       "      <td>32</td>\n",
       "      <td>00</td>\n",
       "      <td>0.60</td>\n",
       "      <td>NaN</td>\n",
       "      <td>United Kingdom</td>\n",
       "    </tr>\n",
       "    <tr>\n",
       "      <th>4998</th>\n",
       "      <td>536396</td>\n",
       "      <td>None</td>\n",
       "      <td>EDWARDIAN PARASOL RED</td>\n",
       "      <td>6.0</td>\n",
       "      <td>12</td>\n",
       "      <td>01</td>\n",
       "      <td>2010</td>\n",
       "      <td>None</td>\n",
       "      <td>51</td>\n",
       "      <td>00</td>\n",
       "      <td>0.20</td>\n",
       "      <td>17850.0</td>\n",
       "      <td>United Kingdom</td>\n",
       "    </tr>\n",
       "    <tr>\n",
       "      <th>4999</th>\n",
       "      <td>536381</td>\n",
       "      <td>22719</td>\n",
       "      <td>GUMBALL MONOCHROME COAT RACK</td>\n",
       "      <td>36.0</td>\n",
       "      <td>12</td>\n",
       "      <td>01</td>\n",
       "      <td>2010</td>\n",
       "      <td>09</td>\n",
       "      <td>41</td>\n",
       "      <td>00</td>\n",
       "      <td>0.94</td>\n",
       "      <td>15311.0</td>\n",
       "      <td>United Kingdom</td>\n",
       "    </tr>\n",
       "  </tbody>\n",
       "</table>\n",
       "<p>5000 rows × 13 columns</p>\n",
       "</div>"
      ],
      "text/plain": [
       "     InvoiceNo StockCode                        Description  Quantity  \\\n",
       "0       536637     20878  SET/9 CHRISTMAS T-LIGHTS SCENTED        1.0   \n",
       "1       536530     22423           REGENCY CAKESTAND 3 TIER       1.0   \n",
       "2       536401     22473     TV DINNER TRAY VINTAGE PAISLEY       1.0   \n",
       "3       536749     22174                               None       NaN   \n",
       "4       536412     22327  ROUND SNACK BOXES SET OF 4 SKULLS       NaN   \n",
       "...        ...       ...                                ...       ...   \n",
       "4995    536544     22558    CLOTHES PEGS RETROSPOT PACK 24        4.0   \n",
       "4996    536635     21428                               None       8.0   \n",
       "4997    536544    85039A                               None       3.0   \n",
       "4998    536396      None              EDWARDIAN PARASOL RED       6.0   \n",
       "4999    536381     22719       GUMBALL MONOCHROME COAT RACK      36.0   \n",
       "\n",
       "     InvoiceDate_day InvoiceDate_month InvoiceDate_year InvoiceDate_hour  \\\n",
       "0                 12                02             None               11   \n",
       "1                 12                01             2010               13   \n",
       "2                 12                01             2010               11   \n",
       "3                 12                02             2010               13   \n",
       "4                 12                01             2010               11   \n",
       "...              ...               ...              ...              ...   \n",
       "4995            None                01             2010               14   \n",
       "4996              12                02             None               11   \n",
       "4997              12                01             2010               14   \n",
       "4998              12                01             2010             None   \n",
       "4999              12                01             2010               09   \n",
       "\n",
       "     InvoiceDate_minute InvoiceDate_second  UnitPrice  CustomerID  \\\n",
       "0                    35               None       0.80     18041.0   \n",
       "1                    21               None       0.08     17905.0   \n",
       "2                    21                 00       0.20     15862.0   \n",
       "3                    49                 00        NaN         NaN   \n",
       "4                    49               None       0.34     17920.0   \n",
       "...                 ...                ...        ...         ...   \n",
       "4995                 32                 00       0.40         NaN   \n",
       "4996                 22                 00       0.24     15955.0   \n",
       "4997                 32                 00       0.60         NaN   \n",
       "4998                 51                 00       0.20     17850.0   \n",
       "4999                 41                 00       0.94     15311.0   \n",
       "\n",
       "             Country  \n",
       "0     United Kingdom  \n",
       "1     United Kingdom  \n",
       "2     United Kingdom  \n",
       "3     United Kingdom  \n",
       "4     United Kingdom  \n",
       "...              ...  \n",
       "4995  United Kingdom  \n",
       "4996  United Kingdom  \n",
       "4997  United Kingdom  \n",
       "4998  United Kingdom  \n",
       "4999  United Kingdom  \n",
       "\n",
       "[5000 rows x 13 columns]"
      ]
     },
     "execution_count": 294,
     "metadata": {},
     "output_type": "execute_result"
    }
   ],
   "source": [
    "r5.get_df()"
   ]
  },
  {
   "cell_type": "code",
   "execution_count": 290,
   "id": "handy-expense",
   "metadata": {},
   "outputs": [
    {
     "name": "stdout",
     "output_type": "stream",
     "text": [
      "1. Shuffle \n",
      " Order of rows randomized \n",
      " Time taken: 0.004992008209228516 \n",
      "\n",
      "2. Date Split \n",
      " Split the following date columns: InvoiceDate \n",
      " Time taken: 0.19748282432556152 \n",
      "\n",
      "3. Function Transform \n",
      " Converted column UnitPrice with transformation inverse. \n",
      "  \n",
      " Time taken: 0.003989458084106445 \n",
      "\n",
      "4. Nullify \n",
      " Replaced 6500 values to become empty in specificed rows/cols. \n",
      " Time taken: 1.6526031494140625 \n",
      "\n"
     ]
    }
   ],
   "source": [
    "r5.print_history()"
   ]
  },
  {
   "cell_type": "code",
   "execution_count": 297,
   "id": "relevant-hearts",
   "metadata": {},
   "outputs": [],
   "source": [
    "r6 = test2.add_stainers([shuffle_stainer, date_format_stainer, func_stainer, null_stainer]).run_stainer().run_stainer().run_stainer().run_stainer()"
   ]
  },
  {
   "cell_type": "code",
   "execution_count": 298,
   "id": "tropical-details",
   "metadata": {},
   "outputs": [
    {
     "name": "stdout",
     "output_type": "stream",
     "text": [
      "1. Shuffle \n",
      " Order of rows randomized \n",
      " Time taken: 0.002992391586303711 \n",
      "\n",
      "2. Date Formats \n",
      " Date Formats used:\n",
      "{'InvoiceDate': ['%d/%B/%Y', '%Y,%d,%b']} \n",
      " Time taken: 0.054853200912475586 \n",
      "\n",
      "3. Function Transform \n",
      " Converted column UnitPrice with transformation square. \n",
      "  \n",
      " Time taken: 0.0029921531677246094 \n",
      "\n",
      "4. Nullify \n",
      " Replaced 4000 values to become empty in specificed rows/cols. \n",
      " Time taken: 0.9654204845428467 \n",
      "\n"
     ]
    }
   ],
   "source": [
    "r6.print_history()"
   ]
  },
  {
   "cell_type": "code",
   "execution_count": 303,
   "id": "broad-category",
   "metadata": {},
   "outputs": [],
   "source": [
    "r7 = test2.add_stainers([shuffle_stainer, dt_split_stainer, func_stainer, null_stainer, dup_stainer, inflection_stainer]).shuffle_stainers().run_all_stainers()"
   ]
  },
  {
   "cell_type": "code",
   "execution_count": 304,
   "id": "expired-dinner",
   "metadata": {},
   "outputs": [
    {
     "name": "stdout",
     "output_type": "stream",
     "text": [
      "1. Date Split \n",
      " Split the following date columns: InvoiceDate \n",
      " Time taken: 0.1904902458190918 \n",
      "\n",
      "2. Nullify \n",
      " Replaced 6500 values to become empty in specificed rows/cols. \n",
      " Time taken: 1.5907745361328125 \n",
      "\n",
      "3. Inflection \n",
      " Categorical inflections on:\n",
      "{'Country': {'United Kingdom': ['United kingdom', 'United Kingdoms', 'UNITED KINGDOM', 'united kingdom', 'United Kingdom'], 'France': ['france', 'FRANCE', 'France', 'Frances'], 'Australia': ['AUSTRALIA', 'Australia', 'australia', 'Australium'], 'Netherlands': ['netherlands', 'NETHERLANDS', 'Netherland', 'Netherlands'], 'Germany': ['Germanies', 'germany', 'Germany', 'GERMANY'], 'Norway': ['Norways', 'NORWAY', 'Norway', 'norway'], 'EIRE': ['EIREs', 'eire', 'EIRE', 'Eire']}} \n",
      " Time taken: 0.00498652458190918 \n",
      "\n",
      "4. Add Duplicates \n",
      " Added Duplicate Rows for 3000 rows. \n",
      "  Each duplicated row should appear a maximum of 3 times. \n",
      "  Rows added: 4528 \n",
      " Time taken: 0.10170316696166992 \n",
      "\n",
      "5. Shuffle \n",
      " Order of rows randomized \n",
      " Time taken: 0.00797891616821289 \n",
      "\n",
      "6. Function Transform \n",
      " Converted column UnitPrice with transformation exp. \n",
      "  \n",
      " Time taken: 0.04787302017211914 \n",
      "\n"
     ]
    }
   ],
   "source": [
    "r7.print_history()"
   ]
  },
  {
   "cell_type": "code",
   "execution_count": 305,
   "id": "emerging-chassis",
   "metadata": {},
   "outputs": [],
   "source": [
    "for i in range(300):\n",
    "    _ = test2.add_stainers([shuffle_stainer, dt_split_stainer, func_stainer, null_stainer, dup_stainer, inflection_stainer]).shuffle_stainers().run_all_stainers()"
   ]
  },
  {
   "cell_type": "markdown",
   "id": "coordinated-finish",
   "metadata": {},
   "source": [
    "# Angled Blob"
   ]
  },
  {
   "cell_type": "code",
   "execution_count": 319,
   "id": "positive-croatia",
   "metadata": {},
   "outputs": [
    {
     "data": {
      "image/png": "[encoded data removed]",
      "text/plain": [
       "<Figure size 432x288 with 1 Axes>"
      ]
     },
     "metadata": {
      "needs_background": "light"
     },
     "output_type": "display_data"
    }
   ],
   "source": [
    "plt.scatter(\"x\", \"y\", data = angled_blob)\n",
    "plt.show()"
   ]
  },
  {
   "cell_type": "code",
   "execution_count": 325,
   "id": "complex-aviation",
   "metadata": {},
   "outputs": [],
   "source": [
    "binning = BinningStainer(col_idx = [0, 1])"
   ]
  },
  {
   "cell_type": "code",
   "execution_count": 326,
   "id": "velvet-principal",
   "metadata": {},
   "outputs": [],
   "source": [
    "test3 = DirtyDF(angled_blob, seed = 123)"
   ]
  },
  {
   "cell_type": "code",
   "execution_count": 329,
   "id": "irish-native",
   "metadata": {},
   "outputs": [
    {
     "data": {
      "text/html": [
       "<div>\n",
       "<style scoped>\n",
       "    .dataframe tbody tr th:only-of-type {\n",
       "        vertical-align: middle;\n",
       "    }\n",
       "\n",
       "    .dataframe tbody tr th {\n",
       "        vertical-align: top;\n",
       "    }\n",
       "\n",
       "    .dataframe thead th {\n",
       "        text-align: right;\n",
       "    }\n",
       "</style>\n",
       "<table border=\"1\" class=\"dataframe\">\n",
       "  <thead>\n",
       "    <tr style=\"text-align: right;\">\n",
       "      <th></th>\n",
       "      <th>x</th>\n",
       "      <th>y</th>\n",
       "    </tr>\n",
       "  </thead>\n",
       "  <tbody>\n",
       "    <tr>\n",
       "      <th>0</th>\n",
       "      <td>[39.41, 49.33)</td>\n",
       "      <td>[40.33, 54.91)</td>\n",
       "    </tr>\n",
       "    <tr>\n",
       "      <th>1</th>\n",
       "      <td>[39.41, 49.33)</td>\n",
       "      <td>[-33.84, 23.93)</td>\n",
       "    </tr>\n",
       "    <tr>\n",
       "      <th>2</th>\n",
       "      <td>[39.41, 49.33)</td>\n",
       "      <td>[40.33, 54.91)</td>\n",
       "    </tr>\n",
       "    <tr>\n",
       "      <th>3</th>\n",
       "      <td>[49.33, 58.5)</td>\n",
       "      <td>[40.33, 54.91)</td>\n",
       "    </tr>\n",
       "    <tr>\n",
       "      <th>4</th>\n",
       "      <td>[69.14, 117.3]</td>\n",
       "      <td>[54.91, 71.58)</td>\n",
       "    </tr>\n",
       "    <tr>\n",
       "      <th>...</th>\n",
       "      <td>...</td>\n",
       "      <td>...</td>\n",
       "    </tr>\n",
       "    <tr>\n",
       "      <th>995</th>\n",
       "      <td>[58.5, 69.14)</td>\n",
       "      <td>[71.58, 128.6]</td>\n",
       "    </tr>\n",
       "    <tr>\n",
       "      <th>996</th>\n",
       "      <td>[49.33, 58.5)</td>\n",
       "      <td>[54.91, 71.58)</td>\n",
       "    </tr>\n",
       "    <tr>\n",
       "      <th>997</th>\n",
       "      <td>[58.5, 69.14)</td>\n",
       "      <td>[40.33, 54.91)</td>\n",
       "    </tr>\n",
       "    <tr>\n",
       "      <th>998</th>\n",
       "      <td>[5.839, 39.41)</td>\n",
       "      <td>[23.93, 40.33)</td>\n",
       "    </tr>\n",
       "    <tr>\n",
       "      <th>999</th>\n",
       "      <td>[49.33, 58.5)</td>\n",
       "      <td>[40.33, 54.91)</td>\n",
       "    </tr>\n",
       "  </tbody>\n",
       "</table>\n",
       "<p>1000 rows × 2 columns</p>\n",
       "</div>"
      ],
      "text/plain": [
       "                  x                y\n",
       "0    [39.41, 49.33)   [40.33, 54.91)\n",
       "1    [39.41, 49.33)  [-33.84, 23.93)\n",
       "2    [39.41, 49.33)   [40.33, 54.91)\n",
       "3     [49.33, 58.5)   [40.33, 54.91)\n",
       "4    [69.14, 117.3]   [54.91, 71.58)\n",
       "..              ...              ...\n",
       "995   [58.5, 69.14)   [71.58, 128.6]\n",
       "996   [49.33, 58.5)   [54.91, 71.58)\n",
       "997   [58.5, 69.14)   [40.33, 54.91)\n",
       "998  [5.839, 39.41)   [23.93, 40.33)\n",
       "999   [49.33, 58.5)   [40.33, 54.91)\n",
       "\n",
       "[1000 rows x 2 columns]"
      ]
     },
     "execution_count": 329,
     "metadata": {},
     "output_type": "execute_result"
    }
   ],
   "source": [
    "test3.add_stainers([binning]).run_stainer().get_df()"
   ]
  },
  {
   "cell_type": "code",
   "execution_count": 327,
   "id": "comparable-vessel",
   "metadata": {},
   "outputs": [
    {
     "name": "stdout",
     "output_type": "stream",
     "text": [
      "1. Binning \n",
      " Binning using the following cutpoints:\n",
      "{'x': [5.839, 39.41, 49.33, 58.5, 69.14, 117.3], 'y': [-33.84, 23.93, 40.33, 54.91, 71.58, 128.6]} \n",
      " Time taken: 0.007978677749633789 \n",
      "\n"
     ]
    }
   ],
   "source": [
    "test3.add_stainers([binning]).run_stainer().print_history()"
   ]
  }
 ],
 "metadata": {
  "kernelspec": {
   "display_name": "Python 3",
   "language": "python",
   "name": "python3"
  },
  "language_info": {
   "codemirror_mode": {
    "name": "ipython",
    "version": 3
   },
   "file_extension": ".py",
   "mimetype": "text/x-python",
   "name": "python",
   "nbconvert_exporter": "python",
   "pygments_lexer": "ipython3",
   "version": "3.9.5"
  }
 },
 "nbformat": 4,
 "nbformat_minor": 5
}
