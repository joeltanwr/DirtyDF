{
 "cells": [
  {
   "cell_type": "markdown",
   "metadata": {},
   "source": [
    "# Sampling from a Sample\n",
    "\n",
    "## Contents <a id='top'></a>\n",
    "\n",
    "1. <a href=#intro>Introduction</a>\n",
    "1. <a href=#generate>Generate Random Data</a>\n",
    "1. <a href=#kde>Generate from Kernel Density Estimate</a>\n",
    "1. <a href=#hist>Generate from Histogram</a>\n",
    "1. <a href=#finv>Generate from $F^{-1}$</a>\n",
    "1. <a href=#ref>References and Links</a>"
   ]
  },
  {
   "cell_type": "markdown",
   "metadata": {},
   "source": [
    "## 1. Introduction     <a id='intro'></a>\n",
    "<a href=#top>(back to top)</a>\n",
    "\n",
    "\n",
    "The `samplers` module contains a set of functions for generating samples from a random i.i.d sample. The output random variates should have a similar distribution to the input sample.\n",
    "\n",
    "The aim is different from bootstrapping, where we resample from the same values. Here, we will obtain from a smoother distribution.\n",
    "\n",
    "The basic problem is this: We are given an i.i.d sample $X_1, X_2, .., X_n$ from a density $f$. We wish to generate $Y_1, Y_2, ... , Y_m$ from the same unknown density. This is a difficult problem, but some progress is possible.\n",
    "\n",
    "A good, detailed exposition of the methods implemented here can be found in reference number 1.\n",
    "\n",
    "These are the functions that are present in this module:\n",
    "\n",
    "1. `rand_bartlett()`:\n",
    "    + Generate random variates from Bartlett kernel. (a helper function used in rand_from_density())\n",
    "2. `rand_from_density()`:\n",
    "    + Generate new sample from a kernel density estimate.\n",
    "3. `rand_from_hist()`:\n",
    "    + Generate a new sample from a histogram estimate.\n",
    "4. `rand_from_Finv()`:\n",
    "    + Generate a new sample from an estimate of F-inverse.\n",
    "    \n",
    "On this manual page, we provide examples of how to call these samplers on their own. As part of `DirtyDF`, they are used within the stainers `ResidualResampler` and `ModifyCorrelation` stainer classes.\n",
    "\n",
    "---"
   ]
  },
  {
   "cell_type": "markdown",
   "metadata": {},
   "source": [
    "## 2. Generate Random Data    <a id='generate'></a>\n",
    "<a href=#top>(back to top)</a>\n",
    "\n",
    "The first step is to generate a sample of i.i.d data. After that, we shall use the functions in the `samplers` module to generate new random variates based on these. The following code loads all the modules that we will need."
   ]
  },
  {
   "cell_type": "code",
   "execution_count": 3,
   "metadata": {},
   "outputs": [],
   "source": [
    "import numpy as np\n",
    "from numpy.random import default_rng\n",
    "import matplotlib.pyplot as plt\n",
    "%matplotlib inline\n",
    "\n",
    "import ddf.samplers as samplers"
   ]
  },
  {
   "cell_type": "markdown",
   "metadata": {},
   "source": [
    "The next code generates from a $\\chi^2$ distribution with 10 degrees of freedom. This is a right-skewed distribution, with mean 10. Suppose that this sample is what we have to begin with."
   ]
  },
  {
   "cell_type": "code",
   "execution_count": 4,
   "metadata": {},
   "outputs": [
    {
     "data": {
      "image/png": "[encoded data removed]",
      "text/plain": [
       "<Figure size 432x288 with 1 Axes>"
      ]
     },
     "metadata": {
      "needs_background": "light"
     },
     "output_type": "display_data"
    }
   ],
   "source": [
    "rng = default_rng(4590)\n",
    "X = rng.chisquare(df=10, size=200)\n",
    "plt.hist(X)\n",
    "plt.title('Histogram of X');"
   ]
  },
  {
   "cell_type": "markdown",
   "metadata": {},
   "source": [
    "---"
   ]
  },
  {
   "cell_type": "markdown",
   "metadata": {},
   "source": [
    "## 3. Generate from Kernel Density Estimate     <a id='kde'></a>\n",
    "<a href=#top>(back to top)</a>\n",
    "\n",
    "`rand_from_density` uses a kernel density estimate from $X$ to generate new random variates. The kernel used to estimate the density is the Bartlett kernel, also sometimes known as the Epanechnikov kernel:\n",
    "\n",
    "$$\n",
    "K(x) = \\frac{3}{4}(1- x^2)\n",
    "$$\n",
    "\n",
    "The support of this kernel is $-1 < x < 1$. The bandwidth used is [Scott's rule of thumb.](https://www.statsmodels.org/stable/generated/statsmodels.nonparametric.bandwidths.bw_scott.html?highlight=scott#statsmodels.nonparametric.bandwidths.bw_scott)\n",
    "\n",
    "Bear in mind that the support of the estimated density might not match with the original distribution, so we have to sample from the conditional density. In this case, we only retain those values that fall within the desired support, as indicated by the `lower` and `upper` arguments of `rand_from_density`."
   ]
  },
  {
   "cell_type": "code",
   "execution_count": 5,
   "metadata": {},
   "outputs": [
    {
     "data": {
      "image/png": "[encoded data removed]",
      "text/plain": [
       "<Figure size 432x288 with 1 Axes>"
      ]
     },
     "metadata": {
      "needs_background": "light"
     },
     "output_type": "display_data"
    }
   ],
   "source": [
    "X_from_kde = samplers.rand_from_density(X, rng, size=200, lower=0.0)\n",
    "plt.hist(X_from_kde)\n",
    "plt.title('Histogram of samples from kde');"
   ]
  },
  {
   "cell_type": "markdown",
   "metadata": {},
   "source": [
    "We can double-check that the minimum value of the new sample is non-negative:"
   ]
  },
  {
   "cell_type": "code",
   "execution_count": 6,
   "metadata": {},
   "outputs": [
    {
     "data": {
      "text/plain": [
       "2.0818114088283197"
      ]
     },
     "execution_count": 6,
     "metadata": {},
     "output_type": "execute_result"
    }
   ],
   "source": [
    "X_from_kde.min()"
   ]
  },
  {
   "cell_type": "markdown",
   "metadata": {},
   "source": [
    "---"
   ]
  },
  {
   "cell_type": "markdown",
   "metadata": {},
   "source": [
    "## 4. Generate from Histogram     <a id='hist'></a>\n",
    "<a href=#top>(back to top)</a>\n",
    "\n",
    "`rand_from_hist` uses a histogram of the original $X$ sample to generate a new sample. Bear in mind that this is even more subjective than using a kernel density, because histograms are very dependent on the number and width of bins used. Here, the Freedman-Diaconis method is used to estimate the bin widths."
   ]
  },
  {
   "cell_type": "code",
   "execution_count": 7,
   "metadata": {
    "scrolled": true
   },
   "outputs": [
    {
     "data": {
      "image/png": "[encoded data removed]",
      "text/plain": [
       "<Figure size 432x288 with 1 Axes>"
      ]
     },
     "metadata": {
      "needs_background": "light"
     },
     "output_type": "display_data"
    }
   ],
   "source": [
    "X_from_hist = samplers.rand_from_hist(X, rng, size=200)\n",
    "plt.hist(X_from_hist)\n",
    "plt.title('Histogram of samples from histogram');"
   ]
  },
  {
   "cell_type": "markdown",
   "metadata": {},
   "source": [
    "---"
   ]
  },
  {
   "cell_type": "markdown",
   "metadata": {},
   "source": [
    "## 5. Generate from F-inverse     <a id='finv'></a>\n",
    "<a href=#top>(back to top)</a>\n",
    "\n",
    "The final algorithm uses Akima's interpolation algorithm to interpolate the observed values to obtain a smooth function for the quantile function. At this point, generating samples is just a matter of generating $U(0,1)$ random variates and computing the quantile function values:\n",
    "\n",
    "If we wish to generate $X \\sim F$, then we only need to generate $U(0,1)$ and take $F^{-1}(U)$. (Probability Integral Transform)\n",
    "\n",
    "Remember $F^{-1}:(0,1) \\rightarrow \\mathbf{R}$, but we cannot interpolate to unbounded limits, so we have to set where 0 and 1 map to. The defaults are to take the min and max observed values.\n"
   ]
  },
  {
   "cell_type": "code",
   "execution_count": 8,
   "metadata": {
    "scrolled": true
   },
   "outputs": [
    {
     "data": {
      "image/png": "[encoded data removed]",
      "text/plain": [
       "<Figure size 432x288 with 1 Axes>"
      ]
     },
     "metadata": {
      "needs_background": "light"
     },
     "output_type": "display_data"
    }
   ],
   "source": [
    "X_from_F = samplers.rand_from_Finv(X, rng, size=200)\n",
    "plt.hist(X_from_F)\n",
    "plt.title('Histogram of samples from F');"
   ]
  },
  {
   "cell_type": "markdown",
   "metadata": {},
   "source": [
    "By default, the function returns new random variates. However, we might need to re-use the sampler. Hence we can choose to return the interpolated $F^{-1}$ for later use:"
   ]
  },
  {
   "cell_type": "code",
   "execution_count": 9,
   "metadata": {
    "scrolled": true
   },
   "outputs": [
    {
     "data": {
      "text/plain": [
       "array([ 7.01401915, 11.5596572 ,  6.24697875, 10.40065283,  8.63261271])"
      ]
     },
     "execution_count": 9,
     "metadata": {},
     "output_type": "execute_result"
    }
   ],
   "source": [
    "Finv = samplers.rand_from_Finv(X, rng, return_fn=True)\n",
    "Finv(rng.random(size=5))"
   ]
  },
  {
   "cell_type": "markdown",
   "metadata": {},
   "source": [
    "---"
   ]
  },
  {
   "cell_type": "markdown",
   "metadata": {},
   "source": [
    "Before we end, here is a side-by-side view of the output from the 3 algorithms, along with the original"
   ]
  },
  {
   "cell_type": "code",
   "execution_count": 10,
   "metadata": {},
   "outputs": [
    {
     "data": {
      "image/png": "[encoded data removed]",
      "text/plain": [
       "<Figure size 1152x288 with 4 Axes>"
      ]
     },
     "metadata": {
      "needs_background": "light"
     },
     "output_type": "display_data"
    }
   ],
   "source": [
    "plt.subplots(1,4, figsize=(16,4))\n",
    "plt.subplot(141)\n",
    "plt.hist(X);\n",
    "plt.title(\"Original\");\n",
    "\n",
    "plt.subplot(142)\n",
    "plt.hist(X_from_kde);\n",
    "plt.title(\"From Density\");\n",
    "\n",
    "plt.subplot(143)\n",
    "plt.hist(X_from_hist);\n",
    "plt.title(\"From Histogram\");\n",
    "\n",
    "plt.subplot(144)\n",
    "plt.hist(X_from_F)\n",
    "plt.title(\"From F\");"
   ]
  },
  {
   "cell_type": "markdown",
   "metadata": {},
   "source": [
    "# 6. References        <a id='ref'></a>\n",
    "<a href=#top>(back to top)</a>\n",
    "\n",
    "1. *A new method of interpolation and smooth curve fitting based on local procedures*, H Akima (1970).\n",
    "2. *A random number generator for continuous random variables*, Guerra et al. (1972).\n",
    "3. *Sample-based Non-uniform Random Variate Generation*, Luc Devroye (1986).\n",
    "4. *Non-uniform Random Variate Generation*, Luc Devroye (1986).\n",
    "5. *Simulation*, Sheldon Ross (2012)."
   ]
  }
 ],
 "metadata": {
  "kernelspec": {
   "display_name": "Python 3",
   "language": "python",
   "name": "python3"
  },
  "language_info": {
   "codemirror_mode": {
    "name": "ipython",
    "version": 3
   },
   "file_extension": ".py",
   "mimetype": "text/x-python",
   "name": "python",
   "nbconvert_exporter": "python",
   "pygments_lexer": "ipython3",
   "version": "3.9.5"
  }
 },
 "nbformat": 4,
 "nbformat_minor": 4
}
