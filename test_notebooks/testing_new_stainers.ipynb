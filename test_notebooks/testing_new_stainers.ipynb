{
 "cells": [
  {
   "cell_type": "markdown",
   "metadata": {},
   "source": [
    "## Read in data"
   ]
  },
  {
   "cell_type": "code",
   "execution_count": 1,
   "metadata": {},
   "outputs": [],
   "source": [
    "import pandas as pd\n",
    "import numpy as np"
   ]
  },
  {
   "cell_type": "code",
   "execution_count": 2,
   "metadata": {},
   "outputs": [],
   "source": [
    "oo = pd.read_csv('../data/online_retail_small.csv')"
   ]
  },
  {
   "cell_type": "code",
   "execution_count": 3,
   "metadata": {},
   "outputs": [
    {
     "name": "stdout",
     "output_type": "stream",
     "text": [
      "/home/viknesh/NUS/artificalData/artificial-dataset-generation/ddf\n"
     ]
    }
   ],
   "source": [
    "cd ../ddf/"
   ]
  },
  {
   "cell_type": "code",
   "execution_count": 13,
   "metadata": {},
   "outputs": [],
   "source": [
    "from ddf.stainer import Stainer, RowDuplicateStainer, ColumnSplitter,ResidualResampler\n",
    "from ddf.DirtyDF import DirtyDF\n",
    "from numpy.random import default_rng\n",
    "from time import time\n",
    "rng= default_rng()"
   ]
  },
  {
   "cell_type": "code",
   "execution_count": null,
   "metadata": {},
   "outputs": [],
   "source": [
    "d1 = oo.sample(n=4)"
   ]
  },
  {
   "cell_type": "code",
   "execution_count": 11,
   "metadata": {},
   "outputs": [
    {
     "data": {
      "text/html": [
       "<div>\n",
       "<style scoped>\n",
       "    .dataframe tbody tr th:only-of-type {\n",
       "        vertical-align: middle;\n",
       "    }\n",
       "\n",
       "    .dataframe tbody tr th {\n",
       "        vertical-align: top;\n",
       "    }\n",
       "\n",
       "    .dataframe thead th {\n",
       "        text-align: right;\n",
       "    }\n",
       "</style>\n",
       "<table border=\"1\" class=\"dataframe\">\n",
       "  <thead>\n",
       "    <tr style=\"text-align: right;\">\n",
       "      <th></th>\n",
       "      <th>InvoiceNo</th>\n",
       "      <th>StockCode</th>\n",
       "      <th>Description</th>\n",
       "      <th>Quantity</th>\n",
       "      <th>InvoiceDate</th>\n",
       "      <th>UnitPrice</th>\n",
       "      <th>CustomerID</th>\n",
       "      <th>Country</th>\n",
       "    </tr>\n",
       "  </thead>\n",
       "  <tbody>\n",
       "    <tr>\n",
       "      <th>177</th>\n",
       "      <td>536386</td>\n",
       "      <td>85099B</td>\n",
       "      <td>JUMBO BAG RED RETROSPOT</td>\n",
       "      <td>100</td>\n",
       "      <td>1/12/2010 9:57</td>\n",
       "      <td>1.65</td>\n",
       "      <td>16029.0</td>\n",
       "      <td>United Kingdom</td>\n",
       "    </tr>\n",
       "    <tr>\n",
       "      <th>562</th>\n",
       "      <td>536412</td>\n",
       "      <td>22077</td>\n",
       "      <td>6 RIBBONS RUSTIC CHARM</td>\n",
       "      <td>1</td>\n",
       "      <td>1/12/2010 11:49</td>\n",
       "      <td>1.65</td>\n",
       "      <td>17920.0</td>\n",
       "      <td>United Kingdom</td>\n",
       "    </tr>\n",
       "    <tr>\n",
       "      <th>2755</th>\n",
       "      <td>536592</td>\n",
       "      <td>22570</td>\n",
       "      <td>FELTCRAFT CUSHION RABBIT</td>\n",
       "      <td>1</td>\n",
       "      <td>1/12/2010 17:06</td>\n",
       "      <td>7.62</td>\n",
       "      <td>NaN</td>\n",
       "      <td>United Kingdom</td>\n",
       "    </tr>\n",
       "    <tr>\n",
       "      <th>3106</th>\n",
       "      <td>536597</td>\n",
       "      <td>21221</td>\n",
       "      <td>SET/4 BADGES CUTE CREATURES</td>\n",
       "      <td>5</td>\n",
       "      <td>1/12/2010 17:35</td>\n",
       "      <td>1.25</td>\n",
       "      <td>18011.0</td>\n",
       "      <td>United Kingdom</td>\n",
       "    </tr>\n",
       "  </tbody>\n",
       "</table>\n",
       "</div>"
      ],
      "text/plain": [
       "     InvoiceNo StockCode                  Description  Quantity  \\\n",
       "177     536386    85099B      JUMBO BAG RED RETROSPOT       100   \n",
       "562     536412     22077       6 RIBBONS RUSTIC CHARM         1   \n",
       "2755    536592     22570     FELTCRAFT CUSHION RABBIT         1   \n",
       "3106    536597     21221  SET/4 BADGES CUTE CREATURES         5   \n",
       "\n",
       "          InvoiceDate  UnitPrice  CustomerID         Country  \n",
       "177    1/12/2010 9:57       1.65     16029.0  United Kingdom  \n",
       "562   1/12/2010 11:49       1.65     17920.0  United Kingdom  \n",
       "2755  1/12/2010 17:06       7.62         NaN  United Kingdom  \n",
       "3106  1/12/2010 17:35       1.25     18011.0  United Kingdom  "
      ]
     },
     "execution_count": 11,
     "metadata": {},
     "output_type": "execute_result"
    }
   ],
   "source": [
    "d2 = oo.sample(n=4)\n",
    "d2"
   ]
  },
  {
   "cell_type": "markdown",
   "metadata": {},
   "source": [
    "## Column splitter"
   ]
  },
  {
   "cell_type": "code",
   "execution_count": null,
   "metadata": {},
   "outputs": [],
   "source": [
    "class ColumnSplitter(Stainer):\n",
    "    \"\"\" Stainer to split text columns, creating a ragged DataFrame \"\"\"\n",
    "    \n",
    "    def __init__(self, name = \"Column splitter\", col_idx = [], regex_string=\" \"):\n",
    "        \"\"\" Constructor for ColumnSplitter\n",
    "        \n",
    "        Parameters\n",
    "        ----------\n",
    "        name: str, optional.\n",
    "            Name of stainer. \n",
    "        col_idx: int list, required. This has to be a single integer. This is \n",
    "                 the column that will be split into two.\n",
    "        regex_string: The string to split the column on. For instance, \"(?=-)\" is a\n",
    "                 look-ahead assertion that splits on a hyphen. Using lookahead or \n",
    "                 look-behind strings ensures that the splitting character is retained.\n",
    "                 \n",
    "                 \n",
    "        Raises\n",
    "        ------\n",
    "        ValueError\n",
    "            If col_idx is missing, or is length greater than 1.\n",
    "        \"\"\"\n",
    "        if ((type(col_idx) is not list) or (len(col_idx) != 1)):\n",
    "            raise ValueError(\"col_idx must be a list with a single integer.\")\n",
    "        super().__init__(name, [], col_idx)\n",
    "        self.regex_string = regex_string\n",
    "        \n",
    "    def transform(self, df, rng, row_idx=None, col_idx=None):\n",
    "        \"\"\"Applies staining on the given indices in the provided dataframe.\n",
    "        \n",
    "        Parameters\n",
    "        ----------\n",
    "        df : pd.DataFrame \n",
    "            Dataframe to be transformed.\n",
    "        rng : np.random.BitGenerator\n",
    "            PCG64 pseudo-random number generator. Unused by this stainer.\n",
    "        row_idx : int list, optional\n",
    "            Unused parameter.\n",
    "        col_idx : int list, optional\n",
    "            Unused parameter.\n",
    "        \n",
    "        Returns\n",
    "        -------\n",
    "        new_df : pd.DataFrame\n",
    "            Modified dataframe, with one extra column on the right.\n",
    "        row_map : empty dictionary\n",
    "            Row mapping showing the relationship between the original and new row positions.\n",
    "        col_map : A dictionary\n",
    "            Generating the column map is tricky in this situation, because after the split column,\n",
    "            on the right, each column actually contains information from two original columns. One option \n",
    "            is to indicate which two columns each new column maps to, but, since most of the original \n",
    "            columns were retained, we only indicate that the right-most column has been mapped to the\n",
    "            last two of the new dataframe.\n",
    "       \n",
    "        >>> rng = np.random.default_rng(12)\n",
    "        >>> x = pd.DataFrame({'label': ['T-LIGHT', 'ASHTRAY'], 'price': [2.30, 3.20]})\n",
    "        >>> print(x)\n",
    "             label  price\n",
    "        0  T-LIGHT    2.3\n",
    "        1  ASHTRAY    3.2\n",
    "        \n",
    "        >>> cc = ColumnSplitter(col_idx=[0], regex_string=\"(?=-)\")\n",
    "        >>> new_x, rmap, cmap = cc.transform(x, rng)\n",
    "        >>> print(new_x) # see the ragged dataframe.. it contains unnamed column on the right.\n",
    "             label   price     \n",
    "        0        T  -LIGHT  2.3\n",
    "        1  ASHTRAY     3.2  NaN\n",
    "        \n",
    "        >>> print(cmap)\n",
    "        {0: [0], 1: [1, 2]}\n",
    "        \n",
    "        \"\"\"\n",
    "        new_df, row_idx, col_idx = self._init_transform(df, row_idx, col_idx)\n",
    "        start = time()\n",
    "        \n",
    "        org_col_index = new_df.columns\n",
    "        col_name = org_col_index[col_idx[0]]\n",
    "        split_id = np.argwhere(org_col_index == col_name).reshape(1)[0]\n",
    "        \n",
    "        # split the original df into three sections: \n",
    "        # to_keep, col_to_split and cols_to_join_back\n",
    "        to_keep = new_df.iloc[:, :split_id].copy(deep=True)\n",
    "        to_split = df[[col_name]].copy(deep=True)\n",
    "        to_join = df.iloc[:, (split_id+1):].copy(deep=True)\n",
    "        cols_to_add = np.hstack((org_col_index[(split_id+1):], ''))\n",
    "        to_join[''] = pd.Series([np.NaN]*to_join.shape[0])\n",
    "        \n",
    "        #split the column:\n",
    "        to_split = to_split[col_name].str.split(self.regex_string, n=1, expand=True)\n",
    "        to_split.columns = [col_name, cols_to_add[0]]\n",
    "        \n",
    "        # join the split column back first\n",
    "        #to_keep = pd.concat([to_keep, to_split], axis=1)\n",
    "        to_keep = to_keep.join(to_split)\n",
    "        na_boolean = to_keep[cols_to_add[0]].isna()\n",
    "        to_keep = to_keep.combine_first(to_join[[cols_to_add[0]]])\n",
    "        #breakpoint()\n",
    "        \n",
    "        for i in np.arange(1,len(cols_to_add)):\n",
    "            #print(i)\n",
    "            new_col = to_join.iloc[:, i].copy(deep=True)\n",
    "            new_col[~na_boolean] = to_join.iloc[:, i-1][~na_boolean]\n",
    "            to_keep = pd.concat([to_keep, new_col], axis=1)\n",
    "            #print(cols_to_add[i])\n",
    "        #print(cols_to_add)\n",
    "        #return to_keep[np.hstack((org_col_index, ''))]\n",
    "        \n",
    "        # create col-map:\n",
    "        cmap = {}\n",
    "        for ii in np.arange(df.shape[1]):\n",
    "            cmap[ii] = [ii]\n",
    "        cmap[df.shape[1]-1] = [df.shape[1]-1, df.shape[1]]\n",
    "        # print(cmap)\n",
    "        \n",
    "        end = time()\n",
    "        self.update_history(f\"Column id {col_name} split into two.\", end-start)\n",
    "        self.update_history(message = f\"New dataframe has {to_keep.shape[1]} columns now.\")\n",
    "        return to_keep[np.hstack((org_col_index, ''))],{},cmap"
   ]
  },
  {
   "cell_type": "code",
   "execution_count": null,
   "metadata": {},
   "outputs": [],
   "source": [
    "import doctest\n",
    "doctest.run_docstring_examples(ColumnSplitter.transform, globs=None, verbose=True)"
   ]
  },
  {
   "cell_type": "markdown",
   "metadata": {},
   "source": [
    "----"
   ]
  },
  {
   "cell_type": "code",
   "execution_count": null,
   "metadata": {},
   "outputs": [],
   "source": [
    "rng = np.random.default_rng(12)\n",
    "x = pd.DataFrame({'label': ['T-LIGHT', 'ASHTRAY'], 'price': [2.30, 3.20]})\n",
    "cc = ColumnSplitter(col_idx=[0], regex_string=\"(?=-)\")\n",
    "new_x, rmap, cmap = cc.transform(x, rng)"
   ]
  },
  {
   "cell_type": "code",
   "execution_count": null,
   "metadata": {},
   "outputs": [],
   "source": [
    "print(new_x)"
   ]
  },
  {
   "cell_type": "code",
   "execution_count": null,
   "metadata": {},
   "outputs": [],
   "source": [
    "print(x)"
   ]
  },
  {
   "cell_type": "code",
   "execution_count": null,
   "metadata": {},
   "outputs": [],
   "source": [
    "print(cmap)"
   ]
  },
  {
   "cell_type": "code",
   "execution_count": null,
   "metadata": {},
   "outputs": [],
   "source": [
    "d2"
   ]
  },
  {
   "cell_type": "code",
   "execution_count": 12,
   "metadata": {},
   "outputs": [
    {
     "data": {
      "text/plain": [
       "(     InvoiceNo StockCode               Description                  Quantity  \\\n",
       " 177     536386    85099B   JUMBO BAG RED RETROSPOT                       100   \n",
       " 562     536412     22077    6 RIBBONS RUSTIC CHARM                         1   \n",
       " 2755    536592     22570  FELTCRAFT CUSHION RABBIT                         1   \n",
       " 3106    536597     21221                       SET  /4 BADGES CUTE CREATURES   \n",
       " \n",
       "           InvoiceDate        UnitPrice  CustomerID         Country  \\\n",
       " 177    1/12/2010 9:57             1.65    16029.00  United Kingdom   \n",
       " 562   1/12/2010 11:49             1.65    17920.00  United Kingdom   \n",
       " 2755  1/12/2010 17:06             7.62         NaN  United Kingdom   \n",
       " 3106              5.0  1/12/2010 17:35        1.25         18011.0   \n",
       " \n",
       "                       \n",
       " 177              NaN  \n",
       " 562              NaN  \n",
       " 2755             NaN  \n",
       " 3106  United Kingdom  ,\n",
       " {},\n",
       " {0: [0], 1: [1], 2: [2], 3: [3], 4: [4], 5: [5], 6: [6], 7: [7, 8]})"
      ]
     },
     "execution_count": 12,
     "metadata": {},
     "output_type": "execute_result"
    }
   ],
   "source": [
    "cc = ColumnSplitter(col_idx=[2], regex_string=\"(?=\\/)\")\n",
    "cc.transform(d2, rng)"
   ]
  },
  {
   "cell_type": "code",
   "execution_count": null,
   "metadata": {},
   "outputs": [],
   "source": [
    "d2.shape"
   ]
  },
  {
   "cell_type": "markdown",
   "metadata": {},
   "source": [
    "---"
   ]
  },
  {
   "cell_type": "code",
   "execution_count": null,
   "metadata": {},
   "outputs": [],
   "source": [
    "d2.index"
   ]
  },
  {
   "cell_type": "code",
   "execution_count": null,
   "metadata": {},
   "outputs": [],
   "source": [
    "d2.index = np.arange(4) # this should be fixed, currently only works with 0..n-1 index\n",
    "                        # not true - original indexing can be used, but the output index will be 0...(n-1)\n",
    "#d2\n",
    "\n",
    "#rr= RowDuplicateStainer(deg=1/3, name='test dup row map', row_idx=[730, 3582])\n",
    "rr= RowDuplicateStainer(deg=1/3, name='test dup row map', row_idx=[0,1,2])\n",
    "\n",
    "#ddf1 = DirtyDF(d2, seed=1)\n",
    "#ddf1 = ddf1.add_stainers(rr)\n",
    "#ddf2 = ddf1.run_stainer()\n",
    "#ddf2.get_df()\n",
    "df,rmap,colmap = rr.transform(d2, rng)"
   ]
  },
  {
   "cell_type": "code",
   "execution_count": null,
   "metadata": {},
   "outputs": [],
   "source": [
    "rmap"
   ]
  },
  {
   "cell_type": "code",
   "execution_count": null,
   "metadata": {},
   "outputs": [],
   "source": [
    "cmap = {}\n",
    "#cmap.keys() = df.index"
   ]
  },
  {
   "cell_type": "code",
   "execution_count": null,
   "metadata": {},
   "outputs": [],
   "source": [
    "for ii in df.index:\n",
    "    cmap[ii] = [ii]"
   ]
  },
  {
   "cell_type": "code",
   "execution_count": null,
   "metadata": {},
   "outputs": [],
   "source": [
    "cmap"
   ]
  },
  {
   "cell_type": "code",
   "execution_count": null,
   "metadata": {},
   "outputs": [],
   "source": [
    "df"
   ]
  },
  {
   "cell_type": "code",
   "execution_count": null,
   "metadata": {},
   "outputs": [],
   "source": [
    "rmap"
   ]
  },
  {
   "cell_type": "code",
   "execution_count": null,
   "metadata": {},
   "outputs": [],
   "source": [
    "d2"
   ]
  },
  {
   "cell_type": "markdown",
   "metadata": {},
   "source": [
    "---"
   ]
  },
  {
   "cell_type": "code",
   "execution_count": null,
   "metadata": {},
   "outputs": [],
   "source": []
  },
  {
   "cell_type": "code",
   "execution_count": null,
   "metadata": {},
   "outputs": [],
   "source": [
    "cc = ColumnSplitter(col_idx=[5])"
   ]
  },
  {
   "cell_type": "code",
   "execution_count": null,
   "metadata": {},
   "outputs": [],
   "source": []
  },
  {
   "cell_type": "code",
   "execution_count": null,
   "metadata": {},
   "outputs": [],
   "source": [
    "d2 = oo.sample(n=4)"
   ]
  },
  {
   "cell_type": "code",
   "execution_count": null,
   "metadata": {},
   "outputs": [],
   "source": [
    "d2"
   ]
  },
  {
   "cell_type": "code",
   "execution_count": null,
   "metadata": {},
   "outputs": [],
   "source": [
    "d2.columns"
   ]
  },
  {
   "cell_type": "code",
   "execution_count": null,
   "metadata": {},
   "outputs": [],
   "source": [
    "# original implementation\n",
    "\n",
    "def column_splitter(df, col_name, regex_string=\"(?=-)\"):\n",
    "    org_col_index = df.columns\n",
    "    split_id = np.argwhere(org_col_index == col_name).reshape(1)[0]\n",
    "    \n",
    "    # split the original df into three sections: \n",
    "    # to_keep, col_to_split and cols_to_join_back\n",
    "    to_keep = df.iloc[:, :split_id].copy(deep=True)\n",
    "    to_split = df[[col_name]].copy(deep=True)\n",
    "    to_join = df.iloc[:, (split_id+1):].copy(deep=True)\n",
    "    cols_to_add = np.hstack((org_col_index[(split_id+1):], ''))\n",
    "    to_join[''] = pd.Series([np.NaN]*to_join.shape[0])\n",
    "    \n",
    "    #split the column:\n",
    "    to_split = to_split[col_name].str.split(regex_string, n=1, expand=True)\n",
    "    to_split.columns = [col_name, cols_to_add[0]]\n",
    "    \n",
    "    # join the split column back first\n",
    "    #to_keep = pd.concat([to_keep, to_split], axis=1)\n",
    "    to_keep = to_keep.join(to_split)\n",
    "    na_boolean = to_keep[cols_to_add[0]].isna()\n",
    "    to_keep = to_keep.combine_first(to_join[[cols_to_add[0]]])\n",
    "    #breakpoint()\n",
    "    \n",
    "    for i in np.arange(1,len(cols_to_add)):\n",
    "        #print(i)\n",
    "        new_col = to_join.iloc[:, i].copy(deep=True)\n",
    "        new_col[~na_boolean] = to_join.iloc[:, i-1][~na_boolean]\n",
    "        to_keep = pd.concat([to_keep, new_col], axis=1)\n",
    "        #print(cols_to_add[i])\n",
    "    #print(cols_to_add)\n",
    "    \n",
    "    return to_keep[np.hstack((org_col_index, ''))]"
   ]
  },
  {
   "cell_type": "code",
   "execution_count": null,
   "metadata": {},
   "outputs": [],
   "source": [
    "column_splitter(d2, 'Description')"
   ]
  },
  {
   "cell_type": "markdown",
   "metadata": {},
   "source": [
    "## Column joiner"
   ]
  },
  {
   "cell_type": "code",
   "execution_count": null,
   "metadata": {},
   "outputs": [],
   "source": [
    "telco = pd.read_csv(\"../data/Telco-Customer-Churn.csv\")"
   ]
  },
  {
   "cell_type": "code",
   "execution_count": null,
   "metadata": {},
   "outputs": [],
   "source": [
    "telco_sub = telco.sample(n=10)\n",
    "telco_sub"
   ]
  },
  {
   "cell_type": "code",
   "execution_count": null,
   "metadata": {},
   "outputs": [],
   "source": [
    "d3 = telco.copy(deep=True)\n",
    "\n",
    "d3 = d3.reindex()"
   ]
  },
  {
   "cell_type": "code",
   "execution_count": null,
   "metadata": {},
   "outputs": [],
   "source": [
    "class ColumnJoiner(Stainer):\n",
    "    \"\"\" Stainer to join text columns, creating a ragged DataFrame \"\"\"\n",
    "    \n",
    "    def __init__(self, name = \"Column splitter\", row_idx =[], col_idx = []):\n",
    "        \"\"\" Constructor for ColumnJoiner\n",
    "        \n",
    "        Parameters\n",
    "        ----------\n",
    "        name: str, optional.\n",
    "            Name of stainer. \n",
    "        col_idx: int list, required. This has to contain two consecutive integers. These are \n",
    "                 the columns that will be catenated.\n",
    "        row_idx: int list, required. These will be the rows that will be \"shifted\" inwards.\n",
    "                 \n",
    "        Raises\n",
    "        ------\n",
    "        ValueError\n",
    "            If col_idx has length not equals to two, or the values are not consecutive.\n",
    "        ValueError\n",
    "            If row_idx is empty.\n",
    "        \"\"\"\n",
    "        if ((len(col_idx) != 2) or (col_idx[1] - col_idx[0] != 1)):\n",
    "            raise ValueError(\"col_idx must contain two consecutive integers.\")\n",
    "        if(len(row_idx) == 0):\n",
    "            raise ValueError(\"row_idx should not be empty.\")\n",
    "        super().__init__(name, row_idx, col_idx)\n",
    "        \n",
    "    def transform(self, df, rng, row_idx=None, col_idx=None):\n",
    "        \"\"\"Applies staining on the given indices in the provided dataframe.\n",
    "        \n",
    "        Parameters\n",
    "        ----------\n",
    "        df : pd.DataFrame \n",
    "            Dataframe to be transformed.\n",
    "        rng : np.random.BitGenerator\n",
    "            PCG64 pseudo-random number generator. Unused by this stainer.\n",
    "        row_idx : int list, optional\n",
    "            Unused parameter.\n",
    "        col_idx : int list, optional\n",
    "            Unused parameter.\n",
    "        \n",
    "        Returns\n",
    "        -------\n",
    "        new_df : pd.DataFrame\n",
    "            Modified dataframe, with some columns shifted \"inwards\"\n",
    "        row_map : empty dictionary.\n",
    "        col_map : empty dictionary.\n",
    "       \n",
    "        >>> rng = np.random.default_rng(12)\n",
    "        >>> x = pd.DataFrame({'label': ['T-LIGHT', 'ASHTRAY'], 'dept':['A1', 'A2'], 'price': [2.30, 3.20]})\n",
    "        >>> print(x)\n",
    "             label dept  price\n",
    "        0  T-LIGHT   A1    2.3\n",
    "        1  ASHTRAY   A2    3.2\n",
    "\n",
    "        >>> cj1 = ColumnJoiner('test joiner', [1], [0,1])\n",
    "        >>> print(cj1.transform(x, rng))\n",
    "               label dept  price\n",
    "        0    T-LIGHT   A1    2.3\n",
    "        1  ASHTRAYA2  3.2    NaN\n",
    "        \n",
    "        \"\"\"\n",
    "        new_df, row_idx, col_idx = self._init_transform(df, row_idx, col_idx)\n",
    "        start = time()\n",
    "                \n",
    "        org_col_index = new_df.columns\n",
    "        col_names = org_col_index[col_idx]\n",
    "        \n",
    "        split_id = np.argwhere(org_col_index == col_names[1]).reshape(1)[0]\n",
    "        to_keep = new_df.loc[:, :col_names[0]].copy(deep=True)\n",
    "        join_series = new_df[col_names[1]].copy(deep=True)\n",
    "        to_join = new_df.iloc[:, split_id:].copy(deep=True)\n",
    "\n",
    "        # breakpoint()\n",
    "        # modify the column to join, and paste with to_keep\n",
    "        join_series[~join_series.index.isin(row_idx)] = ''\n",
    "        to_keep[col_names[0]] = to_keep[col_names[0]] + join_series\n",
    "        \n",
    "        for i in np.arange(split_id, new_df.shape[1]):\n",
    "            # print(i)\n",
    "            new_col = new_df.iloc[:, i].copy(deep=True)\n",
    "            if i < (new_df.shape[1] - 1):\n",
    "                new_col[row_idx] = new_df.iloc[:, i+1][row_idx]\n",
    "            else:\n",
    "                new_col[row_idx] = np.NaN\n",
    "            to_keep = pd.concat([to_keep, new_col], axis=1)\n",
    "            #breakpoint()\n",
    "        \n",
    "        end = time()\n",
    "        self.update_history(f\"Column id {col_names[0]} and {col_names[1]} joined at certain rows.\", end-start)\n",
    "        return to_keep,{},{}"
   ]
  },
  {
   "cell_type": "code",
   "execution_count": null,
   "metadata": {},
   "outputs": [],
   "source": [
    "dd = ColumnJoiner('test', [1,4], [8, 9])\n",
    "dd.transform(d3, rng)"
   ]
  },
  {
   "cell_type": "code",
   "execution_count": null,
   "metadata": {},
   "outputs": [],
   "source": [
    "doctest.run_docstring_examples(dd.transform , globs=None, verbose=True)"
   ]
  },
  {
   "cell_type": "code",
   "execution_count": null,
   "metadata": {},
   "outputs": [],
   "source": [
    "c1 = join_fn(telco_sub.MultipleLines, telco_sub.InternetService)"
   ]
  },
  {
   "cell_type": "code",
   "execution_count": null,
   "metadata": {},
   "outputs": [],
   "source": [
    "def join_fn(v1, v2):\n",
    "    return (v1 == 'No phone service') & (v2 == 'DSL')"
   ]
  },
  {
   "cell_type": "code",
   "execution_count": null,
   "metadata": {},
   "outputs": [],
   "source": [
    "def column_joiner(df, col_name1, col_name2, join_criteria):\n",
    "    # join_index should be a boolean index that indicates which rows to join.\n",
    "    # use *row_idx* when we implement the stainer.\n",
    "    \n",
    "    org_col_index = df.columns\n",
    "    split_id = np.argwhere(org_col_index == col_name2).reshape(1)[0]\n",
    "    to_keep = df.loc[:, :col_name1].copy(deep=True)\n",
    "    join_series = df[col_name2].copy(deep=True)\n",
    "    to_join = df.iloc[:, split_id:].copy(deep=True)\n",
    "    \n",
    "    # breakpoint()\n",
    "    # modify the column to join, and paste with to_keep\n",
    "    join_series[~join_criteria] = ''\n",
    "    to_keep[col_name1] = to_keep[col_name1] + join_series\n",
    "    \n",
    "    for i in np.arange(split_id, df.shape[1]):\n",
    "        # print(i)\n",
    "        new_col = df.iloc[:, i].copy(deep=True)\n",
    "        if i < (df.shape[1] - 1):\n",
    "            new_col[join_criteria] = df.iloc[:, i+1][join_criteria]\n",
    "        else:\n",
    "            new_col[join_criteria] = np.NaN\n",
    "        to_keep = pd.concat([to_keep, new_col], axis=1)\n",
    "        #breakpoint()\n",
    "\n",
    "    return to_keep"
   ]
  },
  {
   "cell_type": "code",
   "execution_count": null,
   "metadata": {},
   "outputs": [],
   "source": [
    "out = column_joiner(telco_sub, 'MultipleLines', 'InternetService', c1)"
   ]
  },
  {
   "cell_type": "code",
   "execution_count": null,
   "metadata": {},
   "outputs": [],
   "source": [
    "telco_sub.loc[:, 'MultipleLines':]"
   ]
  },
  {
   "cell_type": "markdown",
   "metadata": {},
   "source": [
    "---"
   ]
  },
  {
   "cell_type": "markdown",
   "metadata": {},
   "source": [
    "## Resample residuals"
   ]
  },
  {
   "cell_type": "code",
   "execution_count": null,
   "metadata": {},
   "outputs": [],
   "source": [
    "from statsmodels.regression.linear_model import OLS, WLS\n",
    "from statsmodels.tools import add_constant\n",
    "from ddf.samplers import rand_from_Finv"
   ]
  },
  {
   "cell_type": "code",
   "execution_count": null,
   "metadata": {},
   "outputs": [],
   "source": [
    "class ResidualResampler(Stainer):\n",
    "    \"\"\" Stainer to resample residuals from a linear model and return new y's. \"\"\"\n",
    "    \n",
    "    def __init__(self, name = \"Residual resampler\", row_idx =[], col_idx = []):\n",
    "        \"\"\" Constructor for ResidualResampler\n",
    "        \n",
    "        Parameters\n",
    "        ----------\n",
    "        name: str, optional.\n",
    "            Name of stainer. \n",
    "        col_idx: int list, required. This should specify at least two columns. The first will\n",
    "                 be used as the y-variable, and the others will be used as the X matrix.\n",
    "        row_idx: int list, unused.\n",
    "                 \n",
    "        Raises\n",
    "        ------\n",
    "        ValueError\n",
    "            If col_idx has length not equals to two, or the values are not consecutive.\n",
    "        \"\"\"\n",
    "        if len(col_idx) < 2:\n",
    "            raise ValueError(\"col_idx must contain at least two integers.\")\n",
    "        super().__init__(name, row_idx, col_idx)\n",
    "        \n",
    "    def transform(self, df, rng, row_idx=None, col_idx=None):\n",
    "        \"\"\"Applies staining on the given indices in the provided dataframe.\n",
    "        \n",
    "        A ordinary least squares linear model is fit, using statsmodels. The residuals are then\n",
    "        sampled from using rand_from_Finv (from ddf.samplers) and added back to the fitted y-hats\n",
    "        to create a new set of y-values.\n",
    "        \n",
    "        This stainer should result in a similar fit, but slightly different diagnostics/statistics.\n",
    "        \n",
    "        The user should check if the new y-values are valid or not (e.g. are they negative when they \n",
    "        shouldn't be?)\n",
    "        \n",
    "        Parameters\n",
    "        ----------\n",
    "        df : pd.DataFrame \n",
    "            Dataframe to be transformed.\n",
    "        rng : np.random.BitGenerator\n",
    "            PCG64 pseudo-random number generator.\n",
    "        row_idx : int list, optional\n",
    "            Unused parameter.\n",
    "        col_idx : int list, optional\n",
    "            Unused parameter.\n",
    "        \n",
    "        Returns\n",
    "        -------\n",
    "        new_df : pd.DataFrame\n",
    "            Modified dataframe, with some columns shifted \"inwards\"\n",
    "        row_map : empty dictionary.\n",
    "        col_map : empty dictionary.\n",
    "       \n",
    "        >>> rng = np.random.default_rng(12)\n",
    "        >>> x = np.arange(1, 11)\n",
    "        >>> y = x*2.3 + 3 + rng.normal(scale=1.6, size=10)\n",
    "        >>> org_df = pd.DataFrame({'x':x, 'y':y})\n",
    "\n",
    "        >>> rr = ResidualResampler('test rr', [], [1,0])\n",
    "        >>> new_df = rr.transform(org_df, rng)\n",
    "\n",
    "        >>> print(pd.concat((org_df, new_df), axis=1))\n",
    "            x          y   x          y\n",
    "        0   1   5.289077   1   4.155549\n",
    "        1   2   9.273829   2   8.747416\n",
    "        2   3  11.086541   3   8.444612\n",
    "        3   4  13.358330   4  11.250526\n",
    "        4   5  17.090042   5  14.005535\n",
    "        5   6  14.871107   6  16.610120\n",
    "        6   7  18.096871   7  18.940797\n",
    "        7   8  19.286939   8  23.466323\n",
    "        8   9  23.527596   9  21.974412\n",
    "        9  10  27.598022  10  23.545538\n",
    "\n",
    "        \"\"\"\n",
    "        new_df, row_idx, col_idx = self._init_transform(df, row_idx, col_idx)\n",
    "        start = time()\n",
    "        \n",
    "        # drop missing values\n",
    "        col_names = new_df.columns[col_idx]\n",
    "        fit_df = new_df.iloc[:, col_idx].dropna()\n",
    "        \n",
    "        X = add_constant(fit_df.iloc[:, 1:])\n",
    "        y = fit_df.iloc[:,0]\n",
    "    \n",
    "        # fit and predict from the model\n",
    "        m = OLS(y, X)\n",
    "        o = m.fit()\n",
    "        new_resid = rand_from_Finv(o.resid, rng, size=len(o.resid))\n",
    "        new_y = o.predict(X) + new_resid\n",
    "        \n",
    "        # only put new values where we could predict values; otherwise keep old y-values.\n",
    "        new_df.loc[y.index, col_names[0]] = new_y\n",
    "        \n",
    "        end = time()\n",
    "        self.update_history(f\"New y-values in column {col_idx[0]} by sampling from residual distribution.\", \n",
    "                            end-start)\n",
    "        return new_df,{},{}"
   ]
  },
  {
   "cell_type": "code",
   "execution_count": null,
   "metadata": {},
   "outputs": [],
   "source": [
    "rr = ResidualResampler('test rr', [], [5, 19])\n",
    "rr.transform(telco, rng).head()"
   ]
  },
  {
   "cell_type": "code",
   "execution_count": 15,
   "metadata": {},
   "outputs": [],
   "source": [
    "rng = np.random.default_rng(12)\n",
    "x = np.arange(1, 11)\n",
    "y = x*2.3 + 3 + rng.normal(scale=1.6, size=10)\n",
    "org_df = pd.DataFrame({'x':x, 'y':y})"
   ]
  },
  {
   "cell_type": "code",
   "execution_count": 18,
   "metadata": {},
   "outputs": [],
   "source": [
    "rr = ResidualResampler('test rr', [], [1,0])\n",
    "new_df = rr.transform(org_df, rng)[0]"
   ]
  },
  {
   "cell_type": "code",
   "execution_count": 17,
   "metadata": {},
   "outputs": [
    {
     "data": {
      "text/plain": [
       "(    x          y\n",
       " 0   1   4.155549\n",
       " 1   2   8.747416\n",
       " 2   3   8.444612\n",
       " 3   4  11.250526\n",
       " 4   5  14.005535\n",
       " 5   6  16.610120\n",
       " 6   7  18.940797\n",
       " 7   8  23.466323\n",
       " 8   9  21.974412\n",
       " 9  10  23.545538,\n",
       " {},\n",
       " {})"
      ]
     },
     "execution_count": 17,
     "metadata": {},
     "output_type": "execute_result"
    }
   ],
   "source": [
    "new_df"
   ]
  },
  {
   "cell_type": "code",
   "execution_count": 22,
   "metadata": {},
   "outputs": [
    {
     "name": "stdout",
     "output_type": "stream",
     "text": [
      "    x          y   x          y\n",
      "0   1   5.289077   1   6.891292\n",
      "1   2   9.273829   2  10.673205\n",
      "2   3  11.086541   3  12.731433\n",
      "3   4  13.358330   4  14.541629\n",
      "4   5  17.090042   5  12.720387\n",
      "5   6  14.871107   6  19.215727\n",
      "6   7  18.096871   7  19.722592\n",
      "7   8  19.286939   8  22.994630\n",
      "8   9  23.527596   9  22.492393\n",
      "9  10  27.598022  10  23.678673\n"
     ]
    }
   ],
   "source": [
    "import matplotlib.pyplot as plt\n",
    "%matplotlib inline\n",
    "\n",
    "print(pd.concat((org_df, new_df), axis=1))"
   ]
  },
  {
   "cell_type": "code",
   "execution_count": 23,
   "metadata": {},
   "outputs": [
    {
     "data": {
      "text/plain": [
       "<AxesSubplot:xlabel='x', ylabel='y'>"
      ]
     },
     "execution_count": 23,
     "metadata": {},
     "output_type": "execute_result"
    },
    {
     "data": {
      "image/png": "[encoded data removed]",
      "text/plain": [
       "<Figure size 432x288 with 1 Axes>"
      ]
     },
     "metadata": {
      "needs_background": "light"
     },
     "output_type": "display_data"
    }
   ],
   "source": [
    "org_df.plot(x='x', y='y', kind='scatter')"
   ]
  },
  {
   "cell_type": "code",
   "execution_count": 24,
   "metadata": {},
   "outputs": [
    {
     "data": {
      "text/plain": [
       "<AxesSubplot:xlabel='x', ylabel='y'>"
      ]
     },
     "execution_count": 24,
     "metadata": {},
     "output_type": "execute_result"
    },
    {
     "data": {
      "image/png": "[encoded data removed]",
      "text/plain": [
       "<Figure size 432x288 with 1 Axes>"
      ]
     },
     "metadata": {
      "needs_background": "light"
     },
     "output_type": "display_data"
    }
   ],
   "source": [
    "new_df.plot(x='x', y='y', kind='scatter')"
   ]
  },
  {
   "cell_type": "code",
   "execution_count": null,
   "metadata": {},
   "outputs": [],
   "source": [
    "plt.scatter(x,y)"
   ]
  },
  {
   "cell_type": "code",
   "execution_count": null,
   "metadata": {},
   "outputs": [],
   "source": [
    "x"
   ]
  },
  {
   "cell_type": "code",
   "execution_count": null,
   "metadata": {},
   "outputs": [],
   "source": [
    "telco.tenure.describe()"
   ]
  },
  {
   "cell_type": "code",
   "execution_count": null,
   "metadata": {},
   "outputs": [],
   "source": [
    "x = pd.DataFrame({'label': ['T-LIGHT', 'ASHTRAY'], 'dept':['A1', 'A2'], 'price': [2.30, 3.20]})"
   ]
  },
  {
   "cell_type": "code",
   "execution_count": null,
   "metadata": {},
   "outputs": [],
   "source": [
    "rand_from_Finv?"
   ]
  },
  {
   "cell_type": "code",
   "execution_count": null,
   "metadata": {},
   "outputs": [],
   "source": [
    "telco.info()"
   ]
  },
  {
   "cell_type": "code",
   "execution_count": null,
   "metadata": {},
   "outputs": [],
   "source": [
    "x.iloc[:,0]"
   ]
  },
  {
   "cell_type": "code",
   "execution_count": null,
   "metadata": {},
   "outputs": [],
   "source": [
    "from scipy.interpolate import Akima1DInterpolator\n",
    "from statsmodels.distributions.empirical_distribution import ECDF\n",
    "\n",
    "def rand_from_Finv(X, size=(1,10), Xmin=None, Xmax = None):\n",
    "    rvs_needed = np.array(size).prod()\n",
    "    ecdf1 = ECDF(X)\n",
    "    U = np.hstack((0.0, ecdf1.y[1:-1], 1.0))\n",
    "    \n",
    "    if Xmin is None:\n",
    "        Xmin = X.min()\n",
    "    if Xmax is None:\n",
    "        Xmax = X.max()\n",
    "        \n",
    "    Finv = np.hstack((Xmin, ecdf1.x[1:-1], Xmax))\n",
    "    ak2 = Akima1DInterpolator(U, Finv)\n",
    "\n",
    "    U_rand = np.random.uniform(size=rvs_needed)\n",
    "    out = ak2(U_rand).reshape(size)\n",
    "    return out"
   ]
  },
  {
   "cell_type": "code",
   "execution_count": null,
   "metadata": {},
   "outputs": [],
   "source": [
    "def resample_residuals(df, ycol, Xcols):\n",
    "    breakpoint()\n",
    "    new_df = df.dropna()\n",
    "    X = add_constant(new_df[[Xcols]])\n",
    "    y = new_df[ycol]\n",
    "    \n",
    "    #drop_these = pd.isna(X.TotalCharges)\n",
    "    #X = X[~drop_these]\n",
    "    #y = y[~drop_these]\n",
    "    \n",
    "    m = OLS(y, X)\n",
    "    o = m.fit()\n",
    "    new_resid = rand_from_Finv(o.resid, rng, size=len(o.resid))\n",
    "    \n",
    "    #df[ycol] = o.predict(X) + new_resid\n",
    "    \n",
    "    return df"
   ]
  },
  {
   "cell_type": "code",
   "execution_count": null,
   "metadata": {},
   "outputs": [],
   "source": [
    "resample_residuals(telco, 'tenure', 'TotalCharges').info()"
   ]
  },
  {
   "cell_type": "markdown",
   "metadata": {},
   "source": [
    "---"
   ]
  },
  {
   "cell_type": "markdown",
   "metadata": {},
   "source": [
    "## Insert outlier to influential point"
   ]
  },
  {
   "cell_type": "code",
   "execution_count": null,
   "metadata": {},
   "outputs": [],
   "source": [
    "#from statsmodels.stats.outliers_influence import *"
   ]
  },
  {
   "cell_type": "code",
   "execution_count": null,
   "metadata": {},
   "outputs": [],
   "source": [
    "class InsertOutliers(Stainer):\n",
    "    \"\"\" Stainer to insert outliers at influential points using a linear model. \"\"\"\n",
    "    \n",
    "    def __init__(self, name = \"Inserts outliers\", row_idx =[], col_idx = [], n=5):\n",
    "        \"\"\" Constructor for InsertOutliers\n",
    "        \n",
    "        Parameters\n",
    "        ----------\n",
    "        name: str, optional.\n",
    "            Name of stainer. \n",
    "        col_idx: int list, required. This should specify at least two columns. The first will\n",
    "                 be used as the y-variable, and the others will be used as the X matrix.\n",
    "        row_idx: int list, unused.\n",
    "        n:       number of outliers to insert. The default is 5.\n",
    "                 \n",
    "        Raises\n",
    "        ------\n",
    "        ValueError\n",
    "            If col_idx has length not equals to two, or the values are not consecutive.\n",
    "        \"\"\"\n",
    "        if len(col_idx) < 2:\n",
    "            raise ValueError(\"col_idx must contain at least two integers.\")\n",
    "        super().__init__(name, row_idx, col_idx)\n",
    "        self.n = n\n",
    "        \n",
    "    def transform(self, df, rng, row_idx=None, col_idx=None):\n",
    "        \"\"\"Applies staining on the given indices in the provided dataframe.\n",
    "        \n",
    "        A ordinary least squares linear model is fit, using statsmodels. \n",
    "        \n",
    "        The 5 most influential points are identified (using their leverage).\n",
    "        \n",
    "        The residuals for these 5 points are replaced by sampling from the 5% tails of the residual \n",
    "        distributions.\n",
    "        \n",
    "        This stainer should result in a similar fit, but slightly different diagnostics/statistics.\n",
    "        \n",
    "        The user should check if the new y-values are valid or not (e.g. are they negative when they \n",
    "        shouldn't be?)\n",
    "        \n",
    "        Parameters\n",
    "        ----------\n",
    "        df : pd.DataFrame \n",
    "            Dataframe to be transformed.\n",
    "        rng : np.random.BitGenerator\n",
    "            PCG64 pseudo-random number generator.\n",
    "        row_idx : int list, optional\n",
    "            Unused parameter.\n",
    "        col_idx : int list, optional\n",
    "            Unused parameter.\n",
    "        \n",
    "        Returns\n",
    "        -------\n",
    "        new_df : pd.DataFrame\n",
    "            Modified dataframe, with some columns shifted \"inwards\"\n",
    "        row_map : empty dictionary.\n",
    "        col_map : empty dictionary.\n",
    "       \n",
    "        >>> rng = np.random.default_rng(12)\n",
    "        >>> x = np.arange(1, 11)\n",
    "        >>> x[-2:] = [15,16]\n",
    "\n",
    "        >>> y = x*2 + 3 + rng.normal(scale=5, size=10)\n",
    "        >>> org_df = pd.DataFrame({'x':x, 'y':y})\n",
    "\n",
    "        >>> rr = InsertOutliers('test rr', [], [1,0], n=2)\n",
    "        >>> new_df = rr.transform(org_df, rng)[0]\n",
    "\n",
    "        >>> print(pd.concat((org_df, new_df), axis=1))\n",
    "            x          y   x          y\n",
    "        0   1   4.965866   1   4.965866\n",
    "        1   2  12.230716   2  12.230716\n",
    "        2   3  12.707942   3  12.707942\n",
    "        3   4  14.619783   4  14.619783\n",
    "        4   5  21.093881   5  21.093881\n",
    "        5   6   8.972209   6   8.972209\n",
    "        6   7  13.865223   7  13.865223\n",
    "        7   8  12.396684   8  12.396684\n",
    "        8  15  32.461237  15  39.217787\n",
    "        9  16  39.993818  16  27.541544\n",
    "\n",
    "        \"\"\"\n",
    "        new_df, row_idx, col_idx = self._init_transform(df, row_idx, col_idx)\n",
    "        start = time()\n",
    "        \n",
    "        # drop missing values\n",
    "        col_names = new_df.columns[col_idx]\n",
    "        fit_df = new_df.iloc[:, col_idx].dropna()\n",
    "        \n",
    "        X = add_constant(fit_df.iloc[:, 1:])\n",
    "        y = fit_df.iloc[:,0]\n",
    "    \n",
    "        # obtain a function to sample from residuals\n",
    "        m = OLS(y, X)\n",
    "        o = m.fit()\n",
    "        Finv = rand_from_Finv(o.resid, rng, return_fn=True)\n",
    "        \n",
    "        # derive leverage\n",
    "        hhh4 = pd.Series(np.diag(np.matmul(np.matmul(X.values, \n",
    "                                                     np.linalg.inv(np.matmul(np.transpose(X.values), X.values))), \n",
    "                                           np.transpose(X.values))))\n",
    "        hhh4.index = X.index\n",
    "        replace_these = hhh4.nlargest(self.n).index\n",
    "        \n",
    "        # sample from tails\n",
    "        V = rng.random(size=self.n)\n",
    "        W = [rng.uniform(0.0, 0.05,1)[0] if (x <= 0.5) else rng.uniform(0.95, 1.00, 1)[0] for x in V ]\n",
    "        \n",
    "        # only put new values where we could predict values; otherwise keep old y-values.\n",
    "        new_y = o.predict(X.loc[replace_these,:]) + Finv(W)\n",
    "        #f2 = df.copy(deep=True)\n",
    "        new_df.loc[replace_these, col_names[0]] = new_y        \n",
    "        \n",
    "        end = time()\n",
    "        self.update_history(f\"Outliers in column {col_idx[0]} by sampling from residual distribution.\", \n",
    "                            end-start)\n",
    "        return new_df,{},{}"
   ]
  },
  {
   "cell_type": "code",
   "execution_count": null,
   "metadata": {},
   "outputs": [],
   "source": [
    "rng = np.random.default_rng(12)\n",
    "x = np.arange(1, 11)\n",
    "x[-2:] = [15,16]\n",
    "\n",
    "y = x*2 + 3 + rng.normal(scale=5, size=10)\n",
    "org_df = pd.DataFrame({'x':x, 'y':y})\n",
    "\n",
    "#org_df.plot('x', 'y', kind='scatter');\n",
    "\n",
    "rr = InsertOutliers('test rr', [], [1,0], n=2)\n",
    "new_df = rr.transform(org_df, rng)[0]\n",
    "\n",
    "#import matplotlib.pyplot as plt\n",
    "#%matplotlib inline\n",
    "\n",
    "print(pd.concat((org_df, new_df), axis=1))"
   ]
  },
  {
   "cell_type": "code",
   "execution_count": null,
   "metadata": {},
   "outputs": [],
   "source": [
    "new_df.plot('x', 'y', kind='scatter')"
   ]
  },
  {
   "cell_type": "code",
   "execution_count": null,
   "metadata": {},
   "outputs": [],
   "source": [
    "def insert_outlier(df, ycol, Xcols, n=5):\n",
    "    X = add_constant(df[[Xcols]])\n",
    "    drop_these = pd.isna(X.TotalCharges)\n",
    "    X = X[~drop_these]\n",
    "    hhh4 = pd.Series(np.diag(np.matmul(np.matmul(X.values, \n",
    "                                                 np.linalg.inv(np.matmul(np.transpose(X.values), X.values))), \n",
    "                                       np.transpose(X.values))))\n",
    "    hhh4.index = X.index\n",
    "    replace_these = hhh4.nlargest(n).index\n",
    "    \n",
    "    y = df[ycol]\n",
    "    y = y[~drop_these]\n",
    "    m = OLS(y, X)\n",
    "    o = m.fit()\n",
    "    r1 = o.resid\n",
    "\n",
    "    ecdf1 = ECDF(r1)\n",
    "    Finv = np.hstack((r1.min(), ecdf1.x[1:-1], r1.max()))\n",
    "    U = np.hstack((0.0, ecdf1.y[1:-1], 1.0))\n",
    "    ak2 = Akima1DInterpolator(U, Finv)\n",
    "    \n",
    "    V = np.random.random(n)\n",
    "    W = [np.random.uniform(0.0, 0.05,1)[0] if (x <= 0.5) else np.random.uniform(0.95, 1.00, 1)[0] for x in V ]\n",
    "    \n",
    "    new_y = o.predict(X.loc[replace_these,:]) + ak2(W)\n",
    "    df2 = df.copy(deep=True)\n",
    "    \n",
    "    df2.loc[replace_these, ycol] = new_y\n",
    "    return df2"
   ]
  },
  {
   "cell_type": "markdown",
   "metadata": {},
   "source": [
    "---\n",
    "\n",
    "## Modify Correlation"
   ]
  },
  {
   "cell_type": "code",
   "execution_count": null,
   "metadata": {},
   "outputs": [],
   "source": [
    "from scipy.stats import spearmanr,pearsonr,norm"
   ]
  },
  {
   "cell_type": "code",
   "execution_count": null,
   "metadata": {},
   "outputs": [],
   "source": [
    "class ModifyCorrelation(Stainer):\n",
    "    \"\"\" Stainer to modify correlation between two columns. \"\"\"\n",
    "    \n",
    "    def __init__(self, name = \"Inserts outliers\", row_idx =[], col_idx = [], rho=None):\n",
    "        \"\"\" Constructor for ModifyCorrelation\n",
    "        \n",
    "        Parameters\n",
    "        ----------\n",
    "        name: str, optional.\n",
    "            Name of stainer. \n",
    "        col_idx: int list, required. This should specify exactly two numeric columns.\n",
    "        row_idx: int list, unused.\n",
    "        rho:     New correlation between the two columns.\n",
    "                 \n",
    "        Raises\n",
    "        ------\n",
    "        ValueError\n",
    "            If col_idx has length not equals to two, or the values are not consecutive.\n",
    "        \"\"\"\n",
    "        if len(col_idx) != 2:\n",
    "            raise ValueError(\"col_idx must contain exactly two integers.\")\n",
    "        if rho is None:\n",
    "            raise ValueError(\"rho needs to specified.\")\n",
    "        super().__init__(name, row_idx, col_idx)\n",
    "        self.rho = rho\n",
    "        \n",
    "    def transform(self, df, rng, row_idx=None, col_idx=None):\n",
    "        \"\"\"Applies staining on the given indices in the provided dataframe.\n",
    "        \n",
    "        A multivariate normal copula is used, with the Finv being fitted using the Akima interpolator.\n",
    "        \n",
    "        Parameters\n",
    "        ----------\n",
    "        df : pd.DataFrame \n",
    "            Dataframe to be transformed.\n",
    "        rng : np.random.BitGenerator\n",
    "            PCG64 pseudo-random number generator.\n",
    "        row_idx : int list, optional\n",
    "            Unused parameter.\n",
    "        col_idx : int list, optional\n",
    "            Unused parameter.\n",
    "        \n",
    "        Returns\n",
    "        -------\n",
    "        new_df : pd.DataFrame\n",
    "        row_map : empty dictionary.\n",
    "        col_map : empty dictionary.\n",
    "       \n",
    "        >>> rng = np.random.default_rng(12)\n",
    "        >>> x = np.arange(0, 100)\n",
    "        >>> y = x*2 + 3 + rng.normal(scale=25, size=100)\n",
    "        >>> org_df = pd.DataFrame({'x':x, 'y':y})\n",
    "        >>> spearmanr(org_df.x, org_df.y)[0]\n",
    "        0.9324692469246924\n",
    "\n",
    "        >>> rr = ModifyCorrelation('test rr', [], [1,0], rho=0.0)\n",
    "        >>> new_df = rr.transform(org_df, rng)[0]\n",
    "        >>> spearmanr(new_df.x, new_df.y)[0]\n",
    "        0.12897689768976897\n",
    "        \"\"\"\n",
    "        new_df, row_idx, col_idx = self._init_transform(df, row_idx, col_idx)\n",
    "        start = time()\n",
    "\n",
    "        # drop missing values\n",
    "        col_names = new_df.columns[col_idx]\n",
    "        fit_df = new_df.iloc[:, col_idx].dropna()\n",
    "        \n",
    "        # estimate Finv, Ginv\n",
    "        X1 = fit_df.iloc[:, 0]\n",
    "        Finv = rand_from_Finv(X1, rng, return_fn=True)\n",
    "        X2 = fit_df.iloc[:, 1]\n",
    "        Ginv = rand_from_Finv(X2, rng, return_fn=True)\n",
    "        \n",
    "        org_corr = spearmanr(X1, X2)[0]\n",
    "\n",
    "        # sample multivariate normal with desired correlation\n",
    "        mu = np.zeros(2)\n",
    "        sigma = np.ones((2,2))\n",
    "        sigma[0,1] = sigma[1,0] = self.rho\n",
    "        Xn = rng.multivariate_normal(mu, sigma, size=new_df.shape[0], method='cholesky')\n",
    "\n",
    "        # apply norm cdf to array\n",
    "        Yn = norm.cdf(Xn)\n",
    "\n",
    "        # apply Finv, Ginv\n",
    "        new_col1 = Finv(Yn[:,0])\n",
    "        new_col2 = Ginv(Yn[:,1])\n",
    "        new_df.loc[:, col_names[0]] = new_col1\n",
    "        new_df.loc[:, col_names[1]] = new_col2\n",
    "        \n",
    "        end = time()\n",
    "        self.update_history(f\"Correlation modified from {org_corr:.2f} to {self.rho:.2f}.\", end-start)\n",
    "        return new_df,{},{}"
   ]
  },
  {
   "cell_type": "code",
   "execution_count": null,
   "metadata": {},
   "outputs": [],
   "source": [
    "mm = ModifyCorrelation('test1', col_idx=[5,19], rho=-0.2)"
   ]
  },
  {
   "cell_type": "code",
   "execution_count": null,
   "metadata": {},
   "outputs": [],
   "source": [
    "tmp = mm.transform(telco, rng)"
   ]
  },
  {
   "cell_type": "code",
   "execution_count": null,
   "metadata": {},
   "outputs": [],
   "source": [
    "spearmanr(tmp.tenure, tmp.TotalCharges)"
   ]
  },
  {
   "cell_type": "code",
   "execution_count": null,
   "metadata": {},
   "outputs": [],
   "source": [
    "rng = np.random.default_rng(12)\n",
    "x = np.arange(0, 100)\n",
    "y = x*2 + 3 + rng.normal(scale=25, size=100)\n",
    "org_df = pd.DataFrame({'x':x, 'y':y})\n",
    "\n",
    "spearmanr(org_df.x, org_df.y)[0]"
   ]
  },
  {
   "cell_type": "code",
   "execution_count": null,
   "metadata": {},
   "outputs": [],
   "source": [
    "org_df.plot('x', 'y', kind='scatter')"
   ]
  },
  {
   "cell_type": "code",
   "execution_count": null,
   "metadata": {},
   "outputs": [],
   "source": [
    "#org_df.plot('x', 'y', kind='scatter');\n",
    "\n",
    "rr = ModifyCorrelation('test rr', [], [1,0], rho=0.0)\n",
    "new_df = rr.transform(org_df, rng)[0]\n",
    "\n",
    "#print(pd.concat((org_df, new_df), axis=1))\n",
    "\n",
    "spearmanr(new_df.x, new_df.y)[0]"
   ]
  },
  {
   "cell_type": "code",
   "execution_count": null,
   "metadata": {},
   "outputs": [],
   "source": [
    "new_df.plot('x', 'y', kind='scatter')"
   ]
  },
  {
   "cell_type": "code",
   "execution_count": null,
   "metadata": {},
   "outputs": [],
   "source": [
    "def modify_correlation(df, col1, col2, rho):\n",
    "    # estimate/interpolate cdf for col1 and col2\n",
    "    ecdf1 = ECDF(df[col1])\n",
    "    Finv_step = np.hstack((df[col1].min(), ecdf1.x[1:-1], df[col1].max()))\n",
    "    U = np.hstack((0.0, ecdf1.y[1:-1], 1.0))\n",
    "    Finv = Akima1DInterpolator(U, Finv_step)\n",
    "\n",
    "    ecdf2 = ECDF(df[col2])\n",
    "    Ginv_step = np.hstack((df[col2].min(), ecdf2.x[1:-1], df[col2].max()))\n",
    "    U = np.hstack((0.0, ecdf2.y[1:-1], 1.0))\n",
    "    Ginv = Akima1DInterpolator(U, Ginv_step)\n",
    "    \n",
    "    # print original correlation\n",
    "    org_corr = spearmanr(df[col1], df[col2])\n",
    "    #print(f'The original spearman correlation is {org_corr[0]:.2f}.')\n",
    "    \n",
    "    # sample multivariate normal with desired correlation\n",
    "    rng = default_rng()\n",
    "    mu = np.zeros(2)\n",
    "    sigma = np.ones((2,2))\n",
    "    sigma[0,1] = sigma[1,0] = rho\n",
    "    Xn = rng.multivariate_normal(mu, sigma, size=df.shape[0], method='cholesky')\n",
    "    \n",
    "    # apply norm cdf to array\n",
    "    Yn = norm.cdf(Xn)\n",
    "    \n",
    "    # apply Finv, Ginv\n",
    "    new_col1 = Finv(Yn[:,0])\n",
    "    new_col2 = Ginv(Yn[:,1])\n",
    "    \n",
    "    df2 = df.copy(deep=True)\n",
    "    df2[col1] = new_col1\n",
    "    df2[col2] = new_col2\n",
    "    \n",
    "    # return df\n",
    "    return df2"
   ]
  },
  {
   "cell_type": "code",
   "execution_count": null,
   "metadata": {},
   "outputs": [],
   "source": [
    "telco.tenure.describe()"
   ]
  },
  {
   "cell_type": "code",
   "execution_count": null,
   "metadata": {},
   "outputs": [],
   "source": [
    "X = telco[['TotalCharges']]\n",
    "y = telco.tenure\n",
    "X = add_constant(X)"
   ]
  },
  {
   "cell_type": "code",
   "execution_count": null,
   "metadata": {},
   "outputs": [],
   "source": [
    "hhh4 = pd.Series(np.diag(np.matmul(np.matmul(X.values, np.linalg.inv(np.matmul(np.transpose(X.values), X.values))), np.transpose(X.values))))"
   ]
  },
  {
   "cell_type": "code",
   "execution_count": null,
   "metadata": {},
   "outputs": [],
   "source": [
    "hhh4.tail()"
   ]
  },
  {
   "cell_type": "code",
   "execution_count": null,
   "metadata": {},
   "outputs": [],
   "source": [
    "hhh.tail()"
   ]
  },
  {
   "cell_type": "code",
   "execution_count": null,
   "metadata": {},
   "outputs": [],
   "source": [
    "drop_these = pd.isna(X.TotalCharges)\n",
    "X = X[~drop_these]\n",
    "y = y[~drop_these]"
   ]
  },
  {
   "cell_type": "code",
   "execution_count": null,
   "metadata": {},
   "outputs": [],
   "source": [
    "m = OLS(y, X)\n",
    "\n",
    "o = m.fit()"
   ]
  },
  {
   "cell_type": "code",
   "execution_count": null,
   "metadata": {},
   "outputs": [],
   "source": [
    "(y - (o.predict(X) + o.resid)).sum()\n",
    "\n",
    "rand_from_Finv(o.resid, size=len(o.resid)).shape"
   ]
  },
  {
   "cell_type": "code",
   "execution_count": null,
   "metadata": {},
   "outputs": [],
   "source": [
    "y.shape"
   ]
  },
  {
   "cell_type": "code",
   "execution_count": null,
   "metadata": {},
   "outputs": [],
   "source": [
    "telco.head()"
   ]
  },
  {
   "cell_type": "code",
   "execution_count": null,
   "metadata": {
    "scrolled": true
   },
   "outputs": [],
   "source": [
    "out['MultipleLines'] + out['OnlineBackup']"
   ]
  },
  {
   "cell_type": "code",
   "execution_count": null,
   "metadata": {},
   "outputs": [],
   "source": [
    "out.shape"
   ]
  },
  {
   "cell_type": "code",
   "execution_count": null,
   "metadata": {},
   "outputs": [],
   "source": []
  },
  {
   "cell_type": "code",
   "execution_count": null,
   "metadata": {},
   "outputs": [],
   "source": [
    "tmp[['Description', 'InvoiceNo']]"
   ]
  },
  {
   "cell_type": "code",
   "execution_count": null,
   "metadata": {},
   "outputs": [],
   "source": [
    "tmp"
   ]
  },
  {
   "cell_type": "code",
   "execution_count": null,
   "metadata": {},
   "outputs": [],
   "source": [
    "pdb.runcall(column_splitter, d2, 'Description')"
   ]
  },
  {
   "cell_type": "code",
   "execution_count": null,
   "metadata": {},
   "outputs": [],
   "source": [
    "tmp.iloc[:, 5]"
   ]
  },
  {
   "cell_type": "code",
   "execution_count": null,
   "metadata": {},
   "outputs": [],
   "source": [
    "pd.DataFrame.combine_first?"
   ]
  },
  {
   "cell_type": "code",
   "execution_count": null,
   "metadata": {},
   "outputs": [],
   "source": [
    "id = pd.Series([True, False, False, True])"
   ]
  },
  {
   "cell_type": "code",
   "execution_count": null,
   "metadata": {},
   "outputs": [],
   "source": [
    "id.index = qty_series.index"
   ]
  },
  {
   "cell_type": "code",
   "execution_count": null,
   "metadata": {},
   "outputs": [],
   "source": [
    "qty_series[id] = d2.Description[id]"
   ]
  },
  {
   "cell_type": "code",
   "execution_count": null,
   "metadata": {},
   "outputs": [],
   "source": [
    "qty_series"
   ]
  },
  {
   "cell_type": "code",
   "execution_count": null,
   "metadata": {},
   "outputs": [],
   "source": [
    "d2a = d2.Description.str.split('-',n=1, expand=True)"
   ]
  },
  {
   "cell_type": "code",
   "execution_count": null,
   "metadata": {},
   "outputs": [],
   "source": [
    "d2a[[1]]"
   ]
  },
  {
   "cell_type": "code",
   "execution_count": null,
   "metadata": {},
   "outputs": [],
   "source": [
    "d2[[\"Quantity\"]]"
   ]
  },
  {
   "cell_type": "code",
   "execution_count": null,
   "metadata": {},
   "outputs": [],
   "source": [
    "d2.combine_first?"
   ]
  },
  {
   "cell_type": "code",
   "execution_count": null,
   "metadata": {},
   "outputs": [],
   "source": [
    "pd.concat([d2a[[1]],d2[[\"Quantity\"]]], axis=1)"
   ]
  },
  {
   "cell_type": "code",
   "execution_count": null,
   "metadata": {},
   "outputs": [],
   "source": [
    "oo.Description.str.contains(\"[^\\w\\s]\", regex=True).isna().sum()"
   ]
  },
  {
   "cell_type": "code",
   "execution_count": null,
   "metadata": {},
   "outputs": [],
   "source": [
    "oo2 = oo[~oo.Description.isna()]"
   ]
  },
  {
   "cell_type": "code",
   "execution_count": null,
   "metadata": {},
   "outputs": [],
   "source": [
    "tmp = oo2[oo2.Description.str.contains(\"[^\\w\\s]\", regex=True)].Description"
   ]
  },
  {
   "cell_type": "code",
   "execution_count": null,
   "metadata": {},
   "outputs": [],
   "source": [
    "tmp.str.split(\"(?=-)\",n=1, expand=True)"
   ]
  },
  {
   "cell_type": "code",
   "execution_count": null,
   "metadata": {},
   "outputs": [],
   "source": []
  }
 ],
 "metadata": {
  "kernelspec": {
   "display_name": "Python 3",
   "language": "python",
   "name": "python3"
  },
  "language_info": {
   "codemirror_mode": {
    "name": "ipython",
    "version": 3
   },
   "file_extension": ".py",
   "mimetype": "text/x-python",
   "name": "python",
   "nbconvert_exporter": "python",
   "pygments_lexer": "ipython3",
   "version": "3.8.10"
  }
 },
 "nbformat": 4,
 "nbformat_minor": 4
}
