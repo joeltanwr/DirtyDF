{
 "cells": [
  {
   "cell_type": "code",
   "execution_count": 1,
   "id": "polyphonic-tablet",
   "metadata": {},
   "outputs": [],
   "source": [
    "from authomatic import Authomatic\n",
    "from authomatic.providers import oauth2"
   ]
  },
  {
   "cell_type": "code",
   "execution_count": 2,
   "id": "threaded-october",
   "metadata": {},
   "outputs": [],
   "source": [
    "CONFIG = {\n",
    "    'github': {\n",
    "        'class_': oauth2.GitHub,\n",
    "        'consumer_key': 'dab0e3b0d13510195957',\n",
    "        'consumer_secret': '3da0cd40ffe175bfba078f4398fe6a1c5fce5c7b',\n",
    "        'scope': oauth2.GitHub.user_info_scope,\n",
    "        },\n",
    "    },\n",
    "}"
   ]
  },
  {
   "cell_type": "code",
   "execution_count": 3,
   "id": "gothic-ridge",
   "metadata": {},
   "outputs": [],
   "source": [
    "authomatic = Authomatic(CONFIG, 'secret')"
   ]
  },
  {
   "cell_type": "code",
   "execution_count": 6,
   "id": "trying-family",
   "metadata": {},
   "outputs": [
    {
     "ename": "TypeError",
     "evalue": "login() missing 2 required positional arguments: 'adapter' and 'provider_name'",
     "output_type": "error",
     "traceback": [
      "\u001b[1;31m---------------------------------------------------------------------------\u001b[0m",
      "\u001b[1;31mTypeError\u001b[0m                                 Traceback (most recent call last)",
      "\u001b[1;32m<ipython-input-6-81d1a5379acd>\u001b[0m in \u001b[0;36m<module>\u001b[1;34m\u001b[0m\n\u001b[1;32m----> 1\u001b[1;33m \u001b[0mauthomatic\u001b[0m\u001b[1;33m.\u001b[0m\u001b[0mlogin\u001b[0m\u001b[1;33m(\u001b[0m\u001b[1;33m)\u001b[0m\u001b[1;33m\u001b[0m\u001b[1;33m\u001b[0m\u001b[0m\n\u001b[0m",
      "\u001b[1;31mTypeError\u001b[0m: login() missing 2 required positional arguments: 'adapter' and 'provider_name'"
     ]
    }
   ],
   "source": [
    "authomatic.login(,'github')"
   ]
  },
  {
   "cell_type": "code",
   "execution_count": null,
   "id": "extraordinary-astrology",
   "metadata": {},
   "outputs": [],
   "source": []
  }
 ],
 "metadata": {
  "kernelspec": {
   "display_name": "datagen",
   "language": "python",
   "name": "datagen"
  },
  "language_info": {
   "codemirror_mode": {
    "name": "ipython",
    "version": 3
   },
   "file_extension": ".py",
   "mimetype": "text/x-python",
   "name": "python",
   "nbconvert_exporter": "python",
   "pygments_lexer": "ipython3",
   "version": "3.9.1"
  }
 },
 "nbformat": 4,
 "nbformat_minor": 5
}
