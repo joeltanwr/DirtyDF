{
 "cells": [
  {
   "cell_type": "code",
   "execution_count": 7,
   "metadata": {},
   "outputs": [],
   "source": [
    "import math"
   ]
  },
  {
   "cell_type": "code",
   "execution_count": 3,
   "metadata": {},
   "outputs": [],
   "source": [
    "class Geo:\n",
    "    #limited to taking in decimal lat and long\n",
    "    def __init__(self, lat, long):\n",
    "        self.lat = lat\n",
    "        self.long = long\n",
    "        \n",
    "    @staticmethod\n",
    "    def deg_to_dms(deg, type='lat'):\n",
    "        decimals, number = math.modf(deg)\n",
    "        d = int(number)\n",
    "        m = int(decimals * 60)\n",
    "        s = (deg - d - m / 60) * 3600.00\n",
    "        sgn_map = {\n",
    "            'lat': ('N','S'),\n",
    "            'long': ('E','W')\n",
    "        }\n",
    "        sgn = sgn_map[type][0 if d >= 0 else 1]\n",
    "        return (abs(d), abs(m), abs(s), sgn)\n",
    "    \n",
    "    def strfgeo(self, format):\n",
    "        d_lat, m_lat, s_lat, sgn_lat = Geo.deg_to_dms(self.lat, type='lat')\n",
    "        d_long, m_long, s_long, sgn_long = Geo.deg_to_dms(self.long, type='long')\n",
    "        \n",
    "        if format == 'DMS':\n",
    "            return f\"{d_lat}°{m_lat}\\'{s_lat:.3f}{sgn_lat}, {d_long}°{m_long}\\'{s_long:.3f}{sgn_long}\"\n",
    "        elif format == 'MinDec':\n",
    "            return ''\n",
    "        "
   ]
  },
  {
   "cell_type": "markdown",
   "metadata": {},
   "source": [
    "Wishful thinking: Introduce datetime-like string formatters.\n",
    "\n",
    "Base:\n",
    "\n",
    "- %D - degree w/ sign (integer)\n",
    "\n",
    "- %d - degree w/o sign (integer)\n",
    "\n",
    "- %c - N, S, W, or E\n",
    "\n",
    "- %m - minutes (integer)\n",
    "\n",
    "- %s - seconds (integer)\n",
    "\n",
    "Specification for lat/long & number of decimals:\n",
    "\n",
    "- %x{n} - x up to n decimals (e.g. %s2 for seconds up to 2 decimals)\n",
    "\n",
    "- %xa - to specify x for latitude (e.g. %s2a for latitude seconds up to 2 decimals)\n",
    "\n",
    "- %xo - to specify x for longitude (e.g. %m3o for longitude minutes up to 2 decimals)"
   ]
  },
  {
   "cell_type": "code",
   "execution_count": 8,
   "metadata": {},
   "outputs": [],
   "source": [
    "test = Geo(40.446195, -79.982195)"
   ]
  },
  {
   "cell_type": "code",
   "execution_count": 9,
   "metadata": {},
   "outputs": [
    {
     "data": {
      "text/plain": [
       "\"40°26'46.302N, 79°58'55.902W\""
      ]
     },
     "execution_count": 9,
     "metadata": {},
     "output_type": "execute_result"
    }
   ],
   "source": [
    "test.strfgeo('DMS')"
   ]
  },
  {
   "cell_type": "code",
   "execution_count": null,
   "metadata": {},
   "outputs": [],
   "source": []
  }
 ],
 "metadata": {
  "kernelspec": {
   "display_name": "Python 3",
   "language": "python",
   "name": "python3"
  },
  "language_info": {
   "codemirror_mode": {
    "name": "ipython",
    "version": 3
   },
   "file_extension": ".py",
   "mimetype": "text/x-python",
   "name": "python",
   "nbconvert_exporter": "python",
   "pygments_lexer": "ipython3",
   "version": "3.7.4"
  }
 },
 "nbformat": 4,
 "nbformat_minor": 4
}
