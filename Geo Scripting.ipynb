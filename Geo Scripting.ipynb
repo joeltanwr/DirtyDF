{
 "cells": [
  {
   "cell_type": "code",
   "execution_count": 15,
   "metadata": {},
   "outputs": [],
   "source": [
    "import math"
   ]
  },
  {
   "cell_type": "code",
   "execution_count": 137,
   "metadata": {},
   "outputs": [],
   "source": [
    "class Geo:\n",
    "    #limited to taking in decimal lat and long\n",
    "    def __init__(self, lat, long):\n",
    "        self.lat = lat\n",
    "        self.long = long\n",
    "        \n",
    "    @staticmethod\n",
    "    def deg_to_dms(deg, type='lat'):\n",
    "        decimals, number = math.modf(deg)\n",
    "        d = deg\n",
    "        m = decimals * 60\n",
    "        s = (deg - int(d) - int(m) / 60) * 3600.00\n",
    "        sgn_map = {\n",
    "            'lat': ('N','S'),\n",
    "            'long': ('E','W')\n",
    "        }\n",
    "        sgn = sgn_map[type][0 if d >= 0 else 1]\n",
    "        return (abs(d), abs(m), abs(s), sgn)\n",
    "    \n",
    "    @staticmethod\n",
    "    def _round(x, num_decimal):\n",
    "        if num_decimal == 0:\n",
    "            return f\"{math.floor(x)}\"\n",
    "        else:\n",
    "            return f\"{x:.{num_decimal}f}\"\n",
    "\n",
    "    def strfgeo(self, format):\n",
    "        d_lat, m_lat, s_lat, sgn_lat = Geo.deg_to_dms(self.lat, type='lat')\n",
    "        d_long, m_long, s_long, sgn_long = Geo.deg_to_dms(self.long, type='long')\n",
    "        \n",
    "        if format == 'DMS':\n",
    "            format = \"%da°%ma\\'%s3a%ca, %do°%mo\\'%s3o%co\"\n",
    "        elif format == 'MinDec':\n",
    "            format = \"%da°%m3a%ca, %do°%m3o%co\"\n",
    "\n",
    "        #other formats\n",
    "        output_str = \"\"\n",
    "        i = 0\n",
    "        while i < len(format):\n",
    "            ch = format[i]\n",
    "            if ch == '%':\n",
    "                end_idx = min([x for x in (format[i:].find('a'), format[i:].find('o')) if x > 0]) + i\n",
    "                ao_type = format[end_idx]\n",
    "                if end_idx - i == 1: #empty token\n",
    "                    raise Exception(f\"empty token seen at index {i} of format\")\n",
    "            \n",
    "                if end_idx - i != 2 and not format[i+2: end_idx].isdigit():\n",
    "                        raise Exception(f\"format is not accepted, error caused by following token at\" + \n",
    "                                f\" index {i} to {end_idx+1}: {format[i: end_idx + 1]}\")\n",
    "                \n",
    "                base_ch = format[i+1] #base character\n",
    "\n",
    "                if end_idx - i == 2:\n",
    "                    num_decimal = 0\n",
    "                else:\n",
    "                    num_decimal = int(format[i+2: end_idx])\n",
    "                    \n",
    "                if base_ch == 'd':\n",
    "                    if ao_type == 'a':\n",
    "                        output_str += Geo._round(d_lat, num_decimal)\n",
    "                    else:\n",
    "                        output_str += Geo._round(d_long, num_decimal)\n",
    "\n",
    "                elif base_ch == 'D':\n",
    "                    if (ao_type == 'a' and sgn_lat == 'S') or (ao_type == 'o' and sgn_long == 'W'): #handle sign\n",
    "                        output_str += \"-\"\n",
    "                    if ao_type == 'a':\n",
    "                        output_str += Geo._round(d_lat, num_decimal)\n",
    "                    else:\n",
    "                        output_str += Geo._round(d_long, num_decimal)\n",
    "\n",
    "                elif base_ch == 'c':\n",
    "                    if ao_type == 'a':\n",
    "                        output_str += sgn_lat\n",
    "                    else:\n",
    "                        output_str += sgn_long\n",
    "\n",
    "                elif base_ch == 'm':\n",
    "                    if ao_type == 'a':\n",
    "                        output_str += Geo._round(m_lat, num_decimal)\n",
    "                    else:\n",
    "                        output_str += Geo._round(m_long, num_decimal)\n",
    "                \n",
    "                elif base_ch == 's':\n",
    "                    if ao_type == 'a':\n",
    "                        output_str += Geo._round(s_lat, num_decimal)\n",
    "                    else:\n",
    "                        output_str += Geo._round(s_long, num_decimal)\n",
    "\n",
    "                i = end_idx + 1    \n",
    "            \n",
    "            else: #not % token\n",
    "                output_str += format[i]\n",
    "                i += 1\n",
    "        \n",
    "        return output_str"
   ]
  },
  {
   "cell_type": "markdown",
   "metadata": {},
   "source": [
    "Wishful thinking: Introduce datetime-like string formatters.\n",
    "\n",
    "Base:\n",
    "\n",
    "- %D - degree w/ sign (integer (rounded down) if not followed by a number, else decimal)\n",
    "\n",
    "- %d - degree w/o sign (integer (rounded down) if not followed by a number, else decimal)\n",
    "\n",
    "- %c - N, S, W, or E\n",
    "\n",
    "- %m - minutes (integer (rounded down) if not followed by a number, else decimal)\n",
    "\n",
    "- %s - seconds (integer (rounded down) if not followed by a number, else decimal)\n",
    "\n",
    "Specification for lat/long & number of decimals:\n",
    "\n",
    "- %x{n} - x up to n decimals (e.g. %s2 for seconds up to 2 decimals)\n",
    "\n",
    "- %xa - to specify x for latitude (e.g. %s2a for latitude seconds up to 2 decimals)\n",
    "\n",
    "- %xo - to specify x for longitude (e.g. %m3o for longitude minutes up to 3 decimals)"
   ]
  },
  {
   "cell_type": "code",
   "execution_count": 138,
   "metadata": {},
   "outputs": [],
   "source": [
    "test = Geo(40.446195, -79.982195)"
   ]
  },
  {
   "cell_type": "code",
   "execution_count": 127,
   "metadata": {},
   "outputs": [
    {
     "output_type": "execute_result",
     "data": {
      "text/plain": [
       "(40.446195, 26.77170000000018, 46.302000000010764, 'N')"
      ]
     },
     "metadata": {},
     "execution_count": 127
    }
   ],
   "source": [
    "Geo.deg_to_dms(40.446195, type='lat')"
   ]
  },
  {
   "cell_type": "code",
   "execution_count": 128,
   "metadata": {},
   "outputs": [
    {
     "output_type": "execute_result",
     "data": {
      "text/plain": [
       "(79.982195, 58.93170000000026, 55.902000000015704, 'W')"
      ]
     },
     "metadata": {},
     "execution_count": 128
    }
   ],
   "source": [
    "Geo.deg_to_dms(-79.982195, type='long')"
   ]
  },
  {
   "cell_type": "code",
   "execution_count": 129,
   "metadata": {},
   "outputs": [
    {
     "output_type": "execute_result",
     "data": {
      "text/plain": [
       "\"40°26'46.302N, 79°58'58.932W\""
      ]
     },
     "metadata": {},
     "execution_count": 129
    }
   ],
   "source": [
    "test.strfgeo('DMS')"
   ]
  },
  {
   "cell_type": "code",
   "execution_count": 130,
   "metadata": {},
   "outputs": [
    {
     "output_type": "execute_result",
     "data": {
      "text/plain": [
       "'40°26.772N, 79°58.932W'"
      ]
     },
     "metadata": {},
     "execution_count": 130
    }
   ],
   "source": [
    "test.strfgeo('MinDec')"
   ]
  },
  {
   "cell_type": "code",
   "execution_count": 139,
   "metadata": {},
   "outputs": [
    {
     "output_type": "stream",
     "name": "stdout",
     "text": [
      "lat = 40°26'46.30200\" N; long = -79°58'55.90200\" W\n"
     ]
    }
   ],
   "source": [
    "print(test.strfgeo(\"lat = %da°%ma'%s5a\\\" %ca; long = %Do°%mo'%s5o\\\" %co\"))"
   ]
  },
  {
   "cell_type": "code",
   "execution_count": 143,
   "metadata": {},
   "outputs": [
    {
     "output_type": "stream",
     "name": "stdout",
     "text": [
      "40.4462 26.77 26\n"
     ]
    }
   ],
   "source": [
    "print(test.strfgeo(\"%D4a %m2a %ma\"))"
   ]
  }
 ],
 "metadata": {
  "kernelspec": {
   "display_name": "Python 3",
   "language": "python",
   "name": "python3"
  },
  "language_info": {
   "codemirror_mode": {
    "name": "ipython",
    "version": 3
   },
   "file_extension": ".py",
   "mimetype": "text/x-python",
   "name": "python",
   "nbconvert_exporter": "python",
   "pygments_lexer": "ipython3",
   "version": "3.9.1-final"
  }
 },
 "nbformat": 4,
 "nbformat_minor": 4
}