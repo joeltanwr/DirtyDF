{
 "cells": [
  {
   "cell_type": "code",
   "execution_count": 58,
   "metadata": {},
   "outputs": [],
   "source": [
    "%load_ext autoreload\n",
    "%autoreload 2\n",
    "\n",
    "import pandas as pd\n",
    "from numpy.random import default_rng\n",
    "from time import time\n",
    "from DirtyDF import *\n",
    "from stainer import *\n",
    "from history import *"
   ]
  },
  {
   "cell_type": "code",
   "execution_count": 2,
   "metadata": {},
   "outputs": [],
   "source": [
    "df = pd.DataFrame([(0, 'Cat'), (1, 'Dog'), (2, 'Rabbit'), (3, 'Cat'), (4, 'Cat'), (5, 'Dog')],\n",
    "                  columns=('id', 'class'))"
   ]
  },
  {
   "cell_type": "markdown",
   "metadata": {},
   "source": [
    "# Shuffle"
   ]
  },
  {
   "cell_type": "code",
   "execution_count": 26,
   "metadata": {},
   "outputs": [],
   "source": [
    "stain = ShuffleStainer()"
   ]
  },
  {
   "cell_type": "code",
   "execution_count": 27,
   "metadata": {},
   "outputs": [
    {
     "output_type": "execute_result",
     "data": {
      "text/plain": [
       "   id   class\n",
       "0   2  Rabbit\n",
       "1   5     Dog\n",
       "2   4     Cat\n",
       "3   1     Dog\n",
       "4   0     Cat\n",
       "5   3     Cat"
      ],
      "text/html": "<div>\n<style scoped>\n    .dataframe tbody tr th:only-of-type {\n        vertical-align: middle;\n    }\n\n    .dataframe tbody tr th {\n        vertical-align: top;\n    }\n\n    .dataframe thead th {\n        text-align: right;\n    }\n</style>\n<table border=\"1\" class=\"dataframe\">\n  <thead>\n    <tr style=\"text-align: right;\">\n      <th></th>\n      <th>id</th>\n      <th>class</th>\n    </tr>\n  </thead>\n  <tbody>\n    <tr>\n      <th>0</th>\n      <td>2</td>\n      <td>Rabbit</td>\n    </tr>\n    <tr>\n      <th>1</th>\n      <td>5</td>\n      <td>Dog</td>\n    </tr>\n    <tr>\n      <th>2</th>\n      <td>4</td>\n      <td>Cat</td>\n    </tr>\n    <tr>\n      <th>3</th>\n      <td>1</td>\n      <td>Dog</td>\n    </tr>\n    <tr>\n      <th>4</th>\n      <td>0</td>\n      <td>Cat</td>\n    </tr>\n    <tr>\n      <th>5</th>\n      <td>3</td>\n      <td>Cat</td>\n    </tr>\n  </tbody>\n</table>\n</div>"
     },
     "metadata": {},
     "execution_count": 27
    }
   ],
   "source": [
    "res = DirtyDF(df, seed = 214).add_stainers(stain).add_stainers(stain).run_all_stainers()\n",
    "res.get_df()"
   ]
  },
  {
   "cell_type": "code",
   "execution_count": 21,
   "metadata": {},
   "outputs": [
    {
     "output_type": "execute_result",
     "data": {
      "text/plain": [
       "   id   class\n",
       "0   0     Cat\n",
       "1   1     Dog\n",
       "2   2  Rabbit\n",
       "3   3     Cat\n",
       "4   4     Cat\n",
       "5   5     Dog"
      ],
      "text/html": "<div>\n<style scoped>\n    .dataframe tbody tr th:only-of-type {\n        vertical-align: middle;\n    }\n\n    .dataframe tbody tr th {\n        vertical-align: top;\n    }\n\n    .dataframe thead th {\n        text-align: right;\n    }\n</style>\n<table border=\"1\" class=\"dataframe\">\n  <thead>\n    <tr style=\"text-align: right;\">\n      <th></th>\n      <th>id</th>\n      <th>class</th>\n    </tr>\n  </thead>\n  <tbody>\n    <tr>\n      <th>0</th>\n      <td>0</td>\n      <td>Cat</td>\n    </tr>\n    <tr>\n      <th>1</th>\n      <td>1</td>\n      <td>Dog</td>\n    </tr>\n    <tr>\n      <th>2</th>\n      <td>2</td>\n      <td>Rabbit</td>\n    </tr>\n    <tr>\n      <th>3</th>\n      <td>3</td>\n      <td>Cat</td>\n    </tr>\n    <tr>\n      <th>4</th>\n      <td>4</td>\n      <td>Cat</td>\n    </tr>\n    <tr>\n      <th>5</th>\n      <td>5</td>\n      <td>Dog</td>\n    </tr>\n  </tbody>\n</table>\n</div>"
     },
     "metadata": {},
     "execution_count": 21
    }
   ],
   "source": [
    "# Original DF is unmodified\n",
    "df"
   ]
  },
  {
   "cell_type": "code",
   "execution_count": 6,
   "metadata": {},
   "outputs": [
    {
     "output_type": "execute_result",
     "data": {
      "text/plain": [
       "array([[0., 1., 0., 0., 0., 0.],\n",
       "       [0., 0., 0., 0., 1., 0.],\n",
       "       [0., 0., 0., 1., 0., 0.],\n",
       "       [1., 0., 0., 0., 0., 0.],\n",
       "       [0., 0., 1., 0., 0., 0.],\n",
       "       [0., 0., 0., 0., 0., 1.]])"
      ]
     },
     "metadata": {},
     "execution_count": 6
    }
   ],
   "source": [
    "res.get_map_from_history(0)"
   ]
  },
  {
   "cell_type": "code",
   "execution_count": 7,
   "metadata": {},
   "outputs": [
    {
     "output_type": "execute_result",
     "data": {
      "text/plain": [
       "array([[0., 0., 0., 0., 0., 1.],\n",
       "       [0., 0., 0., 0., 1., 0.],\n",
       "       [0., 0., 1., 0., 0., 0.],\n",
       "       [1., 0., 0., 0., 0., 0.],\n",
       "       [0., 0., 0., 1., 0., 0.],\n",
       "       [0., 1., 0., 0., 0., 0.]])"
      ]
     },
     "metadata": {},
     "execution_count": 7
    }
   ],
   "source": [
    "res.get_previous_map()"
   ]
  },
  {
   "cell_type": "code",
   "execution_count": 8,
   "metadata": {},
   "outputs": [
    {
     "output_type": "execute_result",
     "data": {
      "text/plain": [
       "array([[0., 0., 0., 0., 1., 0.],\n",
       "       [0., 0., 0., 1., 0., 0.],\n",
       "       [1., 0., 0., 0., 0., 0.],\n",
       "       [0., 0., 0., 0., 0., 1.],\n",
       "       [0., 0., 1., 0., 0., 0.],\n",
       "       [0., 1., 0., 0., 0., 0.]])"
      ]
     },
     "metadata": {},
     "execution_count": 8
    }
   ],
   "source": [
    "res.get_mapping(axis = 0)"
   ]
  },
  {
   "cell_type": "code",
   "execution_count": 9,
   "metadata": {},
   "outputs": [
    {
     "output_type": "execute_result",
     "data": {
      "text/plain": [
       "array([[1., 0.],\n",
       "       [0., 1.]])"
      ]
     },
     "metadata": {},
     "execution_count": 9
    }
   ],
   "source": [
    "res.get_mapping(axis = 1)"
   ]
  },
  {
   "cell_type": "code",
   "execution_count": 10,
   "metadata": {},
   "outputs": [
    {
     "output_type": "execute_result",
     "data": {
      "text/plain": [
       "   id   class\n",
       "0   2  Rabbit\n",
       "1   5     Dog\n",
       "2   4     Cat\n",
       "3   1     Dog\n",
       "4   0     Cat\n",
       "5   3     Cat"
      ],
      "text/html": "<div>\n<style scoped>\n    .dataframe tbody tr th:only-of-type {\n        vertical-align: middle;\n    }\n\n    .dataframe tbody tr th {\n        vertical-align: top;\n    }\n\n    .dataframe thead th {\n        text-align: right;\n    }\n</style>\n<table border=\"1\" class=\"dataframe\">\n  <thead>\n    <tr style=\"text-align: right;\">\n      <th></th>\n      <th>id</th>\n      <th>class</th>\n    </tr>\n  </thead>\n  <tbody>\n    <tr>\n      <th>0</th>\n      <td>2</td>\n      <td>Rabbit</td>\n    </tr>\n    <tr>\n      <th>1</th>\n      <td>5</td>\n      <td>Dog</td>\n    </tr>\n    <tr>\n      <th>2</th>\n      <td>4</td>\n      <td>Cat</td>\n    </tr>\n    <tr>\n      <th>3</th>\n      <td>1</td>\n      <td>Dog</td>\n    </tr>\n    <tr>\n      <th>4</th>\n      <td>0</td>\n      <td>Cat</td>\n    </tr>\n    <tr>\n      <th>5</th>\n      <td>3</td>\n      <td>Cat</td>\n    </tr>\n  </tbody>\n</table>\n</div>"
     },
     "metadata": {},
     "execution_count": 10
    }
   ],
   "source": [
    "new_ddf = DirtyDF(df, seed = 214).add_stainers(stain).run_stainer()\n",
    "new_ddf.add_stainers(stain).run_stainer().get_df()"
   ]
  },
  {
   "cell_type": "code",
   "execution_count": 11,
   "metadata": {},
   "outputs": [
    {
     "output_type": "stream",
     "name": "stdout",
     "text": [
      "1. Shuffle \n Order of rows randomized \n Time taken: 0.0009691715240478516 \n\n2. Shuffle \n Order of rows randomized \n Time taken: Time not updated. Use update_history to update time \n\n"
     ]
    }
   ],
   "source": [
    "res.print_history()"
   ]
  },
  {
   "source": [
    "# Inflection"
   ],
   "cell_type": "markdown",
   "metadata": {}
  },
  {
   "cell_type": "code",
   "execution_count": 82,
   "metadata": {},
   "outputs": [],
   "source": [
    "rng = np.random.default_rng(42)\n",
    "\n",
    "df2 = pd.DataFrame(zip(range(100), rng.choice(['Cat','Dog','Rabbit'], 100)),\n",
    "                  columns=('id', 'class'))"
   ]
  },
  {
   "cell_type": "code",
   "execution_count": 83,
   "metadata": {},
   "outputs": [
    {
     "output_type": "execute_result",
     "data": {
      "text/plain": [
       "Rabbit    40\n",
       "Dog       33\n",
       "Cat       27\n",
       "Name: class, dtype: int64"
      ]
     },
     "metadata": {},
     "execution_count": 83
    }
   ],
   "source": [
    "df2['class'].value_counts()"
   ]
  },
  {
   "cell_type": "code",
   "execution_count": 131,
   "metadata": {},
   "outputs": [],
   "source": [
    "inflect = InflectionStainer(col_idx=[1], num_format = 2, formats=['original', 'lowercase', 'pluralize'], ignore_cats={1: ['Dogs'})"
   ]
  },
  {
   "cell_type": "code",
   "execution_count": 132,
   "metadata": {},
   "outputs": [],
   "source": [
    "res = inflect.transform(df2, rng)"
   ]
  },
  {
   "cell_type": "code",
   "execution_count": 133,
   "metadata": {},
   "outputs": [
    {
     "output_type": "execute_result",
     "data": {
      "text/plain": [
       "rabbit     22\n",
       "Rabbits    18\n",
       "dog        18\n",
       "cat        15\n",
       "Dogs       15\n",
       "Cats       12\n",
       "Name: class, dtype: int64"
      ]
     },
     "metadata": {},
     "execution_count": 133
    }
   ],
   "source": [
    "res[0]['class'].value_counts()"
   ]
  },
  {
   "source": [
    "# DateFormat & DateSplit"
   ],
   "cell_type": "markdown",
   "metadata": {}
  },
  {
   "cell_type": "code",
   "execution_count": 44,
   "metadata": {},
   "outputs": [],
   "source": [
    "import itertools\n",
    "import datetime"
   ]
  },
  {
   "cell_type": "code",
   "execution_count": 49,
   "metadata": {},
   "outputs": [],
   "source": [
    "df3 = pd.read_csv(\"https://raw.githubusercontent.com/jbrownlee/Datasets/master/daily-min-temperatures.csv\", parse_dates=['Date'])\n",
    "df3['date_copy_1'] = df3['Date'] + datetime.timedelta(days=1)\n",
    "df3['date_copy_2'] = df3['Date'] + datetime.timedelta(days=-1)\n",
    "df3['zero_col'] = 0\n",
    "df3['date_copy_3'] = df3['Date'] + datetime.timedelta(days=2)\n",
    "df3['one_col'] = 1"
   ]
  },
  {
   "cell_type": "code",
   "execution_count": 50,
   "metadata": {},
   "outputs": [
    {
     "output_type": "execute_result",
     "data": {
      "text/plain": [
       "(3650, 7)"
      ]
     },
     "metadata": {},
     "execution_count": 50
    }
   ],
   "source": [
    "df3.shape"
   ]
  },
  {
   "cell_type": "code",
   "execution_count": 51,
   "metadata": {},
   "outputs": [
    {
     "output_type": "execute_result",
     "data": {
      "text/plain": [
       "        Date  Temp date_copy_1 date_copy_2  zero_col date_copy_3  one_col\n",
       "0 1981-01-01  20.7  1981-01-02  1980-12-31         0  1981-01-03        1\n",
       "1 1981-01-02  17.9  1981-01-03  1981-01-01         0  1981-01-04        1\n",
       "2 1981-01-03  18.8  1981-01-04  1981-01-02         0  1981-01-05        1"
      ],
      "text/html": "<div>\n<style scoped>\n    .dataframe tbody tr th:only-of-type {\n        vertical-align: middle;\n    }\n\n    .dataframe tbody tr th {\n        vertical-align: top;\n    }\n\n    .dataframe thead th {\n        text-align: right;\n    }\n</style>\n<table border=\"1\" class=\"dataframe\">\n  <thead>\n    <tr style=\"text-align: right;\">\n      <th></th>\n      <th>Date</th>\n      <th>Temp</th>\n      <th>date_copy_1</th>\n      <th>date_copy_2</th>\n      <th>zero_col</th>\n      <th>date_copy_3</th>\n      <th>one_col</th>\n    </tr>\n  </thead>\n  <tbody>\n    <tr>\n      <th>0</th>\n      <td>1981-01-01</td>\n      <td>20.7</td>\n      <td>1981-01-02</td>\n      <td>1980-12-31</td>\n      <td>0</td>\n      <td>1981-01-03</td>\n      <td>1</td>\n    </tr>\n    <tr>\n      <th>1</th>\n      <td>1981-01-02</td>\n      <td>17.9</td>\n      <td>1981-01-03</td>\n      <td>1981-01-01</td>\n      <td>0</td>\n      <td>1981-01-04</td>\n      <td>1</td>\n    </tr>\n    <tr>\n      <th>2</th>\n      <td>1981-01-03</td>\n      <td>18.8</td>\n      <td>1981-01-04</td>\n      <td>1981-01-02</td>\n      <td>0</td>\n      <td>1981-01-05</td>\n      <td>1</td>\n    </tr>\n  </tbody>\n</table>\n</div>"
     },
     "metadata": {},
     "execution_count": 51
    }
   ],
   "source": [
    "df3.head(3)"
   ]
  },
  {
   "cell_type": "code",
   "execution_count": 9,
   "metadata": {},
   "outputs": [],
   "source": [
    "date_format = DateFormatStainer(col_idx=[0], num_format=5)"
   ]
  },
  {
   "cell_type": "code",
   "execution_count": 10,
   "metadata": {},
   "outputs": [
    {
     "output_type": "execute_result",
     "data": {
      "text/plain": [
       "        Date  Temp\n",
       "0 1981-01-01  20.7\n",
       "1 1981-01-02  17.9\n",
       "2 1981-01-03  18.8"
      ],
      "text/html": "<div>\n<style scoped>\n    .dataframe tbody tr th:only-of-type {\n        vertical-align: middle;\n    }\n\n    .dataframe tbody tr th {\n        vertical-align: top;\n    }\n\n    .dataframe thead th {\n        text-align: right;\n    }\n</style>\n<table border=\"1\" class=\"dataframe\">\n  <thead>\n    <tr style=\"text-align: right;\">\n      <th></th>\n      <th>Date</th>\n      <th>Temp</th>\n    </tr>\n  </thead>\n  <tbody>\n    <tr>\n      <th>0</th>\n      <td>1981-01-01</td>\n      <td>20.7</td>\n    </tr>\n    <tr>\n      <th>1</th>\n      <td>1981-01-02</td>\n      <td>17.9</td>\n    </tr>\n    <tr>\n      <th>2</th>\n      <td>1981-01-03</td>\n      <td>18.8</td>\n    </tr>\n  </tbody>\n</table>\n</div>"
     },
     "metadata": {},
     "execution_count": 10
    }
   ],
   "source": [
    "df3.head(3)"
   ]
  },
  {
   "cell_type": "code",
   "execution_count": 12,
   "metadata": {},
   "outputs": [],
   "source": [
    "rng = np.random.default_rng(42)\n",
    "res = date_format.transform(df3, rng)"
   ]
  },
  {
   "cell_type": "code",
   "execution_count": 13,
   "metadata": {},
   "outputs": [
    {
     "output_type": "execute_result",
     "data": {
      "text/plain": [
       "                  Date  Temp\n",
       "0          1981,Jan,01  20.7\n",
       "1          1981/02/Jan  17.9\n",
       "2             19810103  18.8\n",
       "3          1981-04-Jan  14.6\n",
       "4          1981,Jan,05  15.8\n",
       "...                ...   ...\n",
       "3645       1990-27-Dec  14.0\n",
       "3646       1990-28-Dec  13.6\n",
       "3647       1990,Dec,29  13.5\n",
       "3648  1990/30/December  15.7\n",
       "3649  1990/31/December  13.0\n",
       "\n",
       "[3650 rows x 2 columns]"
      ],
      "text/html": "<div>\n<style scoped>\n    .dataframe tbody tr th:only-of-type {\n        vertical-align: middle;\n    }\n\n    .dataframe tbody tr th {\n        vertical-align: top;\n    }\n\n    .dataframe thead th {\n        text-align: right;\n    }\n</style>\n<table border=\"1\" class=\"dataframe\">\n  <thead>\n    <tr style=\"text-align: right;\">\n      <th></th>\n      <th>Date</th>\n      <th>Temp</th>\n    </tr>\n  </thead>\n  <tbody>\n    <tr>\n      <th>0</th>\n      <td>1981,Jan,01</td>\n      <td>20.7</td>\n    </tr>\n    <tr>\n      <th>1</th>\n      <td>1981/02/Jan</td>\n      <td>17.9</td>\n    </tr>\n    <tr>\n      <th>2</th>\n      <td>19810103</td>\n      <td>18.8</td>\n    </tr>\n    <tr>\n      <th>3</th>\n      <td>1981-04-Jan</td>\n      <td>14.6</td>\n    </tr>\n    <tr>\n      <th>4</th>\n      <td>1981,Jan,05</td>\n      <td>15.8</td>\n    </tr>\n    <tr>\n      <th>...</th>\n      <td>...</td>\n      <td>...</td>\n    </tr>\n    <tr>\n      <th>3645</th>\n      <td>1990-27-Dec</td>\n      <td>14.0</td>\n    </tr>\n    <tr>\n      <th>3646</th>\n      <td>1990-28-Dec</td>\n      <td>13.6</td>\n    </tr>\n    <tr>\n      <th>3647</th>\n      <td>1990,Dec,29</td>\n      <td>13.5</td>\n    </tr>\n    <tr>\n      <th>3648</th>\n      <td>1990/30/December</td>\n      <td>15.7</td>\n    </tr>\n    <tr>\n      <th>3649</th>\n      <td>1990/31/December</td>\n      <td>13.0</td>\n    </tr>\n  </tbody>\n</table>\n<p>3650 rows × 2 columns</p>\n</div>"
     },
     "metadata": {},
     "execution_count": 13
    }
   ],
   "source": [
    "res[0]"
   ]
  },
  {
   "cell_type": "code",
   "execution_count": 76,
   "metadata": {},
   "outputs": [],
   "source": [
    "date_split = DateSplitStainer([0,2,3,5], prob=0.75)"
   ]
  },
  {
   "cell_type": "code",
   "execution_count": 77,
   "metadata": {},
   "outputs": [],
   "source": [
    "rng = np.random.default_rng(42)\n",
    "res = date_split.transform(df3, rng)"
   ]
  },
  {
   "cell_type": "code",
   "execution_count": 78,
   "metadata": {},
   "outputs": [
    {
     "output_type": "execute_result",
     "data": {
      "text/plain": [
       "           Date  Temp date_copy_1_day date_copy_1_month date_copy_1_year  \\\n",
       "0    1981-01-01  20.7              02           January               81   \n",
       "1    1981-01-02  17.9              03           January               81   \n",
       "2    1981-01-03  18.8              04           January               81   \n",
       "3    1981-01-04  14.6              05           January               81   \n",
       "4    1981-01-05  15.8              06           January               81   \n",
       "...         ...   ...             ...               ...              ...   \n",
       "3645 1990-12-27  14.0              28          December               90   \n",
       "3646 1990-12-28  13.6              29          December               90   \n",
       "3647 1990-12-29  13.5              30          December               90   \n",
       "3648 1990-12-30  15.7              31          December               90   \n",
       "3649 1990-12-31  13.0              01           January               91   \n",
       "\n",
       "     date_copy_2_day date_copy_2_month date_copy_2_year  zero_col date_copy_3  \\\n",
       "0                 31                12             1980         0  1981-01-03   \n",
       "1                 01                01             1981         0  1981-01-04   \n",
       "2                 02                01             1981         0  1981-01-05   \n",
       "3                 03                01             1981         0  1981-01-06   \n",
       "4                 04                01             1981         0  1981-01-07   \n",
       "...              ...               ...              ...       ...         ...   \n",
       "3645              26                12             1990         0  1990-12-29   \n",
       "3646              27                12             1990         0  1990-12-30   \n",
       "3647              28                12             1990         0  1990-12-31   \n",
       "3648              29                12             1990         0  1991-01-01   \n",
       "3649              30                12             1990         0  1991-01-02   \n",
       "\n",
       "      one_col  \n",
       "0           1  \n",
       "1           1  \n",
       "2           1  \n",
       "3           1  \n",
       "4           1  \n",
       "...       ...  \n",
       "3645        1  \n",
       "3646        1  \n",
       "3647        1  \n",
       "3648        1  \n",
       "3649        1  \n",
       "\n",
       "[3650 rows x 11 columns]"
      ],
      "text/html": "<div>\n<style scoped>\n    .dataframe tbody tr th:only-of-type {\n        vertical-align: middle;\n    }\n\n    .dataframe tbody tr th {\n        vertical-align: top;\n    }\n\n    .dataframe thead th {\n        text-align: right;\n    }\n</style>\n<table border=\"1\" class=\"dataframe\">\n  <thead>\n    <tr style=\"text-align: right;\">\n      <th></th>\n      <th>Date</th>\n      <th>Temp</th>\n      <th>date_copy_1_day</th>\n      <th>date_copy_1_month</th>\n      <th>date_copy_1_year</th>\n      <th>date_copy_2_day</th>\n      <th>date_copy_2_month</th>\n      <th>date_copy_2_year</th>\n      <th>zero_col</th>\n      <th>date_copy_3</th>\n      <th>one_col</th>\n    </tr>\n  </thead>\n  <tbody>\n    <tr>\n      <th>0</th>\n      <td>1981-01-01</td>\n      <td>20.7</td>\n      <td>02</td>\n      <td>January</td>\n      <td>81</td>\n      <td>31</td>\n      <td>12</td>\n      <td>1980</td>\n      <td>0</td>\n      <td>1981-01-03</td>\n      <td>1</td>\n    </tr>\n    <tr>\n      <th>1</th>\n      <td>1981-01-02</td>\n      <td>17.9</td>\n      <td>03</td>\n      <td>January</td>\n      <td>81</td>\n      <td>01</td>\n      <td>01</td>\n      <td>1981</td>\n      <td>0</td>\n      <td>1981-01-04</td>\n      <td>1</td>\n    </tr>\n    <tr>\n      <th>2</th>\n      <td>1981-01-03</td>\n      <td>18.8</td>\n      <td>04</td>\n      <td>January</td>\n      <td>81</td>\n      <td>02</td>\n      <td>01</td>\n      <td>1981</td>\n      <td>0</td>\n      <td>1981-01-05</td>\n      <td>1</td>\n    </tr>\n    <tr>\n      <th>3</th>\n      <td>1981-01-04</td>\n      <td>14.6</td>\n      <td>05</td>\n      <td>January</td>\n      <td>81</td>\n      <td>03</td>\n      <td>01</td>\n      <td>1981</td>\n      <td>0</td>\n      <td>1981-01-06</td>\n      <td>1</td>\n    </tr>\n    <tr>\n      <th>4</th>\n      <td>1981-01-05</td>\n      <td>15.8</td>\n      <td>06</td>\n      <td>January</td>\n      <td>81</td>\n      <td>04</td>\n      <td>01</td>\n      <td>1981</td>\n      <td>0</td>\n      <td>1981-01-07</td>\n      <td>1</td>\n    </tr>\n    <tr>\n      <th>...</th>\n      <td>...</td>\n      <td>...</td>\n      <td>...</td>\n      <td>...</td>\n      <td>...</td>\n      <td>...</td>\n      <td>...</td>\n      <td>...</td>\n      <td>...</td>\n      <td>...</td>\n      <td>...</td>\n    </tr>\n    <tr>\n      <th>3645</th>\n      <td>1990-12-27</td>\n      <td>14.0</td>\n      <td>28</td>\n      <td>December</td>\n      <td>90</td>\n      <td>26</td>\n      <td>12</td>\n      <td>1990</td>\n      <td>0</td>\n      <td>1990-12-29</td>\n      <td>1</td>\n    </tr>\n    <tr>\n      <th>3646</th>\n      <td>1990-12-28</td>\n      <td>13.6</td>\n      <td>29</td>\n      <td>December</td>\n      <td>90</td>\n      <td>27</td>\n      <td>12</td>\n      <td>1990</td>\n      <td>0</td>\n      <td>1990-12-30</td>\n      <td>1</td>\n    </tr>\n    <tr>\n      <th>3647</th>\n      <td>1990-12-29</td>\n      <td>13.5</td>\n      <td>30</td>\n      <td>December</td>\n      <td>90</td>\n      <td>28</td>\n      <td>12</td>\n      <td>1990</td>\n      <td>0</td>\n      <td>1990-12-31</td>\n      <td>1</td>\n    </tr>\n    <tr>\n      <th>3648</th>\n      <td>1990-12-30</td>\n      <td>15.7</td>\n      <td>31</td>\n      <td>December</td>\n      <td>90</td>\n      <td>29</td>\n      <td>12</td>\n      <td>1990</td>\n      <td>0</td>\n      <td>1991-01-01</td>\n      <td>1</td>\n    </tr>\n    <tr>\n      <th>3649</th>\n      <td>1990-12-31</td>\n      <td>13.0</td>\n      <td>01</td>\n      <td>January</td>\n      <td>91</td>\n      <td>30</td>\n      <td>12</td>\n      <td>1990</td>\n      <td>0</td>\n      <td>1991-01-02</td>\n      <td>1</td>\n    </tr>\n  </tbody>\n</table>\n<p>3650 rows × 11 columns</p>\n</div>"
     },
     "metadata": {},
     "execution_count": 78
    }
   ],
   "source": [
    "res[0]"
   ]
  },
  {
   "cell_type": "code",
   "execution_count": 79,
   "metadata": {},
   "outputs": [
    {
     "output_type": "execute_result",
     "data": {
      "text/plain": [
       "('Date Split',\n",
       " 'Split the following date columns: date_copy_1, date_copy_2',\n",
       " 0.15059494972229004)"
      ]
     },
     "metadata": {},
     "execution_count": 79
    }
   ],
   "source": [
    "date_split.get_history()"
   ]
  },
  {
   "cell_type": "code",
   "execution_count": 80,
   "metadata": {},
   "outputs": [
    {
     "output_type": "execute_result",
     "data": {
      "text/plain": [
       "array([[1., 0., 0., 0., 0., 0., 0., 0., 0., 0., 0.],\n",
       "       [0., 1., 0., 0., 0., 0., 0., 0., 0., 0., 0.],\n",
       "       [0., 0., 1., 1., 1., 0., 0., 0., 0., 0., 0.],\n",
       "       [0., 0., 0., 0., 0., 1., 1., 1., 0., 0., 0.],\n",
       "       [0., 0., 0., 0., 0., 0., 0., 0., 1., 0., 0.],\n",
       "       [0., 0., 0., 0., 0., 0., 0., 0., 0., 1., 0.],\n",
       "       [0., 0., 0., 0., 0., 0., 0., 0., 0., 0., 1.]])"
      ]
     },
     "metadata": {},
     "execution_count": 80
    }
   ],
   "source": [
    "res[2]"
   ]
  },
  {
   "cell_type": "code",
   "execution_count": 13,
   "metadata": {},
   "outputs": [
    {
     "output_type": "execute_result",
     "data": {
      "text/plain": [
       "array([[1., 0., 0., 0., 0., 0.],\n",
       "       [0., 1., 1., 0., 0., 0.],\n",
       "       [0., 0., 0., 1., 1., 0.],\n",
       "       [0., 0., 0., 0., 0., 0.],\n",
       "       [0., 0., 0., 0., 0., 1.]])"
      ]
     },
     "metadata": {},
     "execution_count": 13
    }
   ],
   "source": [
    "Stainer.convert_mapper_dct_to_array({0:[0], 1:[1,2], 2:[3,4], 3:[], 4:[5]})"
   ]
  },
  {
   "source": [
    "# BinningStainer"
   ],
   "cell_type": "markdown",
   "metadata": {}
  },
  {
   "cell_type": "code",
   "execution_count": 92,
   "metadata": {},
   "outputs": [
    {
     "output_type": "execute_result",
     "data": {
      "text/plain": [
       "array([0.00990821, 0.02726183, 0.0477136 , 0.06415641, 0.06851776,\n",
       "       0.07106917, 0.07732596, 0.07867519, 0.09253264, 0.11013822,\n",
       "       0.11328192, 0.11418847, 0.12814846, 0.14502817, 0.14543668,\n",
       "       0.16637548, 0.18753771, 0.18978233, 0.19532428, 0.20946734,\n",
       "       0.21711606, 0.22123744, 0.22431716, 0.23352213, 0.24880601,\n",
       "       0.26813267, 0.27515103, 0.30270832, 0.30618358, 0.31036434,\n",
       "       0.3123504 , 0.33185948, 0.34107737, 0.36147949, 0.36507598,\n",
       "       0.38422853, 0.38536794, 0.4068727 , 0.42114936, 0.42227402,\n",
       "       0.43462161, 0.44126257, 0.44638249, 0.45461733, 0.45950476,\n",
       "       0.46285402, 0.46792329, 0.4873443 , 0.49885345, 0.50954646,\n",
       "       0.52376529, 0.53575077, 0.54306557, 0.55123501, 0.55259108,\n",
       "       0.57030669, 0.58238156, 0.60031099, 0.60873287, 0.6097665 ,\n",
       "       0.62429239, 0.6281018 , 0.62982452, 0.63249367, 0.63892298,\n",
       "       0.6490726 , 0.68943399, 0.68976978, 0.70134065, 0.70389656,\n",
       "       0.70956751, 0.72646319, 0.73764366, 0.73891416, 0.74303031,\n",
       "       0.79541861, 0.79837585, 0.79988206, 0.80029117, 0.80169321,\n",
       "       0.80515583, 0.80964139, 0.80974587, 0.81658414, 0.81786213,\n",
       "       0.81877344, 0.82092755, 0.84182513, 0.87042467, 0.87844419,\n",
       "       0.89996041, 0.91093752, 0.91550174, 0.91622401, 0.9240052 ,\n",
       "       0.93457115, 0.93580295, 0.96539463, 0.98026778, 0.99620669])"
      ]
     },
     "metadata": {},
     "execution_count": 92
    }
   ],
   "source": [
    "np.sort(np.random.rand(100))"
   ]
  },
  {
   "cell_type": "code",
   "execution_count": 96,
   "metadata": {},
   "outputs": [],
   "source": [
    "df4 = pd.DataFrame({\"idx1\": np.random.rand(100), \"idx2\": np.sort(np.random.rand(100))})"
   ]
  },
  {
   "cell_type": "code",
   "execution_count": 97,
   "metadata": {},
   "outputs": [
    {
     "output_type": "execute_result",
     "data": {
      "text/plain": [
       "       idx1      idx2\n",
       "0  0.737674  0.004419\n",
       "1  0.957328  0.018594\n",
       "2  0.578615  0.031676"
      ],
      "text/html": "<div>\n<style scoped>\n    .dataframe tbody tr th:only-of-type {\n        vertical-align: middle;\n    }\n\n    .dataframe tbody tr th {\n        vertical-align: top;\n    }\n\n    .dataframe thead th {\n        text-align: right;\n    }\n</style>\n<table border=\"1\" class=\"dataframe\">\n  <thead>\n    <tr style=\"text-align: right;\">\n      <th></th>\n      <th>idx1</th>\n      <th>idx2</th>\n    </tr>\n  </thead>\n  <tbody>\n    <tr>\n      <th>0</th>\n      <td>0.737674</td>\n      <td>0.004419</td>\n    </tr>\n    <tr>\n      <th>1</th>\n      <td>0.957328</td>\n      <td>0.018594</td>\n    </tr>\n    <tr>\n      <th>2</th>\n      <td>0.578615</td>\n      <td>0.031676</td>\n    </tr>\n  </tbody>\n</table>\n</div>"
     },
     "metadata": {},
     "execution_count": 97
    }
   ],
   "source": [
    "df4.head(3)"
   ]
  },
  {
   "cell_type": "code",
   "execution_count": 106,
   "metadata": {},
   "outputs": [],
   "source": [
    "binner = BinningStainer([0,1])"
   ]
  },
  {
   "cell_type": "code",
   "execution_count": 107,
   "metadata": {},
   "outputs": [],
   "source": [
    "rng = np.random.default_rng(42)\n",
    "res = binner.transform(df4, rng)"
   ]
  },
  {
   "cell_type": "code",
   "execution_count": 108,
   "metadata": {},
   "outputs": [
    {
     "output_type": "execute_result",
     "data": {
      "text/plain": [
       "       idx1      idx2\n",
       "0  0.737674  0.004419\n",
       "1  0.957328  0.018594\n",
       "2  0.578615  0.031676\n",
       "3  0.222338  0.032989\n",
       "4  0.874617  0.039108"
      ],
      "text/html": "<div>\n<style scoped>\n    .dataframe tbody tr th:only-of-type {\n        vertical-align: middle;\n    }\n\n    .dataframe tbody tr th {\n        vertical-align: top;\n    }\n\n    .dataframe thead th {\n        text-align: right;\n    }\n</style>\n<table border=\"1\" class=\"dataframe\">\n  <thead>\n    <tr style=\"text-align: right;\">\n      <th></th>\n      <th>idx1</th>\n      <th>idx2</th>\n    </tr>\n  </thead>\n  <tbody>\n    <tr>\n      <th>0</th>\n      <td>0.737674</td>\n      <td>0.004419</td>\n    </tr>\n    <tr>\n      <th>1</th>\n      <td>0.957328</td>\n      <td>0.018594</td>\n    </tr>\n    <tr>\n      <th>2</th>\n      <td>0.578615</td>\n      <td>0.031676</td>\n    </tr>\n    <tr>\n      <th>3</th>\n      <td>0.222338</td>\n      <td>0.032989</td>\n    </tr>\n    <tr>\n      <th>4</th>\n      <td>0.874617</td>\n      <td>0.039108</td>\n    </tr>\n  </tbody>\n</table>\n</div>"
     },
     "metadata": {},
     "execution_count": 108
    }
   ],
   "source": [
    "df4.head(5)"
   ]
  },
  {
   "cell_type": "code",
   "execution_count": 109,
   "metadata": {},
   "outputs": [
    {
     "output_type": "execute_result",
     "data": {
      "text/plain": [
       "               idx1                idx2\n",
       "0  [0.5787, 0.7806)  [0.004419, 0.1373)\n",
       "1   [0.7806, 0.998]  [0.004419, 0.1373)\n",
       "2  [0.3812, 0.5787)  [0.004419, 0.1373)\n",
       "3  [0.1886, 0.3812)  [0.004419, 0.1373)\n",
       "4   [0.7806, 0.998]  [0.004419, 0.1373)"
      ],
      "text/html": "<div>\n<style scoped>\n    .dataframe tbody tr th:only-of-type {\n        vertical-align: middle;\n    }\n\n    .dataframe tbody tr th {\n        vertical-align: top;\n    }\n\n    .dataframe thead th {\n        text-align: right;\n    }\n</style>\n<table border=\"1\" class=\"dataframe\">\n  <thead>\n    <tr style=\"text-align: right;\">\n      <th></th>\n      <th>idx1</th>\n      <th>idx2</th>\n    </tr>\n  </thead>\n  <tbody>\n    <tr>\n      <th>0</th>\n      <td>[0.5787, 0.7806)</td>\n      <td>[0.004419, 0.1373)</td>\n    </tr>\n    <tr>\n      <th>1</th>\n      <td>[0.7806, 0.998]</td>\n      <td>[0.004419, 0.1373)</td>\n    </tr>\n    <tr>\n      <th>2</th>\n      <td>[0.3812, 0.5787)</td>\n      <td>[0.004419, 0.1373)</td>\n    </tr>\n    <tr>\n      <th>3</th>\n      <td>[0.1886, 0.3812)</td>\n      <td>[0.004419, 0.1373)</td>\n    </tr>\n    <tr>\n      <th>4</th>\n      <td>[0.7806, 0.998]</td>\n      <td>[0.004419, 0.1373)</td>\n    </tr>\n  </tbody>\n</table>\n</div>"
     },
     "metadata": {},
     "execution_count": 109
    }
   ],
   "source": [
    "res[0].head(5)"
   ]
  },
  {
   "cell_type": "code",
   "execution_count": null,
   "metadata": {},
   "outputs": [],
   "source": []
  }
 ],
 "metadata": {
  "kernelspec": {
   "name": "python3",
   "display_name": "Python 3.9.1 64-bit ('datagen': conda)",
   "metadata": {
    "interpreter": {
     "hash": "36ad7f85f2583384207af2f06bd604648fb45a1b3811e0f93255ef5fe4e76aa5"
    }
   }
  },
  "language_info": {
   "codemirror_mode": {
    "name": "ipython",
    "version": 3
   },
   "file_extension": ".py",
   "mimetype": "text/x-python",
   "name": "python",
   "nbconvert_exporter": "python",
   "pygments_lexer": "ipython3",
   "version": "3.9.1-final"
  }
 },
 "nbformat": 4,
 "nbformat_minor": 4
}