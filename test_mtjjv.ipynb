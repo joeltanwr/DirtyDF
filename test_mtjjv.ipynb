{
 "cells": [
  {
   "cell_type": "code",
   "execution_count": 21,
   "metadata": {},
   "outputs": [
    {
     "name": "stdout",
     "output_type": "stream",
     "text": [
      "The autoreload extension is already loaded. To reload it, use:\n",
      "  %reload_ext autoreload\n"
     ]
    }
   ],
   "source": [
    "%load_ext autoreload\n",
    "%autoreload 2\n",
    "\n",
    "import pandas as pd\n",
    "from DirtyDF import *"
   ]
  },
  {
   "cell_type": "code",
   "execution_count": 56,
   "metadata": {},
   "outputs": [],
   "source": [
    "df = pd.DataFrame([(0, 'Cat'), (1, 'Dog'), (2, 'Rabbit'), (3, 'Cat'), (4, 'Cat'), (5, 'Dog')],\n",
    "                  columns=('id', 'class'))"
   ]
  },
  {
   "cell_type": "code",
   "execution_count": 57,
   "metadata": {},
   "outputs": [],
   "source": [
    "df[\"class\"] = df[\"class\"].astype(\"category\")"
   ]
  },
  {
   "cell_type": "markdown",
   "metadata": {},
   "source": [
    "# Shuffle"
   ]
  },
  {
   "cell_type": "code",
   "execution_count": 92,
   "metadata": {},
   "outputs": [],
   "source": [
    "stain = ShuffleStainer()"
   ]
  },
  {
   "cell_type": "code",
   "execution_count": 295,
   "metadata": {},
   "outputs": [
    {
     "data": {
      "text/html": [
       "<div>\n",
       "<style scoped>\n",
       "    .dataframe tbody tr th:only-of-type {\n",
       "        vertical-align: middle;\n",
       "    }\n",
       "\n",
       "    .dataframe tbody tr th {\n",
       "        vertical-align: top;\n",
       "    }\n",
       "\n",
       "    .dataframe thead th {\n",
       "        text-align: right;\n",
       "    }\n",
       "</style>\n",
       "<table border=\"1\" class=\"dataframe\">\n",
       "  <thead>\n",
       "    <tr style=\"text-align: right;\">\n",
       "      <th></th>\n",
       "      <th>id</th>\n",
       "      <th>class</th>\n",
       "    </tr>\n",
       "  </thead>\n",
       "  <tbody>\n",
       "    <tr>\n",
       "      <th>2</th>\n",
       "      <td>2</td>\n",
       "      <td>Rabbit</td>\n",
       "    </tr>\n",
       "    <tr>\n",
       "      <th>5</th>\n",
       "      <td>5</td>\n",
       "      <td>Dog</td>\n",
       "    </tr>\n",
       "    <tr>\n",
       "      <th>4</th>\n",
       "      <td>4</td>\n",
       "      <td>Cat</td>\n",
       "    </tr>\n",
       "    <tr>\n",
       "      <th>1</th>\n",
       "      <td>1</td>\n",
       "      <td>Dog</td>\n",
       "    </tr>\n",
       "    <tr>\n",
       "      <th>0</th>\n",
       "      <td>0</td>\n",
       "      <td>Cat</td>\n",
       "    </tr>\n",
       "    <tr>\n",
       "      <th>3</th>\n",
       "      <td>3</td>\n",
       "      <td>Cat</td>\n",
       "    </tr>\n",
       "  </tbody>\n",
       "</table>\n",
       "</div>"
      ],
      "text/plain": [
       "   id   class\n",
       "2   2  Rabbit\n",
       "5   5     Dog\n",
       "4   4     Cat\n",
       "1   1     Dog\n",
       "0   0     Cat\n",
       "3   3     Cat"
      ]
     },
     "execution_count": 295,
     "metadata": {},
     "output_type": "execute_result"
    }
   ],
   "source": [
    "res = DirtyDF(df, seed = 214).add_stainers(stain).add_stainers(stain).run_all_stainers()\n",
    "res.get_df()"
   ]
  },
  {
   "cell_type": "code",
   "execution_count": 296,
   "metadata": {},
   "outputs": [
    {
     "data": {
      "text/html": [
       "<div>\n",
       "<style scoped>\n",
       "    .dataframe tbody tr th:only-of-type {\n",
       "        vertical-align: middle;\n",
       "    }\n",
       "\n",
       "    .dataframe tbody tr th {\n",
       "        vertical-align: top;\n",
       "    }\n",
       "\n",
       "    .dataframe thead th {\n",
       "        text-align: right;\n",
       "    }\n",
       "</style>\n",
       "<table border=\"1\" class=\"dataframe\">\n",
       "  <thead>\n",
       "    <tr style=\"text-align: right;\">\n",
       "      <th></th>\n",
       "      <th>id</th>\n",
       "      <th>class</th>\n",
       "    </tr>\n",
       "  </thead>\n",
       "  <tbody>\n",
       "    <tr>\n",
       "      <th>0</th>\n",
       "      <td>0</td>\n",
       "      <td>Cat</td>\n",
       "    </tr>\n",
       "    <tr>\n",
       "      <th>1</th>\n",
       "      <td>1</td>\n",
       "      <td>Dog</td>\n",
       "    </tr>\n",
       "    <tr>\n",
       "      <th>2</th>\n",
       "      <td>2</td>\n",
       "      <td>Rabbit</td>\n",
       "    </tr>\n",
       "    <tr>\n",
       "      <th>3</th>\n",
       "      <td>3</td>\n",
       "      <td>Cat</td>\n",
       "    </tr>\n",
       "    <tr>\n",
       "      <th>4</th>\n",
       "      <td>4</td>\n",
       "      <td>Cat</td>\n",
       "    </tr>\n",
       "    <tr>\n",
       "      <th>5</th>\n",
       "      <td>5</td>\n",
       "      <td>Dog</td>\n",
       "    </tr>\n",
       "  </tbody>\n",
       "</table>\n",
       "</div>"
      ],
      "text/plain": [
       "   id   class\n",
       "0   0     Cat\n",
       "1   1     Dog\n",
       "2   2  Rabbit\n",
       "3   3     Cat\n",
       "4   4     Cat\n",
       "5   5     Dog"
      ]
     },
     "execution_count": 296,
     "metadata": {},
     "output_type": "execute_result"
    }
   ],
   "source": [
    "# Original DF is unmodified\n",
    "df"
   ]
  },
  {
   "cell_type": "code",
   "execution_count": 297,
   "metadata": {},
   "outputs": [
    {
     "data": {
      "text/plain": [
       "array([[0., 1., 0., 0., 0., 0.],\n",
       "       [0., 0., 0., 0., 1., 0.],\n",
       "       [0., 0., 0., 1., 0., 0.],\n",
       "       [1., 0., 0., 0., 0., 0.],\n",
       "       [0., 0., 1., 0., 0., 0.],\n",
       "       [0., 0., 0., 0., 0., 1.]])"
      ]
     },
     "execution_count": 297,
     "metadata": {},
     "output_type": "execute_result"
    }
   ],
   "source": [
    "res.get_map_from_history(0)"
   ]
  },
  {
   "cell_type": "code",
   "execution_count": 298,
   "metadata": {},
   "outputs": [
    {
     "data": {
      "text/plain": [
       "array([[0., 0., 0., 0., 0., 1.],\n",
       "       [0., 0., 0., 0., 1., 0.],\n",
       "       [0., 0., 1., 0., 0., 0.],\n",
       "       [1., 0., 0., 0., 0., 0.],\n",
       "       [0., 0., 0., 1., 0., 0.],\n",
       "       [0., 1., 0., 0., 0., 0.]])"
      ]
     },
     "execution_count": 298,
     "metadata": {},
     "output_type": "execute_result"
    }
   ],
   "source": [
    "res.get_previous_map()"
   ]
  },
  {
   "cell_type": "code",
   "execution_count": 299,
   "metadata": {},
   "outputs": [
    {
     "data": {
      "text/plain": [
       "array([[0., 0., 0., 0., 1., 0.],\n",
       "       [0., 0., 0., 1., 0., 0.],\n",
       "       [1., 0., 0., 0., 0., 0.],\n",
       "       [0., 0., 0., 0., 0., 1.],\n",
       "       [0., 0., 1., 0., 0., 0.],\n",
       "       [0., 1., 0., 0., 0., 0.]])"
      ]
     },
     "execution_count": 299,
     "metadata": {},
     "output_type": "execute_result"
    }
   ],
   "source": [
    "res.get_mapping(axis = 0)"
   ]
  },
  {
   "cell_type": "code",
   "execution_count": 300,
   "metadata": {},
   "outputs": [
    {
     "data": {
      "text/plain": [
       "array([[1., 0.],\n",
       "       [0., 1.]])"
      ]
     },
     "execution_count": 300,
     "metadata": {},
     "output_type": "execute_result"
    }
   ],
   "source": [
    "res.get_mapping(axis = 1)"
   ]
  },
  {
   "cell_type": "code",
   "execution_count": 301,
   "metadata": {},
   "outputs": [
    {
     "data": {
      "text/html": [
       "<div>\n",
       "<style scoped>\n",
       "    .dataframe tbody tr th:only-of-type {\n",
       "        vertical-align: middle;\n",
       "    }\n",
       "\n",
       "    .dataframe tbody tr th {\n",
       "        vertical-align: top;\n",
       "    }\n",
       "\n",
       "    .dataframe thead th {\n",
       "        text-align: right;\n",
       "    }\n",
       "</style>\n",
       "<table border=\"1\" class=\"dataframe\">\n",
       "  <thead>\n",
       "    <tr style=\"text-align: right;\">\n",
       "      <th></th>\n",
       "      <th>id</th>\n",
       "      <th>class</th>\n",
       "    </tr>\n",
       "  </thead>\n",
       "  <tbody>\n",
       "    <tr>\n",
       "      <th>2</th>\n",
       "      <td>2</td>\n",
       "      <td>Rabbit</td>\n",
       "    </tr>\n",
       "    <tr>\n",
       "      <th>5</th>\n",
       "      <td>5</td>\n",
       "      <td>Dog</td>\n",
       "    </tr>\n",
       "    <tr>\n",
       "      <th>4</th>\n",
       "      <td>4</td>\n",
       "      <td>Cat</td>\n",
       "    </tr>\n",
       "    <tr>\n",
       "      <th>1</th>\n",
       "      <td>1</td>\n",
       "      <td>Dog</td>\n",
       "    </tr>\n",
       "    <tr>\n",
       "      <th>0</th>\n",
       "      <td>0</td>\n",
       "      <td>Cat</td>\n",
       "    </tr>\n",
       "    <tr>\n",
       "      <th>3</th>\n",
       "      <td>3</td>\n",
       "      <td>Cat</td>\n",
       "    </tr>\n",
       "  </tbody>\n",
       "</table>\n",
       "</div>"
      ],
      "text/plain": [
       "   id   class\n",
       "2   2  Rabbit\n",
       "5   5     Dog\n",
       "4   4     Cat\n",
       "1   1     Dog\n",
       "0   0     Cat\n",
       "3   3     Cat"
      ]
     },
     "execution_count": 301,
     "metadata": {},
     "output_type": "execute_result"
    }
   ],
   "source": [
    "new_ddf = DirtyDF(df, seed = 214).add_stainers(stain).run_stainer()\n",
    "new_ddf.add_stainers(stain).run_stainer().get_df()"
   ]
  },
  {
   "cell_type": "code",
   "execution_count": 302,
   "metadata": {},
   "outputs": [
    {
     "name": "stdout",
     "output_type": "stream",
     "text": [
      "1. Shuffle \n",
      " Order of rows randomized \n",
      " Time taken: 0.001967906951904297 \n",
      "\n",
      "2. Shuffle \n",
      " Order of rows randomized \n",
      " Time taken: 0.0010044574737548828 \n",
      "\n"
     ]
    }
   ],
   "source": [
    "res.print_history()"
   ]
  },
  {
   "cell_type": "markdown",
   "metadata": {},
   "source": [
    "# Row Duplicate"
   ]
  },
  {
   "cell_type": "code",
   "execution_count": 129,
   "metadata": {},
   "outputs": [],
   "source": [
    "dup_stainer = RowDuplicateStainer(deg = 0.6, max_rep = 3)"
   ]
  },
  {
   "cell_type": "code",
   "execution_count": 177,
   "metadata": {},
   "outputs": [
    {
     "data": {
      "text/html": [
       "<div>\n",
       "<style scoped>\n",
       "    .dataframe tbody tr th:only-of-type {\n",
       "        vertical-align: middle;\n",
       "    }\n",
       "\n",
       "    .dataframe tbody tr th {\n",
       "        vertical-align: top;\n",
       "    }\n",
       "\n",
       "    .dataframe thead th {\n",
       "        text-align: right;\n",
       "    }\n",
       "</style>\n",
       "<table border=\"1\" class=\"dataframe\">\n",
       "  <thead>\n",
       "    <tr style=\"text-align: right;\">\n",
       "      <th></th>\n",
       "      <th>id</th>\n",
       "      <th>class</th>\n",
       "    </tr>\n",
       "  </thead>\n",
       "  <tbody>\n",
       "    <tr>\n",
       "      <th>0</th>\n",
       "      <td>0</td>\n",
       "      <td>Cat</td>\n",
       "    </tr>\n",
       "    <tr>\n",
       "      <th>1</th>\n",
       "      <td>0</td>\n",
       "      <td>Cat</td>\n",
       "    </tr>\n",
       "    <tr>\n",
       "      <th>2</th>\n",
       "      <td>0</td>\n",
       "      <td>Cat</td>\n",
       "    </tr>\n",
       "    <tr>\n",
       "      <th>3</th>\n",
       "      <td>1</td>\n",
       "      <td>Dog</td>\n",
       "    </tr>\n",
       "    <tr>\n",
       "      <th>4</th>\n",
       "      <td>2</td>\n",
       "      <td>Rabbit</td>\n",
       "    </tr>\n",
       "    <tr>\n",
       "      <th>5</th>\n",
       "      <td>3</td>\n",
       "      <td>Cat</td>\n",
       "    </tr>\n",
       "    <tr>\n",
       "      <th>6</th>\n",
       "      <td>3</td>\n",
       "      <td>Cat</td>\n",
       "    </tr>\n",
       "    <tr>\n",
       "      <th>7</th>\n",
       "      <td>4</td>\n",
       "      <td>Cat</td>\n",
       "    </tr>\n",
       "    <tr>\n",
       "      <th>8</th>\n",
       "      <td>5</td>\n",
       "      <td>Dog</td>\n",
       "    </tr>\n",
       "    <tr>\n",
       "      <th>9</th>\n",
       "      <td>5</td>\n",
       "      <td>Dog</td>\n",
       "    </tr>\n",
       "    <tr>\n",
       "      <th>10</th>\n",
       "      <td>5</td>\n",
       "      <td>Dog</td>\n",
       "    </tr>\n",
       "  </tbody>\n",
       "</table>\n",
       "</div>"
      ],
      "text/plain": [
       "    id   class\n",
       "0    0     Cat\n",
       "1    0     Cat\n",
       "2    0     Cat\n",
       "3    1     Dog\n",
       "4    2  Rabbit\n",
       "5    3     Cat\n",
       "6    3     Cat\n",
       "7    4     Cat\n",
       "8    5     Dog\n",
       "9    5     Dog\n",
       "10   5     Dog"
      ]
     },
     "execution_count": 177,
     "metadata": {},
     "output_type": "execute_result"
    }
   ],
   "source": [
    "res = DirtyDF(df, seed = 42).add_stainers(dup_stainer).run_all_stainers()\n",
    "res.get_df()"
   ]
  },
  {
   "cell_type": "code",
   "execution_count": 178,
   "metadata": {},
   "outputs": [
    {
     "data": {
      "text/plain": [
       "array([[1., 1., 1., 0., 0., 0., 0., 0., 0., 0., 0.],\n",
       "       [0., 0., 0., 1., 0., 0., 0., 0., 0., 0., 0.],\n",
       "       [0., 0., 0., 0., 1., 0., 0., 0., 0., 0., 0.],\n",
       "       [0., 0., 0., 0., 0., 1., 1., 0., 0., 0., 0.],\n",
       "       [0., 0., 0., 0., 0., 0., 0., 1., 0., 0., 0.],\n",
       "       [0., 0., 0., 0., 0., 0., 0., 0., 1., 1., 1.]])"
      ]
     },
     "execution_count": 178,
     "metadata": {},
     "output_type": "execute_result"
    }
   ],
   "source": [
    "res.get_mapping()"
   ]
  },
  {
   "cell_type": "code",
   "execution_count": 179,
   "metadata": {},
   "outputs": [
    {
     "data": {
      "text/plain": [
       "array([[1., 0.],\n",
       "       [0., 1.]])"
      ]
     },
     "execution_count": 179,
     "metadata": {},
     "output_type": "execute_result"
    }
   ],
   "source": [
    "res.get_mapping(axis = 1)"
   ]
  },
  {
   "cell_type": "code",
   "execution_count": 180,
   "metadata": {},
   "outputs": [
    {
     "data": {
      "text/html": [
       "<div>\n",
       "<style scoped>\n",
       "    .dataframe tbody tr th:only-of-type {\n",
       "        vertical-align: middle;\n",
       "    }\n",
       "\n",
       "    .dataframe tbody tr th {\n",
       "        vertical-align: top;\n",
       "    }\n",
       "\n",
       "    .dataframe thead th {\n",
       "        text-align: right;\n",
       "    }\n",
       "</style>\n",
       "<table border=\"1\" class=\"dataframe\">\n",
       "  <thead>\n",
       "    <tr style=\"text-align: right;\">\n",
       "      <th></th>\n",
       "      <th>id</th>\n",
       "      <th>class</th>\n",
       "    </tr>\n",
       "  </thead>\n",
       "  <tbody>\n",
       "    <tr>\n",
       "      <th>0</th>\n",
       "      <td>2</td>\n",
       "      <td>Rabbit</td>\n",
       "    </tr>\n",
       "    <tr>\n",
       "      <th>1</th>\n",
       "      <td>5</td>\n",
       "      <td>Dog</td>\n",
       "    </tr>\n",
       "    <tr>\n",
       "      <th>2</th>\n",
       "      <td>0</td>\n",
       "      <td>Cat</td>\n",
       "    </tr>\n",
       "    <tr>\n",
       "      <th>3</th>\n",
       "      <td>3</td>\n",
       "      <td>Cat</td>\n",
       "    </tr>\n",
       "    <tr>\n",
       "      <th>4</th>\n",
       "      <td>5</td>\n",
       "      <td>Dog</td>\n",
       "    </tr>\n",
       "    <tr>\n",
       "      <th>5</th>\n",
       "      <td>5</td>\n",
       "      <td>Dog</td>\n",
       "    </tr>\n",
       "    <tr>\n",
       "      <th>6</th>\n",
       "      <td>4</td>\n",
       "      <td>Cat</td>\n",
       "    </tr>\n",
       "    <tr>\n",
       "      <th>7</th>\n",
       "      <td>1</td>\n",
       "      <td>Dog</td>\n",
       "    </tr>\n",
       "    <tr>\n",
       "      <th>8</th>\n",
       "      <td>0</td>\n",
       "      <td>Cat</td>\n",
       "    </tr>\n",
       "    <tr>\n",
       "      <th>9</th>\n",
       "      <td>0</td>\n",
       "      <td>Cat</td>\n",
       "    </tr>\n",
       "    <tr>\n",
       "      <th>10</th>\n",
       "      <td>3</td>\n",
       "      <td>Cat</td>\n",
       "    </tr>\n",
       "  </tbody>\n",
       "</table>\n",
       "</div>"
      ],
      "text/plain": [
       "    id   class\n",
       "0    2  Rabbit\n",
       "1    5     Dog\n",
       "2    0     Cat\n",
       "3    3     Cat\n",
       "4    5     Dog\n",
       "5    5     Dog\n",
       "6    4     Cat\n",
       "7    1     Dog\n",
       "8    0     Cat\n",
       "9    0     Cat\n",
       "10   3     Cat"
      ]
     },
     "execution_count": 180,
     "metadata": {},
     "output_type": "execute_result"
    }
   ],
   "source": [
    "res = DirtyDF(df, seed = 42).add_stainers(dup_stainer).add_stainers(stain).run_all_stainers()\n",
    "res.get_df()"
   ]
  },
  {
   "cell_type": "code",
   "execution_count": 181,
   "metadata": {},
   "outputs": [
    {
     "data": {
      "text/plain": [
       "array([[0., 0., 1., 0., 0., 0., 0., 0., 1., 1., 0.],\n",
       "       [0., 0., 0., 0., 0., 0., 0., 1., 0., 0., 0.],\n",
       "       [1., 0., 0., 0., 0., 0., 0., 0., 0., 0., 0.],\n",
       "       [0., 0., 0., 1., 0., 0., 0., 0., 0., 0., 1.],\n",
       "       [0., 0., 0., 0., 0., 0., 1., 0., 0., 0., 0.],\n",
       "       [0., 1., 0., 0., 1., 1., 0., 0., 0., 0., 0.]])"
      ]
     },
     "execution_count": 181,
     "metadata": {},
     "output_type": "execute_result"
    }
   ],
   "source": [
    "res.get_mapping()"
   ]
  },
  {
   "cell_type": "code",
   "execution_count": 182,
   "metadata": {},
   "outputs": [
    {
     "name": "stdout",
     "output_type": "stream",
     "text": [
      "1. Add Duplicates \n",
      " Added Duplicate Rows for 3 rows. \n",
      "  Each duplicated row should appear a maximum of 3 times. \n",
      "  Rows added: 5 \n",
      " Time taken: 0.0009968280792236328 \n",
      "\n",
      "2. Shuffle \n",
      " Order of rows randomized \n",
      " Time taken: Time not updated. Use update_history to update time \n",
      "\n"
     ]
    }
   ],
   "source": [
    "res.print_history()"
   ]
  },
  {
   "cell_type": "markdown",
   "metadata": {},
   "source": [
    "# Inflection"
   ]
  },
  {
   "cell_type": "code",
   "execution_count": 89,
   "metadata": {},
   "outputs": [],
   "source": [
    "rng = np.random.default_rng(42)\n",
    "\n",
    "df2 = pd.DataFrame(zip(range(100), rng.choice(['Cat','Dog','Rabbit'], 100)),\n",
    "                  columns=('id', 'class'))"
   ]
  },
  {
   "cell_type": "code",
   "execution_count": 90,
   "metadata": {},
   "outputs": [
    {
     "data": {
      "text/plain": [
       "Rabbit    40\n",
       "Dog       33\n",
       "Cat       27\n",
       "Name: class, dtype: int64"
      ]
     },
     "execution_count": 90,
     "metadata": {},
     "output_type": "execute_result"
    }
   ],
   "source": [
    "df2['class'].value_counts()"
   ]
  },
  {
   "cell_type": "code",
   "execution_count": 91,
   "metadata": {},
   "outputs": [],
   "source": [
    "inflect = InflectionStainer(col_idx=[1], num_format = 2, formats=['original', 'lowercase', 'pluralize'], ignore_cats={1: ['Dogs']})"
   ]
  },
  {
   "cell_type": "code",
   "execution_count": 94,
   "metadata": {},
   "outputs": [],
   "source": [
    "res = inflect.transform(df2, rng)"
   ]
  },
  {
   "cell_type": "code",
   "execution_count": 95,
   "metadata": {},
   "outputs": [
    {
     "data": {
      "text/plain": [
       "Rabbit     23\n",
       "Dogs       19\n",
       "Rabbits    17\n",
       "Cats       16\n",
       "Dog        14\n",
       "Cat        11\n",
       "Name: class, dtype: int64"
      ]
     },
     "execution_count": 95,
     "metadata": {},
     "output_type": "execute_result"
    }
   ],
   "source": [
    "res[0]['class'].value_counts()"
   ]
  },
  {
   "cell_type": "markdown",
   "metadata": {},
   "source": [
    "# DateFormat & DateSplit"
   ]
  },
  {
   "cell_type": "code",
   "execution_count": 96,
   "metadata": {},
   "outputs": [],
   "source": [
    "import itertools\n",
    "import datetime"
   ]
  },
  {
   "cell_type": "code",
   "execution_count": 97,
   "metadata": {},
   "outputs": [],
   "source": [
    "df3 = pd.read_csv(\"https://raw.githubusercontent.com/jbrownlee/Datasets/master/daily-min-temperatures.csv\", parse_dates=['Date'])\n",
    "df3['date_copy_1'] = df3['Date'] + datetime.timedelta(days=1)\n",
    "df3['date_copy_2'] = df3['Date'] + datetime.timedelta(days=-1)\n",
    "df3['zero_col'] = 0\n",
    "df3['date_copy_3'] = df3['Date'] + datetime.timedelta(days=2)\n",
    "df3['one_col'] = 1"
   ]
  },
  {
   "cell_type": "code",
   "execution_count": 98,
   "metadata": {},
   "outputs": [
    {
     "data": {
      "text/plain": [
       "(3650, 7)"
      ]
     },
     "execution_count": 98,
     "metadata": {},
     "output_type": "execute_result"
    }
   ],
   "source": [
    "df3.shape"
   ]
  },
  {
   "cell_type": "code",
   "execution_count": 99,
   "metadata": {},
   "outputs": [
    {
     "data": {
      "text/html": [
       "<div>\n",
       "<style scoped>\n",
       "    .dataframe tbody tr th:only-of-type {\n",
       "        vertical-align: middle;\n",
       "    }\n",
       "\n",
       "    .dataframe tbody tr th {\n",
       "        vertical-align: top;\n",
       "    }\n",
       "\n",
       "    .dataframe thead th {\n",
       "        text-align: right;\n",
       "    }\n",
       "</style>\n",
       "<table border=\"1\" class=\"dataframe\">\n",
       "  <thead>\n",
       "    <tr style=\"text-align: right;\">\n",
       "      <th></th>\n",
       "      <th>Date</th>\n",
       "      <th>Temp</th>\n",
       "      <th>date_copy_1</th>\n",
       "      <th>date_copy_2</th>\n",
       "      <th>zero_col</th>\n",
       "      <th>date_copy_3</th>\n",
       "      <th>one_col</th>\n",
       "    </tr>\n",
       "  </thead>\n",
       "  <tbody>\n",
       "    <tr>\n",
       "      <th>0</th>\n",
       "      <td>1981-01-01</td>\n",
       "      <td>20.7</td>\n",
       "      <td>1981-01-02</td>\n",
       "      <td>1980-12-31</td>\n",
       "      <td>0</td>\n",
       "      <td>1981-01-03</td>\n",
       "      <td>1</td>\n",
       "    </tr>\n",
       "    <tr>\n",
       "      <th>1</th>\n",
       "      <td>1981-01-02</td>\n",
       "      <td>17.9</td>\n",
       "      <td>1981-01-03</td>\n",
       "      <td>1981-01-01</td>\n",
       "      <td>0</td>\n",
       "      <td>1981-01-04</td>\n",
       "      <td>1</td>\n",
       "    </tr>\n",
       "    <tr>\n",
       "      <th>2</th>\n",
       "      <td>1981-01-03</td>\n",
       "      <td>18.8</td>\n",
       "      <td>1981-01-04</td>\n",
       "      <td>1981-01-02</td>\n",
       "      <td>0</td>\n",
       "      <td>1981-01-05</td>\n",
       "      <td>1</td>\n",
       "    </tr>\n",
       "  </tbody>\n",
       "</table>\n",
       "</div>"
      ],
      "text/plain": [
       "        Date  Temp date_copy_1 date_copy_2  zero_col date_copy_3  one_col\n",
       "0 1981-01-01  20.7  1981-01-02  1980-12-31         0  1981-01-03        1\n",
       "1 1981-01-02  17.9  1981-01-03  1981-01-01         0  1981-01-04        1\n",
       "2 1981-01-03  18.8  1981-01-04  1981-01-02         0  1981-01-05        1"
      ]
     },
     "execution_count": 99,
     "metadata": {},
     "output_type": "execute_result"
    }
   ],
   "source": [
    "df3.head(3)"
   ]
  },
  {
   "cell_type": "code",
   "execution_count": 100,
   "metadata": {},
   "outputs": [],
   "source": [
    "date_format = DateFormatStainer(col_idx=[0], num_format=5)"
   ]
  },
  {
   "cell_type": "code",
   "execution_count": 101,
   "metadata": {},
   "outputs": [
    {
     "data": {
      "text/html": [
       "<div>\n",
       "<style scoped>\n",
       "    .dataframe tbody tr th:only-of-type {\n",
       "        vertical-align: middle;\n",
       "    }\n",
       "\n",
       "    .dataframe tbody tr th {\n",
       "        vertical-align: top;\n",
       "    }\n",
       "\n",
       "    .dataframe thead th {\n",
       "        text-align: right;\n",
       "    }\n",
       "</style>\n",
       "<table border=\"1\" class=\"dataframe\">\n",
       "  <thead>\n",
       "    <tr style=\"text-align: right;\">\n",
       "      <th></th>\n",
       "      <th>Date</th>\n",
       "      <th>Temp</th>\n",
       "      <th>date_copy_1</th>\n",
       "      <th>date_copy_2</th>\n",
       "      <th>zero_col</th>\n",
       "      <th>date_copy_3</th>\n",
       "      <th>one_col</th>\n",
       "    </tr>\n",
       "  </thead>\n",
       "  <tbody>\n",
       "    <tr>\n",
       "      <th>0</th>\n",
       "      <td>1981-01-01</td>\n",
       "      <td>20.7</td>\n",
       "      <td>1981-01-02</td>\n",
       "      <td>1980-12-31</td>\n",
       "      <td>0</td>\n",
       "      <td>1981-01-03</td>\n",
       "      <td>1</td>\n",
       "    </tr>\n",
       "    <tr>\n",
       "      <th>1</th>\n",
       "      <td>1981-01-02</td>\n",
       "      <td>17.9</td>\n",
       "      <td>1981-01-03</td>\n",
       "      <td>1981-01-01</td>\n",
       "      <td>0</td>\n",
       "      <td>1981-01-04</td>\n",
       "      <td>1</td>\n",
       "    </tr>\n",
       "    <tr>\n",
       "      <th>2</th>\n",
       "      <td>1981-01-03</td>\n",
       "      <td>18.8</td>\n",
       "      <td>1981-01-04</td>\n",
       "      <td>1981-01-02</td>\n",
       "      <td>0</td>\n",
       "      <td>1981-01-05</td>\n",
       "      <td>1</td>\n",
       "    </tr>\n",
       "  </tbody>\n",
       "</table>\n",
       "</div>"
      ],
      "text/plain": [
       "        Date  Temp date_copy_1 date_copy_2  zero_col date_copy_3  one_col\n",
       "0 1981-01-01  20.7  1981-01-02  1980-12-31         0  1981-01-03        1\n",
       "1 1981-01-02  17.9  1981-01-03  1981-01-01         0  1981-01-04        1\n",
       "2 1981-01-03  18.8  1981-01-04  1981-01-02         0  1981-01-05        1"
      ]
     },
     "execution_count": 101,
     "metadata": {},
     "output_type": "execute_result"
    }
   ],
   "source": [
    "df3.head(3)"
   ]
  },
  {
   "cell_type": "code",
   "execution_count": 102,
   "metadata": {},
   "outputs": [],
   "source": [
    "rng = np.random.default_rng(42)\n",
    "res = date_format.transform(df3, rng)"
   ]
  },
  {
   "cell_type": "code",
   "execution_count": 103,
   "metadata": {},
   "outputs": [
    {
     "data": {
      "text/html": [
       "<div>\n",
       "<style scoped>\n",
       "    .dataframe tbody tr th:only-of-type {\n",
       "        vertical-align: middle;\n",
       "    }\n",
       "\n",
       "    .dataframe tbody tr th {\n",
       "        vertical-align: top;\n",
       "    }\n",
       "\n",
       "    .dataframe thead th {\n",
       "        text-align: right;\n",
       "    }\n",
       "</style>\n",
       "<table border=\"1\" class=\"dataframe\">\n",
       "  <thead>\n",
       "    <tr style=\"text-align: right;\">\n",
       "      <th></th>\n",
       "      <th>Date</th>\n",
       "      <th>Temp</th>\n",
       "      <th>date_copy_1</th>\n",
       "      <th>date_copy_2</th>\n",
       "      <th>zero_col</th>\n",
       "      <th>date_copy_3</th>\n",
       "      <th>one_col</th>\n",
       "    </tr>\n",
       "  </thead>\n",
       "  <tbody>\n",
       "    <tr>\n",
       "      <th>0</th>\n",
       "      <td>1981,Jan,01</td>\n",
       "      <td>20.7</td>\n",
       "      <td>1981-01-02</td>\n",
       "      <td>1980-12-31</td>\n",
       "      <td>0</td>\n",
       "      <td>1981-01-03</td>\n",
       "      <td>1</td>\n",
       "    </tr>\n",
       "    <tr>\n",
       "      <th>1</th>\n",
       "      <td>1981/02/Jan</td>\n",
       "      <td>17.9</td>\n",
       "      <td>1981-01-03</td>\n",
       "      <td>1981-01-01</td>\n",
       "      <td>0</td>\n",
       "      <td>1981-01-04</td>\n",
       "      <td>1</td>\n",
       "    </tr>\n",
       "    <tr>\n",
       "      <th>2</th>\n",
       "      <td>19810103</td>\n",
       "      <td>18.8</td>\n",
       "      <td>1981-01-04</td>\n",
       "      <td>1981-01-02</td>\n",
       "      <td>0</td>\n",
       "      <td>1981-01-05</td>\n",
       "      <td>1</td>\n",
       "    </tr>\n",
       "    <tr>\n",
       "      <th>3</th>\n",
       "      <td>1981-04-Jan</td>\n",
       "      <td>14.6</td>\n",
       "      <td>1981-01-05</td>\n",
       "      <td>1981-01-03</td>\n",
       "      <td>0</td>\n",
       "      <td>1981-01-06</td>\n",
       "      <td>1</td>\n",
       "    </tr>\n",
       "    <tr>\n",
       "      <th>4</th>\n",
       "      <td>1981,Jan,05</td>\n",
       "      <td>15.8</td>\n",
       "      <td>1981-01-06</td>\n",
       "      <td>1981-01-04</td>\n",
       "      <td>0</td>\n",
       "      <td>1981-01-07</td>\n",
       "      <td>1</td>\n",
       "    </tr>\n",
       "    <tr>\n",
       "      <th>...</th>\n",
       "      <td>...</td>\n",
       "      <td>...</td>\n",
       "      <td>...</td>\n",
       "      <td>...</td>\n",
       "      <td>...</td>\n",
       "      <td>...</td>\n",
       "      <td>...</td>\n",
       "    </tr>\n",
       "    <tr>\n",
       "      <th>3645</th>\n",
       "      <td>1990-27-Dec</td>\n",
       "      <td>14.0</td>\n",
       "      <td>1990-12-28</td>\n",
       "      <td>1990-12-26</td>\n",
       "      <td>0</td>\n",
       "      <td>1990-12-29</td>\n",
       "      <td>1</td>\n",
       "    </tr>\n",
       "    <tr>\n",
       "      <th>3646</th>\n",
       "      <td>1990-28-Dec</td>\n",
       "      <td>13.6</td>\n",
       "      <td>1990-12-29</td>\n",
       "      <td>1990-12-27</td>\n",
       "      <td>0</td>\n",
       "      <td>1990-12-30</td>\n",
       "      <td>1</td>\n",
       "    </tr>\n",
       "    <tr>\n",
       "      <th>3647</th>\n",
       "      <td>1990,Dec,29</td>\n",
       "      <td>13.5</td>\n",
       "      <td>1990-12-30</td>\n",
       "      <td>1990-12-28</td>\n",
       "      <td>0</td>\n",
       "      <td>1990-12-31</td>\n",
       "      <td>1</td>\n",
       "    </tr>\n",
       "    <tr>\n",
       "      <th>3648</th>\n",
       "      <td>1990/30/December</td>\n",
       "      <td>15.7</td>\n",
       "      <td>1990-12-31</td>\n",
       "      <td>1990-12-29</td>\n",
       "      <td>0</td>\n",
       "      <td>1991-01-01</td>\n",
       "      <td>1</td>\n",
       "    </tr>\n",
       "    <tr>\n",
       "      <th>3649</th>\n",
       "      <td>1990/31/December</td>\n",
       "      <td>13.0</td>\n",
       "      <td>1991-01-01</td>\n",
       "      <td>1990-12-30</td>\n",
       "      <td>0</td>\n",
       "      <td>1991-01-02</td>\n",
       "      <td>1</td>\n",
       "    </tr>\n",
       "  </tbody>\n",
       "</table>\n",
       "<p>3650 rows × 7 columns</p>\n",
       "</div>"
      ],
      "text/plain": [
       "                  Date  Temp date_copy_1 date_copy_2  zero_col date_copy_3  \\\n",
       "0          1981,Jan,01  20.7  1981-01-02  1980-12-31         0  1981-01-03   \n",
       "1          1981/02/Jan  17.9  1981-01-03  1981-01-01         0  1981-01-04   \n",
       "2             19810103  18.8  1981-01-04  1981-01-02         0  1981-01-05   \n",
       "3          1981-04-Jan  14.6  1981-01-05  1981-01-03         0  1981-01-06   \n",
       "4          1981,Jan,05  15.8  1981-01-06  1981-01-04         0  1981-01-07   \n",
       "...                ...   ...         ...         ...       ...         ...   \n",
       "3645       1990-27-Dec  14.0  1990-12-28  1990-12-26         0  1990-12-29   \n",
       "3646       1990-28-Dec  13.6  1990-12-29  1990-12-27         0  1990-12-30   \n",
       "3647       1990,Dec,29  13.5  1990-12-30  1990-12-28         0  1990-12-31   \n",
       "3648  1990/30/December  15.7  1990-12-31  1990-12-29         0  1991-01-01   \n",
       "3649  1990/31/December  13.0  1991-01-01  1990-12-30         0  1991-01-02   \n",
       "\n",
       "      one_col  \n",
       "0           1  \n",
       "1           1  \n",
       "2           1  \n",
       "3           1  \n",
       "4           1  \n",
       "...       ...  \n",
       "3645        1  \n",
       "3646        1  \n",
       "3647        1  \n",
       "3648        1  \n",
       "3649        1  \n",
       "\n",
       "[3650 rows x 7 columns]"
      ]
     },
     "execution_count": 103,
     "metadata": {},
     "output_type": "execute_result"
    }
   ],
   "source": [
    "res[0]"
   ]
  },
  {
   "cell_type": "code",
   "execution_count": 104,
   "metadata": {},
   "outputs": [],
   "source": [
    "date_split = DateSplitStainer([0,2,3,5], prob=0.75)"
   ]
  },
  {
   "cell_type": "code",
   "execution_count": 105,
   "metadata": {},
   "outputs": [],
   "source": [
    "rng = np.random.default_rng(42)\n",
    "res = date_split.transform(df3, rng)"
   ]
  },
  {
   "cell_type": "code",
   "execution_count": 106,
   "metadata": {},
   "outputs": [
    {
     "data": {
      "text/html": [
       "<div>\n",
       "<style scoped>\n",
       "    .dataframe tbody tr th:only-of-type {\n",
       "        vertical-align: middle;\n",
       "    }\n",
       "\n",
       "    .dataframe tbody tr th {\n",
       "        vertical-align: top;\n",
       "    }\n",
       "\n",
       "    .dataframe thead th {\n",
       "        text-align: right;\n",
       "    }\n",
       "</style>\n",
       "<table border=\"1\" class=\"dataframe\">\n",
       "  <thead>\n",
       "    <tr style=\"text-align: right;\">\n",
       "      <th></th>\n",
       "      <th>Date</th>\n",
       "      <th>Temp</th>\n",
       "      <th>date_copy_1_day</th>\n",
       "      <th>date_copy_1_month</th>\n",
       "      <th>date_copy_1_year</th>\n",
       "      <th>date_copy_2_day</th>\n",
       "      <th>date_copy_2_month</th>\n",
       "      <th>date_copy_2_year</th>\n",
       "      <th>zero_col</th>\n",
       "      <th>date_copy_3</th>\n",
       "      <th>one_col</th>\n",
       "    </tr>\n",
       "  </thead>\n",
       "  <tbody>\n",
       "    <tr>\n",
       "      <th>0</th>\n",
       "      <td>1981-01-01</td>\n",
       "      <td>20.7</td>\n",
       "      <td>02</td>\n",
       "      <td>January</td>\n",
       "      <td>81</td>\n",
       "      <td>31</td>\n",
       "      <td>12</td>\n",
       "      <td>1980</td>\n",
       "      <td>0</td>\n",
       "      <td>1981-01-03</td>\n",
       "      <td>1</td>\n",
       "    </tr>\n",
       "    <tr>\n",
       "      <th>1</th>\n",
       "      <td>1981-01-02</td>\n",
       "      <td>17.9</td>\n",
       "      <td>03</td>\n",
       "      <td>January</td>\n",
       "      <td>81</td>\n",
       "      <td>01</td>\n",
       "      <td>01</td>\n",
       "      <td>1981</td>\n",
       "      <td>0</td>\n",
       "      <td>1981-01-04</td>\n",
       "      <td>1</td>\n",
       "    </tr>\n",
       "    <tr>\n",
       "      <th>2</th>\n",
       "      <td>1981-01-03</td>\n",
       "      <td>18.8</td>\n",
       "      <td>04</td>\n",
       "      <td>January</td>\n",
       "      <td>81</td>\n",
       "      <td>02</td>\n",
       "      <td>01</td>\n",
       "      <td>1981</td>\n",
       "      <td>0</td>\n",
       "      <td>1981-01-05</td>\n",
       "      <td>1</td>\n",
       "    </tr>\n",
       "    <tr>\n",
       "      <th>3</th>\n",
       "      <td>1981-01-04</td>\n",
       "      <td>14.6</td>\n",
       "      <td>05</td>\n",
       "      <td>January</td>\n",
       "      <td>81</td>\n",
       "      <td>03</td>\n",
       "      <td>01</td>\n",
       "      <td>1981</td>\n",
       "      <td>0</td>\n",
       "      <td>1981-01-06</td>\n",
       "      <td>1</td>\n",
       "    </tr>\n",
       "    <tr>\n",
       "      <th>4</th>\n",
       "      <td>1981-01-05</td>\n",
       "      <td>15.8</td>\n",
       "      <td>06</td>\n",
       "      <td>January</td>\n",
       "      <td>81</td>\n",
       "      <td>04</td>\n",
       "      <td>01</td>\n",
       "      <td>1981</td>\n",
       "      <td>0</td>\n",
       "      <td>1981-01-07</td>\n",
       "      <td>1</td>\n",
       "    </tr>\n",
       "    <tr>\n",
       "      <th>...</th>\n",
       "      <td>...</td>\n",
       "      <td>...</td>\n",
       "      <td>...</td>\n",
       "      <td>...</td>\n",
       "      <td>...</td>\n",
       "      <td>...</td>\n",
       "      <td>...</td>\n",
       "      <td>...</td>\n",
       "      <td>...</td>\n",
       "      <td>...</td>\n",
       "      <td>...</td>\n",
       "    </tr>\n",
       "    <tr>\n",
       "      <th>3645</th>\n",
       "      <td>1990-12-27</td>\n",
       "      <td>14.0</td>\n",
       "      <td>28</td>\n",
       "      <td>December</td>\n",
       "      <td>90</td>\n",
       "      <td>26</td>\n",
       "      <td>12</td>\n",
       "      <td>1990</td>\n",
       "      <td>0</td>\n",
       "      <td>1990-12-29</td>\n",
       "      <td>1</td>\n",
       "    </tr>\n",
       "    <tr>\n",
       "      <th>3646</th>\n",
       "      <td>1990-12-28</td>\n",
       "      <td>13.6</td>\n",
       "      <td>29</td>\n",
       "      <td>December</td>\n",
       "      <td>90</td>\n",
       "      <td>27</td>\n",
       "      <td>12</td>\n",
       "      <td>1990</td>\n",
       "      <td>0</td>\n",
       "      <td>1990-12-30</td>\n",
       "      <td>1</td>\n",
       "    </tr>\n",
       "    <tr>\n",
       "      <th>3647</th>\n",
       "      <td>1990-12-29</td>\n",
       "      <td>13.5</td>\n",
       "      <td>30</td>\n",
       "      <td>December</td>\n",
       "      <td>90</td>\n",
       "      <td>28</td>\n",
       "      <td>12</td>\n",
       "      <td>1990</td>\n",
       "      <td>0</td>\n",
       "      <td>1990-12-31</td>\n",
       "      <td>1</td>\n",
       "    </tr>\n",
       "    <tr>\n",
       "      <th>3648</th>\n",
       "      <td>1990-12-30</td>\n",
       "      <td>15.7</td>\n",
       "      <td>31</td>\n",
       "      <td>December</td>\n",
       "      <td>90</td>\n",
       "      <td>29</td>\n",
       "      <td>12</td>\n",
       "      <td>1990</td>\n",
       "      <td>0</td>\n",
       "      <td>1991-01-01</td>\n",
       "      <td>1</td>\n",
       "    </tr>\n",
       "    <tr>\n",
       "      <th>3649</th>\n",
       "      <td>1990-12-31</td>\n",
       "      <td>13.0</td>\n",
       "      <td>01</td>\n",
       "      <td>January</td>\n",
       "      <td>91</td>\n",
       "      <td>30</td>\n",
       "      <td>12</td>\n",
       "      <td>1990</td>\n",
       "      <td>0</td>\n",
       "      <td>1991-01-02</td>\n",
       "      <td>1</td>\n",
       "    </tr>\n",
       "  </tbody>\n",
       "</table>\n",
       "<p>3650 rows × 11 columns</p>\n",
       "</div>"
      ],
      "text/plain": [
       "           Date  Temp date_copy_1_day date_copy_1_month date_copy_1_year  \\\n",
       "0    1981-01-01  20.7              02           January               81   \n",
       "1    1981-01-02  17.9              03           January               81   \n",
       "2    1981-01-03  18.8              04           January               81   \n",
       "3    1981-01-04  14.6              05           January               81   \n",
       "4    1981-01-05  15.8              06           January               81   \n",
       "...         ...   ...             ...               ...              ...   \n",
       "3645 1990-12-27  14.0              28          December               90   \n",
       "3646 1990-12-28  13.6              29          December               90   \n",
       "3647 1990-12-29  13.5              30          December               90   \n",
       "3648 1990-12-30  15.7              31          December               90   \n",
       "3649 1990-12-31  13.0              01           January               91   \n",
       "\n",
       "     date_copy_2_day date_copy_2_month date_copy_2_year  zero_col date_copy_3  \\\n",
       "0                 31                12             1980         0  1981-01-03   \n",
       "1                 01                01             1981         0  1981-01-04   \n",
       "2                 02                01             1981         0  1981-01-05   \n",
       "3                 03                01             1981         0  1981-01-06   \n",
       "4                 04                01             1981         0  1981-01-07   \n",
       "...              ...               ...              ...       ...         ...   \n",
       "3645              26                12             1990         0  1990-12-29   \n",
       "3646              27                12             1990         0  1990-12-30   \n",
       "3647              28                12             1990         0  1990-12-31   \n",
       "3648              29                12             1990         0  1991-01-01   \n",
       "3649              30                12             1990         0  1991-01-02   \n",
       "\n",
       "      one_col  \n",
       "0           1  \n",
       "1           1  \n",
       "2           1  \n",
       "3           1  \n",
       "4           1  \n",
       "...       ...  \n",
       "3645        1  \n",
       "3646        1  \n",
       "3647        1  \n",
       "3648        1  \n",
       "3649        1  \n",
       "\n",
       "[3650 rows x 11 columns]"
      ]
     },
     "execution_count": 106,
     "metadata": {},
     "output_type": "execute_result"
    }
   ],
   "source": [
    "res[0]"
   ]
  },
  {
   "cell_type": "code",
   "execution_count": 107,
   "metadata": {},
   "outputs": [
    {
     "data": {
      "text/plain": [
       "('Date Split',\n",
       " 'Split the following date columns: date_copy_1, date_copy_2',\n",
       " 0.24338221549987793)"
      ]
     },
     "execution_count": 107,
     "metadata": {},
     "output_type": "execute_result"
    }
   ],
   "source": [
    "date_split.get_history()"
   ]
  },
  {
   "cell_type": "code",
   "execution_count": 108,
   "metadata": {},
   "outputs": [
    {
     "data": {
      "text/plain": [
       "array([[1., 0., 0., 0., 0., 0., 0., 0., 0., 0., 0.],\n",
       "       [0., 1., 0., 0., 0., 0., 0., 0., 0., 0., 0.],\n",
       "       [0., 0., 1., 1., 1., 0., 0., 0., 0., 0., 0.],\n",
       "       [0., 0., 0., 0., 0., 1., 1., 1., 0., 0., 0.],\n",
       "       [0., 0., 0., 0., 0., 0., 0., 0., 1., 0., 0.],\n",
       "       [0., 0., 0., 0., 0., 0., 0., 0., 0., 1., 0.],\n",
       "       [0., 0., 0., 0., 0., 0., 0., 0., 0., 0., 1.]])"
      ]
     },
     "execution_count": 108,
     "metadata": {},
     "output_type": "execute_result"
    }
   ],
   "source": [
    "res[2]"
   ]
  },
  {
   "cell_type": "code",
   "execution_count": 109,
   "metadata": {},
   "outputs": [
    {
     "data": {
      "text/plain": [
       "array([[1., 0., 0., 0., 0., 0.],\n",
       "       [0., 1., 1., 0., 0., 0.],\n",
       "       [0., 0., 0., 1., 1., 0.],\n",
       "       [0., 0., 0., 0., 0., 0.],\n",
       "       [0., 0., 0., 0., 0., 1.]])"
      ]
     },
     "execution_count": 109,
     "metadata": {},
     "output_type": "execute_result"
    }
   ],
   "source": [
    "Stainer.convert_mapper_dct_to_array({0:[0], 1:[1,2], 2:[3,4], 3:[], 4:[5]})"
   ]
  }
 ],
 "metadata": {
  "kernelspec": {
   "display_name": "fakedata",
   "language": "python",
   "name": "fakedata"
  },
  "language_info": {
   "codemirror_mode": {
    "name": "ipython",
    "version": 3
   },
   "file_extension": ".py",
   "mimetype": "text/x-python",
   "name": "python",
   "nbconvert_exporter": "python",
   "pygments_lexer": "ipython3",
   "version": "3.9.1"
  }
 },
 "nbformat": 4,
 "nbformat_minor": 4
}
