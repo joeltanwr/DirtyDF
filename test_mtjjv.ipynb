{
 "cells": [
  {
   "cell_type": "code",
   "execution_count": 1,
   "metadata": {},
   "outputs": [],
   "source": [
    "%load_ext autoreload\n",
    "%autoreload 2\n",
    "\n",
    "import pandas as pd\n",
    "import matplotlib.pyplot as plt\n",
    "from ddf.DirtyDF import *\n",
    "from ddf.stainer import *"
   ]
  },
  {
   "cell_type": "code",
   "execution_count": 2,
   "metadata": {},
   "outputs": [],
   "source": [
    "df = pd.DataFrame([(0, 'Cat'), (1, 'Dog'), (2, 'Rabbit'), (3, 'Cat'), (4, 'Cat'), (5, 'Dog')],\n",
    "                  columns=('id', 'class'))"
   ]
  },
  {
   "cell_type": "code",
   "execution_count": 3,
   "metadata": {},
   "outputs": [],
   "source": [
    "df[\"class\"] = df[\"class\"].astype(\"category\")"
   ]
  },
  {
   "cell_type": "markdown",
   "metadata": {},
   "source": [
    "# Shuffle"
   ]
  },
  {
   "cell_type": "code",
   "execution_count": 4,
   "metadata": {},
   "outputs": [],
   "source": [
    "stain = ShuffleStainer()"
   ]
  },
  {
   "cell_type": "code",
   "execution_count": 5,
   "metadata": {},
   "outputs": [
    {
     "data": {
      "text/html": [
       "<div>\n",
       "<style scoped>\n",
       "    .dataframe tbody tr th:only-of-type {\n",
       "        vertical-align: middle;\n",
       "    }\n",
       "\n",
       "    .dataframe tbody tr th {\n",
       "        vertical-align: top;\n",
       "    }\n",
       "\n",
       "    .dataframe thead th {\n",
       "        text-align: right;\n",
       "    }\n",
       "</style>\n",
       "<table border=\"1\" class=\"dataframe\">\n",
       "  <thead>\n",
       "    <tr style=\"text-align: right;\">\n",
       "      <th></th>\n",
       "      <th>id</th>\n",
       "      <th>class</th>\n",
       "    </tr>\n",
       "  </thead>\n",
       "  <tbody>\n",
       "    <tr>\n",
       "      <th>2</th>\n",
       "      <td>2</td>\n",
       "      <td>Rabbit</td>\n",
       "    </tr>\n",
       "    <tr>\n",
       "      <th>5</th>\n",
       "      <td>5</td>\n",
       "      <td>Dog</td>\n",
       "    </tr>\n",
       "    <tr>\n",
       "      <th>4</th>\n",
       "      <td>4</td>\n",
       "      <td>Cat</td>\n",
       "    </tr>\n",
       "    <tr>\n",
       "      <th>1</th>\n",
       "      <td>1</td>\n",
       "      <td>Dog</td>\n",
       "    </tr>\n",
       "    <tr>\n",
       "      <th>0</th>\n",
       "      <td>0</td>\n",
       "      <td>Cat</td>\n",
       "    </tr>\n",
       "    <tr>\n",
       "      <th>3</th>\n",
       "      <td>3</td>\n",
       "      <td>Cat</td>\n",
       "    </tr>\n",
       "  </tbody>\n",
       "</table>\n",
       "</div>"
      ],
      "text/plain": [
       "   id   class\n",
       "2   2  Rabbit\n",
       "5   5     Dog\n",
       "4   4     Cat\n",
       "1   1     Dog\n",
       "0   0     Cat\n",
       "3   3     Cat"
      ]
     },
     "execution_count": 5,
     "metadata": {},
     "output_type": "execute_result"
    }
   ],
   "source": [
    "res = DirtyDF(df, seed = 214).add_stainers(stain).add_stainers(stain).run_all_stainers()\n",
    "res.get_df()"
   ]
  },
  {
   "cell_type": "code",
   "execution_count": 6,
   "metadata": {},
   "outputs": [
    {
     "data": {
      "text/html": [
       "<div>\n",
       "<style scoped>\n",
       "    .dataframe tbody tr th:only-of-type {\n",
       "        vertical-align: middle;\n",
       "    }\n",
       "\n",
       "    .dataframe tbody tr th {\n",
       "        vertical-align: top;\n",
       "    }\n",
       "\n",
       "    .dataframe thead th {\n",
       "        text-align: right;\n",
       "    }\n",
       "</style>\n",
       "<table border=\"1\" class=\"dataframe\">\n",
       "  <thead>\n",
       "    <tr style=\"text-align: right;\">\n",
       "      <th></th>\n",
       "      <th>id</th>\n",
       "      <th>class</th>\n",
       "    </tr>\n",
       "  </thead>\n",
       "  <tbody>\n",
       "    <tr>\n",
       "      <th>0</th>\n",
       "      <td>0</td>\n",
       "      <td>Cat</td>\n",
       "    </tr>\n",
       "    <tr>\n",
       "      <th>1</th>\n",
       "      <td>1</td>\n",
       "      <td>Dog</td>\n",
       "    </tr>\n",
       "    <tr>\n",
       "      <th>2</th>\n",
       "      <td>2</td>\n",
       "      <td>Rabbit</td>\n",
       "    </tr>\n",
       "    <tr>\n",
       "      <th>3</th>\n",
       "      <td>3</td>\n",
       "      <td>Cat</td>\n",
       "    </tr>\n",
       "    <tr>\n",
       "      <th>4</th>\n",
       "      <td>4</td>\n",
       "      <td>Cat</td>\n",
       "    </tr>\n",
       "    <tr>\n",
       "      <th>5</th>\n",
       "      <td>5</td>\n",
       "      <td>Dog</td>\n",
       "    </tr>\n",
       "  </tbody>\n",
       "</table>\n",
       "</div>"
      ],
      "text/plain": [
       "   id   class\n",
       "0   0     Cat\n",
       "1   1     Dog\n",
       "2   2  Rabbit\n",
       "3   3     Cat\n",
       "4   4     Cat\n",
       "5   5     Dog"
      ]
     },
     "execution_count": 6,
     "metadata": {},
     "output_type": "execute_result"
    }
   ],
   "source": [
    "# Original DF is unmodified\n",
    "df"
   ]
  },
  {
   "cell_type": "code",
   "execution_count": 7,
   "metadata": {},
   "outputs": [
    {
     "data": {
      "text/plain": [
       "array([[0., 1., 0., 0., 0., 0.],\n",
       "       [0., 0., 0., 0., 1., 0.],\n",
       "       [0., 0., 0., 1., 0., 0.],\n",
       "       [1., 0., 0., 0., 0., 0.],\n",
       "       [0., 0., 1., 0., 0., 0.],\n",
       "       [0., 0., 0., 0., 0., 1.]])"
      ]
     },
     "execution_count": 7,
     "metadata": {},
     "output_type": "execute_result"
    }
   ],
   "source": [
    "res.get_map_from_history(0)"
   ]
  },
  {
   "cell_type": "code",
   "execution_count": 8,
   "metadata": {},
   "outputs": [
    {
     "data": {
      "text/plain": [
       "array([[0., 0., 0., 0., 0., 1.],\n",
       "       [0., 0., 0., 0., 1., 0.],\n",
       "       [0., 0., 1., 0., 0., 0.],\n",
       "       [1., 0., 0., 0., 0., 0.],\n",
       "       [0., 0., 0., 1., 0., 0.],\n",
       "       [0., 1., 0., 0., 0., 0.]])"
      ]
     },
     "execution_count": 8,
     "metadata": {},
     "output_type": "execute_result"
    }
   ],
   "source": [
    "res.get_previous_map()"
   ]
  },
  {
   "cell_type": "code",
   "execution_count": 9,
   "metadata": {},
   "outputs": [
    {
     "data": {
      "text/plain": [
       "array([[0., 0., 0., 0., 1., 0.],\n",
       "       [0., 0., 0., 1., 0., 0.],\n",
       "       [1., 0., 0., 0., 0., 0.],\n",
       "       [0., 0., 0., 0., 0., 1.],\n",
       "       [0., 0., 1., 0., 0., 0.],\n",
       "       [0., 1., 0., 0., 0., 0.]])"
      ]
     },
     "execution_count": 9,
     "metadata": {},
     "output_type": "execute_result"
    }
   ],
   "source": [
    "res.get_mapping(axis = 0)"
   ]
  },
  {
   "cell_type": "code",
   "execution_count": 10,
   "metadata": {},
   "outputs": [
    {
     "data": {
      "text/plain": [
       "array([[1., 0.],\n",
       "       [0., 1.]])"
      ]
     },
     "execution_count": 10,
     "metadata": {},
     "output_type": "execute_result"
    }
   ],
   "source": [
    "res.get_mapping(axis = 1)"
   ]
  },
  {
   "cell_type": "code",
   "execution_count": 11,
   "metadata": {},
   "outputs": [
    {
     "data": {
      "text/html": [
       "<div>\n",
       "<style scoped>\n",
       "    .dataframe tbody tr th:only-of-type {\n",
       "        vertical-align: middle;\n",
       "    }\n",
       "\n",
       "    .dataframe tbody tr th {\n",
       "        vertical-align: top;\n",
       "    }\n",
       "\n",
       "    .dataframe thead th {\n",
       "        text-align: right;\n",
       "    }\n",
       "</style>\n",
       "<table border=\"1\" class=\"dataframe\">\n",
       "  <thead>\n",
       "    <tr style=\"text-align: right;\">\n",
       "      <th></th>\n",
       "      <th>id</th>\n",
       "      <th>class</th>\n",
       "    </tr>\n",
       "  </thead>\n",
       "  <tbody>\n",
       "    <tr>\n",
       "      <th>2</th>\n",
       "      <td>2</td>\n",
       "      <td>Rabbit</td>\n",
       "    </tr>\n",
       "    <tr>\n",
       "      <th>5</th>\n",
       "      <td>5</td>\n",
       "      <td>Dog</td>\n",
       "    </tr>\n",
       "    <tr>\n",
       "      <th>4</th>\n",
       "      <td>4</td>\n",
       "      <td>Cat</td>\n",
       "    </tr>\n",
       "    <tr>\n",
       "      <th>1</th>\n",
       "      <td>1</td>\n",
       "      <td>Dog</td>\n",
       "    </tr>\n",
       "    <tr>\n",
       "      <th>0</th>\n",
       "      <td>0</td>\n",
       "      <td>Cat</td>\n",
       "    </tr>\n",
       "    <tr>\n",
       "      <th>3</th>\n",
       "      <td>3</td>\n",
       "      <td>Cat</td>\n",
       "    </tr>\n",
       "  </tbody>\n",
       "</table>\n",
       "</div>"
      ],
      "text/plain": [
       "   id   class\n",
       "2   2  Rabbit\n",
       "5   5     Dog\n",
       "4   4     Cat\n",
       "1   1     Dog\n",
       "0   0     Cat\n",
       "3   3     Cat"
      ]
     },
     "execution_count": 11,
     "metadata": {},
     "output_type": "execute_result"
    }
   ],
   "source": [
    "new_ddf = DirtyDF(df, seed = 214).add_stainers(stain).run_stainer()\n",
    "new_ddf.add_stainers(stain).run_stainer().get_df()"
   ]
  },
  {
   "cell_type": "code",
   "execution_count": 12,
   "metadata": {},
   "outputs": [
    {
     "name": "stdout",
     "output_type": "stream",
     "text": [
      "1. Shuffle \n",
      " Order of rows randomized \n",
      " Time taken: 0.0009133815765380859 \n",
      "\n",
      "2. Shuffle \n",
      " Order of rows randomized \n",
      " Time taken: 0.0020072460174560547 \n",
      "\n"
     ]
    }
   ],
   "source": [
    "res.print_history()"
   ]
  },
  {
   "cell_type": "markdown",
   "metadata": {},
   "source": [
    "# Row Duplicate"
   ]
  },
  {
   "cell_type": "code",
   "execution_count": 13,
   "metadata": {},
   "outputs": [],
   "source": [
    "dup_stainer = RowDuplicateStainer(deg = 0.6, max_rep = 3)"
   ]
  },
  {
   "cell_type": "code",
   "execution_count": 14,
   "metadata": {},
   "outputs": [
    {
     "data": {
      "text/html": [
       "<div>\n",
       "<style scoped>\n",
       "    .dataframe tbody tr th:only-of-type {\n",
       "        vertical-align: middle;\n",
       "    }\n",
       "\n",
       "    .dataframe tbody tr th {\n",
       "        vertical-align: top;\n",
       "    }\n",
       "\n",
       "    .dataframe thead th {\n",
       "        text-align: right;\n",
       "    }\n",
       "</style>\n",
       "<table border=\"1\" class=\"dataframe\">\n",
       "  <thead>\n",
       "    <tr style=\"text-align: right;\">\n",
       "      <th></th>\n",
       "      <th>id</th>\n",
       "      <th>class</th>\n",
       "    </tr>\n",
       "  </thead>\n",
       "  <tbody>\n",
       "    <tr>\n",
       "      <th>0</th>\n",
       "      <td>0</td>\n",
       "      <td>Cat</td>\n",
       "    </tr>\n",
       "    <tr>\n",
       "      <th>1</th>\n",
       "      <td>0</td>\n",
       "      <td>Cat</td>\n",
       "    </tr>\n",
       "    <tr>\n",
       "      <th>2</th>\n",
       "      <td>0</td>\n",
       "      <td>Cat</td>\n",
       "    </tr>\n",
       "    <tr>\n",
       "      <th>3</th>\n",
       "      <td>1</td>\n",
       "      <td>Dog</td>\n",
       "    </tr>\n",
       "    <tr>\n",
       "      <th>4</th>\n",
       "      <td>2</td>\n",
       "      <td>Rabbit</td>\n",
       "    </tr>\n",
       "    <tr>\n",
       "      <th>5</th>\n",
       "      <td>3</td>\n",
       "      <td>Cat</td>\n",
       "    </tr>\n",
       "    <tr>\n",
       "      <th>6</th>\n",
       "      <td>3</td>\n",
       "      <td>Cat</td>\n",
       "    </tr>\n",
       "    <tr>\n",
       "      <th>7</th>\n",
       "      <td>4</td>\n",
       "      <td>Cat</td>\n",
       "    </tr>\n",
       "    <tr>\n",
       "      <th>8</th>\n",
       "      <td>5</td>\n",
       "      <td>Dog</td>\n",
       "    </tr>\n",
       "    <tr>\n",
       "      <th>9</th>\n",
       "      <td>5</td>\n",
       "      <td>Dog</td>\n",
       "    </tr>\n",
       "    <tr>\n",
       "      <th>10</th>\n",
       "      <td>5</td>\n",
       "      <td>Dog</td>\n",
       "    </tr>\n",
       "  </tbody>\n",
       "</table>\n",
       "</div>"
      ],
      "text/plain": [
       "    id   class\n",
       "0    0     Cat\n",
       "1    0     Cat\n",
       "2    0     Cat\n",
       "3    1     Dog\n",
       "4    2  Rabbit\n",
       "5    3     Cat\n",
       "6    3     Cat\n",
       "7    4     Cat\n",
       "8    5     Dog\n",
       "9    5     Dog\n",
       "10   5     Dog"
      ]
     },
     "execution_count": 14,
     "metadata": {},
     "output_type": "execute_result"
    }
   ],
   "source": [
    "res = DirtyDF(df, seed = 42).add_stainers(dup_stainer).run_all_stainers()\n",
    "res.get_df()"
   ]
  },
  {
   "cell_type": "code",
   "execution_count": 15,
   "metadata": {},
   "outputs": [
    {
     "data": {
      "text/plain": [
       "array([[1., 1., 1., 0., 0., 0., 0., 0., 0., 0., 0.],\n",
       "       [0., 0., 0., 1., 0., 0., 0., 0., 0., 0., 0.],\n",
       "       [0., 0., 0., 0., 1., 0., 0., 0., 0., 0., 0.],\n",
       "       [0., 0., 0., 0., 0., 1., 1., 0., 0., 0., 0.],\n",
       "       [0., 0., 0., 0., 0., 0., 0., 1., 0., 0., 0.],\n",
       "       [0., 0., 0., 0., 0., 0., 0., 0., 1., 1., 1.]])"
      ]
     },
     "execution_count": 15,
     "metadata": {},
     "output_type": "execute_result"
    }
   ],
   "source": [
    "res.get_mapping()"
   ]
  },
  {
   "cell_type": "code",
   "execution_count": 16,
   "metadata": {},
   "outputs": [
    {
     "data": {
      "text/plain": [
       "array([[1., 0.],\n",
       "       [0., 1.]])"
      ]
     },
     "execution_count": 16,
     "metadata": {},
     "output_type": "execute_result"
    }
   ],
   "source": [
    "res.get_mapping(axis = 1)"
   ]
  },
  {
   "cell_type": "code",
   "execution_count": 17,
   "metadata": {},
   "outputs": [
    {
     "data": {
      "text/html": [
       "<div>\n",
       "<style scoped>\n",
       "    .dataframe tbody tr th:only-of-type {\n",
       "        vertical-align: middle;\n",
       "    }\n",
       "\n",
       "    .dataframe tbody tr th {\n",
       "        vertical-align: top;\n",
       "    }\n",
       "\n",
       "    .dataframe thead th {\n",
       "        text-align: right;\n",
       "    }\n",
       "</style>\n",
       "<table border=\"1\" class=\"dataframe\">\n",
       "  <thead>\n",
       "    <tr style=\"text-align: right;\">\n",
       "      <th></th>\n",
       "      <th>id</th>\n",
       "      <th>class</th>\n",
       "    </tr>\n",
       "  </thead>\n",
       "  <tbody>\n",
       "    <tr>\n",
       "      <th>4</th>\n",
       "      <td>2</td>\n",
       "      <td>Rabbit</td>\n",
       "    </tr>\n",
       "    <tr>\n",
       "      <th>8</th>\n",
       "      <td>5</td>\n",
       "      <td>Dog</td>\n",
       "    </tr>\n",
       "    <tr>\n",
       "      <th>2</th>\n",
       "      <td>0</td>\n",
       "      <td>Cat</td>\n",
       "    </tr>\n",
       "    <tr>\n",
       "      <th>6</th>\n",
       "      <td>3</td>\n",
       "      <td>Cat</td>\n",
       "    </tr>\n",
       "    <tr>\n",
       "      <th>10</th>\n",
       "      <td>5</td>\n",
       "      <td>Dog</td>\n",
       "    </tr>\n",
       "    <tr>\n",
       "      <th>9</th>\n",
       "      <td>5</td>\n",
       "      <td>Dog</td>\n",
       "    </tr>\n",
       "    <tr>\n",
       "      <th>7</th>\n",
       "      <td>4</td>\n",
       "      <td>Cat</td>\n",
       "    </tr>\n",
       "    <tr>\n",
       "      <th>3</th>\n",
       "      <td>1</td>\n",
       "      <td>Dog</td>\n",
       "    </tr>\n",
       "    <tr>\n",
       "      <th>0</th>\n",
       "      <td>0</td>\n",
       "      <td>Cat</td>\n",
       "    </tr>\n",
       "    <tr>\n",
       "      <th>1</th>\n",
       "      <td>0</td>\n",
       "      <td>Cat</td>\n",
       "    </tr>\n",
       "    <tr>\n",
       "      <th>5</th>\n",
       "      <td>3</td>\n",
       "      <td>Cat</td>\n",
       "    </tr>\n",
       "  </tbody>\n",
       "</table>\n",
       "</div>"
      ],
      "text/plain": [
       "    id   class\n",
       "4    2  Rabbit\n",
       "8    5     Dog\n",
       "2    0     Cat\n",
       "6    3     Cat\n",
       "10   5     Dog\n",
       "9    5     Dog\n",
       "7    4     Cat\n",
       "3    1     Dog\n",
       "0    0     Cat\n",
       "1    0     Cat\n",
       "5    3     Cat"
      ]
     },
     "execution_count": 17,
     "metadata": {},
     "output_type": "execute_result"
    }
   ],
   "source": [
    "res = DirtyDF(df, seed = 42).add_stainers(dup_stainer).add_stainers(stain).run_all_stainers()\n",
    "res.get_df()"
   ]
  },
  {
   "cell_type": "code",
   "execution_count": 18,
   "metadata": {},
   "outputs": [
    {
     "data": {
      "text/plain": [
       "array([[0., 0., 1., 0., 0., 0., 0., 0., 1., 1., 0.],\n",
       "       [0., 0., 0., 0., 0., 0., 0., 1., 0., 0., 0.],\n",
       "       [1., 0., 0., 0., 0., 0., 0., 0., 0., 0., 0.],\n",
       "       [0., 0., 0., 1., 0., 0., 0., 0., 0., 0., 1.],\n",
       "       [0., 0., 0., 0., 0., 0., 1., 0., 0., 0., 0.],\n",
       "       [0., 1., 0., 0., 1., 1., 0., 0., 0., 0., 0.]])"
      ]
     },
     "execution_count": 18,
     "metadata": {},
     "output_type": "execute_result"
    }
   ],
   "source": [
    "res.get_mapping()"
   ]
  },
  {
   "cell_type": "code",
   "execution_count": 19,
   "metadata": {},
   "outputs": [
    {
     "name": "stdout",
     "output_type": "stream",
     "text": [
      "1. Add Duplicates \n",
      " Added Duplicate Rows for 3 rows. \n",
      "  Each duplicated row should appear a maximum of 3 times. \n",
      "  Rows added: 5 \n",
      " Time taken: 0.000997781753540039 \n",
      "\n",
      "2. Shuffle \n",
      " Order of rows randomized \n",
      " Time taken: 0.0019941329956054688 \n",
      "\n"
     ]
    }
   ],
   "source": [
    "res.print_history()"
   ]
  },
  {
   "cell_type": "markdown",
   "metadata": {},
   "source": [
    "# Inflection"
   ]
  },
  {
   "cell_type": "code",
   "execution_count": 17,
   "metadata": {},
   "outputs": [],
   "source": [
    "rng = np.random.default_rng(42)\n",
    "\n",
    "df2 = pd.DataFrame(zip(range(100), rng.choice(['Cat','Dog','Rabbit'], 100), rng.choice(['Cow', 'Sheep', 'Goat'], 100)),\n",
    "                  columns=('id', 'class', 'class2'))"
   ]
  },
  {
   "cell_type": "code",
   "execution_count": 18,
   "metadata": {},
   "outputs": [
    {
     "output_type": "execute_result",
     "data": {
      "text/plain": [
       "   id   class class2\n",
       "0   0     Cat   Goat\n",
       "1   1  Rabbit    Cow\n",
       "2   2     Dog   Goat\n",
       "3   3     Dog    Cow\n",
       "4   4     Dog   Goat"
      ],
      "text/html": "<div>\n<style scoped>\n    .dataframe tbody tr th:only-of-type {\n        vertical-align: middle;\n    }\n\n    .dataframe tbody tr th {\n        vertical-align: top;\n    }\n\n    .dataframe thead th {\n        text-align: right;\n    }\n</style>\n<table border=\"1\" class=\"dataframe\">\n  <thead>\n    <tr style=\"text-align: right;\">\n      <th></th>\n      <th>id</th>\n      <th>class</th>\n      <th>class2</th>\n    </tr>\n  </thead>\n  <tbody>\n    <tr>\n      <th>0</th>\n      <td>0</td>\n      <td>Cat</td>\n      <td>Goat</td>\n    </tr>\n    <tr>\n      <th>1</th>\n      <td>1</td>\n      <td>Rabbit</td>\n      <td>Cow</td>\n    </tr>\n    <tr>\n      <th>2</th>\n      <td>2</td>\n      <td>Dog</td>\n      <td>Goat</td>\n    </tr>\n    <tr>\n      <th>3</th>\n      <td>3</td>\n      <td>Dog</td>\n      <td>Cow</td>\n    </tr>\n    <tr>\n      <th>4</th>\n      <td>4</td>\n      <td>Dog</td>\n      <td>Goat</td>\n    </tr>\n  </tbody>\n</table>\n</div>"
     },
     "metadata": {},
     "execution_count": 18
    }
   ],
   "source": [
    "df2.head()"
   ]
  },
  {
   "cell_type": "code",
   "execution_count": 19,
   "metadata": {},
   "outputs": [
    {
     "output_type": "execute_result",
     "data": {
      "text/plain": [
       "Rabbit    40\n",
       "Dog       33\n",
       "Cat       27\n",
       "Name: class, dtype: int64"
      ]
     },
     "metadata": {},
     "execution_count": 19
    }
   ],
   "source": [
    "df2['class'].value_counts()"
   ]
  },
  {
   "cell_type": "code",
   "execution_count": 40,
   "metadata": {},
   "outputs": [],
   "source": [
    "inflect = InflectionStainer(col_idx=[1, 2], num_format = 2, formats=['original', 'lowercase', 'pluralize'], ignore_cats={1: ['Dogs']})"
   ]
  },
  {
   "cell_type": "code",
   "execution_count": 41,
   "metadata": {},
   "outputs": [],
   "source": [
    "res = inflect.transform(df2, rng)"
   ]
  },
  {
   "cell_type": "code",
   "execution_count": 42,
   "metadata": {},
   "outputs": [
    {
     "output_type": "execute_result",
     "data": {
      "text/plain": [
       "Dogs       21\n",
       "rabbit     20\n",
       "Rabbits    20\n",
       "Cats       16\n",
       "dog        12\n",
       "cat        11\n",
       "Name: class, dtype: int64"
      ]
     },
     "metadata": {},
     "execution_count": 42
    }
   ],
   "source": [
    "res[0]['class'].value_counts()"
   ]
  },
  {
   "cell_type": "code",
   "execution_count": 43,
   "metadata": {},
   "outputs": [
    {
     "output_type": "stream",
     "name": "stdout",
     "text": [
      "Categorical inflections on:\n{1: {'Cat': ['Cats', 'cat'], 'Rabbit': ['Rabbits', 'rabbit'], 'Dog': ['dog', 'Dogs']}, 2: {'Goat': ['Goat', 'Goats'], 'Cow': ['Cow', 'Kine'], 'Sheep': ['Sheep']}}\n"
     ]
    }
   ],
   "source": [
    "print(inflect.get_history()[1])"
   ]
  },
  {
   "cell_type": "code",
   "execution_count": 23,
   "metadata": {},
   "outputs": [
    {
     "output_type": "execute_result",
     "data": {
      "text/plain": [
       "   id   class class2  id    class class2\n",
       "0   0     Cat   Goat   0      Cat  Goats\n",
       "1   1  Rabbit    Cow   1  Rabbits   Kine\n",
       "2   2     Dog   Goat   2      Dog   goat\n",
       "3   3     Dog    Cow   3      Dog    cow\n",
       "4   4     Dog   Goat   4      Dog  Goats\n",
       "5   5  Rabbit   Goat   5   Rabbit  Goats\n",
       "6   6     Cat   Goat   6     Cats   goat\n",
       "7   7  Rabbit  Sheep   7  Rabbits  sheep\n",
       "8   8     Cat  Sheep   8     Cats  sheep\n",
       "9   9     Cat   Goat   9      Cat   goat"
      ],
      "text/html": "<div>\n<style scoped>\n    .dataframe tbody tr th:only-of-type {\n        vertical-align: middle;\n    }\n\n    .dataframe tbody tr th {\n        vertical-align: top;\n    }\n\n    .dataframe thead th {\n        text-align: right;\n    }\n</style>\n<table border=\"1\" class=\"dataframe\">\n  <thead>\n    <tr style=\"text-align: right;\">\n      <th></th>\n      <th>id</th>\n      <th>class</th>\n      <th>class2</th>\n      <th>id</th>\n      <th>class</th>\n      <th>class2</th>\n    </tr>\n  </thead>\n  <tbody>\n    <tr>\n      <th>0</th>\n      <td>0</td>\n      <td>Cat</td>\n      <td>Goat</td>\n      <td>0</td>\n      <td>Cat</td>\n      <td>Goats</td>\n    </tr>\n    <tr>\n      <th>1</th>\n      <td>1</td>\n      <td>Rabbit</td>\n      <td>Cow</td>\n      <td>1</td>\n      <td>Rabbits</td>\n      <td>Kine</td>\n    </tr>\n    <tr>\n      <th>2</th>\n      <td>2</td>\n      <td>Dog</td>\n      <td>Goat</td>\n      <td>2</td>\n      <td>Dog</td>\n      <td>goat</td>\n    </tr>\n    <tr>\n      <th>3</th>\n      <td>3</td>\n      <td>Dog</td>\n      <td>Cow</td>\n      <td>3</td>\n      <td>Dog</td>\n      <td>cow</td>\n    </tr>\n    <tr>\n      <th>4</th>\n      <td>4</td>\n      <td>Dog</td>\n      <td>Goat</td>\n      <td>4</td>\n      <td>Dog</td>\n      <td>Goats</td>\n    </tr>\n    <tr>\n      <th>5</th>\n      <td>5</td>\n      <td>Rabbit</td>\n      <td>Goat</td>\n      <td>5</td>\n      <td>Rabbit</td>\n      <td>Goats</td>\n    </tr>\n    <tr>\n      <th>6</th>\n      <td>6</td>\n      <td>Cat</td>\n      <td>Goat</td>\n      <td>6</td>\n      <td>Cats</td>\n      <td>goat</td>\n    </tr>\n    <tr>\n      <th>7</th>\n      <td>7</td>\n      <td>Rabbit</td>\n      <td>Sheep</td>\n      <td>7</td>\n      <td>Rabbits</td>\n      <td>sheep</td>\n    </tr>\n    <tr>\n      <th>8</th>\n      <td>8</td>\n      <td>Cat</td>\n      <td>Sheep</td>\n      <td>8</td>\n      <td>Cats</td>\n      <td>sheep</td>\n    </tr>\n    <tr>\n      <th>9</th>\n      <td>9</td>\n      <td>Cat</td>\n      <td>Goat</td>\n      <td>9</td>\n      <td>Cat</td>\n      <td>goat</td>\n    </tr>\n  </tbody>\n</table>\n</div>"
     },
     "metadata": {},
     "execution_count": 23
    }
   ],
   "source": [
    "pd.concat([df2.head(10), res[0].head(10)], axis=1)"
   ]
  },
  {
   "cell_type": "markdown",
   "metadata": {},
   "source": [
    "# DateFormat & DateSplit"
   ]
  },
  {
   "cell_type": "code",
   "execution_count": 2,
   "metadata": {},
   "outputs": [],
   "source": [
    "import itertools\n",
    "import datetime"
   ]
  },
  {
   "cell_type": "code",
   "execution_count": 3,
   "metadata": {},
   "outputs": [],
   "source": [
    "df3 = pd.read_csv(\"https://raw.githubusercontent.com/jbrownlee/Datasets/master/daily-min-temperatures.csv\", parse_dates=['Date'])\n",
    "df3['date_copy_1'] = df3['Date'] + datetime.timedelta(days=1)\n",
    "df3['date_copy_2'] = df3['Date'] + datetime.timedelta(days=-1)\n",
    "df3['zero_col'] = 0\n",
    "df3['date_copy_3'] = df3['Date'] + datetime.timedelta(days=2)\n",
    "df3['one_col'] = 1"
   ]
  },
  {
   "cell_type": "code",
   "execution_count": 4,
   "metadata": {},
   "outputs": [
    {
     "output_type": "execute_result",
     "data": {
      "text/plain": [
       "(3650, 7)"
      ]
     },
     "metadata": {},
     "execution_count": 46
    }
   ],
   "source": [
    "df3.shape"
   ]
  },
  {
   "cell_type": "code",
   "execution_count": 47,
   "metadata": {},
   "outputs": [
    {
     "output_type": "execute_result",
     "data": {
      "text/plain": [
       "        Date  Temp date_copy_1 date_copy_2  zero_col date_copy_3  one_col\n",
       "0 1981-01-01  20.7  1981-01-02  1980-12-31         0  1981-01-03        1\n",
       "1 1981-01-02  17.9  1981-01-03  1981-01-01         0  1981-01-04        1\n",
       "2 1981-01-03  18.8  1981-01-04  1981-01-02         0  1981-01-05        1"
      ],
      "text/html": "<div>\n<style scoped>\n    .dataframe tbody tr th:only-of-type {\n        vertical-align: middle;\n    }\n\n    .dataframe tbody tr th {\n        vertical-align: top;\n    }\n\n    .dataframe thead th {\n        text-align: right;\n    }\n</style>\n<table border=\"1\" class=\"dataframe\">\n  <thead>\n    <tr style=\"text-align: right;\">\n      <th></th>\n      <th>Date</th>\n      <th>Temp</th>\n      <th>date_copy_1</th>\n      <th>date_copy_2</th>\n      <th>zero_col</th>\n      <th>date_copy_3</th>\n      <th>one_col</th>\n    </tr>\n  </thead>\n  <tbody>\n    <tr>\n      <th>0</th>\n      <td>1981-01-01</td>\n      <td>20.7</td>\n      <td>1981-01-02</td>\n      <td>1980-12-31</td>\n      <td>0</td>\n      <td>1981-01-03</td>\n      <td>1</td>\n    </tr>\n    <tr>\n      <th>1</th>\n      <td>1981-01-02</td>\n      <td>17.9</td>\n      <td>1981-01-03</td>\n      <td>1981-01-01</td>\n      <td>0</td>\n      <td>1981-01-04</td>\n      <td>1</td>\n    </tr>\n    <tr>\n      <th>2</th>\n      <td>1981-01-03</td>\n      <td>18.8</td>\n      <td>1981-01-04</td>\n      <td>1981-01-02</td>\n      <td>0</td>\n      <td>1981-01-05</td>\n      <td>1</td>\n    </tr>\n  </tbody>\n</table>\n</div>"
     },
     "metadata": {},
     "execution_count": 47
    }
   ],
   "source": [
    "df3.head(3)"
   ]
  },
  {
   "cell_type": "code",
   "execution_count": 49,
   "metadata": {},
   "outputs": [],
   "source": [
    "date_format = DateFormatStainer(col_idx=[0], num_format=5)"
   ]
  },
  {
   "cell_type": "code",
   "execution_count": 30,
   "metadata": {},
   "outputs": [
    {
     "data": {
      "text/html": [
       "<div>\n",
       "<style scoped>\n",
       "    .dataframe tbody tr th:only-of-type {\n",
       "        vertical-align: middle;\n",
       "    }\n",
       "\n",
       "    .dataframe tbody tr th {\n",
       "        vertical-align: top;\n",
       "    }\n",
       "\n",
       "    .dataframe thead th {\n",
       "        text-align: right;\n",
       "    }\n",
       "</style>\n",
       "<table border=\"1\" class=\"dataframe\">\n",
       "  <thead>\n",
       "    <tr style=\"text-align: right;\">\n",
       "      <th></th>\n",
       "      <th>Date</th>\n",
       "      <th>Temp</th>\n",
       "      <th>date_copy_1</th>\n",
       "      <th>date_copy_2</th>\n",
       "      <th>zero_col</th>\n",
       "      <th>date_copy_3</th>\n",
       "      <th>one_col</th>\n",
       "    </tr>\n",
       "  </thead>\n",
       "  <tbody>\n",
       "    <tr>\n",
       "      <th>0</th>\n",
       "      <td>1981-01-01</td>\n",
       "      <td>20.7</td>\n",
       "      <td>1981-01-02</td>\n",
       "      <td>1980-12-31</td>\n",
       "      <td>0</td>\n",
       "      <td>1981-01-03</td>\n",
       "      <td>1</td>\n",
       "    </tr>\n",
       "    <tr>\n",
       "      <th>1</th>\n",
       "      <td>1981-01-02</td>\n",
       "      <td>17.9</td>\n",
       "      <td>1981-01-03</td>\n",
       "      <td>1981-01-01</td>\n",
       "      <td>0</td>\n",
       "      <td>1981-01-04</td>\n",
       "      <td>1</td>\n",
       "    </tr>\n",
       "    <tr>\n",
       "      <th>2</th>\n",
       "      <td>1981-01-03</td>\n",
       "      <td>18.8</td>\n",
       "      <td>1981-01-04</td>\n",
       "      <td>1981-01-02</td>\n",
       "      <td>0</td>\n",
       "      <td>1981-01-05</td>\n",
       "      <td>1</td>\n",
       "    </tr>\n",
       "  </tbody>\n",
       "</table>\n",
       "</div>"
      ],
      "text/plain": [
       "        Date  Temp date_copy_1 date_copy_2  zero_col date_copy_3  one_col\n",
       "0 1981-01-01  20.7  1981-01-02  1980-12-31         0  1981-01-03        1\n",
       "1 1981-01-02  17.9  1981-01-03  1981-01-01         0  1981-01-04        1\n",
       "2 1981-01-03  18.8  1981-01-04  1981-01-02         0  1981-01-05        1"
      ]
     },
     "execution_count": 30,
     "metadata": {},
     "output_type": "execute_result"
    }
   ],
   "source": [
    "df3.head(3)"
   ]
  },
  {
   "cell_type": "code",
   "execution_count": 50,
   "metadata": {},
   "outputs": [],
   "source": [
    "rng = np.random.default_rng(42)\n",
    "res = date_format.transform(df3, rng)"
   ]
  },
  {
   "cell_type": "code",
   "execution_count": 51,
   "metadata": {},
   "outputs": [
    {
     "output_type": "execute_result",
     "data": {
      "text/plain": [
       "                  Date  Temp date_copy_1 date_copy_2  zero_col date_copy_3  \\\n",
       "0          1981,Jan,01  20.7  1981-01-02  1980-12-31         0  1981-01-03   \n",
       "1          1981/02/Jan  17.9  1981-01-03  1981-01-01         0  1981-01-04   \n",
       "2             19810103  18.8  1981-01-04  1981-01-02         0  1981-01-05   \n",
       "3          1981-04-Jan  14.6  1981-01-05  1981-01-03         0  1981-01-06   \n",
       "4          1981,Jan,05  15.8  1981-01-06  1981-01-04         0  1981-01-07   \n",
       "...                ...   ...         ...         ...       ...         ...   \n",
       "3645       1990-27-Dec  14.0  1990-12-28  1990-12-26         0  1990-12-29   \n",
       "3646       1990-28-Dec  13.6  1990-12-29  1990-12-27         0  1990-12-30   \n",
       "3647       1990,Dec,29  13.5  1990-12-30  1990-12-28         0  1990-12-31   \n",
       "3648  1990/30/December  15.7  1990-12-31  1990-12-29         0  1991-01-01   \n",
       "3649  1990/31/December  13.0  1991-01-01  1990-12-30         0  1991-01-02   \n",
       "\n",
       "      one_col  \n",
       "0           1  \n",
       "1           1  \n",
       "2           1  \n",
       "3           1  \n",
       "4           1  \n",
       "...       ...  \n",
       "3645        1  \n",
       "3646        1  \n",
       "3647        1  \n",
       "3648        1  \n",
       "3649        1  \n",
       "\n",
       "[3650 rows x 7 columns]"
      ],
      "text/html": "<div>\n<style scoped>\n    .dataframe tbody tr th:only-of-type {\n        vertical-align: middle;\n    }\n\n    .dataframe tbody tr th {\n        vertical-align: top;\n    }\n\n    .dataframe thead th {\n        text-align: right;\n    }\n</style>\n<table border=\"1\" class=\"dataframe\">\n  <thead>\n    <tr style=\"text-align: right;\">\n      <th></th>\n      <th>Date</th>\n      <th>Temp</th>\n      <th>date_copy_1</th>\n      <th>date_copy_2</th>\n      <th>zero_col</th>\n      <th>date_copy_3</th>\n      <th>one_col</th>\n    </tr>\n  </thead>\n  <tbody>\n    <tr>\n      <th>0</th>\n      <td>1981,Jan,01</td>\n      <td>20.7</td>\n      <td>1981-01-02</td>\n      <td>1980-12-31</td>\n      <td>0</td>\n      <td>1981-01-03</td>\n      <td>1</td>\n    </tr>\n    <tr>\n      <th>1</th>\n      <td>1981/02/Jan</td>\n      <td>17.9</td>\n      <td>1981-01-03</td>\n      <td>1981-01-01</td>\n      <td>0</td>\n      <td>1981-01-04</td>\n      <td>1</td>\n    </tr>\n    <tr>\n      <th>2</th>\n      <td>19810103</td>\n      <td>18.8</td>\n      <td>1981-01-04</td>\n      <td>1981-01-02</td>\n      <td>0</td>\n      <td>1981-01-05</td>\n      <td>1</td>\n    </tr>\n    <tr>\n      <th>3</th>\n      <td>1981-04-Jan</td>\n      <td>14.6</td>\n      <td>1981-01-05</td>\n      <td>1981-01-03</td>\n      <td>0</td>\n      <td>1981-01-06</td>\n      <td>1</td>\n    </tr>\n    <tr>\n      <th>4</th>\n      <td>1981,Jan,05</td>\n      <td>15.8</td>\n      <td>1981-01-06</td>\n      <td>1981-01-04</td>\n      <td>0</td>\n      <td>1981-01-07</td>\n      <td>1</td>\n    </tr>\n    <tr>\n      <th>...</th>\n      <td>...</td>\n      <td>...</td>\n      <td>...</td>\n      <td>...</td>\n      <td>...</td>\n      <td>...</td>\n      <td>...</td>\n    </tr>\n    <tr>\n      <th>3645</th>\n      <td>1990-27-Dec</td>\n      <td>14.0</td>\n      <td>1990-12-28</td>\n      <td>1990-12-26</td>\n      <td>0</td>\n      <td>1990-12-29</td>\n      <td>1</td>\n    </tr>\n    <tr>\n      <th>3646</th>\n      <td>1990-28-Dec</td>\n      <td>13.6</td>\n      <td>1990-12-29</td>\n      <td>1990-12-27</td>\n      <td>0</td>\n      <td>1990-12-30</td>\n      <td>1</td>\n    </tr>\n    <tr>\n      <th>3647</th>\n      <td>1990,Dec,29</td>\n      <td>13.5</td>\n      <td>1990-12-30</td>\n      <td>1990-12-28</td>\n      <td>0</td>\n      <td>1990-12-31</td>\n      <td>1</td>\n    </tr>\n    <tr>\n      <th>3648</th>\n      <td>1990/30/December</td>\n      <td>15.7</td>\n      <td>1990-12-31</td>\n      <td>1990-12-29</td>\n      <td>0</td>\n      <td>1991-01-01</td>\n      <td>1</td>\n    </tr>\n    <tr>\n      <th>3649</th>\n      <td>1990/31/December</td>\n      <td>13.0</td>\n      <td>1991-01-01</td>\n      <td>1990-12-30</td>\n      <td>0</td>\n      <td>1991-01-02</td>\n      <td>1</td>\n    </tr>\n  </tbody>\n</table>\n<p>3650 rows × 7 columns</p>\n</div>"
     },
     "metadata": {},
     "execution_count": 51
    }
   ],
   "source": [
    "res[0]"
   ]
  },
  {
   "cell_type": "code",
   "execution_count": 52,
   "metadata": {},
   "outputs": [
    {
     "output_type": "execute_result",
     "data": {
      "text/plain": [
       "('Date Formats',\n",
       " \"Date Formats used:\\n{0: ['%Y/%d/%B', '%Y-%d-%b', '%Y/%d/%b', '%Y,%b,%d', '%Y%m%d']}\",\n",
       " 0.044852256774902344)"
      ]
     },
     "metadata": {},
     "execution_count": 52
    }
   ],
   "source": [
    "date_format.get_history()"
   ]
  },
  {
   "cell_type": "code",
   "execution_count": 33,
   "metadata": {},
   "outputs": [],
   "source": [
    "datetime_format = DatetimeFormatStainer(col_idx = [0, 2, 3], num_format=3)"
   ]
  },
  {
   "cell_type": "code",
   "execution_count": 11,
   "metadata": {},
   "outputs": [],
   "source": [
    "rng = np.random.default_rng(42)\n",
    "res = datetime_format.transform(df3, rng)"
   ]
  },
  {
   "cell_type": "code",
   "execution_count": 12,
   "metadata": {},
   "outputs": [
    {
     "output_type": "execute_result",
     "data": {
      "text/plain": [
       "                           Date  Temp                  date_copy_1  \\\n",
       "0          1981,Jan,01 00:00:00  20.7       02, Jan, 1981 00:00:00   \n",
       "1          1981,Jan,02 00:00:00  17.9     03 January 1981 00:00:00   \n",
       "2      January/03/1981 00:00:00  18.8   04, January, 1981 00:00:00   \n",
       "3          Jan/04/1981 00:00:00  14.6     05 January 1981 00:00:00   \n",
       "4      January/05/1981 00:00:00  15.8       06, Jan, 1981 00:00:00   \n",
       "...                         ...   ...                          ...   \n",
       "3645  December/27/1990 00:00:00  14.0       28, Dec, 1990 00:00:00   \n",
       "3646  December/28/1990 00:00:00  13.6       29, Dec, 1990 00:00:00   \n",
       "3647  December/29/1990 00:00:00  13.5  30, December, 1990 00:00:00   \n",
       "3648       Dec/30/1990 00:00:00  15.7  31, December, 1990 00:00:00   \n",
       "3649  December/31/1990 00:00:00  13.0   01, January, 1991 00:00:00   \n",
       "\n",
       "                      date_copy_2  zero_col date_copy_3  one_col  \n",
       "0     1980, 31, December 00:00:00         0  1981-01-03        1  \n",
       "1            1981-Jan-01 00:00:00         0  1981-01-04        1  \n",
       "2            1981-Jan-02 00:00:00         0  1981-01-05        1  \n",
       "3      1981, 03, January 00:00:00         0  1981-01-06        1  \n",
       "4            1981-Jan-04 00:00:00         0  1981-01-07        1  \n",
       "...                           ...       ...         ...      ...  \n",
       "3645         1990-Dec-26 00:00:00         0  1990-12-29        1  \n",
       "3646         1990-Dec-27 00:00:00         0  1990-12-30        1  \n",
       "3647         1990-Dec-28 00:00:00         0  1990-12-31        1  \n",
       "3648         1990-Dec-29 00:00:00         0  1991-01-01        1  \n",
       "3649         1990-Dec-30 00:00:00         0  1991-01-02        1  \n",
       "\n",
       "[3650 rows x 7 columns]"
      ],
      "text/html": "<div>\n<style scoped>\n    .dataframe tbody tr th:only-of-type {\n        vertical-align: middle;\n    }\n\n    .dataframe tbody tr th {\n        vertical-align: top;\n    }\n\n    .dataframe thead th {\n        text-align: right;\n    }\n</style>\n<table border=\"1\" class=\"dataframe\">\n  <thead>\n    <tr style=\"text-align: right;\">\n      <th></th>\n      <th>Date</th>\n      <th>Temp</th>\n      <th>date_copy_1</th>\n      <th>date_copy_2</th>\n      <th>zero_col</th>\n      <th>date_copy_3</th>\n      <th>one_col</th>\n    </tr>\n  </thead>\n  <tbody>\n    <tr>\n      <th>0</th>\n      <td>1981,Jan,01 00:00:00</td>\n      <td>20.7</td>\n      <td>02, Jan, 1981 00:00:00</td>\n      <td>1980, 31, December 00:00:00</td>\n      <td>0</td>\n      <td>1981-01-03</td>\n      <td>1</td>\n    </tr>\n    <tr>\n      <th>1</th>\n      <td>1981,Jan,02 00:00:00</td>\n      <td>17.9</td>\n      <td>03 January 1981 00:00:00</td>\n      <td>1981-Jan-01 00:00:00</td>\n      <td>0</td>\n      <td>1981-01-04</td>\n      <td>1</td>\n    </tr>\n    <tr>\n      <th>2</th>\n      <td>January/03/1981 00:00:00</td>\n      <td>18.8</td>\n      <td>04, January, 1981 00:00:00</td>\n      <td>1981-Jan-02 00:00:00</td>\n      <td>0</td>\n      <td>1981-01-05</td>\n      <td>1</td>\n    </tr>\n    <tr>\n      <th>3</th>\n      <td>Jan/04/1981 00:00:00</td>\n      <td>14.6</td>\n      <td>05 January 1981 00:00:00</td>\n      <td>1981, 03, January 00:00:00</td>\n      <td>0</td>\n      <td>1981-01-06</td>\n      <td>1</td>\n    </tr>\n    <tr>\n      <th>4</th>\n      <td>January/05/1981 00:00:00</td>\n      <td>15.8</td>\n      <td>06, Jan, 1981 00:00:00</td>\n      <td>1981-Jan-04 00:00:00</td>\n      <td>0</td>\n      <td>1981-01-07</td>\n      <td>1</td>\n    </tr>\n    <tr>\n      <th>...</th>\n      <td>...</td>\n      <td>...</td>\n      <td>...</td>\n      <td>...</td>\n      <td>...</td>\n      <td>...</td>\n      <td>...</td>\n    </tr>\n    <tr>\n      <th>3645</th>\n      <td>December/27/1990 00:00:00</td>\n      <td>14.0</td>\n      <td>28, Dec, 1990 00:00:00</td>\n      <td>1990-Dec-26 00:00:00</td>\n      <td>0</td>\n      <td>1990-12-29</td>\n      <td>1</td>\n    </tr>\n    <tr>\n      <th>3646</th>\n      <td>December/28/1990 00:00:00</td>\n      <td>13.6</td>\n      <td>29, Dec, 1990 00:00:00</td>\n      <td>1990-Dec-27 00:00:00</td>\n      <td>0</td>\n      <td>1990-12-30</td>\n      <td>1</td>\n    </tr>\n    <tr>\n      <th>3647</th>\n      <td>December/29/1990 00:00:00</td>\n      <td>13.5</td>\n      <td>30, December, 1990 00:00:00</td>\n      <td>1990-Dec-28 00:00:00</td>\n      <td>0</td>\n      <td>1990-12-31</td>\n      <td>1</td>\n    </tr>\n    <tr>\n      <th>3648</th>\n      <td>Dec/30/1990 00:00:00</td>\n      <td>15.7</td>\n      <td>31, December, 1990 00:00:00</td>\n      <td>1990-Dec-29 00:00:00</td>\n      <td>0</td>\n      <td>1991-01-01</td>\n      <td>1</td>\n    </tr>\n    <tr>\n      <th>3649</th>\n      <td>December/31/1990 00:00:00</td>\n      <td>13.0</td>\n      <td>01, January, 1991 00:00:00</td>\n      <td>1990-Dec-30 00:00:00</td>\n      <td>0</td>\n      <td>1991-01-02</td>\n      <td>1</td>\n    </tr>\n  </tbody>\n</table>\n<p>3650 rows × 7 columns</p>\n</div>"
     },
     "metadata": {},
     "execution_count": 12
    }
   ],
   "source": [
    "res[0]"
   ]
  },
  {
   "cell_type": "code",
   "execution_count": 18,
   "metadata": {},
   "outputs": [],
   "source": [
    "date_split = DatetimeSplitStainer([0,2,3,5], keep_time = False, prob=0.75)\n",
    "datetime_split = DatetimeSplitStainer([0,2,3,5], keep_time = True, prob = 0.75)"
   ]
  },
  {
   "cell_type": "code",
   "execution_count": 19,
   "metadata": {},
   "outputs": [],
   "source": [
    "rng = np.random.default_rng(42)\n",
    "res = date_split.transform(df3, rng)"
   ]
  },
  {
   "cell_type": "code",
   "execution_count": 16,
   "metadata": {},
   "outputs": [
    {
     "output_type": "execute_result",
     "data": {
      "text/plain": [
       "           Date  Temp date_copy_1_day date_copy_1_month date_copy_1_year  \\\n",
       "0    1981-01-01  20.7              02           January               81   \n",
       "1    1981-01-02  17.9              03           January               81   \n",
       "2    1981-01-03  18.8              04           January               81   \n",
       "3    1981-01-04  14.6              05           January               81   \n",
       "4    1981-01-05  15.8              06           January               81   \n",
       "...         ...   ...             ...               ...              ...   \n",
       "3645 1990-12-27  14.0              28          December               90   \n",
       "3646 1990-12-28  13.6              29          December               90   \n",
       "3647 1990-12-29  13.5              30          December               90   \n",
       "3648 1990-12-30  15.7              31          December               90   \n",
       "3649 1990-12-31  13.0              01           January               91   \n",
       "\n",
       "     date_copy_2_day date_copy_2_month date_copy_2_year  zero_col date_copy_3  \\\n",
       "0                 31                12             1980         0  1981-01-03   \n",
       "1                 01                01             1981         0  1981-01-04   \n",
       "2                 02                01             1981         0  1981-01-05   \n",
       "3                 03                01             1981         0  1981-01-06   \n",
       "4                 04                01             1981         0  1981-01-07   \n",
       "...              ...               ...              ...       ...         ...   \n",
       "3645              26                12             1990         0  1990-12-29   \n",
       "3646              27                12             1990         0  1990-12-30   \n",
       "3647              28                12             1990         0  1990-12-31   \n",
       "3648              29                12             1990         0  1991-01-01   \n",
       "3649              30                12             1990         0  1991-01-02   \n",
       "\n",
       "      one_col  \n",
       "0           1  \n",
       "1           1  \n",
       "2           1  \n",
       "3           1  \n",
       "4           1  \n",
       "...       ...  \n",
       "3645        1  \n",
       "3646        1  \n",
       "3647        1  \n",
       "3648        1  \n",
       "3649        1  \n",
       "\n",
       "[3650 rows x 11 columns]"
      ],
      "text/html": "<div>\n<style scoped>\n    .dataframe tbody tr th:only-of-type {\n        vertical-align: middle;\n    }\n\n    .dataframe tbody tr th {\n        vertical-align: top;\n    }\n\n    .dataframe thead th {\n        text-align: right;\n    }\n</style>\n<table border=\"1\" class=\"dataframe\">\n  <thead>\n    <tr style=\"text-align: right;\">\n      <th></th>\n      <th>Date</th>\n      <th>Temp</th>\n      <th>date_copy_1_day</th>\n      <th>date_copy_1_month</th>\n      <th>date_copy_1_year</th>\n      <th>date_copy_2_day</th>\n      <th>date_copy_2_month</th>\n      <th>date_copy_2_year</th>\n      <th>zero_col</th>\n      <th>date_copy_3</th>\n      <th>one_col</th>\n    </tr>\n  </thead>\n  <tbody>\n    <tr>\n      <th>0</th>\n      <td>1981-01-01</td>\n      <td>20.7</td>\n      <td>02</td>\n      <td>January</td>\n      <td>81</td>\n      <td>31</td>\n      <td>12</td>\n      <td>1980</td>\n      <td>0</td>\n      <td>1981-01-03</td>\n      <td>1</td>\n    </tr>\n    <tr>\n      <th>1</th>\n      <td>1981-01-02</td>\n      <td>17.9</td>\n      <td>03</td>\n      <td>January</td>\n      <td>81</td>\n      <td>01</td>\n      <td>01</td>\n      <td>1981</td>\n      <td>0</td>\n      <td>1981-01-04</td>\n      <td>1</td>\n    </tr>\n    <tr>\n      <th>2</th>\n      <td>1981-01-03</td>\n      <td>18.8</td>\n      <td>04</td>\n      <td>January</td>\n      <td>81</td>\n      <td>02</td>\n      <td>01</td>\n      <td>1981</td>\n      <td>0</td>\n      <td>1981-01-05</td>\n      <td>1</td>\n    </tr>\n    <tr>\n      <th>3</th>\n      <td>1981-01-04</td>\n      <td>14.6</td>\n      <td>05</td>\n      <td>January</td>\n      <td>81</td>\n      <td>03</td>\n      <td>01</td>\n      <td>1981</td>\n      <td>0</td>\n      <td>1981-01-06</td>\n      <td>1</td>\n    </tr>\n    <tr>\n      <th>4</th>\n      <td>1981-01-05</td>\n      <td>15.8</td>\n      <td>06</td>\n      <td>January</td>\n      <td>81</td>\n      <td>04</td>\n      <td>01</td>\n      <td>1981</td>\n      <td>0</td>\n      <td>1981-01-07</td>\n      <td>1</td>\n    </tr>\n    <tr>\n      <th>...</th>\n      <td>...</td>\n      <td>...</td>\n      <td>...</td>\n      <td>...</td>\n      <td>...</td>\n      <td>...</td>\n      <td>...</td>\n      <td>...</td>\n      <td>...</td>\n      <td>...</td>\n      <td>...</td>\n    </tr>\n    <tr>\n      <th>3645</th>\n      <td>1990-12-27</td>\n      <td>14.0</td>\n      <td>28</td>\n      <td>December</td>\n      <td>90</td>\n      <td>26</td>\n      <td>12</td>\n      <td>1990</td>\n      <td>0</td>\n      <td>1990-12-29</td>\n      <td>1</td>\n    </tr>\n    <tr>\n      <th>3646</th>\n      <td>1990-12-28</td>\n      <td>13.6</td>\n      <td>29</td>\n      <td>December</td>\n      <td>90</td>\n      <td>27</td>\n      <td>12</td>\n      <td>1990</td>\n      <td>0</td>\n      <td>1990-12-30</td>\n      <td>1</td>\n    </tr>\n    <tr>\n      <th>3647</th>\n      <td>1990-12-29</td>\n      <td>13.5</td>\n      <td>30</td>\n      <td>December</td>\n      <td>90</td>\n      <td>28</td>\n      <td>12</td>\n      <td>1990</td>\n      <td>0</td>\n      <td>1990-12-31</td>\n      <td>1</td>\n    </tr>\n    <tr>\n      <th>3648</th>\n      <td>1990-12-30</td>\n      <td>15.7</td>\n      <td>31</td>\n      <td>December</td>\n      <td>90</td>\n      <td>29</td>\n      <td>12</td>\n      <td>1990</td>\n      <td>0</td>\n      <td>1991-01-01</td>\n      <td>1</td>\n    </tr>\n    <tr>\n      <th>3649</th>\n      <td>1990-12-31</td>\n      <td>13.0</td>\n      <td>01</td>\n      <td>January</td>\n      <td>91</td>\n      <td>30</td>\n      <td>12</td>\n      <td>1990</td>\n      <td>0</td>\n      <td>1991-01-02</td>\n      <td>1</td>\n    </tr>\n  </tbody>\n</table>\n<p>3650 rows × 11 columns</p>\n</div>"
     },
     "metadata": {},
     "execution_count": 16
    }
   ],
   "source": [
    "res[0]"
   ]
  },
  {
   "cell_type": "code",
   "execution_count": 20,
   "metadata": {},
   "outputs": [],
   "source": [
    "rng = np.random.default_rng(42)\n",
    "res = datetime_split.transform(df3, rng)"
   ]
  },
  {
   "cell_type": "code",
   "execution_count": 22,
   "metadata": {},
   "outputs": [
    {
     "output_type": "execute_result",
     "data": {
      "text/plain": [
       "           Date  Temp date_copy_1_day date_copy_1_month date_copy_1_year  \\\n",
       "0    1981-01-01  20.7              02           January               81   \n",
       "1    1981-01-02  17.9              03           January               81   \n",
       "2    1981-01-03  18.8              04           January               81   \n",
       "3    1981-01-04  14.6              05           January               81   \n",
       "4    1981-01-05  15.8              06           January               81   \n",
       "...         ...   ...             ...               ...              ...   \n",
       "3645 1990-12-27  14.0              28          December               90   \n",
       "3646 1990-12-28  13.6              29          December               90   \n",
       "3647 1990-12-29  13.5              30          December               90   \n",
       "3648 1990-12-30  15.7              31          December               90   \n",
       "3649 1990-12-31  13.0              01           January               91   \n",
       "\n",
       "     date_copy_1_hour date_copy_1_minute date_copy_1_second date_copy_2_day  \\\n",
       "0                  00                 00                 00              31   \n",
       "1                  00                 00                 00              01   \n",
       "2                  00                 00                 00              02   \n",
       "3                  00                 00                 00              03   \n",
       "4                  00                 00                 00              04   \n",
       "...               ...                ...                ...             ...   \n",
       "3645               00                 00                 00              26   \n",
       "3646               00                 00                 00              27   \n",
       "3647               00                 00                 00              28   \n",
       "3648               00                 00                 00              29   \n",
       "3649               00                 00                 00              30   \n",
       "\n",
       "     date_copy_2_month date_copy_2_year date_copy_2_hour date_copy_2_minute  \\\n",
       "0                   12             1980               00                 00   \n",
       "1                   01             1981               00                 00   \n",
       "2                   01             1981               00                 00   \n",
       "3                   01             1981               00                 00   \n",
       "4                   01             1981               00                 00   \n",
       "...                ...              ...              ...                ...   \n",
       "3645                12             1990               00                 00   \n",
       "3646                12             1990               00                 00   \n",
       "3647                12             1990               00                 00   \n",
       "3648                12             1990               00                 00   \n",
       "3649                12             1990               00                 00   \n",
       "\n",
       "     date_copy_2_second  zero_col date_copy_3  one_col  \n",
       "0                    00         0  1981-01-03        1  \n",
       "1                    00         0  1981-01-04        1  \n",
       "2                    00         0  1981-01-05        1  \n",
       "3                    00         0  1981-01-06        1  \n",
       "4                    00         0  1981-01-07        1  \n",
       "...                 ...       ...         ...      ...  \n",
       "3645                 00         0  1990-12-29        1  \n",
       "3646                 00         0  1990-12-30        1  \n",
       "3647                 00         0  1990-12-31        1  \n",
       "3648                 00         0  1991-01-01        1  \n",
       "3649                 00         0  1991-01-02        1  \n",
       "\n",
       "[3650 rows x 17 columns]"
      ],
      "text/html": "<div>\n<style scoped>\n    .dataframe tbody tr th:only-of-type {\n        vertical-align: middle;\n    }\n\n    .dataframe tbody tr th {\n        vertical-align: top;\n    }\n\n    .dataframe thead th {\n        text-align: right;\n    }\n</style>\n<table border=\"1\" class=\"dataframe\">\n  <thead>\n    <tr style=\"text-align: right;\">\n      <th></th>\n      <th>Date</th>\n      <th>Temp</th>\n      <th>date_copy_1_day</th>\n      <th>date_copy_1_month</th>\n      <th>date_copy_1_year</th>\n      <th>date_copy_1_hour</th>\n      <th>date_copy_1_minute</th>\n      <th>date_copy_1_second</th>\n      <th>date_copy_2_day</th>\n      <th>date_copy_2_month</th>\n      <th>date_copy_2_year</th>\n      <th>date_copy_2_hour</th>\n      <th>date_copy_2_minute</th>\n      <th>date_copy_2_second</th>\n      <th>zero_col</th>\n      <th>date_copy_3</th>\n      <th>one_col</th>\n    </tr>\n  </thead>\n  <tbody>\n    <tr>\n      <th>0</th>\n      <td>1981-01-01</td>\n      <td>20.7</td>\n      <td>02</td>\n      <td>January</td>\n      <td>81</td>\n      <td>00</td>\n      <td>00</td>\n      <td>00</td>\n      <td>31</td>\n      <td>12</td>\n      <td>1980</td>\n      <td>00</td>\n      <td>00</td>\n      <td>00</td>\n      <td>0</td>\n      <td>1981-01-03</td>\n      <td>1</td>\n    </tr>\n    <tr>\n      <th>1</th>\n      <td>1981-01-02</td>\n      <td>17.9</td>\n      <td>03</td>\n      <td>January</td>\n      <td>81</td>\n      <td>00</td>\n      <td>00</td>\n      <td>00</td>\n      <td>01</td>\n      <td>01</td>\n      <td>1981</td>\n      <td>00</td>\n      <td>00</td>\n      <td>00</td>\n      <td>0</td>\n      <td>1981-01-04</td>\n      <td>1</td>\n    </tr>\n    <tr>\n      <th>2</th>\n      <td>1981-01-03</td>\n      <td>18.8</td>\n      <td>04</td>\n      <td>January</td>\n      <td>81</td>\n      <td>00</td>\n      <td>00</td>\n      <td>00</td>\n      <td>02</td>\n      <td>01</td>\n      <td>1981</td>\n      <td>00</td>\n      <td>00</td>\n      <td>00</td>\n      <td>0</td>\n      <td>1981-01-05</td>\n      <td>1</td>\n    </tr>\n    <tr>\n      <th>3</th>\n      <td>1981-01-04</td>\n      <td>14.6</td>\n      <td>05</td>\n      <td>January</td>\n      <td>81</td>\n      <td>00</td>\n      <td>00</td>\n      <td>00</td>\n      <td>03</td>\n      <td>01</td>\n      <td>1981</td>\n      <td>00</td>\n      <td>00</td>\n      <td>00</td>\n      <td>0</td>\n      <td>1981-01-06</td>\n      <td>1</td>\n    </tr>\n    <tr>\n      <th>4</th>\n      <td>1981-01-05</td>\n      <td>15.8</td>\n      <td>06</td>\n      <td>January</td>\n      <td>81</td>\n      <td>00</td>\n      <td>00</td>\n      <td>00</td>\n      <td>04</td>\n      <td>01</td>\n      <td>1981</td>\n      <td>00</td>\n      <td>00</td>\n      <td>00</td>\n      <td>0</td>\n      <td>1981-01-07</td>\n      <td>1</td>\n    </tr>\n    <tr>\n      <th>...</th>\n      <td>...</td>\n      <td>...</td>\n      <td>...</td>\n      <td>...</td>\n      <td>...</td>\n      <td>...</td>\n      <td>...</td>\n      <td>...</td>\n      <td>...</td>\n      <td>...</td>\n      <td>...</td>\n      <td>...</td>\n      <td>...</td>\n      <td>...</td>\n      <td>...</td>\n      <td>...</td>\n      <td>...</td>\n    </tr>\n    <tr>\n      <th>3645</th>\n      <td>1990-12-27</td>\n      <td>14.0</td>\n      <td>28</td>\n      <td>December</td>\n      <td>90</td>\n      <td>00</td>\n      <td>00</td>\n      <td>00</td>\n      <td>26</td>\n      <td>12</td>\n      <td>1990</td>\n      <td>00</td>\n      <td>00</td>\n      <td>00</td>\n      <td>0</td>\n      <td>1990-12-29</td>\n      <td>1</td>\n    </tr>\n    <tr>\n      <th>3646</th>\n      <td>1990-12-28</td>\n      <td>13.6</td>\n      <td>29</td>\n      <td>December</td>\n      <td>90</td>\n      <td>00</td>\n      <td>00</td>\n      <td>00</td>\n      <td>27</td>\n      <td>12</td>\n      <td>1990</td>\n      <td>00</td>\n      <td>00</td>\n      <td>00</td>\n      <td>0</td>\n      <td>1990-12-30</td>\n      <td>1</td>\n    </tr>\n    <tr>\n      <th>3647</th>\n      <td>1990-12-29</td>\n      <td>13.5</td>\n      <td>30</td>\n      <td>December</td>\n      <td>90</td>\n      <td>00</td>\n      <td>00</td>\n      <td>00</td>\n      <td>28</td>\n      <td>12</td>\n      <td>1990</td>\n      <td>00</td>\n      <td>00</td>\n      <td>00</td>\n      <td>0</td>\n      <td>1990-12-31</td>\n      <td>1</td>\n    </tr>\n    <tr>\n      <th>3648</th>\n      <td>1990-12-30</td>\n      <td>15.7</td>\n      <td>31</td>\n      <td>December</td>\n      <td>90</td>\n      <td>00</td>\n      <td>00</td>\n      <td>00</td>\n      <td>29</td>\n      <td>12</td>\n      <td>1990</td>\n      <td>00</td>\n      <td>00</td>\n      <td>00</td>\n      <td>0</td>\n      <td>1991-01-01</td>\n      <td>1</td>\n    </tr>\n    <tr>\n      <th>3649</th>\n      <td>1990-12-31</td>\n      <td>13.0</td>\n      <td>01</td>\n      <td>January</td>\n      <td>91</td>\n      <td>00</td>\n      <td>00</td>\n      <td>00</td>\n      <td>30</td>\n      <td>12</td>\n      <td>1990</td>\n      <td>00</td>\n      <td>00</td>\n      <td>00</td>\n      <td>0</td>\n      <td>1991-01-02</td>\n      <td>1</td>\n    </tr>\n  </tbody>\n</table>\n<p>3650 rows × 17 columns</p>\n</div>"
     },
     "metadata": {},
     "execution_count": 22
    }
   ],
   "source": [
    "res[0]"
   ]
  },
  {
   "cell_type": "code",
   "execution_count": 21,
   "metadata": {},
   "outputs": [
    {
     "output_type": "execute_result",
     "data": {
      "text/plain": [
       "('Date Split',\n",
       " 'Split the following date columns: date_copy_1, date_copy_2',\n",
       " 0.14164233207702637)"
      ]
     },
     "metadata": {},
     "execution_count": 21
    }
   ],
   "source": [
    "date_split.get_history()"
   ]
  },
  {
   "cell_type": "code",
   "execution_count": 37,
   "metadata": {},
   "outputs": [
    {
     "data": {
      "text/plain": [
       "array([[1., 0., 0., 0., 0., 0., 0., 0., 0., 0., 0.],\n",
       "       [0., 1., 0., 0., 0., 0., 0., 0., 0., 0., 0.],\n",
       "       [0., 0., 1., 1., 1., 0., 0., 0., 0., 0., 0.],\n",
       "       [0., 0., 0., 0., 0., 1., 1., 1., 0., 0., 0.],\n",
       "       [0., 0., 0., 0., 0., 0., 0., 0., 1., 0., 0.],\n",
       "       [0., 0., 0., 0., 0., 0., 0., 0., 0., 1., 0.],\n",
       "       [0., 0., 0., 0., 0., 0., 0., 0., 0., 0., 1.]])"
      ]
     },
     "execution_count": 37,
     "metadata": {},
     "output_type": "execute_result"
    }
   ],
   "source": [
    "res[2]"
   ]
  },
  {
   "cell_type": "code",
   "execution_count": 38,
   "metadata": {},
   "outputs": [
    {
     "data": {
      "text/plain": [
       "array([[1., 0., 0., 0., 0., 0.],\n",
       "       [0., 1., 1., 0., 0., 0.],\n",
       "       [0., 0., 0., 1., 1., 0.],\n",
       "       [0., 0., 0., 0., 0., 0.],\n",
       "       [0., 0., 0., 0., 0., 1.]])"
      ]
     },
     "execution_count": 38,
     "metadata": {},
     "output_type": "execute_result"
    }
   ],
   "source": [
    "Stainer.convert_mapper_dct_to_array({0:[0], 1:[1,2], 2:[3,4], 3:[], 4:[5]})"
   ]
  },
  {
   "source": [
    "# BinningStainer"
   ],
   "cell_type": "markdown",
   "metadata": {}
  },
  {
   "cell_type": "code",
   "execution_count": 53,
   "metadata": {},
   "outputs": [],
   "source": [
    "df4 = pd.DataFrame({\"idx1\": np.random.rand(100), \"idx2\": np.sort(np.random.rand(100))})"
   ]
  },
  {
   "cell_type": "code",
   "execution_count": 54,
   "metadata": {},
   "outputs": [],
   "source": [
    "i=0\n",
    "for col in df4.columns:\n",
    "    df4.loc[df4.sample(frac=0.15, random_state = i).index, col] = np.nan\n",
    "    i += 10"
   ]
  },
  {
   "cell_type": "code",
   "execution_count": 55,
   "metadata": {},
   "outputs": [
    {
     "output_type": "execute_result",
     "data": {
      "text/plain": [
       "        idx1      idx2\n",
       "0   0.419831  0.003535\n",
       "1   0.328642       NaN\n",
       "2        NaN       NaN\n",
       "3   0.569462       NaN\n",
       "4   0.115702  0.027550\n",
       "5   0.546893  0.038613\n",
       "6   0.344285  0.050190\n",
       "7        NaN  0.055147\n",
       "8   0.397974  0.063638\n",
       "9   0.574699  0.069837\n",
       "10  0.307096  0.087656\n",
       "11  0.442323  0.092387\n",
       "12  0.361652  0.104233\n",
       "13       NaN  0.105355\n",
       "14  0.626470       NaN"
      ],
      "text/html": "<div>\n<style scoped>\n    .dataframe tbody tr th:only-of-type {\n        vertical-align: middle;\n    }\n\n    .dataframe tbody tr th {\n        vertical-align: top;\n    }\n\n    .dataframe thead th {\n        text-align: right;\n    }\n</style>\n<table border=\"1\" class=\"dataframe\">\n  <thead>\n    <tr style=\"text-align: right;\">\n      <th></th>\n      <th>idx1</th>\n      <th>idx2</th>\n    </tr>\n  </thead>\n  <tbody>\n    <tr>\n      <th>0</th>\n      <td>0.419831</td>\n      <td>0.003535</td>\n    </tr>\n    <tr>\n      <th>1</th>\n      <td>0.328642</td>\n      <td>NaN</td>\n    </tr>\n    <tr>\n      <th>2</th>\n      <td>NaN</td>\n      <td>NaN</td>\n    </tr>\n    <tr>\n      <th>3</th>\n      <td>0.569462</td>\n      <td>NaN</td>\n    </tr>\n    <tr>\n      <th>4</th>\n      <td>0.115702</td>\n      <td>0.027550</td>\n    </tr>\n    <tr>\n      <th>5</th>\n      <td>0.546893</td>\n      <td>0.038613</td>\n    </tr>\n    <tr>\n      <th>6</th>\n      <td>0.344285</td>\n      <td>0.050190</td>\n    </tr>\n    <tr>\n      <th>7</th>\n      <td>NaN</td>\n      <td>0.055147</td>\n    </tr>\n    <tr>\n      <th>8</th>\n      <td>0.397974</td>\n      <td>0.063638</td>\n    </tr>\n    <tr>\n      <th>9</th>\n      <td>0.574699</td>\n      <td>0.069837</td>\n    </tr>\n    <tr>\n      <th>10</th>\n      <td>0.307096</td>\n      <td>0.087656</td>\n    </tr>\n    <tr>\n      <th>11</th>\n      <td>0.442323</td>\n      <td>0.092387</td>\n    </tr>\n    <tr>\n      <th>12</th>\n      <td>0.361652</td>\n      <td>0.104233</td>\n    </tr>\n    <tr>\n      <th>13</th>\n      <td>NaN</td>\n      <td>0.105355</td>\n    </tr>\n    <tr>\n      <th>14</th>\n      <td>0.626470</td>\n      <td>NaN</td>\n    </tr>\n  </tbody>\n</table>\n</div>"
     },
     "metadata": {},
     "execution_count": 55
    }
   ],
   "source": [
    "df4.head(15)"
   ]
  },
  {
   "cell_type": "code",
   "execution_count": 56,
   "metadata": {},
   "outputs": [],
   "source": [
    "binner = BinningStainer([0,1])"
   ]
  },
  {
   "cell_type": "code",
   "execution_count": 57,
   "metadata": {},
   "outputs": [],
   "source": [
    "rng = np.random.default_rng(42)\n",
    "res = binner.transform(df4, rng)"
   ]
  },
  {
   "cell_type": "code",
   "execution_count": 58,
   "metadata": {},
   "outputs": [
    {
     "output_type": "execute_result",
     "data": {
      "text/plain": [
       "                  idx1                idx2\n",
       "0     [0.1994, 0.4423)  [0.9784, 0.003535)\n",
       "1     [0.1994, 0.4423)                 NaN\n",
       "2                  NaN                 NaN\n",
       "3     [0.4423, 0.6265)                 NaN\n",
       "4   [0.001575, 0.1994)  [0.003535, 0.1942)\n",
       "5     [0.4423, 0.6265)  [0.003535, 0.1942)\n",
       "6     [0.1994, 0.4423)  [0.003535, 0.1942)\n",
       "7                  NaN  [0.003535, 0.1942)\n",
       "8     [0.1994, 0.4423)  [0.003535, 0.1942)\n",
       "9     [0.4423, 0.6265)  [0.003535, 0.1942)\n",
       "10    [0.1994, 0.4423)  [0.003535, 0.1942)\n",
       "11    [0.4423, 0.6265)  [0.003535, 0.1942)\n",
       "12    [0.1994, 0.4423)  [0.003535, 0.1942)\n",
       "13                 NaN  [0.003535, 0.1942)\n",
       "14    [0.4423, 0.6265)                 NaN"
      ],
      "text/html": "<div>\n<style scoped>\n    .dataframe tbody tr th:only-of-type {\n        vertical-align: middle;\n    }\n\n    .dataframe tbody tr th {\n        vertical-align: top;\n    }\n\n    .dataframe thead th {\n        text-align: right;\n    }\n</style>\n<table border=\"1\" class=\"dataframe\">\n  <thead>\n    <tr style=\"text-align: right;\">\n      <th></th>\n      <th>idx1</th>\n      <th>idx2</th>\n    </tr>\n  </thead>\n  <tbody>\n    <tr>\n      <th>0</th>\n      <td>[0.1994, 0.4423)</td>\n      <td>[0.9784, 0.003535)</td>\n    </tr>\n    <tr>\n      <th>1</th>\n      <td>[0.1994, 0.4423)</td>\n      <td>NaN</td>\n    </tr>\n    <tr>\n      <th>2</th>\n      <td>NaN</td>\n      <td>NaN</td>\n    </tr>\n    <tr>\n      <th>3</th>\n      <td>[0.4423, 0.6265)</td>\n      <td>NaN</td>\n    </tr>\n    <tr>\n      <th>4</th>\n      <td>[0.001575, 0.1994)</td>\n      <td>[0.003535, 0.1942)</td>\n    </tr>\n    <tr>\n      <th>5</th>\n      <td>[0.4423, 0.6265)</td>\n      <td>[0.003535, 0.1942)</td>\n    </tr>\n    <tr>\n      <th>6</th>\n      <td>[0.1994, 0.4423)</td>\n      <td>[0.003535, 0.1942)</td>\n    </tr>\n    <tr>\n      <th>7</th>\n      <td>NaN</td>\n      <td>[0.003535, 0.1942)</td>\n    </tr>\n    <tr>\n      <th>8</th>\n      <td>[0.1994, 0.4423)</td>\n      <td>[0.003535, 0.1942)</td>\n    </tr>\n    <tr>\n      <th>9</th>\n      <td>[0.4423, 0.6265)</td>\n      <td>[0.003535, 0.1942)</td>\n    </tr>\n    <tr>\n      <th>10</th>\n      <td>[0.1994, 0.4423)</td>\n      <td>[0.003535, 0.1942)</td>\n    </tr>\n    <tr>\n      <th>11</th>\n      <td>[0.4423, 0.6265)</td>\n      <td>[0.003535, 0.1942)</td>\n    </tr>\n    <tr>\n      <th>12</th>\n      <td>[0.1994, 0.4423)</td>\n      <td>[0.003535, 0.1942)</td>\n    </tr>\n    <tr>\n      <th>13</th>\n      <td>NaN</td>\n      <td>[0.003535, 0.1942)</td>\n    </tr>\n    <tr>\n      <th>14</th>\n      <td>[0.4423, 0.6265)</td>\n      <td>NaN</td>\n    </tr>\n  </tbody>\n</table>\n</div>"
     },
     "metadata": {},
     "execution_count": 58
    }
   ],
   "source": [
    "res[0].head(15)"
   ]
  },
  {
   "cell_type": "code",
   "execution_count": 59,
   "metadata": {},
   "outputs": [
    {
     "output_type": "execute_result",
     "data": {
      "text/plain": [
       "('Binning',\n",
       " 'Binning using the following cutpoints:\\n{0: [0.001575, 0.1994, 0.4423, 0.6265, 0.7707, 0.9905], 1: [0.003535, 0.1942, 0.3181, 0.6002, 0.801, 0.9784]}',\n",
       " 0.00395655632019043)"
      ]
     },
     "metadata": {},
     "execution_count": 59
    }
   ],
   "source": [
    "binner.get_history()"
   ]
  }
 ],
 "metadata": {
  "kernelspec": {
   "name": "python3",
   "display_name": "Python 3.9.1 64-bit ('datagen': conda)",
   "metadata": {
    "interpreter": {
     "hash": "36ad7f85f2583384207af2f06bd604648fb45a1b3811e0f93255ef5fe4e76aa5"
    }
   }
  },
  "language_info": {
   "codemirror_mode": {
    "name": "ipython",
    "version": 3
   },
   "file_extension": ".py",
   "mimetype": "text/x-python",
   "name": "python",
   "nbconvert_exporter": "python",
   "pygments_lexer": "ipython3",
   "version": "3.9.1-final"
  }
 },
 "nbformat": 4,
 "nbformat_minor": 4
}