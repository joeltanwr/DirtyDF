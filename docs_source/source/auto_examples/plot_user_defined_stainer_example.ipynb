{
  "cells": [
    {
      "cell_type": "code",
      "execution_count": null,
      "metadata": {
        "collapsed": false
      },
      "outputs": [],
      "source": [
        "%matplotlib inline"
      ]
    },
    {
      "cell_type": "markdown",
      "metadata": {},
      "source": [
        "\n# User-defined Custom Stainers\n\nThis page shows an example of how to create your own user-defined custom stainers, which subclasses from the Stainer class.\n"
      ]
    },
    {
      "cell_type": "code",
      "execution_count": null,
      "metadata": {
        "collapsed": false
      },
      "outputs": [],
      "source": [
        "from ddf.stainer import Stainer"
      ]
    },
    {
      "cell_type": "markdown",
      "metadata": {},
      "source": [
        "When creating a new stainer, it needs to inherit from the Stainer class in\nddf.stainer.\n\n"
      ]
    },
    {
      "cell_type": "markdown",
      "metadata": {},
      "source": [
        "The initialisation should include the name, row indices (if applicable) and\ncolumn indices (if applicable). If any other relevant initialisations are\nrequired, they can be included as well.\nIf the row or column indices do not apply to the stainer,\nan empty list can be provided to the superclass init.\n\n"
      ]
    },
    {
      "cell_type": "markdown",
      "metadata": {},
      "source": [
        "When defining the transform, the parameters to be included should be\ndf (the dataframe to be transformed), rng (a RNG Generator), row_idx = None and\ncol_idx = None.\n\n"
      ]
    },
    {
      "cell_type": "markdown",
      "metadata": {},
      "source": [
        "In the transform method, the self._init_transform(df, row_idx, col_idx) method\ncan be called to accurately generate the row_idx and col_idx (This allows\nthe Stainer to work correctly with DDF). The transform method should then\nimplement the Stainer.\n\n"
      ]
    },
    {
      "cell_type": "markdown",
      "metadata": {},
      "source": [
        "To provide relevant statistics to the user, messages and timings can be added.\nThese can be added via self.update_history(message, time)\n\n"
      ]
    },
    {
      "cell_type": "markdown",
      "metadata": {},
      "source": [
        "A row mapping and column mapping are also required. These represent a movement\nor creation of any row / col in the dataframe. It should be formatted as a\ndictionary where key = old_row/col_index, value = List of indices of where the \ncorresponding row/col ended up in the new dataframe. For instance, if the \nindex-2 row was duplicated and is now the index-2 and index-3 row,\nthe row_map should contain the entry {2: [2, 3]}. If the rows/columns order\nwere not altered, an empty dictionary should be returned.\n\n"
      ]
    },
    {
      "cell_type": "markdown",
      "metadata": {},
      "source": [
        "The transform function should return a tuple of the new dataframe, row mapping,\nand the column mapping.\n\n"
      ]
    },
    {
      "cell_type": "markdown",
      "metadata": {},
      "source": [
        "Refer to the sample code below for an example. \n\n"
      ]
    },
    {
      "cell_type": "code",
      "execution_count": null,
      "metadata": {
        "collapsed": false
      },
      "outputs": [],
      "source": [
        "class ShuffleStainer(Stainer):\n    def __init__(self, name = \"Shuffle\"):   \n        super().__init__(name, [], [])  # name, row_idx, col_idx\n        \n    def transform(self, df, rng, row_idx = None, col_idx = None):\n        new_df, row_idx, col_idx = self._init_transform(df, row_idx, col_idx)\n\n        start = time()\n\n        \"\"\"\n        ## Implementation of Shuffle ##\n        Creates new_df\n        Creates new_idx = Original row numbers, in order of the new row numbers\n        \"\"\"\n        pass \n\n\n        \"\"\"Creates the mapping\"\"\"\n        row_map = {}\n        for i in range(df.shape[0]):\n            row_map[new_idx[i]] = [i]\n\n        end = time() # Timer to be added into history\n        self.update_history(\"Order of rows randomized\", end - start) # message, time\n        return new_df, row_map, {} # new dataframe, row map, column map"
      ]
    }
  ],
  "metadata": {
    "kernelspec": {
      "display_name": "Python 3",
      "language": "python",
      "name": "python3"
    },
    "language_info": {
      "codemirror_mode": {
        "name": "ipython",
        "version": 3
      },
      "file_extension": ".py",
      "mimetype": "text/x-python",
      "name": "python",
      "nbconvert_exporter": "python",
      "pygments_lexer": "ipython3",
      "version": "3.9.1"
    }
  },
  "nbformat": 4,
  "nbformat_minor": 0
}