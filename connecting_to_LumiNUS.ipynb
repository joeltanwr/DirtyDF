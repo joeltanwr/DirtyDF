{
 "cells": [
  {
   "cell_type": "markdown",
   "metadata": {},
   "source": [
    "# Overview\n",
    "\n",
    "The overall steps are the following:\n",
    "\n",
    "1. Run a local https server for the application (dataUploader)\n",
    "2. Click on the vafs link below to obtain a code.\n",
    "3. Send this code to LumiNUS to exchange for an access token.\n",
    "4. Use the access token within the LumiNUS API queries.\n",
    "\n",
    "The above workflow ensures that the access token used corresponds to the permissions and privileges of the authenticated users. Anyone can use the dataUploader, but what they can do with it depends on their accorded permissions with LumiNUS."
   ]
  },
  {
   "cell_type": "markdown",
   "metadata": {},
   "source": [
    "# Setting up https server\n",
    "\n",
    "In order to set up a local https server (as opposed to a http server), we need some self-signed certificates. Follow the instructions [here](https://codeburst.io/running-local-development-server-on-https-c3f80197ac4f) if you wish to generate your own certificates.\n",
    "\n",
    "If you don't wish to generate your own, just use the ones in the repo."
   ]
  },
  {
   "cell_type": "code",
   "execution_count": 200,
   "metadata": {},
   "outputs": [],
   "source": [
    "from http.server import HTTPServer,BaseHTTPRequestHandler\n",
    "import ssl, threading, ast\n",
    "import ipywidgets as widgets\n",
    "import http.client, urllib.request, urllib.parse, urllib.error, base64"
   ]
  },
  {
   "cell_type": "code",
   "execution_count": 179,
   "metadata": {},
   "outputs": [],
   "source": [
    "class SimpleHTTPRequestHandler(BaseHTTPRequestHandler):\n",
    "\n",
    "    def do_GET(self):\n",
    "        self.send_response(200)\n",
    "        self.end_headers()\n",
    "        #print(\"Hello\")\n",
    "        #print(self.headers.keys())\n",
    "        print(self.requestline)\n",
    "        self.wfile.write(b'Hello, world! Https server is working!')"
   ]
  },
  {
   "cell_type": "code",
   "execution_count": 180,
   "metadata": {},
   "outputs": [],
   "source": [
    "httpd = HTTPServer(('localhost', 8080), SimpleHTTPRequestHandler)\n",
    "httpd.allow_reuse_address = True\n",
    "\n",
    "httpd.socket = ssl.wrap_socket(httpd.socket, keyfile = \"cert_stuff/key.pem\",\n",
    "                               certfile=\"cert_stuff/cert.pem\", server_side=True)"
   ]
  },
  {
   "cell_type": "code",
   "execution_count": 181,
   "metadata": {},
   "outputs": [
    {
     "name": "stderr",
     "output_type": "stream",
     "text": [
      "127.0.0.1 - - [13/Mar/2021 23:47:48] \"GET /dataUploader?code=9RRlpckOCken5eIsfqavzQ.cjJUWjfm2Aj0K7hQJTZXCtrPwiA.U9t29PnbFoLJFYvXA2-qoiRFPlIG8jytZe3mARBCi4QCyR_o_gZx8SI4ku3kI_1nCRHy0rYCm9LWKSgDR4uGG7vFfRnBMHimdg-nCq8LI5CxUluyxUQMFfIAdKyU9eIt9-J2rNbI_2HZS-hUQ9hHLnkDZpU8zVfPeCUUkTtzmxBNMkoem7Auai5q-bYY-vBeDlG36pqgZZ6DlRWF4HO3t2t_hI7quvuBGzCGZOpw4Wd1G0FYEDAyhQnF34nH_qGpWpCY8Aanim4zlweGut0W3psAqOrBzfj_budxUkSHxtZDZUZ7SjDWzNUIe8CSrixc8itfVjr4L-gpac0w0edkBg HTTP/1.1\" 200 -\n"
     ]
    },
    {
     "name": "stdout",
     "output_type": "stream",
     "text": [
      "GET /dataUploader?code=9RRlpckOCken5eIsfqavzQ.cjJUWjfm2Aj0K7hQJTZXCtrPwiA.U9t29PnbFoLJFYvXA2-qoiRFPlIG8jytZe3mARBCi4QCyR_o_gZx8SI4ku3kI_1nCRHy0rYCm9LWKSgDR4uGG7vFfRnBMHimdg-nCq8LI5CxUluyxUQMFfIAdKyU9eIt9-J2rNbI_2HZS-hUQ9hHLnkDZpU8zVfPeCUUkTtzmxBNMkoem7Auai5q-bYY-vBeDlG36pqgZZ6DlRWF4HO3t2t_hI7quvuBGzCGZOpw4Wd1G0FYEDAyhQnF34nH_qGpWpCY8Aanim4zlweGut0W3psAqOrBzfj_budxUkSHxtZDZUZ7SjDWzNUIe8CSrixc8itfVjr4L-gpac0w0edkBg HTTP/1.1\n"
     ]
    }
   ],
   "source": [
    "t1  = threading.Thread(target=httpd.serve_forever, daemon=True)\n",
    "\n",
    "try:\n",
    "    #httpd.serve_forever()\n",
    "    t1.run()\n",
    "except KeyboardInterrupt:\n",
    "    httpd.shutdown()\n",
    "finally:\n",
    "    httpd.server_close()\n",
    "    \n",
    "# Use I I to send the keyboard interrupt signal"
   ]
  },
  {
   "cell_type": "markdown",
   "metadata": {},
   "source": [
    "While the server is running, click on this link to authenticate with LumiNUS:\n",
    "\n",
    "[Authentication link](https://vafs.nus.edu.sg/adfs/oauth2/authorize?response_type=code&client_id=INC000002292056&redirect_uri=https://localhost:8080/dataUploader&resource=sg_edu_nus_oauth)\n",
    "\n",
    "The code will be returned to the server above. Copy the code and save it using the widget below. You can kill the http server now."
   ]
  },
  {
   "cell_type": "markdown",
   "metadata": {},
   "source": [
    "# Extracting code"
   ]
  },
  {
   "cell_type": "code",
   "execution_count": 197,
   "metadata": {},
   "outputs": [
    {
     "data": {
      "application/vnd.jupyter.widget-view+json": {
       "model_id": "7c3d4cdb094b4f1c89d456de74b4a005",
       "version_major": 2,
       "version_minor": 0
      },
      "text/plain": [
       "Text(value='', description='code:', placeholder='Paste code here')"
      ]
     },
     "metadata": {},
     "output_type": "display_data"
    }
   ],
   "source": [
    "code = widgets.Text(value='', placeholder='Paste code here', description='code:')\n",
    "code"
   ]
  },
  {
   "cell_type": "markdown",
   "metadata": {},
   "source": [
    "# Exchanging for Token\n",
    "\n",
    "The next step is to use the code value to exchange for a token which can then be used with the API. The corresponding help page on the developer API is this [one](https://luminus.portal.azure-api.net/docs/services/Login/operations/GetADFSAccessToken?)."
   ]
  },
  {
   "cell_type": "code",
   "execution_count": 184,
   "metadata": {},
   "outputs": [],
   "source": [
    "headers = {\n",
    "    'Ocp-Apim-Subscription-Key': 'e02ac553a8ed4da7a3762fc8195b4db0',\n",
    "    'Content-Type': 'application/x-www-form-urlencoded'\n",
    "}"
   ]
  },
  {
   "cell_type": "code",
   "execution_count": 185,
   "metadata": {},
   "outputs": [],
   "source": [
    "body = 'grant_type=authorization_code&client_id=INC000002292056&resource=sg_edu_nus_oauth&code=' + \\\n",
    "       code.value + '&redirect_uri=https://localhost:8080/dataUploader'\n",
    "# body"
   ]
  },
  {
   "cell_type": "code",
   "execution_count": 187,
   "metadata": {},
   "outputs": [],
   "source": [
    "conn = http.client.HTTPSConnection('luminus.azure-api.net')\n",
    "conn.request(\"POST\", \"/login/ADFSToken\", body, headers)\n",
    "response = conn.getresponse()\n",
    "data = response.read()\n",
    "#print(data)"
   ]
  },
  {
   "cell_type": "code",
   "execution_count": 203,
   "metadata": {},
   "outputs": [],
   "source": [
    "data_dict = ast.literal_eval(data.decode(\"UTF-8\"))\n",
    "a_token = data_dict[\"access_token\"]"
   ]
  },
  {
   "cell_type": "markdown",
   "metadata": {},
   "source": [
    "# Calling LumiNUS API\n",
    "\n",
    "\n",
    "## Getting User Profile\n",
    "\n",
    "The reference page for this request is [this one](https://luminus.portal.azure-api.net/docs/services/User/operations/GetMyProfile/console)."
   ]
  },
  {
   "cell_type": "code",
   "execution_count": 216,
   "metadata": {},
   "outputs": [],
   "source": [
    "headers = {\n",
    "    # Request headers\n",
    "    'Ocp-Apim-Subscription-Key': 'e02ac553a8ed4da7a3762fc8195b4db0',\n",
    "    'Content-Type': 'application/json',\n",
    "    'Authorization': f'Bearer {a_token}'\n",
    "}"
   ]
  },
  {
   "cell_type": "code",
   "execution_count": 217,
   "metadata": {},
   "outputs": [],
   "source": [
    "conn = http.client.HTTPSConnection('luminus.azure-api.net')\n",
    "# conn.request(\"GET\", \"/user/Profile?%s\" % params, \"{body}\", headers)\n",
    "conn.request(\"GET\", \"/user/Profile\", headers=headers)\n",
    "response = conn.getresponse()\n",
    "data = response.read()"
   ]
  },
  {
   "cell_type": "code",
   "execution_count": 227,
   "metadata": {},
   "outputs": [],
   "source": [
    "data_dict = ast.literal_eval(data.decode('UTF-8').replace('true', 'True'))"
   ]
  },
  {
   "cell_type": "code",
   "execution_count": 228,
   "metadata": {},
   "outputs": [
    {
     "data": {
      "text/plain": [
       "{'id': '40eb7a34-798c-4f7e-bb18-83f69d8c7266',\n",
       " 'userID': 'stavg',\n",
       " 'userName': 'Vik',\n",
       " 'userNameOriginal': 'Vikneswaran S/O Gopal',\n",
       " 'userMatricNo': '047541',\n",
       " 'userFaculty': 'STATISTICS & APPLIED PROBABILITY',\n",
       " 'nickName': 'Vik',\n",
       " 'mobileNo': '',\n",
       " 'officialEmail': 'stavg@nus.edu.sg',\n",
       " 'email': 'stavg@nus.edu.sg',\n",
       " 'displayPhoto': True,\n",
       " 'aboutMe': '-'}"
      ]
     },
     "execution_count": 228,
     "metadata": {},
     "output_type": "execute_result"
    }
   ],
   "source": [
    "data_dict"
   ]
  },
  {
   "cell_type": "code",
   "execution_count": 229,
   "metadata": {},
   "outputs": [],
   "source": [
    "conn.close()"
   ]
  },
  {
   "cell_type": "markdown",
   "metadata": {},
   "source": [
    "## Files API call\n",
    "\n",
    "I would like to be able to use [this call](https://luminus.portal.azure-api.net/docs/services/Files/operations/AddFolder?) to set access rights to individual files."
   ]
  }
 ],
 "metadata": {
  "kernelspec": {
   "display_name": "Python 3",
   "language": "python",
   "name": "python3"
  },
  "language_info": {
   "codemirror_mode": {
    "name": "ipython",
    "version": 3
   },
   "file_extension": ".py",
   "mimetype": "text/x-python",
   "name": "python",
   "nbconvert_exporter": "python",
   "pygments_lexer": "ipython3",
   "version": "3.8.6"
  }
 },
 "nbformat": 4,
 "nbformat_minor": 4
}
